{
 "cells": [
  {
   "cell_type": "code",
   "execution_count": null,
   "id": "ce322de6",
   "metadata": {},
   "outputs": [],
   "source": []
  },
  {
   "cell_type": "markdown",
   "id": "b879f7b4-9a3f-41fc-90d0-ab9cfd25a093",
   "metadata": {},
   "source": [
    "### Make OpenEO connection"
   ]
  },
  {
   "cell_type": "code",
   "execution_count": 4,
   "id": "f700773b-a843-4ebe-b6ca-8f805b4ee5bf",
   "metadata": {
    "tags": []
   },
   "outputs": [
    {
     "name": "stdout",
     "output_type": "stream",
     "text": [
      "Authenticated using refresh token.\n"
     ]
    }
   ],
   "source": [
    "import openeo\n",
    "connection = openeo.connect(\"https://openeo.dataspace.copernicus.eu/\").authenticate_oidc()"
   ]
  },
  {
   "cell_type": "code",
   "execution_count": 5,
   "id": "5494c46d",
   "metadata": {},
   "outputs": [],
   "source": [
    "#Get desired data\n",
    "from preprocessing import worldcereal_preprocessed_inputs\n",
    "\n",
    "EXTENT = dict(zip([\"west\", \"south\", \"east\", \"north\"], [5.191984, 51.256920, 5.215158, 51.267661]))\n",
    "EXTENT['crs'] = \"EPSG:4326\"\n",
    "\n",
    "STARTDATE = '2020-11-01'\n",
    "ENDDATE = '2021-10-31'\n",
    "\n",
    "# Set OpenEO classification UDF context based on settings\n",
    "CONTEXT = {\n",
    "    \"startdate\": STARTDATE,  # Required\n",
    "    \"enddate\": ENDDATE,      # Required\n",
    "}\n",
    "\n",
    "input_cube = worldcereal_preprocessed_inputs(\n",
    "     connection,\n",
    "     EXTENT,\n",
    "     STARTDATE,\n",
    "     ENDDATE,\n",
    "     METEO_collection=None,\n",
    "     S2_collection= \"SENTINEL2_L2A\",\n",
    "     S1_collection= \"SENTINEL1_GRD\",\n",
    "     DEM_collection= \"COPERNICUS_30\"\n",
    ")\n",
    "\n",
    "\n"
   ]
  },
  {
   "cell_type": "code",
   "execution_count": 6,
   "id": "8f71136c-1252-4786-8609-8bb995da7daf",
   "metadata": {
    "tags": []
   },
   "outputs": [
    {
     "name": "stdout",
     "output_type": "stream",
     "text": [
      "0:00:00 Job 'j-240506caa9a448be8d26ea574243765e': send 'start'\n",
      "0:00:13 Job 'j-240506caa9a448be8d26ea574243765e': created (progress N/A)\n",
      "0:00:19 Job 'j-240506caa9a448be8d26ea574243765e': created (progress N/A)\n",
      "0:00:25 Job 'j-240506caa9a448be8d26ea574243765e': created (progress N/A)\n",
      "0:00:33 Job 'j-240506caa9a448be8d26ea574243765e': created (progress N/A)\n",
      "0:00:44 Job 'j-240506caa9a448be8d26ea574243765e': created (progress N/A)\n",
      "0:00:56 Job 'j-240506caa9a448be8d26ea574243765e': created (progress N/A)\n",
      "0:01:12 Job 'j-240506caa9a448be8d26ea574243765e': running (progress N/A)\n",
      "0:01:31 Job 'j-240506caa9a448be8d26ea574243765e': running (progress N/A)\n",
      "0:01:55 Job 'j-240506caa9a448be8d26ea574243765e': running (progress N/A)\n",
      "0:02:34 Job 'j-240506caa9a448be8d26ea574243765e': running (progress N/A)\n",
      "0:03:12 Job 'j-240506caa9a448be8d26ea574243765e': running (progress N/A)\n",
      "0:03:58 Job 'j-240506caa9a448be8d26ea574243765e': running (progress N/A)\n",
      "0:04:57 Job 'j-240506caa9a448be8d26ea574243765e': running (progress N/A)\n",
      "0:05:59 Job 'j-240506caa9a448be8d26ea574243765e': running (progress N/A)\n",
      "0:07:00 Job 'j-240506caa9a448be8d26ea574243765e': running (progress N/A)\n",
      "0:08:05 Job 'j-240506caa9a448be8d26ea574243765e': running (progress N/A)\n",
      "0:09:05 Job 'j-240506caa9a448be8d26ea574243765e': running (progress N/A)\n",
      "0:10:16 Job 'j-240506caa9a448be8d26ea574243765e': running (progress N/A)\n",
      "0:11:16 Job 'j-240506caa9a448be8d26ea574243765e': running (progress N/A)\n"
     ]
    }
   ],
   "source": [
    "\n",
    "udf = openeo.UDF.from_file(\"udf_worldcereal_inference.py\")\n",
    "\n",
    "prediction = input_cube.apply_neighborhood(\n",
    "    process=udf,\n",
    "    size=[\n",
    "        {\"dimension\": \"x\", \"value\": 100, \"unit\": \"px\"},\n",
    "        {\"dimension\": \"y\", \"value\": 100, \"unit\": \"px\"},\n",
    "    ],\n",
    "    overlap=[\n",
    "        {\"dimension\": \"x\", \"value\": 0, \"unit\": \"px\"},\n",
    "        {\"dimension\": \"y\", \"value\": 0, \"unit\": \"px\"},\n",
    "    ],\n",
    ")\n",
    "\n",
    "\n",
    "prediction.execute_batch(outputfile = 'test_output_worldcereal.nc',\n",
    "                                description='world cereal inference',\n",
    "                                job_options={'driver-memory': '1g',                  \n",
    "                                    })\n"
   ]
  },
  {
   "cell_type": "markdown",
   "id": "5b47a2a0-d5f4-4e39-a924-4bca923400de",
   "metadata": {},
   "source": [
    "### Check result"
   ]
  },
  {
   "cell_type": "code",
   "execution_count": 7,
   "id": "2c63667b-8e43-4640-8c70-41b85ad060d2",
   "metadata": {
    "tags": []
   },
   "outputs": [
    {
     "data": {
      "text/plain": [
       "<matplotlib.image.AxesImage at 0x1b48f018b90>"
      ]
     },
     "execution_count": 7,
     "metadata": {},
     "output_type": "execute_result"
    },
    {
     "data": {
      "image/png": "[encoded data removed]",
      "text/plain": [
       "<Figure size 1000x800 with 1 Axes>"
      ]
     },
     "metadata": {},
     "output_type": "display_data"
    }
   ],
   "source": [
    "import matplotlib.pyplot as plt\n",
    "results = result_cube.array.values.squeeze()\n",
    "\n",
    "f, ax = plt.subplots(1, 1, figsize=(10, 8))\n",
    "ax.imshow(results)"
   ]
  },
  {
   "cell_type": "code",
   "execution_count": 2,
   "id": "85a73ef1",
   "metadata": {},
   "outputs": [
    {
     "name": "stderr",
     "output_type": "stream",
     "text": [
      "C:\\Users\\VROMPAYH\\AppData\\Local\\Temp\\ipykernel_31284\\122910811.py:21: DeprecationWarning: dropping variables using `drop` is deprecated; use drop_vars.\n",
      "  arr = ds.drop('crs').to_array(dim='bands')\n"
     ]
    }
   ],
   "source": [
    "from pathlib import Path  \n",
    "import sys\n",
    "import urllib.request\n",
    "import shutil\n",
    "\n",
    "import requests\n",
    "import xarray as xr\n",
    "\n",
    "\n",
    "#GET DEPENDENCIES\n",
    "\n",
    " # Generate absolute path for the dependencies folder\n",
    "dependencies_dir = Path.cwd() / 'dependencies'\n",
    "dependencies_dir.mkdir(exist_ok=True, parents=True)\n",
    "\n",
    "base_url = 'https://artifactory.vgt.vito.be/artifactory/auxdata-public/worldcereal-minimal-inference'\n",
    "dependency_name = \"wc_presto_onnx_dependencies.zip\"\n",
    "\n",
    "# Download and extract the model file\n",
    "modelfile_url = f\"{base_url}/{dependency_name}\"\n",
    "modelfile, _ = urllib.request.urlretrieve(modelfile_url, filename=dependencies_dir / Path(modelfile_url).name)\n",
    "shutil.unpack_archive(modelfile, extract_dir=dependencies_dir)\n",
    "\n",
    "# Add the model directory to system path if it's not already there\n",
    "abs_path = str(dependencies_dir / Path(modelfile_url).name.split('.zip')[0])\n",
    "sys.path.append(abs_path)\n",
    "\n",
    "\n",
    "# Get Data\n",
    "url = \"https://artifactory.vgt.vito.be/artifactory/auxdata-public/worldcereal-minimal-inference/belgium_good_2020-12-01_2021-11-30.nc\"\n",
    "filename = \"belgium_good_2020-12-01_2021-11-30.nc\"\n",
    "\n",
    "with requests.get(url, stream=True) as r:\n",
    "    r.raise_for_status()\n",
    "    with open(filename, 'wb') as f:\n",
    "        for chunk in r.iter_content(chunk_size=8192):\n",
    "            f.write(chunk)\n",
    "\n",
    "# Read the file into xarray\n",
    "ds = xr.open_dataset(filename)\n",
    "arr = ds.drop('crs').to_array(dim='bands')\n",
    "orig_dims = list(arr.dims)\n",
    "orig_dims.remove(\"t\")\n",
    "\n",
    "#Get Presto\n",
    "from dependencies.wc_presto_onnx_dependencies.mvp_wc_presto.world_cereal_inference import get_presto_features, classify_with_catboost\n",
    "\n",
    "#bands: 19, t: 12y, : 100x: 100y\n",
    "data_url  = 'https://artifactory.vgt.vito.be/artifactory/auxdata-public/worldcereal-minimal-inference/belgium_good_2020-12-01_2021-11-30.nc'\n",
    "# Fetch the data from the URL\n",
    "response = requests.get(data_url)\n",
    "#100x100,128\n",
    "presto_path = \"https://artifactory.vgt.vito.be/artifactory/auxdata-public/worldcereal-minimal-inference/presto.pt\"\n",
    "features = get_presto_features(arr, presto_path) \n",
    "\n",
    "#Get CATBOOST\n",
    "CATBOOST_PATH = 'https://artifactory.vgt.vito.be/artifactory/auxdata-public/worldcereal-minimal-inference/wc_catboost.onnx'\n",
    "classification = classify_with_catboost(features, orig_dims, CATBOOST_PATH)\n",
    "\n"
   ]
  },
  {
   "cell_type": "code",
   "execution_count": 3,
   "id": "5203744b",
   "metadata": {},
   "outputs": [
    {
     "data": {
      "image/png": "[encoded data removed]",
      "text/plain": [
       "<Figure size 640x480 with 2 Axes>"
      ]
     },
     "metadata": {},
     "output_type": "display_data"
    }
   ],
   "source": [
    "import matplotlib.pyplot as plt\n",
    "import numpy as np\n",
    "\n",
    "data_array = np.array(classification)\n",
    "\n",
    "# Plot the data as an image\n",
    "plt.imshow(data_array[0], cmap='gray')  # Assuming it's a grayscale image\n",
    "plt.colorbar()  # Add a colorbar for reference\n",
    "plt.show()"
   ]
  }
 ],
 "metadata": {
  "kernelspec": {
   "display_name": "Python 3",
   "language": "python",
   "name": "python3"
  },
  "language_info": {
   "codemirror_mode": {
    "name": "ipython",
    "version": 3
   },
   "file_extension": ".py",
   "mimetype": "text/x-python",
   "name": "python",
   "nbconvert_exporter": "python",
   "pygments_lexer": "ipython3",
   "version": "3.12.2"
  }
 },
 "nbformat": 4,
 "nbformat_minor": 5
}
