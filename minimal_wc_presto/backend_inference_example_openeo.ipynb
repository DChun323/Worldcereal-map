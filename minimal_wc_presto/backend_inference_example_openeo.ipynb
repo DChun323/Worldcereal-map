{
 "cells": [
  {
   "cell_type": "markdown",
   "id": "b879f7b4-9a3f-41fc-90d0-ab9cfd25a093",
   "metadata": {},
   "source": [
    "### Make OpenEO connection"
   ]
  },
  {
   "cell_type": "code",
   "execution_count": 4,
   "id": "f700773b-a843-4ebe-b6ca-8f805b4ee5bf",
   "metadata": {
    "tags": []
   },
   "outputs": [
    {
     "name": "stdout",
     "output_type": "stream",
     "text": [
      "Authenticated using refresh token.\n"
     ]
    }
   ],
   "source": [
    "import openeo\n",
    "from datetime import datetime  \n",
    "\n",
    "\n",
    "#token SENTINEL\n",
    "connection = openeo.connect(\"https://openeo.dataspace.copernicus.eu/\").authenticate_oidc()"
   ]
  },
  {
   "cell_type": "markdown",
   "id": "5af70a06",
   "metadata": {},
   "source": [
    "Load in Cube without METEO\n"
   ]
  },
  {
   "cell_type": "code",
   "execution_count": 5,
   "id": "5494c46d",
   "metadata": {},
   "outputs": [],
   "source": [
    "#Get desired data\n",
    "from preprocessing import worldcereal_preprocessed_inputs\n",
    "\n",
    "EXTENT = dict(zip([\"west\", \"south\", \"east\", \"north\"], [5.19, 51.25, 5.21, 51.26]))\n",
    "EXTENT['crs'] = \"EPSG:4326\"\n",
    "\n",
    "STARTDATE = '2020-11-01'\n",
    "ENDDATE = '2021-10-31'\n",
    "\n",
    "#TODO aggregator for including METEO?\n",
    "\n",
    "input_cube = worldcereal_preprocessed_inputs(\n",
    "     connection = connection,\n",
    "     bbox = EXTENT,\n",
    "     start = STARTDATE,\n",
    "     end = ENDDATE,\n",
    "     METEO_collection=None,\n",
    "     S2_collection= \"SENTINEL2_L2A\",\n",
    "     S1_collection= \"SENTINEL1_GRD\",\n",
    "     DEM_collection= \"COPERNICUS_30\"\n",
    ")\n"
   ]
  },
  {
   "cell_type": "markdown",
   "id": "da8d05cd",
   "metadata": {},
   "source": [
    "Save the input cube"
   ]
  },
  {
   "cell_type": "code",
   "execution_count": 6,
   "id": "4aab5695",
   "metadata": {},
   "outputs": [
    {
     "name": "stdout",
     "output_type": "stream",
     "text": [
      "0:00:00 Job 'j-240517a35acc48b697839a923dd5fe56': send 'start'\n",
      "0:00:18 Job 'j-240517a35acc48b697839a923dd5fe56': created (progress 0%)\n",
      "0:00:23 Job 'j-240517a35acc48b697839a923dd5fe56': created (progress 0%)\n",
      "0:00:30 Job 'j-240517a35acc48b697839a923dd5fe56': created (progress 0%)\n",
      "0:00:38 Job 'j-240517a35acc48b697839a923dd5fe56': created (progress 0%)\n",
      "0:00:48 Job 'j-240517a35acc48b697839a923dd5fe56': created (progress 0%)\n",
      "0:01:02 Job 'j-240517a35acc48b697839a923dd5fe56': created (progress 0%)\n",
      "0:01:18 Job 'j-240517a35acc48b697839a923dd5fe56': running (progress N/A)\n",
      "0:01:38 Job 'j-240517a35acc48b697839a923dd5fe56': running (progress N/A)\n",
      "0:02:04 Job 'j-240517a35acc48b697839a923dd5fe56': running (progress N/A)\n",
      "0:02:35 Job 'j-240517a35acc48b697839a923dd5fe56': running (progress N/A)\n",
      "0:03:13 Job 'j-240517a35acc48b697839a923dd5fe56': running (progress N/A)\n",
      "0:04:00 Job 'j-240517a35acc48b697839a923dd5fe56': running (progress N/A)\n",
      "0:04:59 Job 'j-240517a35acc48b697839a923dd5fe56': running (progress N/A)\n",
      "0:05:59 Job 'j-240517a35acc48b697839a923dd5fe56': running (progress N/A)\n",
      "0:07:00 Job 'j-240517a35acc48b697839a923dd5fe56': running (progress N/A)\n",
      "0:08:00 Job 'j-240517a35acc48b697839a923dd5fe56': running (progress N/A)\n",
      "0:09:01 Job 'j-240517a35acc48b697839a923dd5fe56': running (progress N/A)\n",
      "0:10:46 Job 'j-240517a35acc48b697839a923dd5fe56': running (progress N/A)\n",
      "0:12:38 Job 'j-240517a35acc48b697839a923dd5fe56': running (progress N/A)\n",
      "0:13:39 Job 'j-240517a35acc48b697839a923dd5fe56': running (progress N/A)\n",
      "0:14:39 Job 'j-240517a35acc48b697839a923dd5fe56': finished (progress 100%)\n"
     ]
    },
    {
     "data": {
      "text/html": [
       "\n",
       "    <script>\n",
       "    if (!window.customElements || !window.customElements.get('openeo-job')) {\n",
       "        var el = document.createElement('script');\n",
       "        el.src = \"https://cdn.jsdelivr.net/npm/@openeo/vue-components@2/assets/openeo.min.js\";\n",
       "        document.head.appendChild(el);\n",
       "\n",
       "        var font = document.createElement('font');\n",
       "        font.as = \"font\";\n",
       "        font.type = \"font/woff2\";\n",
       "        font.crossOrigin = true;\n",
       "        font.href = \"https://use.fontawesome.com/releases/v5.13.0/webfonts/fa-solid-900.woff2\"\n",
       "        document.head.appendChild(font);\n",
       "    }\n",
       "    </script>\n",
       "    <openeo-job>\n",
       "        <script type=\"application/json\">{\"currency\": \"credits\", \"job\": {\"costs\": 6.0, \"created\": \"2024-05-17T11:41:41Z\", \"description\": \"world cereal data collection\", \"id\": \"j-240517a35acc48b697839a923dd5fe56\", \"process\": {\"process_graph\": {\"aggregatetemporalperiod1\": {\"arguments\": {\"data\": {\"from_node\": \"filterbands1\"}, \"period\": \"month\", \"reducer\": {\"process_graph\": {\"median1\": {\"arguments\": {\"data\": {\"from_parameter\": \"data\"}}, \"process_id\": \"median\", \"result\": true}}}}, \"process_id\": \"aggregate_temporal_period\"}, \"aggregatetemporalperiod2\": {\"arguments\": {\"data\": {\"from_node\": \"sarbackscatter1\"}, \"period\": \"month\", \"reducer\": {\"process_graph\": {\"mean1\": {\"arguments\": {\"data\": {\"from_parameter\": \"data\"}}, \"process_id\": \"mean\", \"result\": true}}}}, \"process_id\": \"aggregate_temporal_period\"}, \"apply1\": {\"arguments\": {\"data\": {\"from_node\": \"aggregatetemporalperiod1\"}, \"process\": {\"process_graph\": {\"linearscalerange1\": {\"arguments\": {\"inputMax\": 65534, \"inputMin\": 0, \"outputMax\": 65534, \"outputMin\": 0, \"x\": {\"from_parameter\": \"x\"}}, \"process_id\": \"linear_scale_range\", \"result\": true}}}}, \"process_id\": \"apply\"}, \"apply2\": {\"arguments\": {\"data\": {\"from_node\": \"applydimension1\"}, \"process\": {\"process_graph\": {\"linearscalerange2\": {\"arguments\": {\"inputMax\": 65534, \"inputMin\": 1, \"outputMax\": 65534, \"outputMin\": 1, \"x\": {\"from_parameter\": \"x\"}}, \"process_id\": \"linear_scale_range\", \"result\": true}}}}, \"process_id\": \"apply\"}, \"apply3\": {\"arguments\": {\"data\": {\"from_node\": \"mergecubes2\"}, \"process\": {\"process_graph\": {\"linearscalerange3\": {\"arguments\": {\"inputMax\": 65534, \"inputMin\": 0, \"outputMax\": 65534, \"outputMin\": 0, \"x\": {\"from_parameter\": \"x\"}}, \"process_id\": \"linear_scale_range\", \"result\": true}}}}, \"process_id\": \"apply\"}, \"applydimension1\": {\"arguments\": {\"data\": {\"from_node\": \"aggregatetemporalperiod2\"}, \"dimension\": \"bands\", \"process\": {\"process_graph\": {\"add1\": {\"arguments\": {\"x\": {\"from_node\": \"multiply1\"}, \"y\": 83.0}, \"process_id\": \"add\"}, \"add2\": {\"arguments\": {\"x\": {\"from_node\": \"multiply2\"}, \"y\": 83.0}, \"process_id\": \"add\"}, \"arraycreate1\": {\"arguments\": {\"data\": [{\"from_node\": \"power1\"}, {\"from_node\": \"power2\"}]}, \"process_id\": \"array_create\", \"result\": true}, \"arrayelement1\": {\"arguments\": {\"data\": {\"from_parameter\": \"data\"}, \"index\": 0}, \"process_id\": \"array_element\"}, \"arrayelement2\": {\"arguments\": {\"data\": {\"from_parameter\": \"data\"}, \"index\": 1}, \"process_id\": \"array_element\"}, \"divide1\": {\"arguments\": {\"x\": {\"from_node\": \"add1\"}, \"y\": 20.0}, \"process_id\": \"divide\"}, \"divide2\": {\"arguments\": {\"x\": {\"from_node\": \"add2\"}, \"y\": 20.0}, \"process_id\": \"divide\"}, \"log1\": {\"arguments\": {\"base\": 10, \"x\": {\"from_node\": \"arrayelement1\"}}, \"process_id\": \"log\"}, \"log2\": {\"arguments\": {\"base\": 10, \"x\": {\"from_node\": \"arrayelement2\"}}, \"process_id\": \"log\"}, \"multiply1\": {\"arguments\": {\"x\": 10.0, \"y\": {\"from_node\": \"log1\"}}, \"process_id\": \"multiply\"}, \"multiply2\": {\"arguments\": {\"x\": 10.0, \"y\": {\"from_node\": \"log2\"}}, \"process_id\": \"multiply\"}, \"power1\": {\"arguments\": {\"base\": 10, \"p\": {\"from_node\": \"divide1\"}}, \"process_id\": \"power\"}, \"power2\": {\"arguments\": {\"base\": 10, \"p\": {\"from_node\": \"divide2\"}}, \"process_id\": \"power\"}}}}, \"process_id\": \"apply_dimension\"}, \"filterbands1\": {\"arguments\": {\"bands\": [\"B02\", \"B03\", \"B04\", \"B05\", \"B06\", \"B07\", \"B08\", \"B8A\", \"B11\", \"B12\"], \"data\": {\"from_node\": \"maskscldilation1\"}}, \"process_id\": \"filter_bands\"}, \"filtertemporal1\": {\"arguments\": {\"data\": {\"from_node\": \"mergecubes1\"}, \"extent\": [\"2020-11-01\", \"2021-10-31\"]}, \"process_id\": \"filter_temporal\"}, \"loadcollection1\": {\"arguments\": {\"bands\": [\"B02\", \"B03\", \"B04\", \"B05\", \"B06\", \"B07\", \"B08\", \"B8A\", \"B11\", \"B12\", \"SCL\"], \"id\": \"SENTINEL2_L2A\", \"properties\": {\"eo:cloud_cover\": {\"process_graph\": {\"lte1\": {\"arguments\": {\"x\": {\"from_parameter\": \"value\"}, \"y\": 95}, \"process_id\": \"lte\", \"result\": true}}}}, \"spatial_extent\": {\"crs\": \"EPSG:4326\", \"east\": 5.21, \"north\": 51.26, \"south\": 51.25, \"west\": 5.19}, \"temporal_extent\": [\"2020-11-01\", \"2021-10-31\"]}, \"process_id\": \"load_collection\"}, \"loadcollection2\": {\"arguments\": {\"bands\": [\"VH\", \"VV\"], \"id\": \"SENTINEL1_GRD\", \"spatial_extent\": {\"crs\": \"EPSG:4326\", \"east\": 5.21, \"north\": 51.26, \"south\": 51.25, \"west\": 5.19}, \"temporal_extent\": [\"2020-11-01\", \"2021-10-31\"]}, \"process_id\": \"load_collection\"}, \"loadcollection3\": {\"arguments\": {\"id\": \"COPERNICUS_30\", \"spatial_extent\": {\"crs\": \"EPSG:4326\", \"east\": 5.21, \"north\": 51.26, \"south\": 51.25, \"west\": 5.19}, \"temporal_extent\": null}, \"process_id\": \"load_collection\"}, \"maskscldilation1\": {\"arguments\": {\"data\": {\"from_node\": \"loadcollection1\"}, \"erosion_kernel_size\": 3, \"kernel1_size\": 17, \"kernel2_size\": 77, \"mask1_values\": [2, 4, 5, 6, 7], \"mask2_values\": [3, 8, 9, 10, 11], \"scl_band_name\": \"SCL\"}, \"process_id\": \"mask_scl_dilation\"}, \"mergecubes1\": {\"arguments\": {\"cube1\": {\"from_node\": \"resamplecubespatial1\"}, \"cube2\": {\"from_node\": \"apply2\"}}, \"process_id\": \"merge_cubes\"}, \"mergecubes2\": {\"arguments\": {\"cube1\": {\"from_node\": \"filtertemporal1\"}, \"cube2\": {\"from_node\": \"reducedimension1\"}}, \"process_id\": \"merge_cubes\"}, \"reducedimension1\": {\"arguments\": {\"data\": {\"from_node\": \"loadcollection3\"}, \"dimension\": \"t\", \"reducer\": {\"process_graph\": {\"max1\": {\"arguments\": {\"data\": {\"from_parameter\": \"data\"}}, \"process_id\": \"max\", \"result\": true}}}}, \"process_id\": \"reduce_dimension\"}, \"resamplecubespatial1\": {\"arguments\": {\"data\": {\"from_node\": \"apply1\"}, \"method\": \"near\", \"target\": {\"from_node\": \"apply2\"}}, \"process_id\": \"resample_cube_spatial\"}, \"sarbackscatter1\": {\"arguments\": {\"coefficient\": \"sigma0-ellipsoid\", \"contributing_area\": false, \"data\": {\"from_node\": \"loadcollection2\"}, \"elevation_model\": null, \"ellipsoid_incidence_angle\": false, \"local_incidence_angle\": false, \"mask\": false, \"noise_removal\": true, \"options\": {\"debug\": false, \"elev_geoid\": \"/opt/openeo-vito-aux-data/egm96.tif\", \"implementation_version\": \"2\", \"otb_memory\": 1024, \"tile_size\": 256}}, \"process_id\": \"sar_backscatter\"}, \"saveresult1\": {\"arguments\": {\"data\": {\"from_node\": \"apply3\"}, \"format\": \"netCDF\", \"options\": {}}, \"process_id\": \"save_result\", \"result\": true}}}, \"progress\": 100, \"status\": \"finished\", \"updated\": \"2024-05-17T11:55:38Z\", \"usage\": {\"cpu\": {\"unit\": \"cpu-seconds\", \"value\": 2028.107212808}, \"duration\": {\"unit\": \"seconds\", \"value\": 557}, \"input_pixel\": {\"unit\": \"mega-pixel\", \"value\": 30.252471923828125}, \"max_executor_memory\": {\"unit\": \"gb\", \"value\": 2.2365951538085938}, \"memory\": {\"unit\": \"mb-seconds\", \"value\": 17994566.06788194}, \"network_received\": {\"unit\": \"b\", \"value\": 77603395885.0}}}}</script>\n",
       "    </openeo-job>\n",
       "    "
      ],
      "text/plain": [
       "<BatchJob job_id='j-240517a35acc48b697839a923dd5fe56'>"
      ]
     },
     "execution_count": 6,
     "metadata": {},
     "output_type": "execute_result"
    }
   ],
   "source": [
    "current_datetime = datetime.now()\n",
    "formatted_datetime = current_datetime.strftime(\"%Y_%m_%d_%H_%M_%S\")\n",
    "outputfile_name = str(formatted_datetime) + '_input_cube_worldCereal.nc'\n",
    "\n",
    "input_cube.execute_batch(outputfile = outputfile_name,\n",
    "                        description='world cereal data collection')"
   ]
  },
  {
   "cell_type": "markdown",
   "id": "bc85fadd",
   "metadata": {},
   "source": [
    "Run the presto UDF and fetch presto features"
   ]
  },
  {
   "cell_type": "code",
   "execution_count": 7,
   "id": "64d37c40",
   "metadata": {},
   "outputs": [
    {
     "name": "stdout",
     "output_type": "stream",
     "text": [
      "0:00:00 Job 'j-2405171879c44f5aac716b6b0ca23b92': send 'start'\n",
      "0:00:17 Job 'j-2405171879c44f5aac716b6b0ca23b92': created (progress 0%)\n",
      "0:00:22 Job 'j-2405171879c44f5aac716b6b0ca23b92': created (progress 0%)\n",
      "0:00:29 Job 'j-2405171879c44f5aac716b6b0ca23b92': running (progress N/A)\n",
      "0:00:37 Job 'j-2405171879c44f5aac716b6b0ca23b92': running (progress N/A)\n",
      "0:00:47 Job 'j-2405171879c44f5aac716b6b0ca23b92': running (progress N/A)\n",
      "0:01:00 Job 'j-2405171879c44f5aac716b6b0ca23b92': running (progress N/A)\n",
      "0:01:16 Job 'j-2405171879c44f5aac716b6b0ca23b92': running (progress N/A)\n",
      "0:01:36 Job 'j-2405171879c44f5aac716b6b0ca23b92': running (progress N/A)\n",
      "0:02:11 Job 'j-2405171879c44f5aac716b6b0ca23b92': running (progress N/A)\n",
      "0:02:41 Job 'j-2405171879c44f5aac716b6b0ca23b92': running (progress N/A)\n",
      "0:03:19 Job 'j-2405171879c44f5aac716b6b0ca23b92': running (progress N/A)\n",
      "0:04:06 Job 'j-2405171879c44f5aac716b6b0ca23b92': running (progress N/A)\n",
      "0:05:05 Job 'j-2405171879c44f5aac716b6b0ca23b92': running (progress N/A)\n",
      "0:06:05 Job 'j-2405171879c44f5aac716b6b0ca23b92': running (progress N/A)\n",
      "0:07:06 Job 'j-2405171879c44f5aac716b6b0ca23b92': running (progress N/A)\n",
      "0:08:07 Job 'j-2405171879c44f5aac716b6b0ca23b92': running (progress N/A)\n",
      "0:09:08 Job 'j-2405171879c44f5aac716b6b0ca23b92': running (progress N/A)\n",
      "0:10:08 Job 'j-2405171879c44f5aac716b6b0ca23b92': running (progress N/A)\n",
      "0:11:09 Job 'j-2405171879c44f5aac716b6b0ca23b92': running (progress N/A)\n",
      "0:12:10 Job 'j-2405171879c44f5aac716b6b0ca23b92': running (progress N/A)\n",
      "0:13:18 Job 'j-2405171879c44f5aac716b6b0ca23b92': running (progress N/A)\n",
      "0:14:19 Job 'j-2405171879c44f5aac716b6b0ca23b92': running (progress N/A)\n",
      "0:15:20 Job 'j-2405171879c44f5aac716b6b0ca23b92': running (progress N/A)\n",
      "0:16:21 Job 'j-2405171879c44f5aac716b6b0ca23b92': running (progress N/A)\n",
      "0:17:21 Job 'j-2405171879c44f5aac716b6b0ca23b92': running (progress N/A)\n",
      "0:18:22 Job 'j-2405171879c44f5aac716b6b0ca23b92': running (progress N/A)\n",
      "0:19:30 Job 'j-2405171879c44f5aac716b6b0ca23b92': running (progress N/A)\n",
      "0:20:31 Job 'j-2405171879c44f5aac716b6b0ca23b92': running (progress N/A)\n",
      "0:21:31 Job 'j-2405171879c44f5aac716b6b0ca23b92': running (progress N/A)\n",
      "0:22:32 Job 'j-2405171879c44f5aac716b6b0ca23b92': running (progress N/A)\n",
      "0:23:33 Job 'j-2405171879c44f5aac716b6b0ca23b92': running (progress N/A)\n",
      "0:24:34 Job 'j-2405171879c44f5aac716b6b0ca23b92': running (progress N/A)\n",
      "0:25:35 Job 'j-2405171879c44f5aac716b6b0ca23b92': running (progress N/A)\n",
      "0:26:37 Job 'j-2405171879c44f5aac716b6b0ca23b92': running (progress N/A)\n",
      "0:27:39 Job 'j-2405171879c44f5aac716b6b0ca23b92': running (progress N/A)\n",
      "0:28:40 Job 'j-2405171879c44f5aac716b6b0ca23b92': running (progress N/A)\n",
      "0:29:41 Job 'j-2405171879c44f5aac716b6b0ca23b92': running (progress N/A)\n",
      "0:30:43 Job 'j-2405171879c44f5aac716b6b0ca23b92': running (progress N/A)\n",
      "0:31:44 Job 'j-2405171879c44f5aac716b6b0ca23b92': running (progress N/A)\n",
      "0:32:44 Job 'j-2405171879c44f5aac716b6b0ca23b92': running (progress N/A)\n",
      "0:33:45 Job 'j-2405171879c44f5aac716b6b0ca23b92': running (progress N/A)\n",
      "0:34:46 Job 'j-2405171879c44f5aac716b6b0ca23b92': running (progress N/A)\n",
      "0:35:47 Job 'j-2405171879c44f5aac716b6b0ca23b92': running (progress N/A)\n",
      "0:36:48 Job 'j-2405171879c44f5aac716b6b0ca23b92': running (progress N/A)\n",
      "0:37:48 Job 'j-2405171879c44f5aac716b6b0ca23b92': running (progress N/A)\n",
      "0:38:50 Job 'j-2405171879c44f5aac716b6b0ca23b92': running (progress N/A)\n",
      "0:39:50 Job 'j-2405171879c44f5aac716b6b0ca23b92': running (progress N/A)\n",
      "0:40:50 Job 'j-2405171879c44f5aac716b6b0ca23b92': running (progress N/A)\n",
      "0:41:53 Job 'j-2405171879c44f5aac716b6b0ca23b92': running (progress N/A)\n",
      "0:42:54 Job 'j-2405171879c44f5aac716b6b0ca23b92': running (progress N/A)\n",
      "0:43:54 Job 'j-2405171879c44f5aac716b6b0ca23b92': running (progress N/A)\n",
      "0:44:55 Job 'j-2405171879c44f5aac716b6b0ca23b92': running (progress N/A)\n",
      "0:46:01 Job 'j-2405171879c44f5aac716b6b0ca23b92': running (progress N/A)\n",
      "0:47:01 Job 'j-2405171879c44f5aac716b6b0ca23b92': running (progress N/A)\n",
      "0:48:03 Job 'j-2405171879c44f5aac716b6b0ca23b92': running (progress N/A)\n",
      "0:49:04 Job 'j-2405171879c44f5aac716b6b0ca23b92': finished (progress 100%)\n"
     ]
    },
    {
     "data": {
      "text/html": [
       "\n",
       "    <script>\n",
       "    if (!window.customElements || !window.customElements.get('openeo-job')) {\n",
       "        var el = document.createElement('script');\n",
       "        el.src = \"https://cdn.jsdelivr.net/npm/@openeo/vue-components@2/assets/openeo.min.js\";\n",
       "        document.head.appendChild(el);\n",
       "\n",
       "        var font = document.createElement('font');\n",
       "        font.as = \"font\";\n",
       "        font.type = \"font/woff2\";\n",
       "        font.crossOrigin = true;\n",
       "        font.href = \"https://use.fontawesome.com/releases/v5.13.0/webfonts/fa-solid-900.woff2\"\n",
       "        document.head.appendChild(font);\n",
       "    }\n",
       "    </script>\n",
       "    <openeo-job>\n",
       "        <script type=\"application/json\">{\"currency\": \"credits\", \"job\": {\"costs\": 37.0, \"created\": \"2024-05-17T12:00:19Z\", \"description\": \"world cereal inference\", \"id\": \"j-2405171879c44f5aac716b6b0ca23b92\", \"process\": {\"process_graph\": {\"aggregatetemporalperiod1\": {\"arguments\": {\"data\": {\"from_node\": \"filterbands1\"}, \"period\": \"month\", \"reducer\": {\"process_graph\": {\"median1\": {\"arguments\": {\"data\": {\"from_parameter\": \"data\"}}, \"process_id\": \"median\", \"result\": true}}}}, \"process_id\": \"aggregate_temporal_period\"}, \"aggregatetemporalperiod2\": {\"arguments\": {\"data\": {\"from_node\": \"sarbackscatter1\"}, \"period\": \"month\", \"reducer\": {\"process_graph\": {\"mean1\": {\"arguments\": {\"data\": {\"from_parameter\": \"data\"}}, \"process_id\": \"mean\", \"result\": true}}}}, \"process_id\": \"aggregate_temporal_period\"}, \"apply1\": {\"arguments\": {\"data\": {\"from_node\": \"aggregatetemporalperiod1\"}, \"process\": {\"process_graph\": {\"linearscalerange1\": {\"arguments\": {\"inputMax\": 65534, \"inputMin\": 0, \"outputMax\": 65534, \"outputMin\": 0, \"x\": {\"from_parameter\": \"x\"}}, \"process_id\": \"linear_scale_range\", \"result\": true}}}}, \"process_id\": \"apply\"}, \"apply2\": {\"arguments\": {\"data\": {\"from_node\": \"applydimension1\"}, \"process\": {\"process_graph\": {\"linearscalerange2\": {\"arguments\": {\"inputMax\": 65534, \"inputMin\": 1, \"outputMax\": 65534, \"outputMin\": 1, \"x\": {\"from_parameter\": \"x\"}}, \"process_id\": \"linear_scale_range\", \"result\": true}}}}, \"process_id\": \"apply\"}, \"apply3\": {\"arguments\": {\"data\": {\"from_node\": \"mergecubes2\"}, \"process\": {\"process_graph\": {\"linearscalerange3\": {\"arguments\": {\"inputMax\": 65534, \"inputMin\": 0, \"outputMax\": 65534, \"outputMin\": 0, \"x\": {\"from_parameter\": \"x\"}}, \"process_id\": \"linear_scale_range\", \"result\": true}}}}, \"process_id\": \"apply\"}, \"applydimension1\": {\"arguments\": {\"data\": {\"from_node\": \"aggregatetemporalperiod2\"}, \"dimension\": \"bands\", \"process\": {\"process_graph\": {\"add1\": {\"arguments\": {\"x\": {\"from_node\": \"multiply1\"}, \"y\": 83.0}, \"process_id\": \"add\"}, \"add2\": {\"arguments\": {\"x\": {\"from_node\": \"multiply2\"}, \"y\": 83.0}, \"process_id\": \"add\"}, \"arraycreate1\": {\"arguments\": {\"data\": [{\"from_node\": \"power1\"}, {\"from_node\": \"power2\"}]}, \"process_id\": \"array_create\", \"result\": true}, \"arrayelement1\": {\"arguments\": {\"data\": {\"from_parameter\": \"data\"}, \"index\": 0}, \"process_id\": \"array_element\"}, \"arrayelement2\": {\"arguments\": {\"data\": {\"from_parameter\": \"data\"}, \"index\": 1}, \"process_id\": \"array_element\"}, \"divide1\": {\"arguments\": {\"x\": {\"from_node\": \"add1\"}, \"y\": 20.0}, \"process_id\": \"divide\"}, \"divide2\": {\"arguments\": {\"x\": {\"from_node\": \"add2\"}, \"y\": 20.0}, \"process_id\": \"divide\"}, \"log1\": {\"arguments\": {\"base\": 10, \"x\": {\"from_node\": \"arrayelement1\"}}, \"process_id\": \"log\"}, \"log2\": {\"arguments\": {\"base\": 10, \"x\": {\"from_node\": \"arrayelement2\"}}, \"process_id\": \"log\"}, \"multiply1\": {\"arguments\": {\"x\": 10.0, \"y\": {\"from_node\": \"log1\"}}, \"process_id\": \"multiply\"}, \"multiply2\": {\"arguments\": {\"x\": 10.0, \"y\": {\"from_node\": \"log2\"}}, \"process_id\": \"multiply\"}, \"power1\": {\"arguments\": {\"base\": 10, \"p\": {\"from_node\": \"divide1\"}}, \"process_id\": \"power\"}, \"power2\": {\"arguments\": {\"base\": 10, \"p\": {\"from_node\": \"divide2\"}}, \"process_id\": \"power\"}}}}, \"process_id\": \"apply_dimension\"}, \"applyneighborhood1\": {\"arguments\": {\"data\": {\"from_node\": \"apply3\"}, \"overlap\": [{\"dimension\": \"x\", \"unit\": \"px\", \"value\": 0}, {\"dimension\": \"y\", \"unit\": \"px\", \"value\": 0}], \"process\": {\"process_graph\": {\"runudf1\": {\"arguments\": {\"data\": {\"from_parameter\": \"data\"}, \"runtime\": \"Python\", \"udf\": \"import logging\\nimport urllib.request\\nimport shutil\\nfrom pathlib import Path\\nimport sys\\nimport functools\\nimport xarray as xr\\nfrom typing import Dict\\nimport numpy as np\\nfrom pyproj import Transformer\\n\\n\\ndef _setup_logging():\\n    logging.basicConfig(level=logging.INFO)\\n    logger = logging.getLogger(__name__)\\n    return logger\\n\\n@functools.lru_cache(maxsize=6)\\ndef extract_dependencies(base_url: str, dependency_name: str):\\n\\n    # Generate absolute path for the dependencies folder\\n    dependencies_dir = Path.cwd() / 'dependencies'\\n\\n    # Create the directory if it doesn't exist\\n    dependencies_dir.mkdir(exist_ok=True, parents=True)\\n\\n\\n    # Download and extract the model file\\n    modelfile_url = f\\\"{base_url}/{dependency_name}\\\"\\n    modelfile, _ = urllib.request.urlretrieve(modelfile_url, filename=dependencies_dir / Path(modelfile_url).name)\\n    shutil.unpack_archive(modelfile, extract_dir=dependencies_dir)\\n\\n    # Add the model directory to system path if it's not already there\\n    abs_path = str(dependencies_dir / Path(modelfile_url).name.split('.zip')[0])\\n\\n    return(abs_path)\\n\\n\\ndef apply_datacube(cube: xr.DataArray, context:Dict) -> xr.DataArray:\\n    \\n    logger = _setup_logging() \\n\\n    # shape and indiches for output\\n    orig_dims = list(cube.dims)\\n    map_dims = cube.shape[2:]\\n\\n    logger.info(\\\"Unzipping dependencies\\\")\\n    base_url = \\\"https://artifactory.vgt.vito.be/artifactory/auxdata-public/worldcereal-minimal-inference/\\\"\\n    dependency_name = \\\"wc_presto_onnx_dependencies.zip\\\"\\n\\n    logger.info(\\\"Appending depencency\\\")\\n    dep_dir = extract_dependencies(base_url, dependency_name)\\n    \\n\\n    #directly add a path to the older pandas version\\n    sys.path.append(str(dep_dir))\\n    sys.path.append(str(dep_dir) + '/pandas')\\n\\n    from dependencies.wc_presto_onnx_dependencies.mvp_wc_presto.world_cereal_inference import get_presto_features\\n\\n    logger.info(\\\"Reading in required libs\\\")\\n\\n    logger.info(\\\"Extracting presto features\\\")\\n    PRESTO_PATH = \\\"https://artifactory.vgt.vito.be/artifactory/auxdata-public/worldcereal-minimal-inference/presto.pt\\\"\\n    features = get_presto_features(cube, PRESTO_PATH)\\n\\n    # go to 128,1,100,100\\n    presto_dim = map_dims + (128,)    \\n    features = features.reshape(presto_dim)\\n    features = np.expand_dims(features, axis = 0)\\n    features = np.transpose(features, (3, 0, 1, 2))\\n\\n\\n    transformer = Transformer.from_crs(f\\\"EPSG:{4326}\\\", \\\"EPSG:4326\\\", always_xy=True)\\n    longitudes, latitudes = transformer.transform(cube.x, cube.y)\\n\\n    \\n    output = xr.DataArray(features, dims=orig_dims, coords={'y': longitudes, 'x': latitudes})\\n    return output\\n\\n\\n\\n\\n\\n\\n\\n\\n\\n\\n\\n\\n\\n\\n\\n\\n\"}, \"process_id\": \"run_udf\", \"result\": true}}}, \"size\": [{\"dimension\": \"x\", \"unit\": \"px\", \"value\": 100}, {\"dimension\": \"y\", \"unit\": \"px\", \"value\": 100}]}, \"process_id\": \"apply_neighborhood\"}, \"filterbands1\": {\"arguments\": {\"bands\": [\"B02\", \"B03\", \"B04\", \"B05\", \"B06\", \"B07\", \"B08\", \"B8A\", \"B11\", \"B12\"], \"data\": {\"from_node\": \"maskscldilation1\"}}, \"process_id\": \"filter_bands\"}, \"filtertemporal1\": {\"arguments\": {\"data\": {\"from_node\": \"mergecubes1\"}, \"extent\": [\"2020-11-01\", \"2021-10-31\"]}, \"process_id\": \"filter_temporal\"}, \"loadcollection1\": {\"arguments\": {\"bands\": [\"B02\", \"B03\", \"B04\", \"B05\", \"B06\", \"B07\", \"B08\", \"B8A\", \"B11\", \"B12\", \"SCL\"], \"id\": \"SENTINEL2_L2A\", \"properties\": {\"eo:cloud_cover\": {\"process_graph\": {\"lte1\": {\"arguments\": {\"x\": {\"from_parameter\": \"value\"}, \"y\": 95}, \"process_id\": \"lte\", \"result\": true}}}}, \"spatial_extent\": {\"crs\": \"EPSG:4326\", \"east\": 5.21, \"north\": 51.26, \"south\": 51.25, \"west\": 5.19}, \"temporal_extent\": [\"2020-11-01\", \"2021-10-31\"]}, \"process_id\": \"load_collection\"}, \"loadcollection2\": {\"arguments\": {\"bands\": [\"VH\", \"VV\"], \"id\": \"SENTINEL1_GRD\", \"spatial_extent\": {\"crs\": \"EPSG:4326\", \"east\": 5.21, \"north\": 51.26, \"south\": 51.25, \"west\": 5.19}, \"temporal_extent\": [\"2020-11-01\", \"2021-10-31\"]}, \"process_id\": \"load_collection\"}, \"loadcollection3\": {\"arguments\": {\"id\": \"COPERNICUS_30\", \"spatial_extent\": {\"crs\": \"EPSG:4326\", \"east\": 5.21, \"north\": 51.26, \"south\": 51.25, \"west\": 5.19}, \"temporal_extent\": null}, \"process_id\": \"load_collection\"}, \"maskscldilation1\": {\"arguments\": {\"data\": {\"from_node\": \"loadcollection1\"}, \"erosion_kernel_size\": 3, \"kernel1_size\": 17, \"kernel2_size\": 77, \"mask1_values\": [2, 4, 5, 6, 7], \"mask2_values\": [3, 8, 9, 10, 11], \"scl_band_name\": \"SCL\"}, \"process_id\": \"mask_scl_dilation\"}, \"mergecubes1\": {\"arguments\": {\"cube1\": {\"from_node\": \"resamplecubespatial1\"}, \"cube2\": {\"from_node\": \"apply2\"}}, \"process_id\": \"merge_cubes\"}, \"mergecubes2\": {\"arguments\": {\"cube1\": {\"from_node\": \"filtertemporal1\"}, \"cube2\": {\"from_node\": \"reducedimension1\"}}, \"process_id\": \"merge_cubes\"}, \"reducedimension1\": {\"arguments\": {\"data\": {\"from_node\": \"loadcollection3\"}, \"dimension\": \"t\", \"reducer\": {\"process_graph\": {\"max1\": {\"arguments\": {\"data\": {\"from_parameter\": \"data\"}}, \"process_id\": \"max\", \"result\": true}}}}, \"process_id\": \"reduce_dimension\"}, \"renamelabels1\": {\"arguments\": {\"data\": {\"from_node\": \"applyneighborhood1\"}, \"dimension\": \"bands\", \"target\": [\"presto_1\", \"presto_2\", \"presto_3\", \"presto_4\", \"presto_5\", \"presto_6\", \"presto_7\", \"presto_8\", \"presto_9\", \"presto_10\", \"presto_11\", \"presto_12\", \"presto_13\", \"presto_14\", \"presto_15\", \"presto_16\", \"presto_17\", \"presto_18\", \"presto_19\", \"presto_20\", \"presto_21\", \"presto_22\", \"presto_23\", \"presto_24\", \"presto_25\", \"presto_26\", \"presto_27\", \"presto_28\", \"presto_29\", \"presto_30\", \"presto_31\", \"presto_32\", \"presto_33\", \"presto_34\", \"presto_35\", \"presto_36\", \"presto_37\", \"presto_38\", \"presto_39\", \"presto_40\", \"presto_41\", \"presto_42\", \"presto_43\", \"presto_44\", \"presto_45\", \"presto_46\", \"presto_47\", \"presto_48\", \"presto_49\", \"presto_50\", \"presto_51\", \"presto_52\", \"presto_53\", \"presto_54\", \"presto_55\", \"presto_56\", \"presto_57\", \"presto_58\", \"presto_59\", \"presto_60\", \"presto_61\", \"presto_62\", \"presto_63\", \"presto_64\", \"presto_65\", \"presto_66\", \"presto_67\", \"presto_68\", \"presto_69\", \"presto_70\", \"presto_71\", \"presto_72\", \"presto_73\", \"presto_74\", \"presto_75\", \"presto_76\", \"presto_77\", \"presto_78\", \"presto_79\", \"presto_80\", \"presto_81\", \"presto_82\", \"presto_83\", \"presto_84\", \"presto_85\", \"presto_86\", \"presto_87\", \"presto_88\", \"presto_89\", \"presto_90\", \"presto_91\", \"presto_92\", \"presto_93\", \"presto_94\", \"presto_95\", \"presto_96\", \"presto_97\", \"presto_98\", \"presto_99\", \"presto_100\", \"presto_101\", \"presto_102\", \"presto_103\", \"presto_104\", \"presto_105\", \"presto_106\", \"presto_107\", \"presto_108\", \"presto_109\", \"presto_110\", \"presto_111\", \"presto_112\", \"presto_113\", \"presto_114\", \"presto_115\", \"presto_116\", \"presto_117\", \"presto_118\", \"presto_119\", \"presto_120\", \"presto_121\", \"presto_122\", \"presto_123\", \"presto_124\", \"presto_125\", \"presto_126\", \"presto_127\", \"presto_128\"]}, \"process_id\": \"rename_labels\"}, \"resamplecubespatial1\": {\"arguments\": {\"data\": {\"from_node\": \"apply1\"}, \"method\": \"near\", \"target\": {\"from_node\": \"apply2\"}}, \"process_id\": \"resample_cube_spatial\"}, \"sarbackscatter1\": {\"arguments\": {\"coefficient\": \"sigma0-ellipsoid\", \"contributing_area\": false, \"data\": {\"from_node\": \"loadcollection2\"}, \"elevation_model\": null, \"ellipsoid_incidence_angle\": false, \"local_incidence_angle\": false, \"mask\": false, \"noise_removal\": true, \"options\": {\"debug\": false, \"elev_geoid\": \"/opt/openeo-vito-aux-data/egm96.tif\", \"implementation_version\": \"2\", \"otb_memory\": 1024, \"tile_size\": 256}}, \"process_id\": \"sar_backscatter\"}, \"saveresult1\": {\"arguments\": {\"data\": {\"from_node\": \"renamelabels1\"}, \"format\": \"netCDF\", \"options\": {}}, \"process_id\": \"save_result\", \"result\": true}}}, \"progress\": 100, \"status\": \"finished\", \"updated\": \"2024-05-17T12:48:38Z\", \"usage\": {\"cpu\": {\"unit\": \"cpu-seconds\", \"value\": 3961.4568307219993}, \"duration\": {\"unit\": \"seconds\", \"value\": 2821}, \"input_pixel\": {\"unit\": \"mega-pixel\", \"value\": 30.252471923828125}, \"max_executor_memory\": {\"unit\": \"gb\", \"value\": 9.182022094726562}, \"memory\": {\"unit\": \"mb-seconds\", \"value\": 127633107.13948466}, \"network_received\": {\"unit\": \"b\", \"value\": 98170853654.0}}}}</script>\n",
       "    </openeo-job>\n",
       "    "
      ],
      "text/plain": [
       "<BatchJob job_id='j-2405171879c44f5aac716b6b0ca23b92'>"
      ]
     },
     "execution_count": 7,
     "metadata": {},
     "output_type": "execute_result"
    }
   ],
   "source": [
    "from datetime import datetime\n",
    "\n",
    "current_datetime = datetime.now()\n",
    "formatted_datetime = current_datetime.strftime(\"%Y_%m_%d_%H_%M_%S\")\n",
    "outputfile_name = str(formatted_datetime) + '_output_presto.nc'\n",
    "\n",
    "udf = openeo.UDF.from_file(\"udf_presto.py\")\n",
    "\n",
    "prediction = input_cube.apply_neighborhood(\n",
    "    process=udf,\n",
    "    size=[\n",
    "        {\"dimension\": \"x\", \"value\": 100, \"unit\": \"px\"},\n",
    "        {\"dimension\": \"y\", \"value\": 100, \"unit\": \"px\"},\n",
    "    ],\n",
    "    overlap=[\n",
    "        {\"dimension\": \"x\", \"value\": 0, \"unit\": \"px\"},\n",
    "        {\"dimension\": \"y\", \"value\": 0, \"unit\": \"px\"},\n",
    "    ],\n",
    ")\n",
    "\n",
    "presto_list = [\"presto_\" + str(i) for i in range(1, 129)]\n",
    "prediction = prediction.rename_labels(dimension=\"bands\",target= presto_list)\n",
    "\n",
    "prediction.execute_batch(outputfile = outputfile_name,\n",
    "                        description='world cereal inference',\n",
    "                        job_options={'driver-memory': '4g',\n",
    "                                    'executor-memoryOverhead':'8g'} )"
   ]
  },
  {
   "cell_type": "markdown",
   "id": "48c9322c",
   "metadata": {},
   "source": [
    "Calculate the presto features and run the classifier on top"
   ]
  },
  {
   "cell_type": "code",
   "execution_count": 8,
   "id": "8f71136c-1252-4786-8609-8bb995da7daf",
   "metadata": {
    "tags": []
   },
   "outputs": [
    {
     "name": "stdout",
     "output_type": "stream",
     "text": [
      "0:00:00 Job 'j-240517a75f8846a88725dcb3c5da55a5': send 'start'\n",
      "0:00:16 Job 'j-240517a75f8846a88725dcb3c5da55a5': created (progress 0%)\n",
      "0:00:21 Job 'j-240517a75f8846a88725dcb3c5da55a5': created (progress 0%)\n",
      "0:00:28 Job 'j-240517a75f8846a88725dcb3c5da55a5': created (progress 0%)\n",
      "0:00:39 Job 'j-240517a75f8846a88725dcb3c5da55a5': created (progress 0%)\n",
      "0:00:49 Job 'j-240517a75f8846a88725dcb3c5da55a5': created (progress 0%)\n",
      "0:01:02 Job 'j-240517a75f8846a88725dcb3c5da55a5': created (progress 0%)\n",
      "0:01:18 Job 'j-240517a75f8846a88725dcb3c5da55a5': created (progress 0%)\n",
      "0:01:38 Job 'j-240517a75f8846a88725dcb3c5da55a5': running (progress N/A)\n",
      "0:02:03 Job 'j-240517a75f8846a88725dcb3c5da55a5': running (progress N/A)\n",
      "0:02:34 Job 'j-240517a75f8846a88725dcb3c5da55a5': running (progress N/A)\n",
      "0:03:12 Job 'j-240517a75f8846a88725dcb3c5da55a5': running (progress N/A)\n",
      "0:03:59 Job 'j-240517a75f8846a88725dcb3c5da55a5': running (progress N/A)\n",
      "0:04:58 Job 'j-240517a75f8846a88725dcb3c5da55a5': running (progress N/A)\n",
      "0:05:59 Job 'j-240517a75f8846a88725dcb3c5da55a5': running (progress N/A)\n",
      "0:07:00 Job 'j-240517a75f8846a88725dcb3c5da55a5': running (progress N/A)\n",
      "0:08:01 Job 'j-240517a75f8846a88725dcb3c5da55a5': running (progress N/A)\n",
      "0:09:04 Job 'j-240517a75f8846a88725dcb3c5da55a5': running (progress N/A)\n",
      "0:10:06 Job 'j-240517a75f8846a88725dcb3c5da55a5': running (progress N/A)\n",
      "0:11:07 Job 'j-240517a75f8846a88725dcb3c5da55a5': running (progress N/A)\n",
      "0:12:11 Job 'j-240517a75f8846a88725dcb3c5da55a5': running (progress N/A)\n",
      "0:13:20 Job 'j-240517a75f8846a88725dcb3c5da55a5': running (progress N/A)\n",
      "0:14:21 Job 'j-240517a75f8846a88725dcb3c5da55a5': running (progress N/A)\n",
      "0:15:22 Job 'j-240517a75f8846a88725dcb3c5da55a5': running (progress N/A)\n",
      "0:16:23 Job 'j-240517a75f8846a88725dcb3c5da55a5': running (progress N/A)\n",
      "0:17:23 Job 'j-240517a75f8846a88725dcb3c5da55a5': running (progress N/A)\n",
      "0:18:24 Job 'j-240517a75f8846a88725dcb3c5da55a5': running (progress N/A)\n",
      "0:19:25 Job 'j-240517a75f8846a88725dcb3c5da55a5': running (progress N/A)\n",
      "0:20:28 Job 'j-240517a75f8846a88725dcb3c5da55a5': running (progress N/A)\n",
      "0:21:29 Job 'j-240517a75f8846a88725dcb3c5da55a5': running (progress N/A)\n",
      "0:22:38 Job 'j-240517a75f8846a88725dcb3c5da55a5': running (progress N/A)\n",
      "0:23:39 Job 'j-240517a75f8846a88725dcb3c5da55a5': running (progress N/A)\n",
      "0:24:43 Job 'j-240517a75f8846a88725dcb3c5da55a5': running (progress N/A)\n",
      "0:25:44 Job 'j-240517a75f8846a88725dcb3c5da55a5': running (progress N/A)\n",
      "0:26:45 Job 'j-240517a75f8846a88725dcb3c5da55a5': running (progress N/A)\n",
      "0:27:45 Job 'j-240517a75f8846a88725dcb3c5da55a5': running (progress N/A)\n",
      "0:28:46 Job 'j-240517a75f8846a88725dcb3c5da55a5': running (progress N/A)\n",
      "0:29:47 Job 'j-240517a75f8846a88725dcb3c5da55a5': running (progress N/A)\n",
      "0:30:49 Job 'j-240517a75f8846a88725dcb3c5da55a5': running (progress N/A)\n",
      "0:31:50 Job 'j-240517a75f8846a88725dcb3c5da55a5': running (progress N/A)\n",
      "0:32:51 Job 'j-240517a75f8846a88725dcb3c5da55a5': running (progress N/A)\n",
      "0:33:51 Job 'j-240517a75f8846a88725dcb3c5da55a5': running (progress N/A)\n",
      "0:34:52 Job 'j-240517a75f8846a88725dcb3c5da55a5': running (progress N/A)\n",
      "0:35:52 Job 'j-240517a75f8846a88725dcb3c5da55a5': running (progress N/A)\n",
      "0:36:53 Job 'j-240517a75f8846a88725dcb3c5da55a5': running (progress N/A)\n",
      "0:37:53 Job 'j-240517a75f8846a88725dcb3c5da55a5': running (progress N/A)\n",
      "0:38:53 Job 'j-240517a75f8846a88725dcb3c5da55a5': running (progress N/A)\n",
      "0:39:54 Job 'j-240517a75f8846a88725dcb3c5da55a5': running (progress N/A)\n",
      "0:40:54 Job 'j-240517a75f8846a88725dcb3c5da55a5': running (progress N/A)\n",
      "0:41:55 Job 'j-240517a75f8846a88725dcb3c5da55a5': running (progress N/A)\n",
      "0:42:55 Job 'j-240517a75f8846a88725dcb3c5da55a5': running (progress N/A)\n",
      "0:44:11 Job 'j-240517a75f8846a88725dcb3c5da55a5': running (progress N/A)\n",
      "0:45:12 Job 'j-240517a75f8846a88725dcb3c5da55a5': running (progress N/A)\n",
      "0:46:12 Job 'j-240517a75f8846a88725dcb3c5da55a5': running (progress N/A)\n",
      "0:47:13 Job 'j-240517a75f8846a88725dcb3c5da55a5': running (progress N/A)\n",
      "0:48:13 Job 'j-240517a75f8846a88725dcb3c5da55a5': running (progress N/A)\n",
      "0:49:16 Job 'j-240517a75f8846a88725dcb3c5da55a5': running (progress N/A)\n",
      "0:50:17 Job 'j-240517a75f8846a88725dcb3c5da55a5': running (progress N/A)\n",
      "0:51:17 Job 'j-240517a75f8846a88725dcb3c5da55a5': running (progress N/A)\n",
      "0:52:18 Job 'j-240517a75f8846a88725dcb3c5da55a5': running (progress N/A)\n",
      "0:53:18 Job 'j-240517a75f8846a88725dcb3c5da55a5': running (progress N/A)\n",
      "0:54:19 Job 'j-240517a75f8846a88725dcb3c5da55a5': running (progress N/A)\n",
      "0:55:20 Job 'j-240517a75f8846a88725dcb3c5da55a5': running (progress N/A)\n",
      "0:56:20 Job 'j-240517a75f8846a88725dcb3c5da55a5': running (progress N/A)\n",
      "0:57:20 Job 'j-240517a75f8846a88725dcb3c5da55a5': running (progress N/A)\n",
      "0:58:21 Job 'j-240517a75f8846a88725dcb3c5da55a5': running (progress N/A)\n",
      "0:59:22 Job 'j-240517a75f8846a88725dcb3c5da55a5': running (progress N/A)\n",
      "1:00:24 Job 'j-240517a75f8846a88725dcb3c5da55a5': running (progress N/A)\n",
      "1:01:24 Job 'j-240517a75f8846a88725dcb3c5da55a5': running (progress N/A)\n",
      "1:02:25 Job 'j-240517a75f8846a88725dcb3c5da55a5': running (progress N/A)\n",
      "1:03:30 Job 'j-240517a75f8846a88725dcb3c5da55a5': running (progress N/A)\n",
      "1:04:32 Job 'j-240517a75f8846a88725dcb3c5da55a5': running (progress N/A)\n",
      "1:05:33 Job 'j-240517a75f8846a88725dcb3c5da55a5': running (progress N/A)\n",
      "1:06:34 Job 'j-240517a75f8846a88725dcb3c5da55a5': running (progress N/A)\n",
      "1:07:35 Job 'j-240517a75f8846a88725dcb3c5da55a5': running (progress N/A)\n",
      "1:08:35 Job 'j-240517a75f8846a88725dcb3c5da55a5': running (progress N/A)\n",
      "1:09:35 Job 'j-240517a75f8846a88725dcb3c5da55a5': running (progress N/A)\n",
      "1:10:38 Job 'j-240517a75f8846a88725dcb3c5da55a5': running (progress N/A)\n",
      "1:11:39 Job 'j-240517a75f8846a88725dcb3c5da55a5': running (progress N/A)\n",
      "1:12:40 Job 'j-240517a75f8846a88725dcb3c5da55a5': running (progress N/A)\n",
      "1:13:40 Job 'j-240517a75f8846a88725dcb3c5da55a5': running (progress N/A)\n",
      "1:14:41 Job 'j-240517a75f8846a88725dcb3c5da55a5': running (progress N/A)\n",
      "1:15:42 Job 'j-240517a75f8846a88725dcb3c5da55a5': running (progress N/A)\n",
      "1:16:42 Job 'j-240517a75f8846a88725dcb3c5da55a5': running (progress N/A)\n",
      "1:17:43 Job 'j-240517a75f8846a88725dcb3c5da55a5': running (progress N/A)\n",
      "1:18:43 Job 'j-240517a75f8846a88725dcb3c5da55a5': running (progress N/A)\n",
      "1:19:53 Job 'j-240517a75f8846a88725dcb3c5da55a5': running (progress N/A)\n",
      "1:20:53 Job 'j-240517a75f8846a88725dcb3c5da55a5': running (progress N/A)\n",
      "1:21:59 Job 'j-240517a75f8846a88725dcb3c5da55a5': running (progress N/A)\n",
      "1:23:00 Job 'j-240517a75f8846a88725dcb3c5da55a5': running (progress N/A)\n",
      "1:24:01 Job 'j-240517a75f8846a88725dcb3c5da55a5': running (progress N/A)\n",
      "1:25:03 Job 'j-240517a75f8846a88725dcb3c5da55a5': running (progress N/A)\n",
      "1:26:04 Job 'j-240517a75f8846a88725dcb3c5da55a5': running (progress N/A)\n",
      "1:27:04 Job 'j-240517a75f8846a88725dcb3c5da55a5': running (progress N/A)\n",
      "1:28:05 Job 'j-240517a75f8846a88725dcb3c5da55a5': running (progress N/A)\n",
      "1:29:06 Job 'j-240517a75f8846a88725dcb3c5da55a5': running (progress N/A)\n",
      "1:30:07 Job 'j-240517a75f8846a88725dcb3c5da55a5': running (progress N/A)\n",
      "1:31:08 Job 'j-240517a75f8846a88725dcb3c5da55a5': running (progress N/A)\n",
      "1:32:08 Job 'j-240517a75f8846a88725dcb3c5da55a5': running (progress N/A)\n",
      "1:33:11 Job 'j-240517a75f8846a88725dcb3c5da55a5': running (progress N/A)\n",
      "1:34:13 Job 'j-240517a75f8846a88725dcb3c5da55a5': running (progress N/A)\n",
      "1:35:14 Job 'j-240517a75f8846a88725dcb3c5da55a5': finished (progress 100%)\n"
     ]
    },
    {
     "data": {
      "text/html": [
       "\n",
       "    <script>\n",
       "    if (!window.customElements || !window.customElements.get('openeo-job')) {\n",
       "        var el = document.createElement('script');\n",
       "        el.src = \"https://cdn.jsdelivr.net/npm/@openeo/vue-components@2/assets/openeo.min.js\";\n",
       "        document.head.appendChild(el);\n",
       "\n",
       "        var font = document.createElement('font');\n",
       "        font.as = \"font\";\n",
       "        font.type = \"font/woff2\";\n",
       "        font.crossOrigin = true;\n",
       "        font.href = \"https://use.fontawesome.com/releases/v5.13.0/webfonts/fa-solid-900.woff2\"\n",
       "        document.head.appendChild(font);\n",
       "    }\n",
       "    </script>\n",
       "    <openeo-job>\n",
       "        <script type=\"application/json\">{\"currency\": \"credits\", \"job\": {\"costs\": 76.0, \"created\": \"2024-05-17T12:56:51Z\", \"description\": \"world cereal inference\", \"id\": \"j-240517a75f8846a88725dcb3c5da55a5\", \"process\": {\"process_graph\": {\"aggregatetemporalperiod1\": {\"arguments\": {\"data\": {\"from_node\": \"filterbands1\"}, \"period\": \"month\", \"reducer\": {\"process_graph\": {\"median1\": {\"arguments\": {\"data\": {\"from_parameter\": \"data\"}}, \"process_id\": \"median\", \"result\": true}}}}, \"process_id\": \"aggregate_temporal_period\"}, \"aggregatetemporalperiod2\": {\"arguments\": {\"data\": {\"from_node\": \"sarbackscatter1\"}, \"period\": \"month\", \"reducer\": {\"process_graph\": {\"mean1\": {\"arguments\": {\"data\": {\"from_parameter\": \"data\"}}, \"process_id\": \"mean\", \"result\": true}}}}, \"process_id\": \"aggregate_temporal_period\"}, \"apply1\": {\"arguments\": {\"data\": {\"from_node\": \"aggregatetemporalperiod1\"}, \"process\": {\"process_graph\": {\"linearscalerange1\": {\"arguments\": {\"inputMax\": 65534, \"inputMin\": 0, \"outputMax\": 65534, \"outputMin\": 0, \"x\": {\"from_parameter\": \"x\"}}, \"process_id\": \"linear_scale_range\", \"result\": true}}}}, \"process_id\": \"apply\"}, \"apply2\": {\"arguments\": {\"data\": {\"from_node\": \"applydimension1\"}, \"process\": {\"process_graph\": {\"linearscalerange2\": {\"arguments\": {\"inputMax\": 65534, \"inputMin\": 1, \"outputMax\": 65534, \"outputMin\": 1, \"x\": {\"from_parameter\": \"x\"}}, \"process_id\": \"linear_scale_range\", \"result\": true}}}}, \"process_id\": \"apply\"}, \"apply3\": {\"arguments\": {\"data\": {\"from_node\": \"mergecubes2\"}, \"process\": {\"process_graph\": {\"linearscalerange3\": {\"arguments\": {\"inputMax\": 65534, \"inputMin\": 0, \"outputMax\": 65534, \"outputMin\": 0, \"x\": {\"from_parameter\": \"x\"}}, \"process_id\": \"linear_scale_range\", \"result\": true}}}}, \"process_id\": \"apply\"}, \"applydimension1\": {\"arguments\": {\"data\": {\"from_node\": \"aggregatetemporalperiod2\"}, \"dimension\": \"bands\", \"process\": {\"process_graph\": {\"add1\": {\"arguments\": {\"x\": {\"from_node\": \"multiply1\"}, \"y\": 83.0}, \"process_id\": \"add\"}, \"add2\": {\"arguments\": {\"x\": {\"from_node\": \"multiply2\"}, \"y\": 83.0}, \"process_id\": \"add\"}, \"arraycreate1\": {\"arguments\": {\"data\": [{\"from_node\": \"power1\"}, {\"from_node\": \"power2\"}]}, \"process_id\": \"array_create\", \"result\": true}, \"arrayelement1\": {\"arguments\": {\"data\": {\"from_parameter\": \"data\"}, \"index\": 0}, \"process_id\": \"array_element\"}, \"arrayelement2\": {\"arguments\": {\"data\": {\"from_parameter\": \"data\"}, \"index\": 1}, \"process_id\": \"array_element\"}, \"divide1\": {\"arguments\": {\"x\": {\"from_node\": \"add1\"}, \"y\": 20.0}, \"process_id\": \"divide\"}, \"divide2\": {\"arguments\": {\"x\": {\"from_node\": \"add2\"}, \"y\": 20.0}, \"process_id\": \"divide\"}, \"log1\": {\"arguments\": {\"base\": 10, \"x\": {\"from_node\": \"arrayelement1\"}}, \"process_id\": \"log\"}, \"log2\": {\"arguments\": {\"base\": 10, \"x\": {\"from_node\": \"arrayelement2\"}}, \"process_id\": \"log\"}, \"multiply1\": {\"arguments\": {\"x\": 10.0, \"y\": {\"from_node\": \"log1\"}}, \"process_id\": \"multiply\"}, \"multiply2\": {\"arguments\": {\"x\": 10.0, \"y\": {\"from_node\": \"log2\"}}, \"process_id\": \"multiply\"}, \"power1\": {\"arguments\": {\"base\": 10, \"p\": {\"from_node\": \"divide1\"}}, \"process_id\": \"power\"}, \"power2\": {\"arguments\": {\"base\": 10, \"p\": {\"from_node\": \"divide2\"}}, \"process_id\": \"power\"}}}}, \"process_id\": \"apply_dimension\"}, \"applyneighborhood1\": {\"arguments\": {\"data\": {\"from_node\": \"apply3\"}, \"overlap\": [{\"dimension\": \"x\", \"unit\": \"px\", \"value\": 0}, {\"dimension\": \"y\", \"unit\": \"px\", \"value\": 0}], \"process\": {\"process_graph\": {\"runudf1\": {\"arguments\": {\"data\": {\"from_parameter\": \"data\"}, \"runtime\": \"Python\", \"udf\": \"import logging\\nimport urllib.request\\nimport shutil\\nfrom pathlib import Path\\nimport sys\\nimport functools\\nimport xarray as xr\\nfrom typing import Dict\\nimport numpy as np\\nfrom pyproj import Transformer\\n\\n\\ndef _setup_logging():\\n    logging.basicConfig(level=logging.INFO)\\n    logger = logging.getLogger(__name__)\\n    return logger\\n\\n@functools.lru_cache(maxsize=6)\\ndef extract_dependencies(base_url: str, dependency_name: str):\\n\\n    # Generate absolute path for the dependencies folder\\n    dependencies_dir = Path.cwd() / 'dependencies'\\n\\n    # Create the directory if it doesn't exist\\n    dependencies_dir.mkdir(exist_ok=True, parents=True)\\n\\n\\n    # Download and extract the model file\\n    modelfile_url = f\\\"{base_url}/{dependency_name}\\\"\\n    modelfile, _ = urllib.request.urlretrieve(modelfile_url, filename=dependencies_dir / Path(modelfile_url).name)\\n    shutil.unpack_archive(modelfile, extract_dir=dependencies_dir)\\n\\n    # Add the model directory to system path if it's not already there\\n    abs_path = str(dependencies_dir / Path(modelfile_url).name.split('.zip')[0])\\n\\n    return(abs_path)\\n\\n\\ndef apply_datacube(cube: xr.DataArray, context:Dict) -> xr.DataArray:\\n    \\n    logger = _setup_logging() \\n    logger.info(\\\"Shape of input: {}\\\".format(cube.shape))\\n\\n    # shape and indiches for output\\n    orig_dims = list(cube.dims)\\n    map_dims = (100,100)\\n\\n    # Unzip de dependencies on the backend\\n    logger.info(\\\"Unzipping dependencies\\\")\\n    base_url = \\\"https://artifactory.vgt.vito.be/artifactory/auxdata-public/worldcereal-minimal-inference/\\\"\\n    dependency_name = \\\"wc_presto_onnx_dependencies.zip\\\"\\n    dep_dir = extract_dependencies(base_url, dependency_name)\\n\\n    # Append the dependencies\\n    sys.path.append(str(dep_dir))\\n    sys.path.append(str(dep_dir) + '/pandas')\\n    from dependencies.wc_presto_onnx_dependencies.mvp_wc_presto.world_cereal_inference import get_presto_features, classify_with_catboost\\n\\n    # Run presto inference\\n    logger.info(\\\"Extracting presto features\\\")\\n    PRESTO_PATH = \\\"https://artifactory.vgt.vito.be/artifactory/auxdata-public/worldcereal-minimal-inference/presto.pt\\\"\\n    features = get_presto_features(cube, PRESTO_PATH)\\n    logger.info(\\\"Shape of presto output: {}\\\".format(features.shape))\\n\\n    # run catboost classification\\n    logger.info(\\\"Catboost classification\\\")\\n    CATBOOST_PATH = \\\"https://artifactory.vgt.vito.be/artifactory/auxdata-public/worldcereal-minimal-inference/wc_catboost.onnx\\\"\\n    classification = classify_with_catboost(features, CATBOOST_PATH)\\n    logger.info(\\\"Shape of classification output: {}\\\".format(classification.shape))\\n\\n    # revert to 4D shape for openEO\\n    #logger.info(\\\"Revert to 4D xarray\\\") \\n    #transformer = Transformer.from_crs(f\\\"EPSG:{4326}\\\", \\\"EPSG:4326\\\", always_xy=True)\\n    #longitudes, latitudes = transformer.transform(cube.x, cube.y)\\n\\n    classification = np.flip(classification.reshape(map_dims),axis = 0)\\n    classification = np.expand_dims(np.expand_dims(classification, axis=0), axis=0)\\n    output = xr.DataArray(classification, dims=orig_dims)\\n    logger.info(\\\"Shape of output: {}\\\".format(output.shape))\\n\\n    return output\\n\\n\\n\\n\\n\\n\\n\\n\\n\\n\\n\\n\\n\\n\\n\\n\\n\"}, \"process_id\": \"run_udf\", \"result\": true}}}, \"size\": [{\"dimension\": \"x\", \"unit\": \"px\", \"value\": 100}, {\"dimension\": \"y\", \"unit\": \"px\", \"value\": 100}]}, \"process_id\": \"apply_neighborhood\"}, \"filterbands1\": {\"arguments\": {\"bands\": [\"B02\", \"B03\", \"B04\", \"B05\", \"B06\", \"B07\", \"B08\", \"B8A\", \"B11\", \"B12\"], \"data\": {\"from_node\": \"maskscldilation1\"}}, \"process_id\": \"filter_bands\"}, \"filtertemporal1\": {\"arguments\": {\"data\": {\"from_node\": \"mergecubes1\"}, \"extent\": [\"2020-11-01\", \"2021-10-31\"]}, \"process_id\": \"filter_temporal\"}, \"loadcollection1\": {\"arguments\": {\"bands\": [\"B02\", \"B03\", \"B04\", \"B05\", \"B06\", \"B07\", \"B08\", \"B8A\", \"B11\", \"B12\", \"SCL\"], \"id\": \"SENTINEL2_L2A\", \"properties\": {\"eo:cloud_cover\": {\"process_graph\": {\"lte1\": {\"arguments\": {\"x\": {\"from_parameter\": \"value\"}, \"y\": 95}, \"process_id\": \"lte\", \"result\": true}}}}, \"spatial_extent\": {\"crs\": \"EPSG:4326\", \"east\": 5.21, \"north\": 51.26, \"south\": 51.25, \"west\": 5.19}, \"temporal_extent\": [\"2020-11-01\", \"2021-10-31\"]}, \"process_id\": \"load_collection\"}, \"loadcollection2\": {\"arguments\": {\"bands\": [\"VH\", \"VV\"], \"id\": \"SENTINEL1_GRD\", \"spatial_extent\": {\"crs\": \"EPSG:4326\", \"east\": 5.21, \"north\": 51.26, \"south\": 51.25, \"west\": 5.19}, \"temporal_extent\": [\"2020-11-01\", \"2021-10-31\"]}, \"process_id\": \"load_collection\"}, \"loadcollection3\": {\"arguments\": {\"id\": \"COPERNICUS_30\", \"spatial_extent\": {\"crs\": \"EPSG:4326\", \"east\": 5.21, \"north\": 51.26, \"south\": 51.25, \"west\": 5.19}, \"temporal_extent\": null}, \"process_id\": \"load_collection\"}, \"maskscldilation1\": {\"arguments\": {\"data\": {\"from_node\": \"loadcollection1\"}, \"erosion_kernel_size\": 3, \"kernel1_size\": 17, \"kernel2_size\": 77, \"mask1_values\": [2, 4, 5, 6, 7], \"mask2_values\": [3, 8, 9, 10, 11], \"scl_band_name\": \"SCL\"}, \"process_id\": \"mask_scl_dilation\"}, \"mergecubes1\": {\"arguments\": {\"cube1\": {\"from_node\": \"resamplecubespatial1\"}, \"cube2\": {\"from_node\": \"apply2\"}}, \"process_id\": \"merge_cubes\"}, \"mergecubes2\": {\"arguments\": {\"cube1\": {\"from_node\": \"filtertemporal1\"}, \"cube2\": {\"from_node\": \"reducedimension1\"}}, \"process_id\": \"merge_cubes\"}, \"reducedimension1\": {\"arguments\": {\"data\": {\"from_node\": \"loadcollection3\"}, \"dimension\": \"t\", \"reducer\": {\"process_graph\": {\"max1\": {\"arguments\": {\"data\": {\"from_parameter\": \"data\"}}, \"process_id\": \"max\", \"result\": true}}}}, \"process_id\": \"reduce_dimension\"}, \"renamelabels1\": {\"arguments\": {\"data\": {\"from_node\": \"applyneighborhood1\"}, \"dimension\": \"bands\", \"target\": [\"output_catboost\"]}, \"process_id\": \"rename_labels\"}, \"resamplecubespatial1\": {\"arguments\": {\"data\": {\"from_node\": \"apply1\"}, \"method\": \"near\", \"target\": {\"from_node\": \"apply2\"}}, \"process_id\": \"resample_cube_spatial\"}, \"sarbackscatter1\": {\"arguments\": {\"coefficient\": \"sigma0-ellipsoid\", \"contributing_area\": false, \"data\": {\"from_node\": \"loadcollection2\"}, \"elevation_model\": null, \"ellipsoid_incidence_angle\": false, \"local_incidence_angle\": false, \"mask\": false, \"noise_removal\": true, \"options\": {\"debug\": false, \"elev_geoid\": \"/opt/openeo-vito-aux-data/egm96.tif\", \"implementation_version\": \"2\", \"otb_memory\": 1024, \"tile_size\": 256}}, \"process_id\": \"sar_backscatter\"}, \"saveresult1\": {\"arguments\": {\"data\": {\"from_node\": \"renamelabels1\"}, \"format\": \"netCDF\", \"options\": {}}, \"process_id\": \"save_result\", \"result\": true}}}, \"progress\": 100, \"status\": \"finished\", \"updated\": \"2024-05-17T14:31:31Z\", \"usage\": {\"cpu\": {\"unit\": \"cpu-seconds\", \"value\": 5619.085178018}, \"duration\": {\"unit\": \"seconds\", \"value\": 5607}, \"input_pixel\": {\"unit\": \"mega-pixel\", \"value\": 30.252471923828125}, \"max_executor_memory\": {\"unit\": \"gb\", \"value\": 8.247238159179688}, \"memory\": {\"unit\": \"mb-seconds\", \"value\": 268255797.38070443}, \"network_received\": {\"unit\": \"b\", \"value\": 101236789516.0}}}}</script>\n",
       "    </openeo-job>\n",
       "    "
      ],
      "text/plain": [
       "<BatchJob job_id='j-240517a75f8846a88725dcb3c5da55a5'>"
      ]
     },
     "execution_count": 8,
     "metadata": {},
     "output_type": "execute_result"
    }
   ],
   "source": [
    "\n",
    "current_datetime = datetime.now()\n",
    "formatted_datetime = current_datetime.strftime(\"%Y_%m_%d_%H_%M_%S\")\n",
    "outputfile_name = str(formatted_datetime) + '_output_worldcereal.nc'\n",
    "\n",
    "udf = openeo.UDF.from_file(\"udf_worldcereal_inference.py\")\n",
    "\n",
    "prediction = input_cube.apply_neighborhood(\n",
    "    process=udf,\n",
    "    size=[\n",
    "        {\"dimension\": \"x\", \"value\": 100, \"unit\": \"px\"},\n",
    "        {\"dimension\": \"y\", \"value\": 100, \"unit\": \"px\"},\n",
    "    ],\n",
    "    overlap=[\n",
    "        {\"dimension\": \"x\", \"value\": 0, \"unit\": \"px\"},\n",
    "        {\"dimension\": \"y\", \"value\": 0, \"unit\": \"px\"},\n",
    "    ],\n",
    ")\n",
    "\n",
    "prediction = prediction.rename_labels(dimension=\"bands\",target= [\"output_catboost\"])\n",
    "\n",
    "prediction.execute_batch(outputfile = outputfile_name,\n",
    "                        description='world cereal inference',\n",
    "                        job_options={'driver-memory': '4g',\n",
    "                                    'executor-memoryOverhead':'8g'} )\n"
   ]
  },
  {
   "cell_type": "markdown",
   "id": "1f716b7a",
   "metadata": {},
   "source": [
    "Fetch the output and visualise"
   ]
  },
  {
   "cell_type": "code",
   "execution_count": 10,
   "id": "2cf64980",
   "metadata": {},
   "outputs": [
    {
     "data": {
      "text/plain": [
       "(116, 144)"
      ]
     },
     "execution_count": 10,
     "metadata": {},
     "output_type": "execute_result"
    },
    {
     "data": {
      "image/png": "[encoded data removed]",
      "text/plain": [
       "<Figure size 640x480 with 1 Axes>"
      ]
     },
     "metadata": {},
     "output_type": "display_data"
    }
   ],
   "source": [
    "import xarray as xr\n",
    "import matplotlib.pyplot as plt\n",
    "\n",
    "output = xr.open_dataset('2024_05_17_14_56_51_output_worldcereal.nc')\n",
    "output = output['output_catboost'].to_numpy().squeeze()\n",
    "plt.imshow(output)\n",
    "\n",
    "output.shape\n"
   ]
  },
  {
   "cell_type": "code",
   "execution_count": 15,
   "id": "f18b1535",
   "metadata": {},
   "outputs": [
    {
     "name": "stdout",
     "output_type": "stream",
     "text": [
      "<xarray.DataArray 'presto_1' (t: 1, y: 116, x: 144)> Size: 134kB\n",
      "[16704 values with dtype=float64]\n",
      "Coordinates:\n",
      "  * t        (t) datetime64[ns] 8B 1970-01-01\n",
      "  * x        (x) float64 1kB 6.528e+05 6.528e+05 ... 6.542e+05 6.542e+05\n",
      "  * y        (y) float64 928B 5.681e+06 5.681e+06 ... 5.68e+06 5.68e+06\n",
      "Attributes:\n",
      "    long_name:     presto_1\n",
      "    units:         \n",
      "    grid_mapping:  crs\n"
     ]
    }
   ],
   "source": [
    "presto_ft = xr.open_dataset('2024_05_17_14_00_16_output_presto.nc')\n",
    "\n",
    "print(presto_ft['presto_1'])\n"
   ]
  },
  {
   "cell_type": "markdown",
   "id": "5b47a2a0-d5f4-4e39-a924-4bca923400de",
   "metadata": {},
   "source": [
    "### Check reference"
   ]
  },
  {
   "cell_type": "code",
   "execution_count": 7,
   "id": "2c63667b-8e43-4640-8c70-41b85ad060d2",
   "metadata": {
    "tags": []
   },
   "outputs": [
    {
     "data": {
      "text/plain": [
       "<matplotlib.image.AxesImage at 0x1b48f018b90>"
      ]
     },
     "execution_count": 7,
     "metadata": {},
     "output_type": "execute_result"
    },
    {
     "data": {
      "image/png": "[encoded data removed]",
      "text/plain": [
       "<Figure size 1000x800 with 1 Axes>"
      ]
     },
     "metadata": {},
     "output_type": "display_data"
    }
   ],
   "source": []
  }
 ],
 "metadata": {
  "kernelspec": {
   "display_name": "Python 3",
   "language": "python",
   "name": "python3"
  },
  "language_info": {
   "codemirror_mode": {
    "name": "ipython",
    "version": 3
   },
   "file_extension": ".py",
   "mimetype": "text/x-python",
   "name": "python",
   "nbconvert_exporter": "python",
   "pygments_lexer": "ipython3",
   "version": "3.12.2"
  }
 },
 "nbformat": 4,
 "nbformat_minor": 5
}
