{
 "cells": [
  {
   "cell_type": "markdown",
   "id": "b879f7b4-9a3f-41fc-90d0-ab9cfd25a093",
   "metadata": {},
   "source": [
    "### Make OpenEO connection"
   ]
  },
  {
   "cell_type": "code",
   "execution_count": 1,
   "id": "7c7532bf-5341-4a6e-a81f-85ded18e6a85",
   "metadata": {
    "tags": []
   },
   "outputs": [],
   "source": [
    "%load_ext autoreload\n",
    "%autoreload 2"
   ]
  },
  {
   "cell_type": "code",
   "execution_count": 2,
   "id": "f700773b-a843-4ebe-b6ca-8f805b4ee5bf",
   "metadata": {
    "tags": []
   },
   "outputs": [
    {
     "name": "stdout",
     "output_type": "stream",
     "text": [
      "Authenticated using refresh token.\n"
     ]
    }
   ],
   "source": [
    "import openeo\n",
    "from datetime import datetime  \n",
    "\n",
    "#token SENTINEL\n",
    "connection = openeo.connect(\"https://openeo.dataspace.copernicus.eu/\").authenticate_oidc()"
   ]
  },
  {
   "cell_type": "markdown",
   "id": "5af70a06",
   "metadata": {},
   "source": [
    "Load in Cube without METEO\n"
   ]
  },
  {
   "cell_type": "code",
   "execution_count": 3,
   "id": "5494c46d",
   "metadata": {
    "tags": []
   },
   "outputs": [],
   "source": [
    "#Get desired data\n",
    "from preprocessing import worldcereal_preprocessed_inputs\n",
    "\n",
    "EXTENT = dict(zip([\"west\", \"south\", \"east\", \"north\"], [664000.0, 5611120.0, 665000.0, 5612120.0]))\n",
    "EXTENT['crs'] = \"EPSG:32631\"\n",
    "EXTENT['srs'] = \"EPSG:32631\"\n",
    "\n",
    "STARTDATE = '2020-11-01'\n",
    "ENDDATE = '2021-10-31'\n",
    "\n",
    "#TODO aggregator for including METEO?\n",
    "\n",
    "input_cube = worldcereal_preprocessed_inputs(\n",
    "     connection = connection,\n",
    "     bbox = EXTENT,\n",
    "     start = STARTDATE,\n",
    "     end = ENDDATE,\n",
    "     METEO_collection=None,\n",
    "     S2_collection= \"SENTINEL2_L2A\",\n",
    "     S1_collection= \"SENTINEL1_GRD\",\n",
    "     DEM_collection= \"COPERNICUS_30\"\n",
    ")\n"
   ]
  },
  {
   "cell_type": "markdown",
   "id": "da8d05cd",
   "metadata": {},
   "source": [
    "## Save preprocessed inputs\n",
    "\n",
    "Only required if you want to save the intermediate input cube"
   ]
  },
  {
   "cell_type": "code",
   "execution_count": null,
   "id": "4aab5695",
   "metadata": {
    "tags": []
   },
   "outputs": [],
   "source": [
    "current_datetime = datetime.now()\n",
    "formatted_datetime = current_datetime.strftime(\"%Y_%m_%d_%H_%M_%S\")\n",
    "outputfile_name = str(formatted_datetime) + '_input_cube_worldCereal.nc'\n",
    "\n",
    "input_cube.execute_batch(outputfile = outputfile_name,\n",
    "                        description='world cereal data collection')"
   ]
  },
  {
   "cell_type": "markdown",
   "id": "bc85fadd",
   "metadata": {},
   "source": [
    "## Run end-to-end inference job\n"
   ]
  },
  {
   "cell_type": "code",
   "execution_count": 4,
   "id": "64d37c40",
   "metadata": {
    "tags": []
   },
   "outputs": [
    {
     "name": "stdout",
     "output_type": "stream",
     "text": [
      "0:00:00 Job 'j-240529fb722145acadced18905706e6e': send 'start'\n",
      "0:00:15 Job 'j-240529fb722145acadced18905706e6e': created (progress 0%)\n",
      "0:00:20 Job 'j-240529fb722145acadced18905706e6e': created (progress 0%)\n",
      "0:00:27 Job 'j-240529fb722145acadced18905706e6e': created (progress 0%)\n",
      "0:00:35 Job 'j-240529fb722145acadced18905706e6e': created (progress 0%)\n",
      "0:00:45 Job 'j-240529fb722145acadced18905706e6e': created (progress 0%)\n",
      "0:00:57 Job 'j-240529fb722145acadced18905706e6e': running (progress N/A)\n",
      "0:01:12 Job 'j-240529fb722145acadced18905706e6e': running (progress N/A)\n",
      "0:01:32 Job 'j-240529fb722145acadced18905706e6e': running (progress N/A)\n",
      "0:01:56 Job 'j-240529fb722145acadced18905706e6e': running (progress N/A)\n",
      "0:02:26 Job 'j-240529fb722145acadced18905706e6e': running (progress N/A)\n",
      "0:03:04 Job 'j-240529fb722145acadced18905706e6e': running (progress N/A)\n",
      "0:03:50 Job 'j-240529fb722145acadced18905706e6e': running (progress N/A)\n",
      "0:04:49 Job 'j-240529fb722145acadced18905706e6e': running (progress N/A)\n",
      "0:05:49 Job 'j-240529fb722145acadced18905706e6e': running (progress N/A)\n",
      "0:06:49 Job 'j-240529fb722145acadced18905706e6e': running (progress N/A)\n",
      "0:07:50 Job 'j-240529fb722145acadced18905706e6e': running (progress N/A)\n",
      "0:08:50 Job 'j-240529fb722145acadced18905706e6e': running (progress N/A)\n",
      "0:09:50 Job 'j-240529fb722145acadced18905706e6e': finished (progress 100%)\n"
     ]
    },
    {
     "data": {
      "text/html": [
       "\n",
       "    <script>\n",
       "    if (!window.customElements || !window.customElements.get('openeo-job')) {\n",
       "        var el = document.createElement('script');\n",
       "        el.src = \"https://cdn.jsdelivr.net/npm/@openeo/vue-components@2/assets/openeo.min.js\";\n",
       "        document.head.appendChild(el);\n",
       "\n",
       "        var font = document.createElement('font');\n",
       "        font.as = \"font\";\n",
       "        font.type = \"font/woff2\";\n",
       "        font.crossOrigin = true;\n",
       "        font.href = \"https://use.fontawesome.com/releases/v5.13.0/webfonts/fa-solid-900.woff2\"\n",
       "        document.head.appendChild(font);\n",
       "    }\n",
       "    </script>\n",
       "    <openeo-job>\n",
       "        <script type=\"application/json\">{\"currency\": \"credits\", \"job\": {\"costs\": 5, \"created\": \"2024-05-29T14:26:27Z\", \"description\": \"world cereal inference\", \"id\": \"j-240529fb722145acadced18905706e6e\", \"process\": {\"process_graph\": {\"aggregatetemporalperiod1\": {\"arguments\": {\"data\": {\"from_node\": \"filterbands1\"}, \"period\": \"month\", \"reducer\": {\"process_graph\": {\"median1\": {\"arguments\": {\"data\": {\"from_parameter\": \"data\"}}, \"process_id\": \"median\", \"result\": true}}}}, \"process_id\": \"aggregate_temporal_period\"}, \"aggregatetemporalperiod2\": {\"arguments\": {\"data\": {\"from_node\": \"sarbackscatter1\"}, \"period\": \"month\", \"reducer\": {\"process_graph\": {\"mean1\": {\"arguments\": {\"data\": {\"from_parameter\": \"data\"}}, \"process_id\": \"mean\", \"result\": true}}}}, \"process_id\": \"aggregate_temporal_period\"}, \"apply1\": {\"arguments\": {\"data\": {\"from_node\": \"aggregatetemporalperiod1\"}, \"process\": {\"process_graph\": {\"linearscalerange1\": {\"arguments\": {\"inputMax\": 65534, \"inputMin\": 0, \"outputMax\": 65534, \"outputMin\": 0, \"x\": {\"from_parameter\": \"x\"}}, \"process_id\": \"linear_scale_range\", \"result\": true}}}}, \"process_id\": \"apply\"}, \"apply2\": {\"arguments\": {\"data\": {\"from_node\": \"applydimension1\"}, \"process\": {\"process_graph\": {\"linearscalerange2\": {\"arguments\": {\"inputMax\": 65534, \"inputMin\": 1, \"outputMax\": 65534, \"outputMin\": 1, \"x\": {\"from_parameter\": \"x\"}}, \"process_id\": \"linear_scale_range\", \"result\": true}}}}, \"process_id\": \"apply\"}, \"apply3\": {\"arguments\": {\"data\": {\"from_node\": \"mergecubes2\"}, \"process\": {\"process_graph\": {\"linearscalerange3\": {\"arguments\": {\"inputMax\": 65534, \"inputMin\": 0, \"outputMax\": 65534, \"outputMin\": 0, \"x\": {\"from_parameter\": \"x\"}}, \"process_id\": \"linear_scale_range\", \"result\": true}}}}, \"process_id\": \"apply\"}, \"applydimension1\": {\"arguments\": {\"data\": {\"from_node\": \"aggregatetemporalperiod2\"}, \"dimension\": \"bands\", \"process\": {\"process_graph\": {\"add1\": {\"arguments\": {\"x\": {\"from_node\": \"multiply1\"}, \"y\": 83}, \"process_id\": \"add\"}, \"add2\": {\"arguments\": {\"x\": {\"from_node\": \"multiply2\"}, \"y\": 83}, \"process_id\": \"add\"}, \"arraycreate1\": {\"arguments\": {\"data\": [{\"from_node\": \"power1\"}, {\"from_node\": \"power2\"}]}, \"process_id\": \"array_create\", \"result\": true}, \"arrayelement1\": {\"arguments\": {\"data\": {\"from_parameter\": \"data\"}, \"index\": 0}, \"process_id\": \"array_element\"}, \"arrayelement2\": {\"arguments\": {\"data\": {\"from_parameter\": \"data\"}, \"index\": 1}, \"process_id\": \"array_element\"}, \"divide1\": {\"arguments\": {\"x\": {\"from_node\": \"add1\"}, \"y\": 20}, \"process_id\": \"divide\"}, \"divide2\": {\"arguments\": {\"x\": {\"from_node\": \"add2\"}, \"y\": 20}, \"process_id\": \"divide\"}, \"log1\": {\"arguments\": {\"base\": 10, \"x\": {\"from_node\": \"arrayelement1\"}}, \"process_id\": \"log\"}, \"log2\": {\"arguments\": {\"base\": 10, \"x\": {\"from_node\": \"arrayelement2\"}}, \"process_id\": \"log\"}, \"multiply1\": {\"arguments\": {\"x\": 10, \"y\": {\"from_node\": \"log1\"}}, \"process_id\": \"multiply\"}, \"multiply2\": {\"arguments\": {\"x\": 10, \"y\": {\"from_node\": \"log2\"}}, \"process_id\": \"multiply\"}, \"power1\": {\"arguments\": {\"base\": 10, \"p\": {\"from_node\": \"divide1\"}}, \"process_id\": \"power\"}, \"power2\": {\"arguments\": {\"base\": 10, \"p\": {\"from_node\": \"divide2\"}}, \"process_id\": \"power\"}}}}, \"process_id\": \"apply_dimension\"}, \"applyneighborhood1\": {\"arguments\": {\"data\": {\"from_node\": \"apply3\"}, \"overlap\": [{\"dimension\": \"x\", \"unit\": \"px\", \"value\": 0}, {\"dimension\": \"y\", \"unit\": \"px\", \"value\": 0}], \"process\": {\"process_graph\": {\"runudf1\": {\"arguments\": {\"data\": {\"from_parameter\": \"data\"}, \"runtime\": \"Python\", \"udf\": \"import logging\\nimport urllib.request\\nimport shutil\\nfrom pathlib import Path\\nimport sys\\nimport functools\\nimport xarray as xr\\nfrom typing import Dict\\n\\n\\n\\ndef _setup_logging():\\n    logging.basicConfig(level=logging.INFO)\\n    logger = logging.getLogger(__name__)\\n    return logger\\n\\n@functools.lru_cache(maxsize=6)\\ndef extract_dependencies(base_url: str, dependency_name: str):\\n\\n    # Generate absolute path for the dependencies folder\\n    dependencies_dir = Path.cwd() / 'dependencies'\\n\\n    # Create the directory if it doesn't exist\\n    dependencies_dir.mkdir(exist_ok=True, parents=True)\\n\\n\\n    # Download and extract the model file\\n    modelfile_url = f\\\"{base_url}/{dependency_name}\\\"\\n    modelfile, _ = urllib.request.urlretrieve(modelfile_url, filename=dependencies_dir / Path(modelfile_url).name)\\n    shutil.unpack_archive(modelfile, extract_dir=dependencies_dir)\\n\\n    # Add the model directory to system path if it's not already there\\n    abs_path = str(dependencies_dir / Path(modelfile_url).name.split('.zip')[0])\\n\\n    return(abs_path)\\n\\n\\ndef apply_datacube(cube: xr.DataArray, context:Dict) -> xr.DataArray:\\n    \\n    logger = _setup_logging() \\n\\n    # shape and indiches for output\\n    cube = cube.transpose('bands', 't', 'x', 'y')\\n    cube = cube.fillna(65535)\\n    \\n\\n    # Unzip de dependencies on the backend\\n    logger.info(\\\"Unzipping dependencies\\\")\\n    base_url = \\\"https://s3.waw3-1.cloudferro.com/swift/v1/project_dependencies\\\"\\n    dependency_name = \\\"wc_presto_onnx_dependencies.zip\\\"\\n\\n    logger.info(\\\"Adding dependencies\\\")\\n    dep_dir = extract_dependencies(base_url, dependency_name)\\n    sys.path.append(str(dep_dir))\\n\\n    from dependencies.wc_presto_onnx_dependencies.mvp_wc_presto.world_cereal_inference import get_presto_features, classify_with_catboost\\n\\n    # Run presto inference\\n    PRESTO_PATH = \\\"https://artifactory.vgt.vito.be/artifactory/auxdata-public/worldcereal-minimal-inference/presto.pt\\\"\\n    CATBOOST_PATH = \\\"https://artifactory.vgt.vito.be/artifactory/auxdata-public/worldcereal-minimal-inference/wc_catboost.onnx\\\"\\n    \\n    # Run presto feature extraction\\n    logger.info(\\\"Extracting presto features\\\")\\n    features = get_presto_features(cube, PRESTO_PATH)\\n\\n    # Run catboost classification\\n    logger.info(\\\"Catboost classification\\\")\\n    classification = classify_with_catboost(features, CATBOOST_PATH)\\n    logger.info(\\\"Done\\\")\\n\\n    # Add time dimension\\n    classification = classification.expand_dims(dim=\\\"t\\\")\\n    logger.info(\\\"Done\\\")\\n\\n    return classification\\n\\n\\n\\n\\n\\n\\n\\n\\n\\n\\n\\n\\n\\n\\n\\n\\n\"}, \"process_id\": \"run_udf\", \"result\": true}}}, \"size\": [{\"dimension\": \"x\", \"unit\": \"px\", \"value\": 100}, {\"dimension\": \"y\", \"unit\": \"px\", \"value\": 100}]}, \"process_id\": \"apply_neighborhood\"}, \"dropdimension1\": {\"arguments\": {\"data\": {\"from_node\": \"applyneighborhood1\"}, \"name\": \"t\"}, \"process_id\": \"drop_dimension\"}, \"filterbands1\": {\"arguments\": {\"bands\": [\"B02\", \"B03\", \"B04\", \"B05\", \"B06\", \"B07\", \"B08\", \"B8A\", \"B11\", \"B12\"], \"data\": {\"from_node\": \"maskscldilation1\"}}, \"process_id\": \"filter_bands\"}, \"filtertemporal1\": {\"arguments\": {\"data\": {\"from_node\": \"mergecubes1\"}, \"extent\": [\"2020-11-01\", \"2021-10-31\"]}, \"process_id\": \"filter_temporal\"}, \"loadcollection1\": {\"arguments\": {\"bands\": [\"B02\", \"B03\", \"B04\", \"B05\", \"B06\", \"B07\", \"B08\", \"B8A\", \"B11\", \"B12\", \"SCL\"], \"id\": \"SENTINEL2_L2A\", \"properties\": {\"eo:cloud_cover\": {\"process_graph\": {\"lte1\": {\"arguments\": {\"x\": {\"from_parameter\": \"value\"}, \"y\": 95}, \"process_id\": \"lte\", \"result\": true}}}}, \"spatial_extent\": {\"crs\": \"EPSG:32631\", \"east\": 665000, \"north\": 5612120, \"south\": 5611120, \"srs\": \"EPSG:32631\", \"west\": 664000}, \"temporal_extent\": [\"2020-11-01\", \"2021-10-31\"]}, \"process_id\": \"load_collection\"}, \"loadcollection2\": {\"arguments\": {\"bands\": [\"VH\", \"VV\"], \"id\": \"SENTINEL1_GRD\", \"spatial_extent\": {\"crs\": \"EPSG:32631\", \"east\": 665000, \"north\": 5612120, \"south\": 5611120, \"srs\": \"EPSG:32631\", \"west\": 664000}, \"temporal_extent\": [\"2020-11-01\", \"2021-10-31\"]}, \"process_id\": \"load_collection\"}, \"loadcollection3\": {\"arguments\": {\"id\": \"COPERNICUS_30\", \"spatial_extent\": {\"crs\": \"EPSG:32631\", \"east\": 665000, \"north\": 5612120, \"south\": 5611120, \"srs\": \"EPSG:32631\", \"west\": 664000}, \"temporal_extent\": null}, \"process_id\": \"load_collection\"}, \"maskscldilation1\": {\"arguments\": {\"data\": {\"from_node\": \"loadcollection1\"}, \"erosion_kernel_size\": 3, \"kernel1_size\": 17, \"kernel2_size\": 77, \"mask1_values\": [2, 4, 5, 6, 7], \"mask2_values\": [3, 8, 9, 10, 11], \"scl_band_name\": \"SCL\"}, \"process_id\": \"mask_scl_dilation\"}, \"mergecubes1\": {\"arguments\": {\"cube1\": {\"from_node\": \"resamplecubespatial1\"}, \"cube2\": {\"from_node\": \"apply2\"}}, \"process_id\": \"merge_cubes\"}, \"mergecubes2\": {\"arguments\": {\"cube1\": {\"from_node\": \"filtertemporal1\"}, \"cube2\": {\"from_node\": \"reducedimension1\"}}, \"process_id\": \"merge_cubes\"}, \"reducedimension1\": {\"arguments\": {\"data\": {\"from_node\": \"loadcollection3\"}, \"dimension\": \"t\", \"reducer\": {\"process_graph\": {\"max1\": {\"arguments\": {\"data\": {\"from_parameter\": \"data\"}}, \"process_id\": \"max\", \"result\": true}}}}, \"process_id\": \"reduce_dimension\"}, \"renamelabels1\": {\"arguments\": {\"data\": {\"from_node\": \"dropdimension1\"}, \"dimension\": \"bands\", \"target\": [\"classification\"]}, \"process_id\": \"rename_labels\"}, \"resamplecubespatial1\": {\"arguments\": {\"data\": {\"from_node\": \"apply1\"}, \"method\": \"near\", \"target\": {\"from_node\": \"apply2\"}}, \"process_id\": \"resample_cube_spatial\"}, \"sarbackscatter1\": {\"arguments\": {\"coefficient\": \"sigma0-ellipsoid\", \"contributing_area\": false, \"data\": {\"from_node\": \"loadcollection2\"}, \"elevation_model\": null, \"ellipsoid_incidence_angle\": false, \"local_incidence_angle\": false, \"mask\": false, \"noise_removal\": true, \"options\": {\"debug\": false, \"elev_geoid\": \"/opt/openeo-vito-aux-data/egm96.tif\", \"implementation_version\": \"2\", \"otb_memory\": 1024, \"tile_size\": 256}}, \"process_id\": \"sar_backscatter\"}, \"saveresult1\": {\"arguments\": {\"data\": {\"from_node\": \"renamelabels1\"}, \"format\": \"netCDF\", \"options\": {}}, \"process_id\": \"save_result\", \"result\": true}}}, \"progress\": 100, \"status\": \"finished\", \"updated\": \"2024-05-29T14:35:43Z\", \"usage\": {\"cpu\": {\"unit\": \"cpu-seconds\", \"value\": 2279.2147497210003}, \"duration\": {\"unit\": \"seconds\", \"value\": 494}, \"input_pixel\": {\"unit\": \"mega-pixel\", \"value\": 33.689186096191406}, \"max_executor_memory\": {\"unit\": \"gb\", \"value\": 8.26120376586914}, \"memory\": {\"unit\": \"mb-seconds\", \"value\": 14238703.402446058}, \"network_received\": {\"unit\": \"b\", \"value\": 65393512166}}}}</script>\n",
       "    </openeo-job>\n",
       "    "
      ],
      "text/plain": [
       "<BatchJob job_id='j-240529fb722145acadced18905706e6e'>"
      ]
     },
     "execution_count": 4,
     "metadata": {},
     "output_type": "execute_result"
    }
   ],
   "source": [
    "from datetime import datetime\n",
    "\n",
    "current_datetime = datetime.now()\n",
    "formatted_datetime = current_datetime.strftime(\"%Y_%m_%d_%H_%M_%S\")\n",
    "outputfile_name = str(formatted_datetime) + '_output_worldcereal.nc'\n",
    "\n",
    "udf = openeo.UDF.from_file(\"udf_worldcereal_inference.py\")\n",
    "\n",
    "prediction = input_cube.apply_neighborhood(\n",
    "    process=udf,\n",
    "    size=[\n",
    "        {\"dimension\": \"x\", \"value\": 100, \"unit\": \"px\"},\n",
    "        {\"dimension\": \"y\", \"value\": 100, \"unit\": \"px\"},\n",
    "    ],\n",
    "    overlap=[\n",
    "        {\"dimension\": \"x\", \"value\": 0, \"unit\": \"px\"},\n",
    "        {\"dimension\": \"y\", \"value\": 0, \"unit\": \"px\"},\n",
    "    ],\n",
    ")\n",
    "\n",
    "prediction = prediction.drop_dimension('t').rename_labels(\"bands\", [\"classification\"])\n",
    "\n",
    "prediction.execute_batch(outputfile = outputfile_name,\n",
    "                        description='world cereal inference',\n",
    "                        job_options={'driver-memory': '4g',\n",
    "                                    'executor-memoryOverhead':'8g'} )"
   ]
  },
  {
   "cell_type": "markdown",
   "id": "1f716b7a",
   "metadata": {},
   "source": [
    "Fetch the output and visualise"
   ]
  },
  {
   "cell_type": "code",
   "execution_count": 5,
   "id": "2cf64980",
   "metadata": {
    "tags": []
   },
   "outputs": [
    {
     "data": {
      "text/plain": [
       "<matplotlib.image.AxesImage at 0x1cad9090620>"
      ]
     },
     "execution_count": 5,
     "metadata": {},
     "output_type": "execute_result"
    },
    {
     "data": {
      "image/png": "[encoded data removed]",
      "text/plain": [
       "<Figure size 640x480 with 1 Axes>"
      ]
     },
     "metadata": {},
     "output_type": "display_data"
    }
   ],
   "source": [
    "import xarray as xr\n",
    "import matplotlib.pyplot as plt\n",
    "\n",
    "output = xr.open_dataset(outputfile_name)\n",
    "plt.imshow(output['classification'])\n",
    "\n"
   ]
  },
  {
   "cell_type": "markdown",
   "id": "a1f68e9d",
   "metadata": {},
   "source": [
    "## Run the Presto UDF"
   ]
  },
  {
   "cell_type": "code",
   "execution_count": 6,
   "id": "20ae2b17",
   "metadata": {},
   "outputs": [
    {
     "name": "stdout",
     "output_type": "stream",
     "text": [
      "0:00:00 Job 'j-240529f3a2b540d583b08b62429bb60b': send 'start'\n",
      "0:00:14 Job 'j-240529f3a2b540d583b08b62429bb60b': created (progress 0%)\n",
      "0:00:19 Job 'j-240529f3a2b540d583b08b62429bb60b': created (progress 0%)\n",
      "0:00:25 Job 'j-240529f3a2b540d583b08b62429bb60b': created (progress 0%)\n",
      "0:00:34 Job 'j-240529f3a2b540d583b08b62429bb60b': created (progress 0%)\n",
      "0:00:44 Job 'j-240529f3a2b540d583b08b62429bb60b': created (progress 0%)\n",
      "0:01:06 Job 'j-240529f3a2b540d583b08b62429bb60b': created (progress 0%)\n",
      "0:01:23 Job 'j-240529f3a2b540d583b08b62429bb60b': running (progress N/A)\n",
      "0:01:42 Job 'j-240529f3a2b540d583b08b62429bb60b': running (progress N/A)\n",
      "0:02:06 Job 'j-240529f3a2b540d583b08b62429bb60b': running (progress N/A)\n",
      "0:02:36 Job 'j-240529f3a2b540d583b08b62429bb60b': running (progress N/A)\n",
      "0:03:14 Job 'j-240529f3a2b540d583b08b62429bb60b': running (progress N/A)\n",
      "0:04:00 Job 'j-240529f3a2b540d583b08b62429bb60b': running (progress N/A)\n",
      "0:04:59 Job 'j-240529f3a2b540d583b08b62429bb60b': running (progress N/A)\n",
      "0:05:59 Job 'j-240529f3a2b540d583b08b62429bb60b': running (progress N/A)\n",
      "0:06:59 Job 'j-240529f3a2b540d583b08b62429bb60b': running (progress N/A)\n",
      "0:08:00 Job 'j-240529f3a2b540d583b08b62429bb60b': running (progress N/A)\n",
      "0:09:00 Job 'j-240529f3a2b540d583b08b62429bb60b': running (progress N/A)\n",
      "0:10:00 Job 'j-240529f3a2b540d583b08b62429bb60b': finished (progress 100%)\n"
     ]
    },
    {
     "data": {
      "text/html": [
       "\n",
       "    <script>\n",
       "    if (!window.customElements || !window.customElements.get('openeo-job')) {\n",
       "        var el = document.createElement('script');\n",
       "        el.src = \"https://cdn.jsdelivr.net/npm/@openeo/vue-components@2/assets/openeo.min.js\";\n",
       "        document.head.appendChild(el);\n",
       "\n",
       "        var font = document.createElement('font');\n",
       "        font.as = \"font\";\n",
       "        font.type = \"font/woff2\";\n",
       "        font.crossOrigin = true;\n",
       "        font.href = \"https://use.fontawesome.com/releases/v5.13.0/webfonts/fa-solid-900.woff2\"\n",
       "        document.head.appendChild(font);\n",
       "    }\n",
       "    </script>\n",
       "    <openeo-job>\n",
       "        <script type=\"application/json\">{\"currency\": \"credits\", \"job\": {\"created\": \"2024-05-29T14:41:08Z\", \"description\": \"world cereal inference\", \"id\": \"j-240529f3a2b540d583b08b62429bb60b\", \"process\": {\"process_graph\": {\"aggregatetemporalperiod1\": {\"arguments\": {\"data\": {\"from_node\": \"filterbands1\"}, \"period\": \"month\", \"reducer\": {\"process_graph\": {\"median1\": {\"arguments\": {\"data\": {\"from_parameter\": \"data\"}}, \"process_id\": \"median\", \"result\": true}}}}, \"process_id\": \"aggregate_temporal_period\"}, \"aggregatetemporalperiod2\": {\"arguments\": {\"data\": {\"from_node\": \"sarbackscatter1\"}, \"period\": \"month\", \"reducer\": {\"process_graph\": {\"mean1\": {\"arguments\": {\"data\": {\"from_parameter\": \"data\"}}, \"process_id\": \"mean\", \"result\": true}}}}, \"process_id\": \"aggregate_temporal_period\"}, \"apply1\": {\"arguments\": {\"data\": {\"from_node\": \"aggregatetemporalperiod1\"}, \"process\": {\"process_graph\": {\"linearscalerange1\": {\"arguments\": {\"inputMax\": 65534, \"inputMin\": 0, \"outputMax\": 65534, \"outputMin\": 0, \"x\": {\"from_parameter\": \"x\"}}, \"process_id\": \"linear_scale_range\", \"result\": true}}}}, \"process_id\": \"apply\"}, \"apply2\": {\"arguments\": {\"data\": {\"from_node\": \"applydimension1\"}, \"process\": {\"process_graph\": {\"linearscalerange2\": {\"arguments\": {\"inputMax\": 65534, \"inputMin\": 1, \"outputMax\": 65534, \"outputMin\": 1, \"x\": {\"from_parameter\": \"x\"}}, \"process_id\": \"linear_scale_range\", \"result\": true}}}}, \"process_id\": \"apply\"}, \"apply3\": {\"arguments\": {\"data\": {\"from_node\": \"mergecubes2\"}, \"process\": {\"process_graph\": {\"linearscalerange3\": {\"arguments\": {\"inputMax\": 65534, \"inputMin\": 0, \"outputMax\": 65534, \"outputMin\": 0, \"x\": {\"from_parameter\": \"x\"}}, \"process_id\": \"linear_scale_range\", \"result\": true}}}}, \"process_id\": \"apply\"}, \"applydimension1\": {\"arguments\": {\"data\": {\"from_node\": \"aggregatetemporalperiod2\"}, \"dimension\": \"bands\", \"process\": {\"process_graph\": {\"add1\": {\"arguments\": {\"x\": {\"from_node\": \"multiply1\"}, \"y\": 83}, \"process_id\": \"add\"}, \"add2\": {\"arguments\": {\"x\": {\"from_node\": \"multiply2\"}, \"y\": 83}, \"process_id\": \"add\"}, \"arraycreate1\": {\"arguments\": {\"data\": [{\"from_node\": \"power1\"}, {\"from_node\": \"power2\"}]}, \"process_id\": \"array_create\", \"result\": true}, \"arrayelement1\": {\"arguments\": {\"data\": {\"from_parameter\": \"data\"}, \"index\": 0}, \"process_id\": \"array_element\"}, \"arrayelement2\": {\"arguments\": {\"data\": {\"from_parameter\": \"data\"}, \"index\": 1}, \"process_id\": \"array_element\"}, \"divide1\": {\"arguments\": {\"x\": {\"from_node\": \"add1\"}, \"y\": 20}, \"process_id\": \"divide\"}, \"divide2\": {\"arguments\": {\"x\": {\"from_node\": \"add2\"}, \"y\": 20}, \"process_id\": \"divide\"}, \"log1\": {\"arguments\": {\"base\": 10, \"x\": {\"from_node\": \"arrayelement1\"}}, \"process_id\": \"log\"}, \"log2\": {\"arguments\": {\"base\": 10, \"x\": {\"from_node\": \"arrayelement2\"}}, \"process_id\": \"log\"}, \"multiply1\": {\"arguments\": {\"x\": 10, \"y\": {\"from_node\": \"log1\"}}, \"process_id\": \"multiply\"}, \"multiply2\": {\"arguments\": {\"x\": 10, \"y\": {\"from_node\": \"log2\"}}, \"process_id\": \"multiply\"}, \"power1\": {\"arguments\": {\"base\": 10, \"p\": {\"from_node\": \"divide1\"}}, \"process_id\": \"power\"}, \"power2\": {\"arguments\": {\"base\": 10, \"p\": {\"from_node\": \"divide2\"}}, \"process_id\": \"power\"}}}}, \"process_id\": \"apply_dimension\"}, \"applyneighborhood1\": {\"arguments\": {\"data\": {\"from_node\": \"apply3\"}, \"overlap\": [{\"dimension\": \"x\", \"unit\": \"px\", \"value\": 0}, {\"dimension\": \"y\", \"unit\": \"px\", \"value\": 0}], \"process\": {\"process_graph\": {\"runudf1\": {\"arguments\": {\"data\": {\"from_parameter\": \"data\"}, \"runtime\": \"Python\", \"udf\": \"import logging\\nimport urllib.request\\nimport shutil\\nfrom pathlib import Path\\nimport sys\\nimport functools\\nimport xarray as xr\\nfrom typing import Dict\\nimport numpy as np\\nfrom pyproj import Transformer\\n\\n\\ndef _setup_logging():\\n    logging.basicConfig(level=logging.INFO)\\n    logger = logging.getLogger(__name__)\\n    return logger\\n\\n@functools.lru_cache(maxsize=25)\\ndef extract_dependencies(base_url: str, dependency_name: str):\\n\\n    # Generate absolute path for the dependencies folder\\n    dependencies_dir = Path.cwd() / 'dependencies'\\n\\n    # Create the directory if it doesn't exist\\n    dependencies_dir.mkdir(exist_ok=True, parents=True)\\n\\n\\n    # Download and extract the model file\\n    modelfile_url = f\\\"{base_url}/{dependency_name}\\\"\\n    modelfile, _ = urllib.request.urlretrieve(modelfile_url, filename=dependencies_dir / Path(modelfile_url).name)\\n    shutil.unpack_archive(modelfile, extract_dir=dependencies_dir)\\n\\n    # Add the model directory to system path if it's not already there\\n    abs_path = str(dependencies_dir / Path(modelfile_url).name.split('.zip')[0])\\n\\n    return(abs_path)\\n\\n\\ndef apply_datacube(cube: xr.DataArray, context:Dict) -> xr.DataArray:\\n    \\n    logger = _setup_logging()\\n    \\n\\n    # The below is required to avoid flipping of the result\\n    # when running on OpenEO backend!\\n    cube = cube.transpose(\\\"bands\\\", \\\"t\\\", \\\"x\\\", \\\"y\\\")\\n\\n    # Handle NaN values in Presto compatible way\\n    cube = cube.fillna(65535)\\n\\n    logger.info(\\\"Unzipping dependencies\\\")\\n    #base_url = \\\"https://artifactory.vgt.vito.be/artifactory/auxdata-public/worldcereal-minimal-inference/\\\"\\n    base_url  = \\\"https://s3.waw3-1.cloudferro.com/swift/v1/project_dependencies\\\"\\n    dependency_name = \\\"wc_presto_onnx_dependencies.zip\\\"\\n\\n    logger.info(\\\"Appending depencency\\\")\\n    dep_dir = extract_dependencies(base_url, dependency_name)\\n    sys.path.append(str(dep_dir))\\n\\n    #directly add a path to the older pandas version\\n    from dependencies.wc_presto_onnx_dependencies.mvp_wc_presto.world_cereal_inference import get_presto_features\\n\\n\\n    logger.info(\\\"Extracting presto features\\\")\\n    PRESTO_PATH = \\\"https://artifactory.vgt.vito.be/artifactory/auxdata-public/worldcereal-minimal-inference/presto.pt\\\"\\n    output = get_presto_features(cube, PRESTO_PATH)\\n\\n \\n    return output\\n\\n\\n\\n\\n\\n\\n\\n\\n\\n\\n\\n\\n\\n\\n\\n\\n\"}, \"process_id\": \"run_udf\", \"result\": true}}}, \"size\": [{\"dimension\": \"x\", \"unit\": \"px\", \"value\": 100}, {\"dimension\": \"y\", \"unit\": \"px\", \"value\": 100}]}, \"process_id\": \"apply_neighborhood\"}, \"dropdimension1\": {\"arguments\": {\"data\": {\"from_node\": \"applyneighborhood1\"}, \"name\": \"t\"}, \"process_id\": \"drop_dimension\"}, \"filterbands1\": {\"arguments\": {\"bands\": [\"B02\", \"B03\", \"B04\", \"B05\", \"B06\", \"B07\", \"B08\", \"B8A\", \"B11\", \"B12\"], \"data\": {\"from_node\": \"maskscldilation1\"}}, \"process_id\": \"filter_bands\"}, \"filtertemporal1\": {\"arguments\": {\"data\": {\"from_node\": \"mergecubes1\"}, \"extent\": [\"2020-11-01\", \"2021-10-31\"]}, \"process_id\": \"filter_temporal\"}, \"loadcollection1\": {\"arguments\": {\"bands\": [\"B02\", \"B03\", \"B04\", \"B05\", \"B06\", \"B07\", \"B08\", \"B8A\", \"B11\", \"B12\", \"SCL\"], \"id\": \"SENTINEL2_L2A\", \"properties\": {\"eo:cloud_cover\": {\"process_graph\": {\"lte1\": {\"arguments\": {\"x\": {\"from_parameter\": \"value\"}, \"y\": 95}, \"process_id\": \"lte\", \"result\": true}}}}, \"spatial_extent\": {\"crs\": \"EPSG:32631\", \"east\": 665000, \"north\": 5612120, \"south\": 5611120, \"srs\": \"EPSG:32631\", \"west\": 664000}, \"temporal_extent\": [\"2020-11-01\", \"2021-10-31\"]}, \"process_id\": \"load_collection\"}, \"loadcollection2\": {\"arguments\": {\"bands\": [\"VH\", \"VV\"], \"id\": \"SENTINEL1_GRD\", \"spatial_extent\": {\"crs\": \"EPSG:32631\", \"east\": 665000, \"north\": 5612120, \"south\": 5611120, \"srs\": \"EPSG:32631\", \"west\": 664000}, \"temporal_extent\": [\"2020-11-01\", \"2021-10-31\"]}, \"process_id\": \"load_collection\"}, \"loadcollection3\": {\"arguments\": {\"id\": \"COPERNICUS_30\", \"spatial_extent\": {\"crs\": \"EPSG:32631\", \"east\": 665000, \"north\": 5612120, \"south\": 5611120, \"srs\": \"EPSG:32631\", \"west\": 664000}, \"temporal_extent\": null}, \"process_id\": \"load_collection\"}, \"maskscldilation1\": {\"arguments\": {\"data\": {\"from_node\": \"loadcollection1\"}, \"erosion_kernel_size\": 3, \"kernel1_size\": 17, \"kernel2_size\": 77, \"mask1_values\": [2, 4, 5, 6, 7], \"mask2_values\": [3, 8, 9, 10, 11], \"scl_band_name\": \"SCL\"}, \"process_id\": \"mask_scl_dilation\"}, \"mergecubes1\": {\"arguments\": {\"cube1\": {\"from_node\": \"resamplecubespatial1\"}, \"cube2\": {\"from_node\": \"apply2\"}}, \"process_id\": \"merge_cubes\"}, \"mergecubes2\": {\"arguments\": {\"cube1\": {\"from_node\": \"filtertemporal1\"}, \"cube2\": {\"from_node\": \"reducedimension1\"}}, \"process_id\": \"merge_cubes\"}, \"reducedimension1\": {\"arguments\": {\"data\": {\"from_node\": \"loadcollection3\"}, \"dimension\": \"t\", \"reducer\": {\"process_graph\": {\"max1\": {\"arguments\": {\"data\": {\"from_parameter\": \"data\"}}, \"process_id\": \"max\", \"result\": true}}}}, \"process_id\": \"reduce_dimension\"}, \"renamelabels1\": {\"arguments\": {\"data\": {\"from_node\": \"dropdimension1\"}, \"dimension\": \"bands\", \"target\": [\"presto_ft_0\", \"presto_ft_1\", \"presto_ft_2\", \"presto_ft_3\", \"presto_ft_4\", \"presto_ft_5\", \"presto_ft_6\", \"presto_ft_7\", \"presto_ft_8\", \"presto_ft_9\", \"presto_ft_10\", \"presto_ft_11\", \"presto_ft_12\", \"presto_ft_13\", \"presto_ft_14\", \"presto_ft_15\", \"presto_ft_16\", \"presto_ft_17\", \"presto_ft_18\", \"presto_ft_19\", \"presto_ft_20\", \"presto_ft_21\", \"presto_ft_22\", \"presto_ft_23\", \"presto_ft_24\", \"presto_ft_25\", \"presto_ft_26\", \"presto_ft_27\", \"presto_ft_28\", \"presto_ft_29\", \"presto_ft_30\", \"presto_ft_31\", \"presto_ft_32\", \"presto_ft_33\", \"presto_ft_34\", \"presto_ft_35\", \"presto_ft_36\", \"presto_ft_37\", \"presto_ft_38\", \"presto_ft_39\", \"presto_ft_40\", \"presto_ft_41\", \"presto_ft_42\", \"presto_ft_43\", \"presto_ft_44\", \"presto_ft_45\", \"presto_ft_46\", \"presto_ft_47\", \"presto_ft_48\", \"presto_ft_49\", \"presto_ft_50\", \"presto_ft_51\", \"presto_ft_52\", \"presto_ft_53\", \"presto_ft_54\", \"presto_ft_55\", \"presto_ft_56\", \"presto_ft_57\", \"presto_ft_58\", \"presto_ft_59\", \"presto_ft_60\", \"presto_ft_61\", \"presto_ft_62\", \"presto_ft_63\", \"presto_ft_64\", \"presto_ft_65\", \"presto_ft_66\", \"presto_ft_67\", \"presto_ft_68\", \"presto_ft_69\", \"presto_ft_70\", \"presto_ft_71\", \"presto_ft_72\", \"presto_ft_73\", \"presto_ft_74\", \"presto_ft_75\", \"presto_ft_76\", \"presto_ft_77\", \"presto_ft_78\", \"presto_ft_79\", \"presto_ft_80\", \"presto_ft_81\", \"presto_ft_82\", \"presto_ft_83\", \"presto_ft_84\", \"presto_ft_85\", \"presto_ft_86\", \"presto_ft_87\", \"presto_ft_88\", \"presto_ft_89\", \"presto_ft_90\", \"presto_ft_91\", \"presto_ft_92\", \"presto_ft_93\", \"presto_ft_94\", \"presto_ft_95\", \"presto_ft_96\", \"presto_ft_97\", \"presto_ft_98\", \"presto_ft_99\", \"presto_ft_100\", \"presto_ft_101\", \"presto_ft_102\", \"presto_ft_103\", \"presto_ft_104\", \"presto_ft_105\", \"presto_ft_106\", \"presto_ft_107\", \"presto_ft_108\", \"presto_ft_109\", \"presto_ft_110\", \"presto_ft_111\", \"presto_ft_112\", \"presto_ft_113\", \"presto_ft_114\", \"presto_ft_115\", \"presto_ft_116\", \"presto_ft_117\", \"presto_ft_118\", \"presto_ft_119\", \"presto_ft_120\", \"presto_ft_121\", \"presto_ft_122\", \"presto_ft_123\", \"presto_ft_124\", \"presto_ft_125\", \"presto_ft_126\", \"presto_ft_127\"]}, \"process_id\": \"rename_labels\"}, \"resamplecubespatial1\": {\"arguments\": {\"data\": {\"from_node\": \"apply1\"}, \"method\": \"near\", \"target\": {\"from_node\": \"apply2\"}}, \"process_id\": \"resample_cube_spatial\"}, \"sarbackscatter1\": {\"arguments\": {\"coefficient\": \"sigma0-ellipsoid\", \"contributing_area\": false, \"data\": {\"from_node\": \"loadcollection2\"}, \"elevation_model\": null, \"ellipsoid_incidence_angle\": false, \"local_incidence_angle\": false, \"mask\": false, \"noise_removal\": true, \"options\": {\"debug\": false, \"elev_geoid\": \"/opt/openeo-vito-aux-data/egm96.tif\", \"implementation_version\": \"2\", \"otb_memory\": 1024, \"tile_size\": 256}}, \"process_id\": \"sar_backscatter\"}, \"saveresult1\": {\"arguments\": {\"data\": {\"from_node\": \"renamelabels1\"}, \"format\": \"netCDF\", \"options\": {}}, \"process_id\": \"save_result\", \"result\": true}}}, \"progress\": 100, \"status\": \"finished\", \"updated\": \"2024-05-29T14:50:25Z\", \"usage\": {\"cpu\": {\"unit\": \"cpu-seconds\", \"value\": 2502.0056979660008}, \"duration\": {\"unit\": \"seconds\", \"value\": 488}, \"input_pixel\": {\"unit\": \"mega-pixel\", \"value\": 33.689186096191406}, \"max_executor_memory\": {\"unit\": \"gb\", \"value\": 7.544384002685547}, \"memory\": {\"unit\": \"mb-seconds\", \"value\": 16326205.035863098}, \"network_received\": {\"unit\": \"b\", \"value\": 66913728626}}}}</script>\n",
       "    </openeo-job>\n",
       "    "
      ],
      "text/plain": [
       "<BatchJob job_id='j-240529f3a2b540d583b08b62429bb60b'>"
      ]
     },
     "execution_count": 6,
     "metadata": {},
     "output_type": "execute_result"
    }
   ],
   "source": [
    "from datetime import datetime\n",
    "\n",
    "current_datetime = datetime.now()\n",
    "formatted_datetime = current_datetime.strftime(\"%Y_%m_%d_%H_%M_%S\")\n",
    "outputfile_name = str(formatted_datetime) + '_output_presto.nc'\n",
    "\n",
    "udf = openeo.UDF.from_file(\"udf_presto.py\")\n",
    "\n",
    "prediction = input_cube.apply_neighborhood(\n",
    "    process=udf,\n",
    "    size=[\n",
    "        {\"dimension\": \"x\", \"value\": 100, \"unit\": \"px\"},\n",
    "        {\"dimension\": \"y\", \"value\": 100, \"unit\": \"px\"},\n",
    "    ],\n",
    "    overlap=[\n",
    "        {\"dimension\": \"x\", \"value\": 0, \"unit\": \"px\"},\n",
    "        {\"dimension\": \"y\", \"value\": 0, \"unit\": \"px\"},\n",
    "    ],\n",
    ")\n",
    "\n",
    "ft_names = [f\"presto_ft_{i}\" for i in range(128)]\n",
    "prediction = prediction.drop_dimension('t').rename_labels(\"bands\", ft_names)\n",
    "\n",
    "prediction.execute_batch(outputfile = outputfile_name,\n",
    "                        description='world cereal inference',\n",
    "                        job_options={'driver-memory': '4g',\n",
    "                                    'executor-memoryOverhead':'8g'} )"
   ]
  },
  {
   "cell_type": "code",
   "execution_count": 11,
   "id": "7b9a580a",
   "metadata": {},
   "outputs": [
    {
     "name": "stdout",
     "output_type": "stream",
     "text": [
      "<xarray.DataArray 'presto_ft_0' (y: 100, x: 100)> Size: 80kB\n",
      "[10000 values with dtype=float64]\n",
      "Coordinates:\n",
      "  * x        (x) float64 800B 6.64e+05 6.64e+05 6.64e+05 ... 6.65e+05 6.65e+05\n",
      "  * y        (y) float64 800B 5.612e+06 5.612e+06 ... 5.611e+06 5.611e+06\n",
      "Attributes:\n",
      "    long_name:     presto_ft_0\n",
      "    units:         \n",
      "    grid_mapping:  crs\n"
     ]
    }
   ],
   "source": [
    "presto = xr.open_dataset(outputfile_name)\n",
    "print(presto['presto_ft_0'])"
   ]
  }
 ],
 "metadata": {
  "kernelspec": {
   "display_name": "Python 3",
   "language": "python",
   "name": "python3"
  },
  "language_info": {
   "codemirror_mode": {
    "name": "ipython",
    "version": 3
   },
   "file_extension": ".py",
   "mimetype": "text/x-python",
   "name": "python",
   "nbconvert_exporter": "python",
   "pygments_lexer": "ipython3",
   "version": "3.12.2"
  }
 },
 "nbformat": 4,
 "nbformat_minor": 5
}
