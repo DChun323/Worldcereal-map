{
 "cells": [
  {
   "cell_type": "markdown",
   "id": "b879f7b4-9a3f-41fc-90d0-ab9cfd25a093",
   "metadata": {},
   "source": [
    "### Make OpenEO connection"
   ]
  },
  {
   "cell_type": "code",
   "execution_count": 1,
   "id": "7c7532bf-5341-4a6e-a81f-85ded18e6a85",
   "metadata": {
    "tags": []
   },
   "outputs": [],
   "source": [
    "%load_ext autoreload\n",
    "%autoreload 2"
   ]
  },
  {
   "cell_type": "code",
   "execution_count": 2,
   "id": "f700773b-a843-4ebe-b6ca-8f805b4ee5bf",
   "metadata": {
    "tags": []
   },
   "outputs": [
    {
     "name": "stdout",
     "output_type": "stream",
     "text": [
      "Authenticated using refresh token.\n"
     ]
    }
   ],
   "source": [
    "import openeo\n",
    "from datetime import datetime  \n",
    "\n",
    "#token SENTINEL\n",
    "connection = openeo.connect(\"https://openeo.dataspace.copernicus.eu/\").authenticate_oidc()"
   ]
  },
  {
   "cell_type": "markdown",
   "id": "5af70a06",
   "metadata": {},
   "source": [
    "Load in Cube without METEO\n"
   ]
  },
  {
   "cell_type": "code",
   "execution_count": 3,
   "id": "5494c46d",
   "metadata": {
    "tags": []
   },
   "outputs": [],
   "source": [
    "#Get desired data\n",
    "from preprocessing import worldcereal_preprocessed_inputs\n",
    "\n",
    "EXTENT = dict(zip([\"west\", \"south\", \"east\", \"north\"], [664000.0, 5611120.0, 665000.0, 5612120.0]))\n",
    "EXTENT['crs'] = \"EPSG:32631\"\n",
    "EXTENT['srs'] = \"EPSG:32631\"\n",
    "\n",
    "STARTDATE = '2020-11-01'\n",
    "ENDDATE = '2021-10-31'\n",
    "\n",
    "#TODO aggregator for including METEO?\n",
    "\n",
    "input_cube = worldcereal_preprocessed_inputs(\n",
    "     connection = connection,\n",
    "     bbox = EXTENT,\n",
    "     start = STARTDATE,\n",
    "     end = ENDDATE,\n",
    "     METEO_collection=None,\n",
    "     S2_collection= \"SENTINEL2_L2A\",\n",
    "     S1_collection= \"SENTINEL1_GRD\",\n",
    "     DEM_collection= \"COPERNICUS_30\"\n",
    ")\n"
   ]
  },
  {
   "cell_type": "markdown",
   "id": "da8d05cd",
   "metadata": {},
   "source": [
    "## Save preprocessed inputs\n",
    "\n",
    "Only required if you want to save the intermediate input cube"
   ]
  },
  {
   "cell_type": "code",
   "execution_count": 12,
   "id": "4aab5695",
   "metadata": {
    "tags": []
   },
   "outputs": [
    {
     "name": "stdout",
     "output_type": "stream",
     "text": [
      "0:00:00 Job 'j-2405213e660a4308ac7c9b6300206ec4': send 'start'\n",
      "0:00:15 Job 'j-2405213e660a4308ac7c9b6300206ec4': created (progress 0%)\n",
      "0:00:21 Job 'j-2405213e660a4308ac7c9b6300206ec4': created (progress 0%)\n",
      "0:00:27 Job 'j-2405213e660a4308ac7c9b6300206ec4': created (progress 0%)\n",
      "0:00:35 Job 'j-2405213e660a4308ac7c9b6300206ec4': running (progress N/A)\n",
      "0:00:45 Job 'j-2405213e660a4308ac7c9b6300206ec4': running (progress N/A)\n",
      "0:00:58 Job 'j-2405213e660a4308ac7c9b6300206ec4': running (progress N/A)\n",
      "0:01:13 Job 'j-2405213e660a4308ac7c9b6300206ec4': running (progress N/A)\n",
      "0:01:33 Job 'j-2405213e660a4308ac7c9b6300206ec4': running (progress N/A)\n",
      "0:01:58 Job 'j-2405213e660a4308ac7c9b6300206ec4': running (progress N/A)\n",
      "0:02:28 Job 'j-2405213e660a4308ac7c9b6300206ec4': running (progress N/A)\n",
      "0:03:06 Job 'j-2405213e660a4308ac7c9b6300206ec4': running (progress N/A)\n",
      "0:03:53 Job 'j-2405213e660a4308ac7c9b6300206ec4': running (progress N/A)\n",
      "0:04:51 Job 'j-2405213e660a4308ac7c9b6300206ec4': running (progress N/A)\n",
      "0:05:52 Job 'j-2405213e660a4308ac7c9b6300206ec4': running (progress N/A)\n",
      "0:06:59 Job 'j-2405213e660a4308ac7c9b6300206ec4': running (progress N/A)\n",
      "0:08:00 Job 'j-2405213e660a4308ac7c9b6300206ec4': running (progress N/A)\n",
      "0:09:01 Job 'j-2405213e660a4308ac7c9b6300206ec4': finished (progress 100%)\n"
     ]
    },
    {
     "data": {
      "text/html": [
       "\n",
       "    <script>\n",
       "    if (!window.customElements || !window.customElements.get('openeo-job')) {\n",
       "        var el = document.createElement('script');\n",
       "        el.src = \"https://cdn.jsdelivr.net/npm/@openeo/vue-components@2/assets/openeo.min.js\";\n",
       "        document.head.appendChild(el);\n",
       "\n",
       "        var font = document.createElement('font');\n",
       "        font.as = \"font\";\n",
       "        font.type = \"font/woff2\";\n",
       "        font.crossOrigin = true;\n",
       "        font.href = \"https://use.fontawesome.com/releases/v5.13.0/webfonts/fa-solid-900.woff2\"\n",
       "        document.head.appendChild(font);\n",
       "    }\n",
       "    </script>\n",
       "    <openeo-job>\n",
       "        <script type=\"application/json\">{\"currency\": \"credits\", \"job\": {\"costs\": 5.0, \"created\": \"2024-05-21T17:52:11Z\", \"description\": \"world cereal data collection\", \"id\": \"j-2405213e660a4308ac7c9b6300206ec4\", \"process\": {\"process_graph\": {\"aggregatetemporalperiod1\": {\"arguments\": {\"data\": {\"from_node\": \"filterbands1\"}, \"period\": \"month\", \"reducer\": {\"process_graph\": {\"median1\": {\"arguments\": {\"data\": {\"from_parameter\": \"data\"}}, \"process_id\": \"median\", \"result\": true}}}}, \"process_id\": \"aggregate_temporal_period\"}, \"aggregatetemporalperiod2\": {\"arguments\": {\"data\": {\"from_node\": \"sarbackscatter1\"}, \"period\": \"month\", \"reducer\": {\"process_graph\": {\"mean1\": {\"arguments\": {\"data\": {\"from_parameter\": \"data\"}}, \"process_id\": \"mean\", \"result\": true}}}}, \"process_id\": \"aggregate_temporal_period\"}, \"apply1\": {\"arguments\": {\"data\": {\"from_node\": \"aggregatetemporalperiod1\"}, \"process\": {\"process_graph\": {\"linearscalerange1\": {\"arguments\": {\"inputMax\": 65534, \"inputMin\": 0, \"outputMax\": 65534, \"outputMin\": 0, \"x\": {\"from_parameter\": \"x\"}}, \"process_id\": \"linear_scale_range\", \"result\": true}}}}, \"process_id\": \"apply\"}, \"apply2\": {\"arguments\": {\"data\": {\"from_node\": \"applydimension1\"}, \"process\": {\"process_graph\": {\"linearscalerange2\": {\"arguments\": {\"inputMax\": 65534, \"inputMin\": 1, \"outputMax\": 65534, \"outputMin\": 1, \"x\": {\"from_parameter\": \"x\"}}, \"process_id\": \"linear_scale_range\", \"result\": true}}}}, \"process_id\": \"apply\"}, \"apply3\": {\"arguments\": {\"data\": {\"from_node\": \"mergecubes2\"}, \"process\": {\"process_graph\": {\"linearscalerange3\": {\"arguments\": {\"inputMax\": 65534, \"inputMin\": 0, \"outputMax\": 65534, \"outputMin\": 0, \"x\": {\"from_parameter\": \"x\"}}, \"process_id\": \"linear_scale_range\", \"result\": true}}}}, \"process_id\": \"apply\"}, \"applydimension1\": {\"arguments\": {\"data\": {\"from_node\": \"aggregatetemporalperiod2\"}, \"dimension\": \"bands\", \"process\": {\"process_graph\": {\"add1\": {\"arguments\": {\"x\": {\"from_node\": \"multiply1\"}, \"y\": 83.0}, \"process_id\": \"add\"}, \"add2\": {\"arguments\": {\"x\": {\"from_node\": \"multiply2\"}, \"y\": 83.0}, \"process_id\": \"add\"}, \"arraycreate1\": {\"arguments\": {\"data\": [{\"from_node\": \"power1\"}, {\"from_node\": \"power2\"}]}, \"process_id\": \"array_create\", \"result\": true}, \"arrayelement1\": {\"arguments\": {\"data\": {\"from_parameter\": \"data\"}, \"index\": 0}, \"process_id\": \"array_element\"}, \"arrayelement2\": {\"arguments\": {\"data\": {\"from_parameter\": \"data\"}, \"index\": 1}, \"process_id\": \"array_element\"}, \"divide1\": {\"arguments\": {\"x\": {\"from_node\": \"add1\"}, \"y\": 20.0}, \"process_id\": \"divide\"}, \"divide2\": {\"arguments\": {\"x\": {\"from_node\": \"add2\"}, \"y\": 20.0}, \"process_id\": \"divide\"}, \"log1\": {\"arguments\": {\"base\": 10, \"x\": {\"from_node\": \"arrayelement1\"}}, \"process_id\": \"log\"}, \"log2\": {\"arguments\": {\"base\": 10, \"x\": {\"from_node\": \"arrayelement2\"}}, \"process_id\": \"log\"}, \"multiply1\": {\"arguments\": {\"x\": 10.0, \"y\": {\"from_node\": \"log1\"}}, \"process_id\": \"multiply\"}, \"multiply2\": {\"arguments\": {\"x\": 10.0, \"y\": {\"from_node\": \"log2\"}}, \"process_id\": \"multiply\"}, \"power1\": {\"arguments\": {\"base\": 10, \"p\": {\"from_node\": \"divide1\"}}, \"process_id\": \"power\"}, \"power2\": {\"arguments\": {\"base\": 10, \"p\": {\"from_node\": \"divide2\"}}, \"process_id\": \"power\"}}}}, \"process_id\": \"apply_dimension\"}, \"filterbands1\": {\"arguments\": {\"bands\": [\"B02\", \"B03\", \"B04\", \"B05\", \"B06\", \"B07\", \"B08\", \"B8A\", \"B11\", \"B12\"], \"data\": {\"from_node\": \"maskscldilation1\"}}, \"process_id\": \"filter_bands\"}, \"filtertemporal1\": {\"arguments\": {\"data\": {\"from_node\": \"mergecubes1\"}, \"extent\": [\"2020-11-01\", \"2021-10-31\"]}, \"process_id\": \"filter_temporal\"}, \"loadcollection1\": {\"arguments\": {\"bands\": [\"B02\", \"B03\", \"B04\", \"B05\", \"B06\", \"B07\", \"B08\", \"B8A\", \"B11\", \"B12\", \"SCL\"], \"id\": \"SENTINEL2_L2A\", \"properties\": {\"eo:cloud_cover\": {\"process_graph\": {\"lte1\": {\"arguments\": {\"x\": {\"from_parameter\": \"value\"}, \"y\": 95}, \"process_id\": \"lte\", \"result\": true}}}}, \"spatial_extent\": {\"crs\": \"EPSG:32631\", \"east\": 665000.0, \"north\": 5612120.0, \"south\": 5611120.0, \"srs\": \"EPSG:32631\", \"west\": 664000.0}, \"temporal_extent\": [\"2020-11-01\", \"2021-10-31\"]}, \"process_id\": \"load_collection\"}, \"loadcollection2\": {\"arguments\": {\"bands\": [\"VH\", \"VV\"], \"id\": \"SENTINEL1_GRD\", \"spatial_extent\": {\"crs\": \"EPSG:32631\", \"east\": 665000.0, \"north\": 5612120.0, \"south\": 5611120.0, \"srs\": \"EPSG:32631\", \"west\": 664000.0}, \"temporal_extent\": [\"2020-11-01\", \"2021-10-31\"]}, \"process_id\": \"load_collection\"}, \"loadcollection3\": {\"arguments\": {\"id\": \"COPERNICUS_30\", \"spatial_extent\": {\"crs\": \"EPSG:32631\", \"east\": 665000.0, \"north\": 5612120.0, \"south\": 5611120.0, \"srs\": \"EPSG:32631\", \"west\": 664000.0}, \"temporal_extent\": null}, \"process_id\": \"load_collection\"}, \"maskscldilation1\": {\"arguments\": {\"data\": {\"from_node\": \"loadcollection1\"}, \"erosion_kernel_size\": 3, \"kernel1_size\": 17, \"kernel2_size\": 77, \"mask1_values\": [2, 4, 5, 6, 7], \"mask2_values\": [3, 8, 9, 10, 11], \"scl_band_name\": \"SCL\"}, \"process_id\": \"mask_scl_dilation\"}, \"mergecubes1\": {\"arguments\": {\"cube1\": {\"from_node\": \"resamplecubespatial1\"}, \"cube2\": {\"from_node\": \"apply2\"}}, \"process_id\": \"merge_cubes\"}, \"mergecubes2\": {\"arguments\": {\"cube1\": {\"from_node\": \"filtertemporal1\"}, \"cube2\": {\"from_node\": \"reducedimension1\"}}, \"process_id\": \"merge_cubes\"}, \"reducedimension1\": {\"arguments\": {\"data\": {\"from_node\": \"loadcollection3\"}, \"dimension\": \"t\", \"reducer\": {\"process_graph\": {\"max1\": {\"arguments\": {\"data\": {\"from_parameter\": \"data\"}}, \"process_id\": \"max\", \"result\": true}}}}, \"process_id\": \"reduce_dimension\"}, \"resamplecubespatial1\": {\"arguments\": {\"data\": {\"from_node\": \"apply1\"}, \"method\": \"near\", \"target\": {\"from_node\": \"apply2\"}}, \"process_id\": \"resample_cube_spatial\"}, \"sarbackscatter1\": {\"arguments\": {\"coefficient\": \"sigma0-ellipsoid\", \"contributing_area\": false, \"data\": {\"from_node\": \"loadcollection2\"}, \"elevation_model\": null, \"ellipsoid_incidence_angle\": false, \"local_incidence_angle\": false, \"mask\": false, \"noise_removal\": true, \"options\": {\"debug\": false, \"elev_geoid\": \"/opt/openeo-vito-aux-data/egm96.tif\", \"implementation_version\": \"2\", \"otb_memory\": 1024, \"tile_size\": 256}}, \"process_id\": \"sar_backscatter\"}, \"saveresult1\": {\"arguments\": {\"data\": {\"from_node\": \"apply3\"}, \"format\": \"netCDF\", \"options\": {}}, \"process_id\": \"save_result\", \"result\": true}}}, \"progress\": 100, \"status\": \"finished\", \"updated\": \"2024-05-21T18:01:01Z\", \"usage\": {\"cpu\": {\"unit\": \"cpu-seconds\", \"value\": 1936.0024623069999}, \"duration\": {\"unit\": \"seconds\", \"value\": 461}, \"input_pixel\": {\"unit\": \"mega-pixel\", \"value\": 33.689186096191406}, \"max_executor_memory\": {\"unit\": \"gb\", \"value\": 2.3695335388183594}, \"memory\": {\"unit\": \"mb-seconds\", \"value\": 13490234.566341145}, \"network_received\": {\"unit\": \"b\", \"value\": 57598498347.0}}}}</script>\n",
       "    </openeo-job>\n",
       "    "
      ],
      "text/plain": [
       "<BatchJob job_id='j-2405213e660a4308ac7c9b6300206ec4'>"
      ]
     },
     "execution_count": 12,
     "metadata": {},
     "output_type": "execute_result"
    }
   ],
   "source": [
    "current_datetime = datetime.now()\n",
    "formatted_datetime = current_datetime.strftime(\"%Y_%m_%d_%H_%M_%S\")\n",
    "outputfile_name = str(formatted_datetime) + '_input_cube_worldCereal.nc'\n",
    "\n",
    "input_cube.execute_batch(outputfile = outputfile_name,\n",
    "                        description='world cereal data collection')"
   ]
  },
  {
   "cell_type": "markdown",
   "id": "bc85fadd",
   "metadata": {},
   "source": [
    "## Run end-to-end inference job\n"
   ]
  },
  {
   "cell_type": "code",
   "execution_count": 149,
   "id": "64d37c40",
   "metadata": {
    "tags": []
   },
   "outputs": [
    {
     "name": "stdout",
     "output_type": "stream",
     "text": [
      "0:00:00 Job 'j-24052404d20b4be09dca30c5a09413da': send 'start'\n",
      "0:00:21 Job 'j-24052404d20b4be09dca30c5a09413da': created (progress 0%)\n",
      "0:00:28 Job 'j-24052404d20b4be09dca30c5a09413da': created (progress 0%)\n",
      "0:00:38 Job 'j-24052404d20b4be09dca30c5a09413da': created (progress 0%)\n",
      "0:00:46 Job 'j-24052404d20b4be09dca30c5a09413da': created (progress 0%)\n",
      "0:01:04 Job 'j-24052404d20b4be09dca30c5a09413da': created (progress 0%)\n",
      "0:01:17 Job 'j-24052404d20b4be09dca30c5a09413da': created (progress 0%)\n",
      "0:01:33 Job 'j-24052404d20b4be09dca30c5a09413da': created (progress 0%)\n",
      "0:01:52 Job 'j-24052404d20b4be09dca30c5a09413da': running (progress N/A)\n",
      "0:02:17 Job 'j-24052404d20b4be09dca30c5a09413da': running (progress N/A)\n",
      "0:02:47 Job 'j-24052404d20b4be09dca30c5a09413da': running (progress N/A)\n",
      "0:03:25 Job 'j-24052404d20b4be09dca30c5a09413da': running (progress N/A)\n",
      "0:04:12 Job 'j-24052404d20b4be09dca30c5a09413da': running (progress N/A)\n",
      "0:05:11 Job 'j-24052404d20b4be09dca30c5a09413da': running (progress N/A)\n",
      "0:06:12 Job 'j-24052404d20b4be09dca30c5a09413da': running (progress N/A)\n",
      "0:07:14 Job 'j-24052404d20b4be09dca30c5a09413da': running (progress N/A)\n",
      "0:08:15 Job 'j-24052404d20b4be09dca30c5a09413da': running (progress N/A)\n",
      "0:09:15 Job 'j-24052404d20b4be09dca30c5a09413da': running (progress N/A)\n",
      "0:10:16 Job 'j-24052404d20b4be09dca30c5a09413da': running (progress N/A)\n",
      "0:11:19 Job 'j-24052404d20b4be09dca30c5a09413da': running (progress N/A)\n",
      "0:12:20 Job 'j-24052404d20b4be09dca30c5a09413da': running (progress N/A)\n",
      "0:13:20 Job 'j-24052404d20b4be09dca30c5a09413da': finished (progress 100%)\n"
     ]
    },
    {
     "data": {
      "text/html": [
       "\n",
       "    <script>\n",
       "    if (!window.customElements || !window.customElements.get('openeo-job')) {\n",
       "        var el = document.createElement('script');\n",
       "        el.src = \"https://cdn.jsdelivr.net/npm/@openeo/vue-components@2/assets/openeo.min.js\";\n",
       "        document.head.appendChild(el);\n",
       "\n",
       "        var font = document.createElement('font');\n",
       "        font.as = \"font\";\n",
       "        font.type = \"font/woff2\";\n",
       "        font.crossOrigin = true;\n",
       "        font.href = \"https://use.fontawesome.com/releases/v5.13.0/webfonts/fa-solid-900.woff2\"\n",
       "        document.head.appendChild(font);\n",
       "    }\n",
       "    </script>\n",
       "    <openeo-job>\n",
       "        <script type=\"application/json\">{\"currency\": \"credits\", \"job\": {\"costs\": 11, \"created\": \"2024-05-24T14:16:01Z\", \"description\": \"world cereal inference\", \"id\": \"j-24052404d20b4be09dca30c5a09413da\", \"process\": {\"process_graph\": {\"aggregatetemporalperiod1\": {\"arguments\": {\"data\": {\"from_node\": \"filterbands1\"}, \"period\": \"month\", \"reducer\": {\"process_graph\": {\"median1\": {\"arguments\": {\"data\": {\"from_parameter\": \"data\"}}, \"process_id\": \"median\", \"result\": true}}}}, \"process_id\": \"aggregate_temporal_period\"}, \"aggregatetemporalperiod2\": {\"arguments\": {\"data\": {\"from_node\": \"sarbackscatter1\"}, \"period\": \"month\", \"reducer\": {\"process_graph\": {\"mean1\": {\"arguments\": {\"data\": {\"from_parameter\": \"data\"}}, \"process_id\": \"mean\", \"result\": true}}}}, \"process_id\": \"aggregate_temporal_period\"}, \"apply1\": {\"arguments\": {\"data\": {\"from_node\": \"aggregatetemporalperiod1\"}, \"process\": {\"process_graph\": {\"linearscalerange1\": {\"arguments\": {\"inputMax\": 65534, \"inputMin\": 0, \"outputMax\": 65534, \"outputMin\": 0, \"x\": {\"from_parameter\": \"x\"}}, \"process_id\": \"linear_scale_range\", \"result\": true}}}}, \"process_id\": \"apply\"}, \"apply2\": {\"arguments\": {\"data\": {\"from_node\": \"applydimension1\"}, \"process\": {\"process_graph\": {\"linearscalerange2\": {\"arguments\": {\"inputMax\": 65534, \"inputMin\": 1, \"outputMax\": 65534, \"outputMin\": 1, \"x\": {\"from_parameter\": \"x\"}}, \"process_id\": \"linear_scale_range\", \"result\": true}}}}, \"process_id\": \"apply\"}, \"apply3\": {\"arguments\": {\"data\": {\"from_node\": \"mergecubes2\"}, \"process\": {\"process_graph\": {\"linearscalerange3\": {\"arguments\": {\"inputMax\": 65534, \"inputMin\": 0, \"outputMax\": 65534, \"outputMin\": 0, \"x\": {\"from_parameter\": \"x\"}}, \"process_id\": \"linear_scale_range\", \"result\": true}}}}, \"process_id\": \"apply\"}, \"applydimension1\": {\"arguments\": {\"data\": {\"from_node\": \"aggregatetemporalperiod2\"}, \"dimension\": \"bands\", \"process\": {\"process_graph\": {\"add1\": {\"arguments\": {\"x\": {\"from_node\": \"multiply1\"}, \"y\": 83}, \"process_id\": \"add\"}, \"add2\": {\"arguments\": {\"x\": {\"from_node\": \"multiply2\"}, \"y\": 83}, \"process_id\": \"add\"}, \"arraycreate1\": {\"arguments\": {\"data\": [{\"from_node\": \"power1\"}, {\"from_node\": \"power2\"}]}, \"process_id\": \"array_create\", \"result\": true}, \"arrayelement1\": {\"arguments\": {\"data\": {\"from_parameter\": \"data\"}, \"index\": 0}, \"process_id\": \"array_element\"}, \"arrayelement2\": {\"arguments\": {\"data\": {\"from_parameter\": \"data\"}, \"index\": 1}, \"process_id\": \"array_element\"}, \"divide1\": {\"arguments\": {\"x\": {\"from_node\": \"add1\"}, \"y\": 20}, \"process_id\": \"divide\"}, \"divide2\": {\"arguments\": {\"x\": {\"from_node\": \"add2\"}, \"y\": 20}, \"process_id\": \"divide\"}, \"log1\": {\"arguments\": {\"base\": 10, \"x\": {\"from_node\": \"arrayelement1\"}}, \"process_id\": \"log\"}, \"log2\": {\"arguments\": {\"base\": 10, \"x\": {\"from_node\": \"arrayelement2\"}}, \"process_id\": \"log\"}, \"multiply1\": {\"arguments\": {\"x\": 10, \"y\": {\"from_node\": \"log1\"}}, \"process_id\": \"multiply\"}, \"multiply2\": {\"arguments\": {\"x\": 10, \"y\": {\"from_node\": \"log2\"}}, \"process_id\": \"multiply\"}, \"power1\": {\"arguments\": {\"base\": 10, \"p\": {\"from_node\": \"divide1\"}}, \"process_id\": \"power\"}, \"power2\": {\"arguments\": {\"base\": 10, \"p\": {\"from_node\": \"divide2\"}}, \"process_id\": \"power\"}}}}, \"process_id\": \"apply_dimension\"}, \"applyneighborhood1\": {\"arguments\": {\"data\": {\"from_node\": \"apply3\"}, \"overlap\": [{\"dimension\": \"x\", \"unit\": \"px\", \"value\": 0}, {\"dimension\": \"y\", \"unit\": \"px\", \"value\": 0}], \"process\": {\"process_graph\": {\"runudf1\": {\"arguments\": {\"data\": {\"from_parameter\": \"data\"}, \"runtime\": \"Python\", \"udf\": \"import functools\\nimport logging\\nimport shutil\\nimport sys\\nimport urllib.request\\nfrom pathlib import Path\\nfrom typing import Dict, Tuple\\n\\nimport numpy as np\\nimport xarray as xr\\nfrom pyproj import Transformer\\n\\n\\ndef _setup_logging():\\n    logging.basicConfig(level=logging.INFO)\\n    logger = logging.getLogger(__name__)\\n    return logger\\n\\n\\n@functools.lru_cache(maxsize=6)\\ndef extract_dependencies(base_url: str, dependency_name: str):\\n\\n    # Generate absolute path for the dependencies folder\\n    dependencies_dir = Path.cwd() / \\\"dependencies\\\"\\n\\n    # Create the directory if it doesn't exist\\n    dependencies_dir.mkdir(exist_ok=True, parents=True)\\n\\n    # Download and extract the model file\\n    modelfile_url = f\\\"{base_url}/{dependency_name}\\\"\\n    modelfile, _ = urllib.request.urlretrieve(\\n        modelfile_url, filename=dependencies_dir / Path(modelfile_url).name\\n    )\\n    shutil.unpack_archive(modelfile, extract_dir=dependencies_dir)\\n\\n    # Add the model directory to system path if it's not already there\\n    abs_path = str(dependencies_dir / Path(modelfile_url).name.split(\\\".zip\\\")[0])  # NOQA\\n\\n    # Append the dependencies\\n    sys.path.append(str(abs_path))\\n    sys.path.append(str(abs_path) + \\\"/pandas\\\")\\n\\n    return\\n\\n\\ndef apply_datacube(cube: xr.DataArray, context: Dict) -> xr.DataArray:\\n\\n    CATBOOST_PATH = \\\"https://artifactory.vgt.vito.be/artifactory/auxdata-public/worldcereal-minimal-inference/wc_catboost.onnx\\\"  # NOQA\\n    PRESTO_PATH = \\\"https://artifactory.vgt.vito.be/artifactory/auxdata-public/worldcereal-minimal-inference/presto.pt\\\"  # NOQA\\n    BASE_URL = \\\"https://s3.waw3-1.cloudferro.com/swift/v1/project_dependencies\\\"  # NOQA\\n    DEPENDENCY_NAME = \\\"wc_presto_onnx_dependencies.zip\\\"\\n\\n    logger = _setup_logging()\\n\\n    # The below is required to avoid flipping of the result\\n    # when running on OpenEO backend!\\n    cube = cube.transpose(\\\"bands\\\", \\\"t\\\", \\\"x\\\", \\\"y\\\")\\n\\n    # Handle NaN values in Presto compatible way\\n    cube = cube.fillna(65535)\\n\\n    # Unzip de dependencies on the backend\\n    logger.info(\\\"Unzipping dependencies\\\")\\n    extract_dependencies(BASE_URL, DEPENDENCY_NAME)\\n\\n    ##########################################################################\\n    import onnxruntime\\n    import requests\\n    import torch\\n    from dependencies.wc_presto_onnx_dependencies.mvp_wc_presto.dataops import (\\n        BANDS,\\n        BANDS_GROUPS_IDX,\\n        NORMED_BANDS,\\n        S1_S2_ERA5_SRTM,\\n        DynamicWorld2020_2021,\\n    )\\n    from dependencies.wc_presto_onnx_dependencies.mvp_wc_presto.masking import (\\n        BAND_EXPANSION,\\n    )\\n    from dependencies.wc_presto_onnx_dependencies.mvp_wc_presto.presto import Presto\\n    from dependencies.wc_presto_onnx_dependencies.mvp_wc_presto.utils import device\\n    from einops import rearrange\\n    from torch.utils.data import DataLoader, TensorDataset\\n\\n    # Index to band groups mapping\\n    IDX_TO_BAND_GROUPS = {\\n        NORMED_BANDS[idx]: band_group_idx\\n        for band_group_idx, (_, val) in enumerate(BANDS_GROUPS_IDX.items())\\n        for idx in val\\n    }\\n\\n    class WorldCerealPredictor:\\n        def __init__(self):\\n            \\\"\\\"\\\"\\n            Initialize an empty WorldCerealPredictor.\\n            \\\"\\\"\\\"\\n            self.onnx_session = None\\n\\n        def load_model(self, model):\\n            \\\"\\\"\\\"\\n            Load an ONNX model from the specified path.\\n\\n            Args:\\n                model_path (str): The path to the ONNX model file.\\n            \\\"\\\"\\\"\\n            # Load the dependency into an InferenceSession\\n            self.onnx_session = onnxruntime.InferenceSession(model)\\n\\n        def predict(self, features: np.ndarray) -> np.ndarray:\\n            \\\"\\\"\\\"\\n            Predicts labels using the provided features DataFrame.\\n\\n            Args:\\n                features (pd.ndarray): 2D array containing the features\\n\\n            Returns:\\n                pd.DataFrame: DataFrame containing the predicted labels.\\n            \\\"\\\"\\\"\\n            if self.onnx_session is None:\\n                raise ValueError(\\n                    \\\"Model has not been loaded. Please load a model first.\\\"\\n                )\\n\\n            # Prepare input data for ONNX model\\n            outputs = self.onnx_session.run(None, {\\\"features\\\": features})\\n\\n            # Threshold for binary conversion\\n            threshold = 0.5\\n\\n            # Extract all prediction values and convert them to binary labels\\n            prediction_values = [sublist[\\\"True\\\"] for sublist in outputs[1]]\\n            binary_labels = np.array(prediction_values) >= threshold\\n            binary_labels = binary_labels.astype(int)\\n\\n            return binary_labels\\n\\n    class PrestoFeatureExtractor:\\n        def __init__(self, model: Presto):\\n            \\\"\\\"\\\"\\n            Initialize the PrestoFeatureExtractor with a Presto model.\\n\\n            Args:\\n                model (Presto): The Presto model used for feature extraction.\\n            \\\"\\\"\\\"\\n            self.model = model\\n\\n        _NODATAVALUE = 65535\\n\\n        BAND_MAPPING = {\\n            \\\"B02\\\": \\\"B2\\\",\\n            \\\"B03\\\": \\\"B3\\\",\\n            \\\"B04\\\": \\\"B4\\\",\\n            \\\"B05\\\": \\\"B5\\\",\\n            \\\"B06\\\": \\\"B6\\\",\\n            \\\"B07\\\": \\\"B7\\\",\\n            \\\"B08\\\": \\\"B8\\\",\\n            \\\"B8A\\\": \\\"B8A\\\",\\n            \\\"B11\\\": \\\"B11\\\",\\n            \\\"B12\\\": \\\"B12\\\",\\n            \\\"VH\\\": \\\"VH\\\",\\n            \\\"VV\\\": \\\"VV\\\",\\n            \\\"precipitation-flux\\\": \\\"total_precipitation\\\",\\n            \\\"temperature-mean\\\": \\\"temperature_2m\\\",\\n        }\\n\\n        @classmethod\\n        def _preprocess_band_values(\\n            cls, values: np.ndarray, presto_band: str\\n        ) -> np.ndarray:\\n            \\\"\\\"\\\"\\n            Preprocesses the band values based on the given presto_val.\\n\\n            Args:\\n                values (np.ndarray): Array of band values to preprocess.\\n                presto_val (str): Name of the band for preprocessing.\\n\\n            Returns:\\n                np.ndarray: Preprocessed array of band values.\\n            \\\"\\\"\\\"\\n            if presto_band in [\\\"VV\\\", \\\"VH\\\"]:\\n                # Convert to dB\\n                values = 20 * np.log10(values) - 83\\n            elif presto_band == \\\"total_precipitation\\\":\\n                # Scale precipitation and convert mm to m\\n                values = values / (100 * 1000.0)\\n            elif presto_band == \\\"temperature_2m\\\":\\n                # Remove scaling\\n                values = values / 100\\n            return values\\n\\n        @classmethod\\n        def _extract_eo_data(cls, inarr: xr.DataArray) -> Tuple[np.ndarray, np.ndarray]:\\n            \\\"\\\"\\\"\\n            Extracts EO data and mask arrays from the input xarray.DataArray.\\n\\n            Args:\\n                inarr (xr.DataArray): Input xarray.DataArray containing EO data.\\n\\n            Returns:\\n                Tuple[np.ndarray, np.ndarray]: Tuple containing EO data array and mask array.\\n            \\\"\\\"\\\"\\n            num_pixels = len(inarr.x) * len(inarr.y)\\n            num_timesteps = len(inarr.t)\\n\\n            eo_data = np.zeros((num_pixels, num_timesteps, len(BANDS)))\\n            mask = np.zeros((num_pixels, num_timesteps, len(BANDS_GROUPS_IDX)))\\n\\n            for org_band, presto_band in cls.BAND_MAPPING.items():\\n                if org_band in inarr.coords[\\\"bands\\\"]:\\n                    values = rearrange(\\n                        inarr.sel(bands=org_band).values, \\\"t x y -> (x y) t\\\"\\n                    )\\n                    idx_valid = values != cls._NODATAVALUE\\n                    values = cls._preprocess_band_values(values, presto_band)\\n                    eo_data[:, :, BANDS.index(presto_band)] = values\\n                    mask[:, :, IDX_TO_BAND_GROUPS[presto_band]] += ~idx_valid\\n\\n            return eo_data, mask\\n\\n        @staticmethod\\n        def _extract_latlons(inarr: xr.DataArray, epsg: int) -> np.ndarray:\\n            \\\"\\\"\\\"\\n            Extracts latitudes and longitudes from the input xarray.DataArray.\\n\\n            Args:\\n                inarr (xr.DataArray): Input xarray.DataArray containing spatial coordinates.\\n                epsg (int): EPSG code for coordinate reference system.\\n\\n            Returns:\\n                np.ndarray: Array containing extracted latitudes and longitudes.\\n            \\\"\\\"\\\"\\n            # EPSG:4326 is the supported crs for presto\\n            lon, lat = np.meshgrid(inarr.x, inarr.y)\\n            transformer = Transformer.from_crs(\\n                f\\\"EPSG:{epsg}\\\", \\\"EPSG:4326\\\", always_xy=True\\n            )\\n            lon, lat = transformer.transform(lon, lat)\\n            latlons = rearrange(np.stack([lat, lon]), \\\"c x y -> (x y) c\\\")\\n\\n            #  2D array where each row represents a pair of latitude and longitude coordinates.\\n            return latlons\\n\\n        @staticmethod\\n        def _extract_months(inarr: xr.DataArray) -> np.ndarray:\\n            \\\"\\\"\\\"\\n            Calculate the start month based on the first timestamp in the input array,\\n            and create an array of the same length filled with that start month value.\\n\\n            Parameters:\\n            - inarr: xarray.DataArray or numpy.ndarray\\n                Input array containing timestamps.\\n\\n            Returns:\\n            - months: numpy.ndarray\\n                Array of start month values, with the same length as the input array.\\n            \\\"\\\"\\\"\\n            num_instances = len(inarr.x) * len(inarr.y)\\n\\n            start_month = (\\n                inarr.t.values[0].astype(\\\"datetime64[M]\\\").astype(int) % 12 + 1\\n            ) - 1\\n\\n            months = np.ones((num_instances)) * start_month\\n            return months\\n\\n        def _create_dataloader(\\n            self,\\n            eo: np.ndarray,\\n            dynamic_world: np.ndarray,\\n            months: np.ndarray,\\n            latlons: np.ndarray,\\n            mask: np.ndarray,\\n        ) -> DataLoader:\\n            \\\"\\\"\\\"\\n            Create a PyTorch DataLoader for encoding features.\\n\\n            Args:\\n                eo_data (np.ndarray): Array containing Earth Observation data.\\n                dynamic_world (np.ndarray): Array containing dynamic world data.\\n                latlons (np.ndarray): Array containing latitude and longitude coordinates.\\n                inarr (xr.DataArray): Input xarray.DataArray.\\n                mask (np.ndarray): Array containing masking data.\\n\\n            Returns:\\n                DataLoader: PyTorch DataLoader for encoding features.\\n            \\\"\\\"\\\"\\n\\n            dl = DataLoader(\\n                TensorDataset(\\n                    torch.from_numpy(eo).float(),\\n                    torch.from_numpy(dynamic_world).long(),\\n                    torch.from_numpy(latlons).float(),\\n                    torch.from_numpy(months).long(),\\n                    torch.from_numpy(mask).float(),\\n                ),\\n                batch_size=8192,\\n                shuffle=False,\\n            )\\n\\n            return dl\\n\\n        def _create_presto_input(\\n            cls, inarr: xr.DataArray, epsg: int = 4326\\n        ) -> Tuple[np.ndarray, np.ndarray, np.ndarray, np.ndarray, np.ndarray]:\\n            eo_data, mask = cls._extract_eo_data(inarr)\\n            latlons = cls._extract_latlons(inarr, epsg)\\n            months = cls._extract_months(inarr)\\n            dynamic_world = np.ones((eo_data.shape[0], eo_data.shape[1])) * (\\n                DynamicWorld2020_2021.class_amount\\n            )\\n\\n            return (\\n                S1_S2_ERA5_SRTM.normalize(eo_data),\\n                dynamic_world,\\n                months,\\n                latlons,\\n                np.repeat(mask, BAND_EXPANSION, axis=-1),\\n            )\\n\\n        def _get_encodings(self, dl: DataLoader) -> np.ndarray:\\n            \\\"\\\"\\\"\\n            Get encodings from DataLoader.\\n\\n            Args:\\n                dl (DataLoader): PyTorch DataLoader containing data for encoding.\\n\\n            Returns:\\n                np.ndarray: Array containing encoded features.\\n            \\\"\\\"\\\"\\n\\n            all_encodings = []\\n\\n            for x, dw, latlons, month, variable_mask in dl:\\n                x_f, dw_f, latlons_f, month_f, variable_mask_f = [\\n                    t.to(device) for t in (x, dw, latlons, month, variable_mask)\\n                ]\\n\\n                with torch.no_grad():\\n                    encodings = (\\n                        self.model.encoder(\\n                            x_f,\\n                            dynamic_world=dw_f.long(),\\n                            mask=variable_mask_f,\\n                            latlons=latlons_f,\\n                            month=month_f,\\n                        )\\n                        .cpu()\\n                        .numpy()\\n                    )\\n\\n                all_encodings.append(encodings)\\n\\n            return np.concatenate(all_encodings, axis=0)\\n\\n        def extract_presto_features(\\n            self, inarr: xr.DataArray, epsg: int = 4326\\n        ) -> np.ndarray:\\n            eo, dynamic_world, months, latlons, mask = self._create_presto_input(\\n                inarr, epsg\\n            )\\n            dl = self._create_dataloader(eo, dynamic_world, months, latlons, mask)\\n\\n            features = self._get_encodings(dl)\\n            features = rearrange(\\n                features, \\\"(x y) c -> x y c\\\", x=len(inarr.x), y=len(inarr.y)\\n            )\\n            ft_names = [f\\\"presto_ft_{i}\\\" for i in range(128)]\\n            features = xr.DataArray(\\n                features,\\n                coords={\\\"x\\\": inarr.x, \\\"y\\\": inarr.y, \\\"bands\\\": ft_names},\\n                dims=[\\\"x\\\", \\\"y\\\", \\\"bands\\\"],\\n            )\\n\\n            return features\\n\\n    def get_presto_features(inarr: xr.DataArray, presto_path: str) -> np.ndarray:\\n        \\\"\\\"\\\"\\n        Extracts features from input data using Presto.\\n\\n        Args:\\n            inarr (xr.DataArray): Input data as xarray DataArray.\\n            presto_path (str): Path to the pretrained Presto model.\\n\\n        Returns:\\n            xr.DataArray: Extracted features as xarray DataArray.\\n        \\\"\\\"\\\"\\n        # Load the model\\n\\n        presto_model = Presto.load_pretrained_artifactory(\\n            presto_url=presto_path, strict=False\\n        )\\n        presto_extractor = PrestoFeatureExtractor(presto_model)\\n        features = presto_extractor.extract_presto_features(inarr, epsg=32631)\\n        return features\\n\\n    def classify_with_catboost(\\n        features: xr.DataArray, catboost_path: str\\n    ) -> np.ndarray:\\n        \\\"\\\"\\\"\\n        Classifies features using the WorldCereal CatBoost model.\\n\\n        Args:\\n            features (xr.DataArray): Features to be classified [x, y, fts]\\n            map_dims (tuple): Original x, y dimensions of the input data.\\n            model_path (str): Path to the trained CatBoost model.\\n\\n        Returns:\\n            xr.DataArray: Classified data as xarray DataArray.\\n        \\\"\\\"\\\"\\n\\n        # Stack the features and transpose for feeding to CatBoost\\n        stacked_features = features.stack(xy=[\\\"x\\\", \\\"y\\\"]).transpose()\\n\\n        predictor = WorldCerealPredictor()\\n        response = requests.get(catboost_path)\\n        catboost_model = response.content\\n\\n        predictor.load_model(catboost_model)\\n        predictions = predictor.predict(stacked_features.values)\\n\\n        predictions = (\\n            xr.DataArray(predictions, coords={\\\"xy\\\": stacked_features.xy}, dims=[\\\"xy\\\"])\\n            .unstack()\\n            .expand_dims(dim=\\\"bands\\\")\\n        )\\n\\n        return predictions\\n\\n    ###################################################################################################################\\n\\n    # Run presto feature extraction\\n    logger.info(\\\"Extracting presto features\\\")\\n    features = get_presto_features(cube, PRESTO_PATH)\\n\\n    # Run catboost classification\\n    logger.info(\\\"Catboost classification\\\")\\n    classification = classify_with_catboost(features, CATBOOST_PATH)\\n\\n    # Add time dimension\\n    classification = classification.expand_dims(dim=\\\"t\\\")\\n\\n    return classification\\n\"}, \"process_id\": \"run_udf\", \"result\": true}}}, \"size\": [{\"dimension\": \"x\", \"unit\": \"px\", \"value\": 100}, {\"dimension\": \"y\", \"unit\": \"px\", \"value\": 100}]}, \"process_id\": \"apply_neighborhood\"}, \"dropdimension1\": {\"arguments\": {\"data\": {\"from_node\": \"applyneighborhood1\"}, \"name\": \"t\"}, \"process_id\": \"drop_dimension\"}, \"filterbands1\": {\"arguments\": {\"bands\": [\"B02\", \"B03\", \"B04\", \"B05\", \"B06\", \"B07\", \"B08\", \"B8A\", \"B11\", \"B12\"], \"data\": {\"from_node\": \"maskscldilation1\"}}, \"process_id\": \"filter_bands\"}, \"filtertemporal1\": {\"arguments\": {\"data\": {\"from_node\": \"mergecubes1\"}, \"extent\": [\"2020-11-01\", \"2021-10-31\"]}, \"process_id\": \"filter_temporal\"}, \"loadcollection1\": {\"arguments\": {\"bands\": [\"B02\", \"B03\", \"B04\", \"B05\", \"B06\", \"B07\", \"B08\", \"B8A\", \"B11\", \"B12\", \"SCL\"], \"id\": \"SENTINEL2_L2A\", \"properties\": {\"eo:cloud_cover\": {\"process_graph\": {\"lte1\": {\"arguments\": {\"x\": {\"from_parameter\": \"value\"}, \"y\": 95}, \"process_id\": \"lte\", \"result\": true}}}}, \"spatial_extent\": {\"crs\": \"EPSG:32631\", \"east\": 665000, \"north\": 5612120, \"south\": 5611120, \"srs\": \"EPSG:32631\", \"west\": 664000}, \"temporal_extent\": [\"2020-11-01\", \"2021-10-31\"]}, \"process_id\": \"load_collection\"}, \"loadcollection2\": {\"arguments\": {\"bands\": [\"VH\", \"VV\"], \"id\": \"SENTINEL1_GRD\", \"spatial_extent\": {\"crs\": \"EPSG:32631\", \"east\": 665000, \"north\": 5612120, \"south\": 5611120, \"srs\": \"EPSG:32631\", \"west\": 664000}, \"temporal_extent\": [\"2020-11-01\", \"2021-10-31\"]}, \"process_id\": \"load_collection\"}, \"loadcollection3\": {\"arguments\": {\"id\": \"COPERNICUS_30\", \"spatial_extent\": {\"crs\": \"EPSG:32631\", \"east\": 665000, \"north\": 5612120, \"south\": 5611120, \"srs\": \"EPSG:32631\", \"west\": 664000}, \"temporal_extent\": null}, \"process_id\": \"load_collection\"}, \"maskscldilation1\": {\"arguments\": {\"data\": {\"from_node\": \"loadcollection1\"}, \"erosion_kernel_size\": 3, \"kernel1_size\": 17, \"kernel2_size\": 77, \"mask1_values\": [2, 4, 5, 6, 7], \"mask2_values\": [3, 8, 9, 10, 11], \"scl_band_name\": \"SCL\"}, \"process_id\": \"mask_scl_dilation\"}, \"mergecubes1\": {\"arguments\": {\"cube1\": {\"from_node\": \"resamplecubespatial1\"}, \"cube2\": {\"from_node\": \"apply2\"}}, \"process_id\": \"merge_cubes\"}, \"mergecubes2\": {\"arguments\": {\"cube1\": {\"from_node\": \"filtertemporal1\"}, \"cube2\": {\"from_node\": \"reducedimension1\"}}, \"process_id\": \"merge_cubes\"}, \"reducedimension1\": {\"arguments\": {\"data\": {\"from_node\": \"loadcollection3\"}, \"dimension\": \"t\", \"reducer\": {\"process_graph\": {\"max1\": {\"arguments\": {\"data\": {\"from_parameter\": \"data\"}}, \"process_id\": \"max\", \"result\": true}}}}, \"process_id\": \"reduce_dimension\"}, \"renamelabels1\": {\"arguments\": {\"data\": {\"from_node\": \"dropdimension1\"}, \"dimension\": \"bands\", \"target\": [\"classification\"]}, \"process_id\": \"rename_labels\"}, \"resamplecubespatial1\": {\"arguments\": {\"data\": {\"from_node\": \"apply1\"}, \"method\": \"near\", \"target\": {\"from_node\": \"apply2\"}}, \"process_id\": \"resample_cube_spatial\"}, \"sarbackscatter1\": {\"arguments\": {\"coefficient\": \"sigma0-ellipsoid\", \"contributing_area\": false, \"data\": {\"from_node\": \"loadcollection2\"}, \"elevation_model\": null, \"ellipsoid_incidence_angle\": false, \"local_incidence_angle\": false, \"mask\": false, \"noise_removal\": true, \"options\": {\"debug\": false, \"elev_geoid\": \"/opt/openeo-vito-aux-data/egm96.tif\", \"implementation_version\": \"2\", \"otb_memory\": 1024, \"tile_size\": 256}}, \"process_id\": \"sar_backscatter\"}, \"saveresult1\": {\"arguments\": {\"data\": {\"from_node\": \"renamelabels1\"}, \"format\": \"netCDF\", \"options\": {}}, \"process_id\": \"save_result\", \"result\": true}}}, \"progress\": 100, \"status\": \"finished\", \"updated\": \"2024-05-24T14:29:11Z\", \"usage\": {\"cpu\": {\"unit\": \"cpu-seconds\", \"value\": 2682.7169807719997}, \"duration\": {\"unit\": \"seconds\", \"value\": 737}, \"input_pixel\": {\"unit\": \"mega-pixel\", \"value\": 33.689186096191406}, \"max_executor_memory\": {\"unit\": \"gb\", \"value\": 8.659477233886719}, \"memory\": {\"unit\": \"mb-seconds\", \"value\": 32168083.628875118}, \"network_received\": {\"unit\": \"b\", \"value\": 68640490951}}}}</script>\n",
       "    </openeo-job>\n",
       "    "
      ],
      "text/plain": [
       "<BatchJob job_id='j-24052404d20b4be09dca30c5a09413da'>"
      ]
     },
     "execution_count": 149,
     "metadata": {},
     "output_type": "execute_result"
    }
   ],
   "source": [
    "from datetime import datetime\n",
    "\n",
    "current_datetime = datetime.now()\n",
    "formatted_datetime = current_datetime.strftime(\"%Y_%m_%d_%H_%M_%S\")\n",
    "outputfile_name = str(formatted_datetime) + '_output_presto.nc'\n",
    "\n",
    "udf = openeo.UDF.from_file(\"udf_long_worldcereal_inference.py\")\n",
    "\n",
    "prediction = input_cube.apply_neighborhood(\n",
    "    process=udf,\n",
    "    size=[\n",
    "        {\"dimension\": \"x\", \"value\": 100, \"unit\": \"px\"},\n",
    "        {\"dimension\": \"y\", \"value\": 100, \"unit\": \"px\"},\n",
    "    ],\n",
    "    overlap=[\n",
    "        {\"dimension\": \"x\", \"value\": 0, \"unit\": \"px\"},\n",
    "        {\"dimension\": \"y\", \"value\": 0, \"unit\": \"px\"},\n",
    "    ],\n",
    ")\n",
    "\n",
    "prediction = prediction.drop_dimension('t').rename_labels(\"bands\", [\"classification\"])\n",
    "\n",
    "prediction.execute_batch(outputfile = outputfile_name,\n",
    "                        description='world cereal inference',\n",
    "                        job_options={'driver-memory': '4g',\n",
    "                                    'executor-memoryOverhead':'8g'} )"
   ]
  },
  {
   "cell_type": "markdown",
   "id": "1f716b7a",
   "metadata": {},
   "source": [
    "Fetch the output and visualise"
   ]
  },
  {
   "cell_type": "code",
   "execution_count": 152,
   "id": "2cf64980",
   "metadata": {
    "tags": []
   },
   "outputs": [
    {
     "data": {
      "text/plain": [
       "<matplotlib.image.AxesImage at 0x7f899c867df0>"
      ]
     },
     "execution_count": 152,
     "metadata": {},
     "output_type": "execute_result"
    },
    {
     "data": {
      "image/png": "[encoded data removed]",
      "text/plain": [
       "<Figure size 640x480 with 1 Axes>"
      ]
     },
     "metadata": {},
     "output_type": "display_data"
    }
   ],
   "source": [
    "import xarray as xr\n",
    "import matplotlib.pyplot as plt\n",
    "\n",
    "output = xr.open_dataset('2024_05_24_16_16_00_output_presto.nc')\n",
    "plt.imshow(output['classification'])\n",
    "\n"
   ]
  }
 ],
 "metadata": {
  "kernelspec": {
   "display_name": "worldcereal",
   "language": "python",
   "name": "worldcereal"
  },
  "language_info": {
   "codemirror_mode": {
    "name": "ipython",
    "version": 3
   },
   "file_extension": ".py",
   "mimetype": "text/x-python",
   "name": "python",
   "nbconvert_exporter": "python",
   "pygments_lexer": "ipython3",
   "version": "3.10.12"
  }
 },
 "nbformat": 4,
 "nbformat_minor": 5
}
