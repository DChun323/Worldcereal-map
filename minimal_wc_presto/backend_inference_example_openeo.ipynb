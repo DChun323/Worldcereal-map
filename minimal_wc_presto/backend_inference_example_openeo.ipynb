{
 "cells": [
  {
   "cell_type": "markdown",
   "id": "b879f7b4-9a3f-41fc-90d0-ab9cfd25a093",
   "metadata": {},
   "source": [
    "### Make OpenEO connection"
   ]
  },
  {
   "cell_type": "code",
   "execution_count": 1,
   "id": "f700773b-a843-4ebe-b6ca-8f805b4ee5bf",
   "metadata": {
    "tags": []
   },
   "outputs": [
    {
     "name": "stdout",
     "output_type": "stream",
     "text": [
      "Authenticated using refresh token.\n"
     ]
    }
   ],
   "source": [
    "import openeo\n",
    "from datetime import datetime  \n",
    "\n",
    "\n",
    "\n",
    "#token SENTINEL\n",
    "connection = openeo.connect(\"https://openeo.dataspace.copernicus.eu/\").authenticate_oidc()"
   ]
  },
  {
   "cell_type": "markdown",
   "id": "5af70a06",
   "metadata": {},
   "source": [
    "Load in Cube without METEO\n"
   ]
  },
  {
   "cell_type": "code",
   "execution_count": 2,
   "id": "5494c46d",
   "metadata": {},
   "outputs": [],
   "source": [
    "#Get desired data\n",
    "from preprocessing import worldcereal_preprocessed_inputs\n",
    "\n",
    "EXTENT = dict(zip([\"west\", \"south\", \"east\", \"north\"], [664000.0, 5611120.0, 665000.0, 5612120.0]))\n",
    "EXTENT['crs'] = \"EPSG:32631\"\n",
    "\n",
    "STARTDATE = '2020-11-01'\n",
    "ENDDATE = '2021-10-31'\n",
    "\n",
    "#TODO aggregator for including METEO?\n",
    "\n",
    "input_cube = worldcereal_preprocessed_inputs(\n",
    "     connection = connection,\n",
    "     bbox = EXTENT,\n",
    "     start = STARTDATE,\n",
    "     end = ENDDATE,\n",
    "     METEO_collection=None,\n",
    "     S2_collection= \"SENTINEL2_L2A\",\n",
    "     S1_collection= \"SENTINEL1_GRD\",\n",
    "     DEM_collection= \"COPERNICUS_30\"\n",
    ")\n"
   ]
  },
  {
   "cell_type": "markdown",
   "id": "da8d05cd",
   "metadata": {},
   "source": [
    "Save the input cube"
   ]
  },
  {
   "cell_type": "code",
   "execution_count": 3,
   "id": "4aab5695",
   "metadata": {},
   "outputs": [
    {
     "name": "stdout",
     "output_type": "stream",
     "text": [
      "0:00:00 Job 'j-2405225aa91d4f9c986e314482d61a1b': send 'start'\n"
     ]
    },
    {
     "ename": "KeyboardInterrupt",
     "evalue": "",
     "output_type": "error",
     "traceback": [
      "\u001b[1;31m---------------------------------------------------------------------------\u001b[0m",
      "\u001b[1;31mKeyboardInterrupt\u001b[0m                         Traceback (most recent call last)",
      "Cell \u001b[1;32mIn[3], line 5\u001b[0m\n\u001b[0;32m      2\u001b[0m formatted_datetime \u001b[38;5;241m=\u001b[39m current_datetime\u001b[38;5;241m.\u001b[39mstrftime(\u001b[38;5;124m\"\u001b[39m\u001b[38;5;124m%\u001b[39m\u001b[38;5;124mY_\u001b[39m\u001b[38;5;124m%\u001b[39m\u001b[38;5;124mm_\u001b[39m\u001b[38;5;132;01m%d\u001b[39;00m\u001b[38;5;124m_\u001b[39m\u001b[38;5;124m%\u001b[39m\u001b[38;5;124mH_\u001b[39m\u001b[38;5;124m%\u001b[39m\u001b[38;5;124mM_\u001b[39m\u001b[38;5;124m%\u001b[39m\u001b[38;5;124mS\u001b[39m\u001b[38;5;124m\"\u001b[39m)\n\u001b[0;32m      3\u001b[0m outputfile_name \u001b[38;5;241m=\u001b[39m \u001b[38;5;28mstr\u001b[39m(formatted_datetime) \u001b[38;5;241m+\u001b[39m \u001b[38;5;124m'\u001b[39m\u001b[38;5;124m_input_cube_worldCereal.nc\u001b[39m\u001b[38;5;124m'\u001b[39m\n\u001b[1;32m----> 5\u001b[0m \u001b[43minput_cube\u001b[49m\u001b[38;5;241;43m.\u001b[39;49m\u001b[43mexecute_batch\u001b[49m\u001b[43m(\u001b[49m\u001b[43moutputfile\u001b[49m\u001b[43m \u001b[49m\u001b[38;5;241;43m=\u001b[39;49m\u001b[43m \u001b[49m\u001b[43moutputfile_name\u001b[49m\u001b[43m,\u001b[49m\n\u001b[0;32m      6\u001b[0m \u001b[43m                        \u001b[49m\u001b[43mdescription\u001b[49m\u001b[38;5;241;43m=\u001b[39;49m\u001b[38;5;124;43m'\u001b[39;49m\u001b[38;5;124;43mworld cereal data collection\u001b[39;49m\u001b[38;5;124;43m'\u001b[39;49m\u001b[43m)\u001b[49m\n",
      "File \u001b[1;32mc:\\Users\\VROMPAYH\\AppData\\Local\\anaconda3\\envs\\wc_presto\\Lib\\site-packages\\openeo\\rest\\datacube.py:2227\u001b[0m, in \u001b[0;36mDataCube.execute_batch\u001b[1;34m(self, outputfile, out_format, print, max_poll_interval, connection_retry_interval, job_options, validate, **format_options)\u001b[0m\n\u001b[0;32m   2224\u001b[0m     out_format \u001b[38;5;241m=\u001b[39m guess_format(outputfile)\n\u001b[0;32m   2226\u001b[0m job \u001b[38;5;241m=\u001b[39m \u001b[38;5;28mself\u001b[39m\u001b[38;5;241m.\u001b[39mcreate_job(out_format\u001b[38;5;241m=\u001b[39mout_format, job_options\u001b[38;5;241m=\u001b[39mjob_options, validate\u001b[38;5;241m=\u001b[39mvalidate, \u001b[38;5;241m*\u001b[39m\u001b[38;5;241m*\u001b[39mformat_options)\n\u001b[1;32m-> 2227\u001b[0m \u001b[38;5;28;01mreturn\u001b[39;00m \u001b[43mjob\u001b[49m\u001b[38;5;241;43m.\u001b[39;49m\u001b[43mrun_synchronous\u001b[49m\u001b[43m(\u001b[49m\n\u001b[0;32m   2228\u001b[0m \u001b[43m    \u001b[49m\u001b[43moutputfile\u001b[49m\u001b[38;5;241;43m=\u001b[39;49m\u001b[43moutputfile\u001b[49m\u001b[43m,\u001b[49m\n\u001b[0;32m   2229\u001b[0m \u001b[43m    \u001b[49m\u001b[38;5;28;43mprint\u001b[39;49m\u001b[38;5;241;43m=\u001b[39;49m\u001b[38;5;28;43mprint\u001b[39;49m\u001b[43m,\u001b[49m\u001b[43m \u001b[49m\u001b[43mmax_poll_interval\u001b[49m\u001b[38;5;241;43m=\u001b[39;49m\u001b[43mmax_poll_interval\u001b[49m\u001b[43m,\u001b[49m\u001b[43m \u001b[49m\u001b[43mconnection_retry_interval\u001b[49m\u001b[38;5;241;43m=\u001b[39;49m\u001b[43mconnection_retry_interval\u001b[49m\n\u001b[0;32m   2230\u001b[0m \u001b[43m\u001b[49m\u001b[43m)\u001b[49m\n",
      "File \u001b[1;32mc:\\Users\\VROMPAYH\\AppData\\Local\\anaconda3\\envs\\wc_presto\\Lib\\site-packages\\openeo\\rest\\job.py:239\u001b[0m, in \u001b[0;36mBatchJob.run_synchronous\u001b[1;34m(self, outputfile, print, max_poll_interval, connection_retry_interval)\u001b[0m\n\u001b[0;32m    234\u001b[0m \u001b[38;5;28;01mdef\u001b[39;00m \u001b[38;5;21mrun_synchronous\u001b[39m(\n\u001b[0;32m    235\u001b[0m         \u001b[38;5;28mself\u001b[39m, outputfile: Union[\u001b[38;5;28mstr\u001b[39m, Path, \u001b[38;5;28;01mNone\u001b[39;00m] \u001b[38;5;241m=\u001b[39m \u001b[38;5;28;01mNone\u001b[39;00m,\n\u001b[0;32m    236\u001b[0m         \u001b[38;5;28mprint\u001b[39m\u001b[38;5;241m=\u001b[39m\u001b[38;5;28mprint\u001b[39m, max_poll_interval\u001b[38;5;241m=\u001b[39m\u001b[38;5;241m60\u001b[39m, connection_retry_interval\u001b[38;5;241m=\u001b[39m\u001b[38;5;241m30\u001b[39m\n\u001b[0;32m    237\u001b[0m ) \u001b[38;5;241m-\u001b[39m\u001b[38;5;241m>\u001b[39m BatchJob:\n\u001b[0;32m    238\u001b[0m \u001b[38;5;250m    \u001b[39m\u001b[38;5;124;03m\"\"\"Start the job, wait for it to finish and download result\"\"\"\u001b[39;00m\n\u001b[1;32m--> 239\u001b[0m     \u001b[38;5;28;43mself\u001b[39;49m\u001b[38;5;241;43m.\u001b[39;49m\u001b[43mstart_and_wait\u001b[49m\u001b[43m(\u001b[49m\n\u001b[0;32m    240\u001b[0m \u001b[43m        \u001b[49m\u001b[38;5;28;43mprint\u001b[39;49m\u001b[38;5;241;43m=\u001b[39;49m\u001b[38;5;28;43mprint\u001b[39;49m\u001b[43m,\u001b[49m\u001b[43m \u001b[49m\u001b[43mmax_poll_interval\u001b[49m\u001b[38;5;241;43m=\u001b[39;49m\u001b[43mmax_poll_interval\u001b[49m\u001b[43m,\u001b[49m\u001b[43m \u001b[49m\u001b[43mconnection_retry_interval\u001b[49m\u001b[38;5;241;43m=\u001b[39;49m\u001b[43mconnection_retry_interval\u001b[49m\n\u001b[0;32m    241\u001b[0m \u001b[43m    \u001b[49m\u001b[43m)\u001b[49m\n\u001b[0;32m    242\u001b[0m     \u001b[38;5;66;03m# TODO #135 support multi file result sets too?\u001b[39;00m\n\u001b[0;32m    243\u001b[0m     \u001b[38;5;28;01mif\u001b[39;00m outputfile \u001b[38;5;129;01mis\u001b[39;00m \u001b[38;5;129;01mnot\u001b[39;00m \u001b[38;5;28;01mNone\u001b[39;00m:\n",
      "File \u001b[1;32mc:\\Users\\VROMPAYH\\AppData\\Local\\anaconda3\\envs\\wc_presto\\Lib\\site-packages\\openeo\\rest\\job.py:270\u001b[0m, in \u001b[0;36mBatchJob.start_and_wait\u001b[1;34m(self, print, max_poll_interval, connection_retry_interval, soft_error_max)\u001b[0m\n\u001b[0;32m    268\u001b[0m \u001b[38;5;66;03m# TODO: make `max_poll_interval`, `connection_retry_interval` class constants or instance properties?\u001b[39;00m\n\u001b[0;32m    269\u001b[0m print_status(\u001b[38;5;124m\"\u001b[39m\u001b[38;5;124msend \u001b[39m\u001b[38;5;124m'\u001b[39m\u001b[38;5;124mstart\u001b[39m\u001b[38;5;124m'\u001b[39m\u001b[38;5;124m\"\u001b[39m)\n\u001b[1;32m--> 270\u001b[0m \u001b[38;5;28;43mself\u001b[39;49m\u001b[38;5;241;43m.\u001b[39;49m\u001b[43mstart\u001b[49m\u001b[43m(\u001b[49m\u001b[43m)\u001b[49m\n\u001b[0;32m    272\u001b[0m \u001b[38;5;66;03m# TODO: also add  `wait` method so you can track a job that already has started explicitly\u001b[39;00m\n\u001b[0;32m    273\u001b[0m \u001b[38;5;66;03m#   or just rename this method to `wait` and automatically do start if not started yet?\u001b[39;00m\n\u001b[0;32m    274\u001b[0m \n\u001b[0;32m    275\u001b[0m \u001b[38;5;66;03m# Start with fast polling.\u001b[39;00m\n\u001b[0;32m    276\u001b[0m poll_interval \u001b[38;5;241m=\u001b[39m \u001b[38;5;28mmin\u001b[39m(\u001b[38;5;241m5\u001b[39m, max_poll_interval)\n",
      "File \u001b[1;32mc:\\Users\\VROMPAYH\\AppData\\Local\\anaconda3\\envs\\wc_presto\\Lib\\site-packages\\openeo\\rest\\job.py:119\u001b[0m, in \u001b[0;36mBatchJob.start\u001b[1;34m(self)\u001b[0m\n\u001b[0;32m    109\u001b[0m \u001b[38;5;129m@openeo_endpoint\u001b[39m(\u001b[38;5;124m\"\u001b[39m\u001b[38;5;124mPOST /jobs/\u001b[39m\u001b[38;5;132;01m{job_id}\u001b[39;00m\u001b[38;5;124m/results\u001b[39m\u001b[38;5;124m\"\u001b[39m)\n\u001b[0;32m    110\u001b[0m \u001b[38;5;28;01mdef\u001b[39;00m \u001b[38;5;21mstart\u001b[39m(\u001b[38;5;28mself\u001b[39m) \u001b[38;5;241m-\u001b[39m\u001b[38;5;241m>\u001b[39m BatchJob:\n\u001b[0;32m    111\u001b[0m \u001b[38;5;250m    \u001b[39m\u001b[38;5;124;03m\"\"\"\u001b[39;00m\n\u001b[0;32m    112\u001b[0m \u001b[38;5;124;03m    Start this batch job.\u001b[39;00m\n\u001b[0;32m    113\u001b[0m \n\u001b[1;32m   (...)\u001b[0m\n\u001b[0;32m    117\u001b[0m \u001b[38;5;124;03m        This method was previously called :py:meth:`start_job`.\u001b[39;00m\n\u001b[0;32m    118\u001b[0m \u001b[38;5;124;03m    \"\"\"\u001b[39;00m\n\u001b[1;32m--> 119\u001b[0m     \u001b[38;5;28;43mself\u001b[39;49m\u001b[38;5;241;43m.\u001b[39;49m\u001b[43mconnection\u001b[49m\u001b[38;5;241;43m.\u001b[39;49m\u001b[43mpost\u001b[49m\u001b[43m(\u001b[49m\u001b[38;5;124;43mf\u001b[39;49m\u001b[38;5;124;43m\"\u001b[39;49m\u001b[38;5;124;43m/jobs/\u001b[39;49m\u001b[38;5;132;43;01m{\u001b[39;49;00m\u001b[38;5;28;43mself\u001b[39;49m\u001b[38;5;241;43m.\u001b[39;49m\u001b[43mjob_id\u001b[49m\u001b[38;5;132;43;01m}\u001b[39;49;00m\u001b[38;5;124;43m/results\u001b[39;49m\u001b[38;5;124;43m\"\u001b[39;49m\u001b[43m,\u001b[49m\u001b[43m \u001b[49m\u001b[43mexpected_status\u001b[49m\u001b[38;5;241;43m=\u001b[39;49m\u001b[38;5;241;43m202\u001b[39;49m\u001b[43m)\u001b[49m\n\u001b[0;32m    120\u001b[0m     \u001b[38;5;28;01mreturn\u001b[39;00m \u001b[38;5;28mself\u001b[39m\n",
      "File \u001b[1;32mc:\\Users\\VROMPAYH\\AppData\\Local\\anaconda3\\envs\\wc_presto\\Lib\\site-packages\\openeo\\rest\\connection.py:231\u001b[0m, in \u001b[0;36mRestApiConnection.post\u001b[1;34m(self, path, json, **kwargs)\u001b[0m\n\u001b[0;32m    223\u001b[0m \u001b[38;5;28;01mdef\u001b[39;00m \u001b[38;5;21mpost\u001b[39m(\u001b[38;5;28mself\u001b[39m, path: \u001b[38;5;28mstr\u001b[39m, json: Optional[\u001b[38;5;28mdict\u001b[39m] \u001b[38;5;241m=\u001b[39m \u001b[38;5;28;01mNone\u001b[39;00m, \u001b[38;5;241m*\u001b[39m\u001b[38;5;241m*\u001b[39mkwargs) \u001b[38;5;241m-\u001b[39m\u001b[38;5;241m>\u001b[39m Response:\n\u001b[0;32m    224\u001b[0m \u001b[38;5;250m    \u001b[39m\u001b[38;5;124;03m\"\"\"\u001b[39;00m\n\u001b[0;32m    225\u001b[0m \u001b[38;5;124;03m    Do POST request to REST API.\u001b[39;00m\n\u001b[0;32m    226\u001b[0m \n\u001b[1;32m   (...)\u001b[0m\n\u001b[0;32m    229\u001b[0m \u001b[38;5;124;03m    :return: response: Response\u001b[39;00m\n\u001b[0;32m    230\u001b[0m \u001b[38;5;124;03m    \"\"\"\u001b[39;00m\n\u001b[1;32m--> 231\u001b[0m     \u001b[38;5;28;01mreturn\u001b[39;00m \u001b[38;5;28;43mself\u001b[39;49m\u001b[38;5;241;43m.\u001b[39;49m\u001b[43mrequest\u001b[49m\u001b[43m(\u001b[49m\u001b[38;5;124;43m\"\u001b[39;49m\u001b[38;5;124;43mpost\u001b[39;49m\u001b[38;5;124;43m\"\u001b[39;49m\u001b[43m,\u001b[49m\u001b[43m \u001b[49m\u001b[43mpath\u001b[49m\u001b[38;5;241;43m=\u001b[39;49m\u001b[43mpath\u001b[49m\u001b[43m,\u001b[49m\u001b[43m \u001b[49m\u001b[43mjson\u001b[49m\u001b[38;5;241;43m=\u001b[39;49m\u001b[43mjson\u001b[49m\u001b[43m,\u001b[49m\u001b[43m \u001b[49m\u001b[43mallow_redirects\u001b[49m\u001b[38;5;241;43m=\u001b[39;49m\u001b[38;5;28;43;01mFalse\u001b[39;49;00m\u001b[43m,\u001b[49m\u001b[43m \u001b[49m\u001b[38;5;241;43m*\u001b[39;49m\u001b[38;5;241;43m*\u001b[39;49m\u001b[43mkwargs\u001b[49m\u001b[43m)\u001b[49m\n",
      "File \u001b[1;32mc:\\Users\\VROMPAYH\\AppData\\Local\\anaconda3\\envs\\wc_presto\\Lib\\site-packages\\openeo\\rest\\connection.py:770\u001b[0m, in \u001b[0;36mConnection.request\u001b[1;34m(self, method, path, headers, auth, check_error, expected_status, **kwargs)\u001b[0m\n\u001b[0;32m    763\u001b[0m     \u001b[38;5;28;01mreturn\u001b[39;00m \u001b[38;5;28msuper\u001b[39m(Connection, \u001b[38;5;28mself\u001b[39m)\u001b[38;5;241m.\u001b[39mrequest(\n\u001b[0;32m    764\u001b[0m         method\u001b[38;5;241m=\u001b[39mmethod, path\u001b[38;5;241m=\u001b[39mpath, headers\u001b[38;5;241m=\u001b[39mheaders, auth\u001b[38;5;241m=\u001b[39mauth,\n\u001b[0;32m    765\u001b[0m         check_error\u001b[38;5;241m=\u001b[39mcheck_error, expected_status\u001b[38;5;241m=\u001b[39mexpected_status, \u001b[38;5;241m*\u001b[39m\u001b[38;5;241m*\u001b[39mkwargs,\n\u001b[0;32m    766\u001b[0m     )\n\u001b[0;32m    768\u001b[0m \u001b[38;5;28;01mtry\u001b[39;00m:\n\u001b[0;32m    769\u001b[0m     \u001b[38;5;66;03m# Initial request attempt\u001b[39;00m\n\u001b[1;32m--> 770\u001b[0m     \u001b[38;5;28;01mreturn\u001b[39;00m \u001b[43m_request\u001b[49m\u001b[43m(\u001b[49m\u001b[43m)\u001b[49m\n\u001b[0;32m    771\u001b[0m \u001b[38;5;28;01mexcept\u001b[39;00m OpenEoApiError \u001b[38;5;28;01mas\u001b[39;00m api_exc:\n\u001b[0;32m    772\u001b[0m     \u001b[38;5;28;01mif\u001b[39;00m api_exc\u001b[38;5;241m.\u001b[39mhttp_status_code \u001b[38;5;129;01min\u001b[39;00m {\u001b[38;5;241m401\u001b[39m, \u001b[38;5;241m403\u001b[39m} \u001b[38;5;129;01mand\u001b[39;00m api_exc\u001b[38;5;241m.\u001b[39mcode \u001b[38;5;241m==\u001b[39m \u001b[38;5;124m\"\u001b[39m\u001b[38;5;124mTokenInvalid\u001b[39m\u001b[38;5;124m\"\u001b[39m:\n\u001b[0;32m    773\u001b[0m         \u001b[38;5;66;03m# Auth token expired: can we refresh?\u001b[39;00m\n",
      "File \u001b[1;32mc:\\Users\\VROMPAYH\\AppData\\Local\\anaconda3\\envs\\wc_presto\\Lib\\site-packages\\openeo\\rest\\connection.py:763\u001b[0m, in \u001b[0;36mConnection.request.<locals>._request\u001b[1;34m()\u001b[0m\n\u001b[0;32m    762\u001b[0m \u001b[38;5;28;01mdef\u001b[39;00m \u001b[38;5;21m_request\u001b[39m():\n\u001b[1;32m--> 763\u001b[0m     \u001b[38;5;28;01mreturn\u001b[39;00m \u001b[38;5;28;43msuper\u001b[39;49m\u001b[43m(\u001b[49m\u001b[43mConnection\u001b[49m\u001b[43m,\u001b[49m\u001b[43m \u001b[49m\u001b[38;5;28;43mself\u001b[39;49m\u001b[43m)\u001b[49m\u001b[38;5;241;43m.\u001b[39;49m\u001b[43mrequest\u001b[49m\u001b[43m(\u001b[49m\n\u001b[0;32m    764\u001b[0m \u001b[43m        \u001b[49m\u001b[43mmethod\u001b[49m\u001b[38;5;241;43m=\u001b[39;49m\u001b[43mmethod\u001b[49m\u001b[43m,\u001b[49m\u001b[43m \u001b[49m\u001b[43mpath\u001b[49m\u001b[38;5;241;43m=\u001b[39;49m\u001b[43mpath\u001b[49m\u001b[43m,\u001b[49m\u001b[43m \u001b[49m\u001b[43mheaders\u001b[49m\u001b[38;5;241;43m=\u001b[39;49m\u001b[43mheaders\u001b[49m\u001b[43m,\u001b[49m\u001b[43m \u001b[49m\u001b[43mauth\u001b[49m\u001b[38;5;241;43m=\u001b[39;49m\u001b[43mauth\u001b[49m\u001b[43m,\u001b[49m\n\u001b[0;32m    765\u001b[0m \u001b[43m        \u001b[49m\u001b[43mcheck_error\u001b[49m\u001b[38;5;241;43m=\u001b[39;49m\u001b[43mcheck_error\u001b[49m\u001b[43m,\u001b[49m\u001b[43m \u001b[49m\u001b[43mexpected_status\u001b[49m\u001b[38;5;241;43m=\u001b[39;49m\u001b[43mexpected_status\u001b[49m\u001b[43m,\u001b[49m\u001b[43m \u001b[49m\u001b[38;5;241;43m*\u001b[39;49m\u001b[38;5;241;43m*\u001b[39;49m\u001b[43mkwargs\u001b[49m\u001b[43m,\u001b[49m\n\u001b[0;32m    766\u001b[0m \u001b[43m    \u001b[49m\u001b[43m)\u001b[49m\n",
      "File \u001b[1;32mc:\\Users\\VROMPAYH\\AppData\\Local\\anaconda3\\envs\\wc_presto\\Lib\\site-packages\\openeo\\rest\\connection.py:148\u001b[0m, in \u001b[0;36mRestApiConnection.request\u001b[1;34m(self, method, path, headers, auth, check_error, expected_status, **kwargs)\u001b[0m\n\u001b[0;32m    144\u001b[0m     _log\u001b[38;5;241m.\u001b[39mdebug(\u001b[38;5;124m\"\u001b[39m\u001b[38;5;124mRequest `\u001b[39m\u001b[38;5;132;01m{m}\u001b[39;00m\u001b[38;5;124m \u001b[39m\u001b[38;5;132;01m{u}\u001b[39;00m\u001b[38;5;124m` with headers \u001b[39m\u001b[38;5;132;01m{h}\u001b[39;00m\u001b[38;5;124m, auth \u001b[39m\u001b[38;5;132;01m{a}\u001b[39;00m\u001b[38;5;124m, kwargs \u001b[39m\u001b[38;5;132;01m{k}\u001b[39;00m\u001b[38;5;124m\"\u001b[39m\u001b[38;5;241m.\u001b[39mformat(\n\u001b[0;32m    145\u001b[0m         m\u001b[38;5;241m=\u001b[39mmethod\u001b[38;5;241m.\u001b[39mupper(), u\u001b[38;5;241m=\u001b[39murl, h\u001b[38;5;241m=\u001b[39mheaders \u001b[38;5;129;01mand\u001b[39;00m headers\u001b[38;5;241m.\u001b[39mkeys(), a\u001b[38;5;241m=\u001b[39m\u001b[38;5;28mtype\u001b[39m(auth)\u001b[38;5;241m.\u001b[39m\u001b[38;5;18m__name__\u001b[39m, k\u001b[38;5;241m=\u001b[39m\u001b[38;5;28mlist\u001b[39m(kwargs\u001b[38;5;241m.\u001b[39mkeys()))\n\u001b[0;32m    146\u001b[0m     )\n\u001b[0;32m    147\u001b[0m \u001b[38;5;28;01mwith\u001b[39;00m ContextTimer() \u001b[38;5;28;01mas\u001b[39;00m timer:\n\u001b[1;32m--> 148\u001b[0m     resp \u001b[38;5;241m=\u001b[39m \u001b[38;5;28;43mself\u001b[39;49m\u001b[38;5;241;43m.\u001b[39;49m\u001b[43msession\u001b[49m\u001b[38;5;241;43m.\u001b[39;49m\u001b[43mrequest\u001b[49m\u001b[43m(\u001b[49m\n\u001b[0;32m    149\u001b[0m \u001b[43m        \u001b[49m\u001b[43mmethod\u001b[49m\u001b[38;5;241;43m=\u001b[39;49m\u001b[43mmethod\u001b[49m\u001b[43m,\u001b[49m\n\u001b[0;32m    150\u001b[0m \u001b[43m        \u001b[49m\u001b[43murl\u001b[49m\u001b[38;5;241;43m=\u001b[39;49m\u001b[43murl\u001b[49m\u001b[43m,\u001b[49m\n\u001b[0;32m    151\u001b[0m \u001b[43m        \u001b[49m\u001b[43mheaders\u001b[49m\u001b[38;5;241;43m=\u001b[39;49m\u001b[38;5;28;43mself\u001b[39;49m\u001b[38;5;241;43m.\u001b[39;49m\u001b[43m_merged_headers\u001b[49m\u001b[43m(\u001b[49m\u001b[43mheaders\u001b[49m\u001b[43m)\u001b[49m\u001b[43m,\u001b[49m\n\u001b[0;32m    152\u001b[0m \u001b[43m        \u001b[49m\u001b[43mauth\u001b[49m\u001b[38;5;241;43m=\u001b[39;49m\u001b[43mauth\u001b[49m\u001b[43m,\u001b[49m\n\u001b[0;32m    153\u001b[0m \u001b[43m        \u001b[49m\u001b[43mtimeout\u001b[49m\u001b[38;5;241;43m=\u001b[39;49m\u001b[43mkwargs\u001b[49m\u001b[38;5;241;43m.\u001b[39;49m\u001b[43mpop\u001b[49m\u001b[43m(\u001b[49m\u001b[38;5;124;43m\"\u001b[39;49m\u001b[38;5;124;43mtimeout\u001b[39;49m\u001b[38;5;124;43m\"\u001b[39;49m\u001b[43m,\u001b[49m\u001b[43m \u001b[49m\u001b[38;5;28;43mself\u001b[39;49m\u001b[38;5;241;43m.\u001b[39;49m\u001b[43mdefault_timeout\u001b[49m\u001b[43m)\u001b[49m\u001b[43m,\u001b[49m\n\u001b[0;32m    154\u001b[0m \u001b[43m        \u001b[49m\u001b[38;5;241;43m*\u001b[39;49m\u001b[38;5;241;43m*\u001b[39;49m\u001b[43mkwargs\u001b[49m\n\u001b[0;32m    155\u001b[0m \u001b[43m    \u001b[49m\u001b[43m)\u001b[49m\n\u001b[0;32m    156\u001b[0m \u001b[38;5;28;01mif\u001b[39;00m slow_response_threshold \u001b[38;5;129;01mand\u001b[39;00m timer\u001b[38;5;241m.\u001b[39melapsed() \u001b[38;5;241m>\u001b[39m slow_response_threshold:\n\u001b[0;32m    157\u001b[0m     _log\u001b[38;5;241m.\u001b[39mwarning(\u001b[38;5;124m\"\u001b[39m\u001b[38;5;124mSlow response: `\u001b[39m\u001b[38;5;132;01m{m}\u001b[39;00m\u001b[38;5;124m \u001b[39m\u001b[38;5;132;01m{u}\u001b[39;00m\u001b[38;5;124m` took \u001b[39m\u001b[38;5;132;01m{e:.2f}\u001b[39;00m\u001b[38;5;124ms (>\u001b[39m\u001b[38;5;132;01m{t:.2f}\u001b[39;00m\u001b[38;5;124ms)\u001b[39m\u001b[38;5;124m\"\u001b[39m\u001b[38;5;241m.\u001b[39mformat(\n\u001b[0;32m    158\u001b[0m         m\u001b[38;5;241m=\u001b[39mmethod\u001b[38;5;241m.\u001b[39mupper(), u\u001b[38;5;241m=\u001b[39mstr_truncate(url, width\u001b[38;5;241m=\u001b[39m\u001b[38;5;241m64\u001b[39m),\n\u001b[0;32m    159\u001b[0m         e\u001b[38;5;241m=\u001b[39mtimer\u001b[38;5;241m.\u001b[39melapsed(), t\u001b[38;5;241m=\u001b[39mslow_response_threshold\n\u001b[0;32m    160\u001b[0m     ))\n",
      "File \u001b[1;32mc:\\Users\\VROMPAYH\\AppData\\Local\\anaconda3\\envs\\wc_presto\\Lib\\site-packages\\requests\\sessions.py:589\u001b[0m, in \u001b[0;36mSession.request\u001b[1;34m(self, method, url, params, data, headers, cookies, files, auth, timeout, allow_redirects, proxies, hooks, stream, verify, cert, json)\u001b[0m\n\u001b[0;32m    584\u001b[0m send_kwargs \u001b[38;5;241m=\u001b[39m {\n\u001b[0;32m    585\u001b[0m     \u001b[38;5;124m\"\u001b[39m\u001b[38;5;124mtimeout\u001b[39m\u001b[38;5;124m\"\u001b[39m: timeout,\n\u001b[0;32m    586\u001b[0m     \u001b[38;5;124m\"\u001b[39m\u001b[38;5;124mallow_redirects\u001b[39m\u001b[38;5;124m\"\u001b[39m: allow_redirects,\n\u001b[0;32m    587\u001b[0m }\n\u001b[0;32m    588\u001b[0m send_kwargs\u001b[38;5;241m.\u001b[39mupdate(settings)\n\u001b[1;32m--> 589\u001b[0m resp \u001b[38;5;241m=\u001b[39m \u001b[38;5;28;43mself\u001b[39;49m\u001b[38;5;241;43m.\u001b[39;49m\u001b[43msend\u001b[49m\u001b[43m(\u001b[49m\u001b[43mprep\u001b[49m\u001b[43m,\u001b[49m\u001b[43m \u001b[49m\u001b[38;5;241;43m*\u001b[39;49m\u001b[38;5;241;43m*\u001b[39;49m\u001b[43msend_kwargs\u001b[49m\u001b[43m)\u001b[49m\n\u001b[0;32m    591\u001b[0m \u001b[38;5;28;01mreturn\u001b[39;00m resp\n",
      "File \u001b[1;32mc:\\Users\\VROMPAYH\\AppData\\Local\\anaconda3\\envs\\wc_presto\\Lib\\site-packages\\requests\\sessions.py:703\u001b[0m, in \u001b[0;36mSession.send\u001b[1;34m(self, request, **kwargs)\u001b[0m\n\u001b[0;32m    700\u001b[0m start \u001b[38;5;241m=\u001b[39m preferred_clock()\n\u001b[0;32m    702\u001b[0m \u001b[38;5;66;03m# Send the request\u001b[39;00m\n\u001b[1;32m--> 703\u001b[0m r \u001b[38;5;241m=\u001b[39m \u001b[43madapter\u001b[49m\u001b[38;5;241;43m.\u001b[39;49m\u001b[43msend\u001b[49m\u001b[43m(\u001b[49m\u001b[43mrequest\u001b[49m\u001b[43m,\u001b[49m\u001b[43m \u001b[49m\u001b[38;5;241;43m*\u001b[39;49m\u001b[38;5;241;43m*\u001b[39;49m\u001b[43mkwargs\u001b[49m\u001b[43m)\u001b[49m\n\u001b[0;32m    705\u001b[0m \u001b[38;5;66;03m# Total elapsed time of the request (approximately)\u001b[39;00m\n\u001b[0;32m    706\u001b[0m elapsed \u001b[38;5;241m=\u001b[39m preferred_clock() \u001b[38;5;241m-\u001b[39m start\n",
      "File \u001b[1;32mc:\\Users\\VROMPAYH\\AppData\\Local\\anaconda3\\envs\\wc_presto\\Lib\\site-packages\\requests\\adapters.py:486\u001b[0m, in \u001b[0;36mHTTPAdapter.send\u001b[1;34m(self, request, stream, timeout, verify, cert, proxies)\u001b[0m\n\u001b[0;32m    483\u001b[0m     timeout \u001b[38;5;241m=\u001b[39m TimeoutSauce(connect\u001b[38;5;241m=\u001b[39mtimeout, read\u001b[38;5;241m=\u001b[39mtimeout)\n\u001b[0;32m    485\u001b[0m \u001b[38;5;28;01mtry\u001b[39;00m:\n\u001b[1;32m--> 486\u001b[0m     resp \u001b[38;5;241m=\u001b[39m \u001b[43mconn\u001b[49m\u001b[38;5;241;43m.\u001b[39;49m\u001b[43murlopen\u001b[49m\u001b[43m(\u001b[49m\n\u001b[0;32m    487\u001b[0m \u001b[43m        \u001b[49m\u001b[43mmethod\u001b[49m\u001b[38;5;241;43m=\u001b[39;49m\u001b[43mrequest\u001b[49m\u001b[38;5;241;43m.\u001b[39;49m\u001b[43mmethod\u001b[49m\u001b[43m,\u001b[49m\n\u001b[0;32m    488\u001b[0m \u001b[43m        \u001b[49m\u001b[43murl\u001b[49m\u001b[38;5;241;43m=\u001b[39;49m\u001b[43murl\u001b[49m\u001b[43m,\u001b[49m\n\u001b[0;32m    489\u001b[0m \u001b[43m        \u001b[49m\u001b[43mbody\u001b[49m\u001b[38;5;241;43m=\u001b[39;49m\u001b[43mrequest\u001b[49m\u001b[38;5;241;43m.\u001b[39;49m\u001b[43mbody\u001b[49m\u001b[43m,\u001b[49m\n\u001b[0;32m    490\u001b[0m \u001b[43m        \u001b[49m\u001b[43mheaders\u001b[49m\u001b[38;5;241;43m=\u001b[39;49m\u001b[43mrequest\u001b[49m\u001b[38;5;241;43m.\u001b[39;49m\u001b[43mheaders\u001b[49m\u001b[43m,\u001b[49m\n\u001b[0;32m    491\u001b[0m \u001b[43m        \u001b[49m\u001b[43mredirect\u001b[49m\u001b[38;5;241;43m=\u001b[39;49m\u001b[38;5;28;43;01mFalse\u001b[39;49;00m\u001b[43m,\u001b[49m\n\u001b[0;32m    492\u001b[0m \u001b[43m        \u001b[49m\u001b[43massert_same_host\u001b[49m\u001b[38;5;241;43m=\u001b[39;49m\u001b[38;5;28;43;01mFalse\u001b[39;49;00m\u001b[43m,\u001b[49m\n\u001b[0;32m    493\u001b[0m \u001b[43m        \u001b[49m\u001b[43mpreload_content\u001b[49m\u001b[38;5;241;43m=\u001b[39;49m\u001b[38;5;28;43;01mFalse\u001b[39;49;00m\u001b[43m,\u001b[49m\n\u001b[0;32m    494\u001b[0m \u001b[43m        \u001b[49m\u001b[43mdecode_content\u001b[49m\u001b[38;5;241;43m=\u001b[39;49m\u001b[38;5;28;43;01mFalse\u001b[39;49;00m\u001b[43m,\u001b[49m\n\u001b[0;32m    495\u001b[0m \u001b[43m        \u001b[49m\u001b[43mretries\u001b[49m\u001b[38;5;241;43m=\u001b[39;49m\u001b[38;5;28;43mself\u001b[39;49m\u001b[38;5;241;43m.\u001b[39;49m\u001b[43mmax_retries\u001b[49m\u001b[43m,\u001b[49m\n\u001b[0;32m    496\u001b[0m \u001b[43m        \u001b[49m\u001b[43mtimeout\u001b[49m\u001b[38;5;241;43m=\u001b[39;49m\u001b[43mtimeout\u001b[49m\u001b[43m,\u001b[49m\n\u001b[0;32m    497\u001b[0m \u001b[43m        \u001b[49m\u001b[43mchunked\u001b[49m\u001b[38;5;241;43m=\u001b[39;49m\u001b[43mchunked\u001b[49m\u001b[43m,\u001b[49m\n\u001b[0;32m    498\u001b[0m \u001b[43m    \u001b[49m\u001b[43m)\u001b[49m\n\u001b[0;32m    500\u001b[0m \u001b[38;5;28;01mexcept\u001b[39;00m (ProtocolError, \u001b[38;5;167;01mOSError\u001b[39;00m) \u001b[38;5;28;01mas\u001b[39;00m err:\n\u001b[0;32m    501\u001b[0m     \u001b[38;5;28;01mraise\u001b[39;00m \u001b[38;5;167;01mConnectionError\u001b[39;00m(err, request\u001b[38;5;241m=\u001b[39mrequest)\n",
      "File \u001b[1;32mc:\\Users\\VROMPAYH\\AppData\\Local\\anaconda3\\envs\\wc_presto\\Lib\\site-packages\\urllib3\\connectionpool.py:793\u001b[0m, in \u001b[0;36mHTTPConnectionPool.urlopen\u001b[1;34m(self, method, url, body, headers, retries, redirect, assert_same_host, timeout, pool_timeout, release_conn, chunked, body_pos, preload_content, decode_content, **response_kw)\u001b[0m\n\u001b[0;32m    790\u001b[0m response_conn \u001b[38;5;241m=\u001b[39m conn \u001b[38;5;28;01mif\u001b[39;00m \u001b[38;5;129;01mnot\u001b[39;00m release_conn \u001b[38;5;28;01melse\u001b[39;00m \u001b[38;5;28;01mNone\u001b[39;00m\n\u001b[0;32m    792\u001b[0m \u001b[38;5;66;03m# Make the request on the HTTPConnection object\u001b[39;00m\n\u001b[1;32m--> 793\u001b[0m response \u001b[38;5;241m=\u001b[39m \u001b[38;5;28;43mself\u001b[39;49m\u001b[38;5;241;43m.\u001b[39;49m\u001b[43m_make_request\u001b[49m\u001b[43m(\u001b[49m\n\u001b[0;32m    794\u001b[0m \u001b[43m    \u001b[49m\u001b[43mconn\u001b[49m\u001b[43m,\u001b[49m\n\u001b[0;32m    795\u001b[0m \u001b[43m    \u001b[49m\u001b[43mmethod\u001b[49m\u001b[43m,\u001b[49m\n\u001b[0;32m    796\u001b[0m \u001b[43m    \u001b[49m\u001b[43murl\u001b[49m\u001b[43m,\u001b[49m\n\u001b[0;32m    797\u001b[0m \u001b[43m    \u001b[49m\u001b[43mtimeout\u001b[49m\u001b[38;5;241;43m=\u001b[39;49m\u001b[43mtimeout_obj\u001b[49m\u001b[43m,\u001b[49m\n\u001b[0;32m    798\u001b[0m \u001b[43m    \u001b[49m\u001b[43mbody\u001b[49m\u001b[38;5;241;43m=\u001b[39;49m\u001b[43mbody\u001b[49m\u001b[43m,\u001b[49m\n\u001b[0;32m    799\u001b[0m \u001b[43m    \u001b[49m\u001b[43mheaders\u001b[49m\u001b[38;5;241;43m=\u001b[39;49m\u001b[43mheaders\u001b[49m\u001b[43m,\u001b[49m\n\u001b[0;32m    800\u001b[0m \u001b[43m    \u001b[49m\u001b[43mchunked\u001b[49m\u001b[38;5;241;43m=\u001b[39;49m\u001b[43mchunked\u001b[49m\u001b[43m,\u001b[49m\n\u001b[0;32m    801\u001b[0m \u001b[43m    \u001b[49m\u001b[43mretries\u001b[49m\u001b[38;5;241;43m=\u001b[39;49m\u001b[43mretries\u001b[49m\u001b[43m,\u001b[49m\n\u001b[0;32m    802\u001b[0m \u001b[43m    \u001b[49m\u001b[43mresponse_conn\u001b[49m\u001b[38;5;241;43m=\u001b[39;49m\u001b[43mresponse_conn\u001b[49m\u001b[43m,\u001b[49m\n\u001b[0;32m    803\u001b[0m \u001b[43m    \u001b[49m\u001b[43mpreload_content\u001b[49m\u001b[38;5;241;43m=\u001b[39;49m\u001b[43mpreload_content\u001b[49m\u001b[43m,\u001b[49m\n\u001b[0;32m    804\u001b[0m \u001b[43m    \u001b[49m\u001b[43mdecode_content\u001b[49m\u001b[38;5;241;43m=\u001b[39;49m\u001b[43mdecode_content\u001b[49m\u001b[43m,\u001b[49m\n\u001b[0;32m    805\u001b[0m \u001b[43m    \u001b[49m\u001b[38;5;241;43m*\u001b[39;49m\u001b[38;5;241;43m*\u001b[39;49m\u001b[43mresponse_kw\u001b[49m\u001b[43m,\u001b[49m\n\u001b[0;32m    806\u001b[0m \u001b[43m\u001b[49m\u001b[43m)\u001b[49m\n\u001b[0;32m    808\u001b[0m \u001b[38;5;66;03m# Everything went great!\u001b[39;00m\n\u001b[0;32m    809\u001b[0m clean_exit \u001b[38;5;241m=\u001b[39m \u001b[38;5;28;01mTrue\u001b[39;00m\n",
      "File \u001b[1;32mc:\\Users\\VROMPAYH\\AppData\\Local\\anaconda3\\envs\\wc_presto\\Lib\\site-packages\\urllib3\\connectionpool.py:537\u001b[0m, in \u001b[0;36mHTTPConnectionPool._make_request\u001b[1;34m(self, conn, method, url, body, headers, retries, timeout, chunked, response_conn, preload_content, decode_content, enforce_content_length)\u001b[0m\n\u001b[0;32m    535\u001b[0m \u001b[38;5;66;03m# Receive the response from the server\u001b[39;00m\n\u001b[0;32m    536\u001b[0m \u001b[38;5;28;01mtry\u001b[39;00m:\n\u001b[1;32m--> 537\u001b[0m     response \u001b[38;5;241m=\u001b[39m \u001b[43mconn\u001b[49m\u001b[38;5;241;43m.\u001b[39;49m\u001b[43mgetresponse\u001b[49m\u001b[43m(\u001b[49m\u001b[43m)\u001b[49m\n\u001b[0;32m    538\u001b[0m \u001b[38;5;28;01mexcept\u001b[39;00m (BaseSSLError, \u001b[38;5;167;01mOSError\u001b[39;00m) \u001b[38;5;28;01mas\u001b[39;00m e:\n\u001b[0;32m    539\u001b[0m     \u001b[38;5;28mself\u001b[39m\u001b[38;5;241m.\u001b[39m_raise_timeout(err\u001b[38;5;241m=\u001b[39me, url\u001b[38;5;241m=\u001b[39murl, timeout_value\u001b[38;5;241m=\u001b[39mread_timeout)\n",
      "File \u001b[1;32mc:\\Users\\VROMPAYH\\AppData\\Local\\anaconda3\\envs\\wc_presto\\Lib\\site-packages\\urllib3\\connection.py:466\u001b[0m, in \u001b[0;36mHTTPConnection.getresponse\u001b[1;34m(self)\u001b[0m\n\u001b[0;32m    463\u001b[0m \u001b[38;5;28;01mfrom\u001b[39;00m \u001b[38;5;21;01m.\u001b[39;00m\u001b[38;5;21;01mresponse\u001b[39;00m \u001b[38;5;28;01mimport\u001b[39;00m HTTPResponse\n\u001b[0;32m    465\u001b[0m \u001b[38;5;66;03m# Get the response from http.client.HTTPConnection\u001b[39;00m\n\u001b[1;32m--> 466\u001b[0m httplib_response \u001b[38;5;241m=\u001b[39m \u001b[38;5;28;43msuper\u001b[39;49m\u001b[43m(\u001b[49m\u001b[43m)\u001b[49m\u001b[38;5;241;43m.\u001b[39;49m\u001b[43mgetresponse\u001b[49m\u001b[43m(\u001b[49m\u001b[43m)\u001b[49m\n\u001b[0;32m    468\u001b[0m \u001b[38;5;28;01mtry\u001b[39;00m:\n\u001b[0;32m    469\u001b[0m     assert_header_parsing(httplib_response\u001b[38;5;241m.\u001b[39mmsg)\n",
      "File \u001b[1;32mc:\\Users\\VROMPAYH\\AppData\\Local\\anaconda3\\envs\\wc_presto\\Lib\\http\\client.py:1423\u001b[0m, in \u001b[0;36mHTTPConnection.getresponse\u001b[1;34m(self)\u001b[0m\n\u001b[0;32m   1421\u001b[0m \u001b[38;5;28;01mtry\u001b[39;00m:\n\u001b[0;32m   1422\u001b[0m     \u001b[38;5;28;01mtry\u001b[39;00m:\n\u001b[1;32m-> 1423\u001b[0m         \u001b[43mresponse\u001b[49m\u001b[38;5;241;43m.\u001b[39;49m\u001b[43mbegin\u001b[49m\u001b[43m(\u001b[49m\u001b[43m)\u001b[49m\n\u001b[0;32m   1424\u001b[0m     \u001b[38;5;28;01mexcept\u001b[39;00m \u001b[38;5;167;01mConnectionError\u001b[39;00m:\n\u001b[0;32m   1425\u001b[0m         \u001b[38;5;28mself\u001b[39m\u001b[38;5;241m.\u001b[39mclose()\n",
      "File \u001b[1;32mc:\\Users\\VROMPAYH\\AppData\\Local\\anaconda3\\envs\\wc_presto\\Lib\\http\\client.py:331\u001b[0m, in \u001b[0;36mHTTPResponse.begin\u001b[1;34m(self)\u001b[0m\n\u001b[0;32m    329\u001b[0m \u001b[38;5;66;03m# read until we get a non-100 response\u001b[39;00m\n\u001b[0;32m    330\u001b[0m \u001b[38;5;28;01mwhile\u001b[39;00m \u001b[38;5;28;01mTrue\u001b[39;00m:\n\u001b[1;32m--> 331\u001b[0m     version, status, reason \u001b[38;5;241m=\u001b[39m \u001b[38;5;28;43mself\u001b[39;49m\u001b[38;5;241;43m.\u001b[39;49m\u001b[43m_read_status\u001b[49m\u001b[43m(\u001b[49m\u001b[43m)\u001b[49m\n\u001b[0;32m    332\u001b[0m     \u001b[38;5;28;01mif\u001b[39;00m status \u001b[38;5;241m!=\u001b[39m CONTINUE:\n\u001b[0;32m    333\u001b[0m         \u001b[38;5;28;01mbreak\u001b[39;00m\n",
      "File \u001b[1;32mc:\\Users\\VROMPAYH\\AppData\\Local\\anaconda3\\envs\\wc_presto\\Lib\\http\\client.py:292\u001b[0m, in \u001b[0;36mHTTPResponse._read_status\u001b[1;34m(self)\u001b[0m\n\u001b[0;32m    291\u001b[0m \u001b[38;5;28;01mdef\u001b[39;00m \u001b[38;5;21m_read_status\u001b[39m(\u001b[38;5;28mself\u001b[39m):\n\u001b[1;32m--> 292\u001b[0m     line \u001b[38;5;241m=\u001b[39m \u001b[38;5;28mstr\u001b[39m(\u001b[38;5;28;43mself\u001b[39;49m\u001b[38;5;241;43m.\u001b[39;49m\u001b[43mfp\u001b[49m\u001b[38;5;241;43m.\u001b[39;49m\u001b[43mreadline\u001b[49m\u001b[43m(\u001b[49m\u001b[43m_MAXLINE\u001b[49m\u001b[43m \u001b[49m\u001b[38;5;241;43m+\u001b[39;49m\u001b[43m \u001b[49m\u001b[38;5;241;43m1\u001b[39;49m\u001b[43m)\u001b[49m, \u001b[38;5;124m\"\u001b[39m\u001b[38;5;124miso-8859-1\u001b[39m\u001b[38;5;124m\"\u001b[39m)\n\u001b[0;32m    293\u001b[0m     \u001b[38;5;28;01mif\u001b[39;00m \u001b[38;5;28mlen\u001b[39m(line) \u001b[38;5;241m>\u001b[39m _MAXLINE:\n\u001b[0;32m    294\u001b[0m         \u001b[38;5;28;01mraise\u001b[39;00m LineTooLong(\u001b[38;5;124m\"\u001b[39m\u001b[38;5;124mstatus line\u001b[39m\u001b[38;5;124m\"\u001b[39m)\n",
      "File \u001b[1;32mc:\\Users\\VROMPAYH\\AppData\\Local\\anaconda3\\envs\\wc_presto\\Lib\\socket.py:707\u001b[0m, in \u001b[0;36mSocketIO.readinto\u001b[1;34m(self, b)\u001b[0m\n\u001b[0;32m    705\u001b[0m \u001b[38;5;28;01mwhile\u001b[39;00m \u001b[38;5;28;01mTrue\u001b[39;00m:\n\u001b[0;32m    706\u001b[0m     \u001b[38;5;28;01mtry\u001b[39;00m:\n\u001b[1;32m--> 707\u001b[0m         \u001b[38;5;28;01mreturn\u001b[39;00m \u001b[38;5;28;43mself\u001b[39;49m\u001b[38;5;241;43m.\u001b[39;49m\u001b[43m_sock\u001b[49m\u001b[38;5;241;43m.\u001b[39;49m\u001b[43mrecv_into\u001b[49m\u001b[43m(\u001b[49m\u001b[43mb\u001b[49m\u001b[43m)\u001b[49m\n\u001b[0;32m    708\u001b[0m     \u001b[38;5;28;01mexcept\u001b[39;00m timeout:\n\u001b[0;32m    709\u001b[0m         \u001b[38;5;28mself\u001b[39m\u001b[38;5;241m.\u001b[39m_timeout_occurred \u001b[38;5;241m=\u001b[39m \u001b[38;5;28;01mTrue\u001b[39;00m\n",
      "File \u001b[1;32mc:\\Users\\VROMPAYH\\AppData\\Local\\anaconda3\\envs\\wc_presto\\Lib\\ssl.py:1252\u001b[0m, in \u001b[0;36mSSLSocket.recv_into\u001b[1;34m(self, buffer, nbytes, flags)\u001b[0m\n\u001b[0;32m   1248\u001b[0m     \u001b[38;5;28;01mif\u001b[39;00m flags \u001b[38;5;241m!=\u001b[39m \u001b[38;5;241m0\u001b[39m:\n\u001b[0;32m   1249\u001b[0m         \u001b[38;5;28;01mraise\u001b[39;00m \u001b[38;5;167;01mValueError\u001b[39;00m(\n\u001b[0;32m   1250\u001b[0m           \u001b[38;5;124m\"\u001b[39m\u001b[38;5;124mnon-zero flags not allowed in calls to recv_into() on \u001b[39m\u001b[38;5;132;01m%s\u001b[39;00m\u001b[38;5;124m\"\u001b[39m \u001b[38;5;241m%\u001b[39m\n\u001b[0;32m   1251\u001b[0m           \u001b[38;5;28mself\u001b[39m\u001b[38;5;241m.\u001b[39m\u001b[38;5;18m__class__\u001b[39m)\n\u001b[1;32m-> 1252\u001b[0m     \u001b[38;5;28;01mreturn\u001b[39;00m \u001b[38;5;28;43mself\u001b[39;49m\u001b[38;5;241;43m.\u001b[39;49m\u001b[43mread\u001b[49m\u001b[43m(\u001b[49m\u001b[43mnbytes\u001b[49m\u001b[43m,\u001b[49m\u001b[43m \u001b[49m\u001b[43mbuffer\u001b[49m\u001b[43m)\u001b[49m\n\u001b[0;32m   1253\u001b[0m \u001b[38;5;28;01melse\u001b[39;00m:\n\u001b[0;32m   1254\u001b[0m     \u001b[38;5;28;01mreturn\u001b[39;00m \u001b[38;5;28msuper\u001b[39m()\u001b[38;5;241m.\u001b[39mrecv_into(buffer, nbytes, flags)\n",
      "File \u001b[1;32mc:\\Users\\VROMPAYH\\AppData\\Local\\anaconda3\\envs\\wc_presto\\Lib\\ssl.py:1104\u001b[0m, in \u001b[0;36mSSLSocket.read\u001b[1;34m(self, len, buffer)\u001b[0m\n\u001b[0;32m   1102\u001b[0m \u001b[38;5;28;01mtry\u001b[39;00m:\n\u001b[0;32m   1103\u001b[0m     \u001b[38;5;28;01mif\u001b[39;00m buffer \u001b[38;5;129;01mis\u001b[39;00m \u001b[38;5;129;01mnot\u001b[39;00m \u001b[38;5;28;01mNone\u001b[39;00m:\n\u001b[1;32m-> 1104\u001b[0m         \u001b[38;5;28;01mreturn\u001b[39;00m \u001b[38;5;28;43mself\u001b[39;49m\u001b[38;5;241;43m.\u001b[39;49m\u001b[43m_sslobj\u001b[49m\u001b[38;5;241;43m.\u001b[39;49m\u001b[43mread\u001b[49m\u001b[43m(\u001b[49m\u001b[38;5;28;43mlen\u001b[39;49m\u001b[43m,\u001b[49m\u001b[43m \u001b[49m\u001b[43mbuffer\u001b[49m\u001b[43m)\u001b[49m\n\u001b[0;32m   1105\u001b[0m     \u001b[38;5;28;01melse\u001b[39;00m:\n\u001b[0;32m   1106\u001b[0m         \u001b[38;5;28;01mreturn\u001b[39;00m \u001b[38;5;28mself\u001b[39m\u001b[38;5;241m.\u001b[39m_sslobj\u001b[38;5;241m.\u001b[39mread(\u001b[38;5;28mlen\u001b[39m)\n",
      "\u001b[1;31mKeyboardInterrupt\u001b[0m: "
     ]
    }
   ],
   "source": [
    "current_datetime = datetime.now()\n",
    "formatted_datetime = current_datetime.strftime(\"%Y_%m_%d_%H_%M_%S\")\n",
    "outputfile_name = str(formatted_datetime) + '_input_cube_worldCereal.nc'\n",
    "\n",
    "input_cube.execute_batch(outputfile = outputfile_name,\n",
    "                        description='world cereal data collection')"
   ]
  },
  {
   "cell_type": "markdown",
   "id": "bc85fadd",
   "metadata": {},
   "source": [
    "Run the presto UDF and fetch presto features"
   ]
  },
  {
   "cell_type": "code",
   "execution_count": 6,
   "id": "64d37c40",
   "metadata": {},
   "outputs": [
    {
     "name": "stdout",
     "output_type": "stream",
     "text": [
      "0:00:00 Job 'j-240522d4b46c4b85a05d7bac60dbd894': send 'start'\n",
      "0:00:20 Job 'j-240522d4b46c4b85a05d7bac60dbd894': created (progress 0%)\n",
      "0:00:25 Job 'j-240522d4b46c4b85a05d7bac60dbd894': running (progress N/A)\n",
      "0:00:34 Job 'j-240522d4b46c4b85a05d7bac60dbd894': running (progress N/A)\n",
      "0:00:42 Job 'j-240522d4b46c4b85a05d7bac60dbd894': running (progress N/A)\n",
      "0:00:52 Job 'j-240522d4b46c4b85a05d7bac60dbd894': running (progress N/A)\n",
      "0:01:05 Job 'j-240522d4b46c4b85a05d7bac60dbd894': running (progress N/A)\n",
      "0:01:21 Job 'j-240522d4b46c4b85a05d7bac60dbd894': running (progress N/A)\n",
      "0:01:40 Job 'j-240522d4b46c4b85a05d7bac60dbd894': running (progress N/A)\n",
      "0:02:05 Job 'j-240522d4b46c4b85a05d7bac60dbd894': running (progress N/A)\n",
      "0:02:36 Job 'j-240522d4b46c4b85a05d7bac60dbd894': running (progress N/A)\n",
      "0:03:13 Job 'j-240522d4b46c4b85a05d7bac60dbd894': running (progress N/A)\n",
      "0:04:00 Job 'j-240522d4b46c4b85a05d7bac60dbd894': running (progress N/A)\n",
      "0:04:59 Job 'j-240522d4b46c4b85a05d7bac60dbd894': running (progress N/A)\n",
      "0:06:00 Job 'j-240522d4b46c4b85a05d7bac60dbd894': running (progress N/A)\n",
      "0:07:00 Job 'j-240522d4b46c4b85a05d7bac60dbd894': running (progress N/A)\n",
      "0:08:01 Job 'j-240522d4b46c4b85a05d7bac60dbd894': finished (progress 100%)\n"
     ]
    },
    {
     "data": {
      "text/html": [
       "\n",
       "    <script>\n",
       "    if (!window.customElements || !window.customElements.get('openeo-job')) {\n",
       "        var el = document.createElement('script');\n",
       "        el.src = \"https://cdn.jsdelivr.net/npm/@openeo/vue-components@2/assets/openeo.min.js\";\n",
       "        document.head.appendChild(el);\n",
       "\n",
       "        var font = document.createElement('font');\n",
       "        font.as = \"font\";\n",
       "        font.type = \"font/woff2\";\n",
       "        font.crossOrigin = true;\n",
       "        font.href = \"https://use.fontawesome.com/releases/v5.13.0/webfonts/fa-solid-900.woff2\"\n",
       "        document.head.appendChild(font);\n",
       "    }\n",
       "    </script>\n",
       "    <openeo-job>\n",
       "        <script type=\"application/json\">{\"currency\": \"credits\", \"job\": {\"costs\": 7.0, \"created\": \"2024-05-22T10:30:00Z\", \"description\": \"world cereal inference\", \"id\": \"j-240522d4b46c4b85a05d7bac60dbd894\", \"process\": {\"process_graph\": {\"aggregatetemporalperiod1\": {\"arguments\": {\"data\": {\"from_node\": \"filterbands1\"}, \"period\": \"month\", \"reducer\": {\"process_graph\": {\"median1\": {\"arguments\": {\"data\": {\"from_parameter\": \"data\"}}, \"process_id\": \"median\", \"result\": true}}}}, \"process_id\": \"aggregate_temporal_period\"}, \"aggregatetemporalperiod2\": {\"arguments\": {\"data\": {\"from_node\": \"sarbackscatter1\"}, \"period\": \"month\", \"reducer\": {\"process_graph\": {\"mean1\": {\"arguments\": {\"data\": {\"from_parameter\": \"data\"}}, \"process_id\": \"mean\", \"result\": true}}}}, \"process_id\": \"aggregate_temporal_period\"}, \"apply1\": {\"arguments\": {\"data\": {\"from_node\": \"aggregatetemporalperiod1\"}, \"process\": {\"process_graph\": {\"linearscalerange1\": {\"arguments\": {\"inputMax\": 65534, \"inputMin\": 0, \"outputMax\": 65534, \"outputMin\": 0, \"x\": {\"from_parameter\": \"x\"}}, \"process_id\": \"linear_scale_range\", \"result\": true}}}}, \"process_id\": \"apply\"}, \"apply2\": {\"arguments\": {\"data\": {\"from_node\": \"applydimension1\"}, \"process\": {\"process_graph\": {\"linearscalerange2\": {\"arguments\": {\"inputMax\": 65534, \"inputMin\": 1, \"outputMax\": 65534, \"outputMin\": 1, \"x\": {\"from_parameter\": \"x\"}}, \"process_id\": \"linear_scale_range\", \"result\": true}}}}, \"process_id\": \"apply\"}, \"apply3\": {\"arguments\": {\"data\": {\"from_node\": \"mergecubes2\"}, \"process\": {\"process_graph\": {\"linearscalerange3\": {\"arguments\": {\"inputMax\": 65534, \"inputMin\": 0, \"outputMax\": 65534, \"outputMin\": 0, \"x\": {\"from_parameter\": \"x\"}}, \"process_id\": \"linear_scale_range\", \"result\": true}}}}, \"process_id\": \"apply\"}, \"applydimension1\": {\"arguments\": {\"data\": {\"from_node\": \"aggregatetemporalperiod2\"}, \"dimension\": \"bands\", \"process\": {\"process_graph\": {\"add1\": {\"arguments\": {\"x\": {\"from_node\": \"multiply1\"}, \"y\": 83.0}, \"process_id\": \"add\"}, \"add2\": {\"arguments\": {\"x\": {\"from_node\": \"multiply2\"}, \"y\": 83.0}, \"process_id\": \"add\"}, \"arraycreate1\": {\"arguments\": {\"data\": [{\"from_node\": \"power1\"}, {\"from_node\": \"power2\"}]}, \"process_id\": \"array_create\", \"result\": true}, \"arrayelement1\": {\"arguments\": {\"data\": {\"from_parameter\": \"data\"}, \"index\": 0}, \"process_id\": \"array_element\"}, \"arrayelement2\": {\"arguments\": {\"data\": {\"from_parameter\": \"data\"}, \"index\": 1}, \"process_id\": \"array_element\"}, \"divide1\": {\"arguments\": {\"x\": {\"from_node\": \"add1\"}, \"y\": 20.0}, \"process_id\": \"divide\"}, \"divide2\": {\"arguments\": {\"x\": {\"from_node\": \"add2\"}, \"y\": 20.0}, \"process_id\": \"divide\"}, \"log1\": {\"arguments\": {\"base\": 10, \"x\": {\"from_node\": \"arrayelement1\"}}, \"process_id\": \"log\"}, \"log2\": {\"arguments\": {\"base\": 10, \"x\": {\"from_node\": \"arrayelement2\"}}, \"process_id\": \"log\"}, \"multiply1\": {\"arguments\": {\"x\": 10.0, \"y\": {\"from_node\": \"log1\"}}, \"process_id\": \"multiply\"}, \"multiply2\": {\"arguments\": {\"x\": 10.0, \"y\": {\"from_node\": \"log2\"}}, \"process_id\": \"multiply\"}, \"power1\": {\"arguments\": {\"base\": 10, \"p\": {\"from_node\": \"divide1\"}}, \"process_id\": \"power\"}, \"power2\": {\"arguments\": {\"base\": 10, \"p\": {\"from_node\": \"divide2\"}}, \"process_id\": \"power\"}}}}, \"process_id\": \"apply_dimension\"}, \"applyneighborhood1\": {\"arguments\": {\"data\": {\"from_node\": \"apply3\"}, \"overlap\": [{\"dimension\": \"x\", \"unit\": \"px\", \"value\": 0}, {\"dimension\": \"y\", \"unit\": \"px\", \"value\": 0}], \"process\": {\"process_graph\": {\"runudf1\": {\"arguments\": {\"data\": {\"from_parameter\": \"data\"}, \"runtime\": \"Python\", \"udf\": \"import logging\\nimport urllib.request\\nimport shutil\\nfrom pathlib import Path\\nimport sys\\nimport functools\\nimport xarray as xr\\nfrom typing import Dict\\nimport numpy as np\\nfrom pyproj import Transformer\\n\\n\\ndef _setup_logging():\\n    logging.basicConfig(level=logging.INFO)\\n    logger = logging.getLogger(__name__)\\n    return logger\\n\\n@functools.lru_cache(maxsize=25)\\ndef extract_dependencies(base_url: str, dependency_name: str):\\n\\n    # Generate absolute path for the dependencies folder\\n    dependencies_dir = Path.cwd() / 'dependencies'\\n\\n    # Create the directory if it doesn't exist\\n    dependencies_dir.mkdir(exist_ok=True, parents=True)\\n\\n\\n    # Download and extract the model file\\n    modelfile_url = f\\\"{base_url}/{dependency_name}\\\"\\n    modelfile, _ = urllib.request.urlretrieve(modelfile_url, filename=dependencies_dir / Path(modelfile_url).name)\\n    shutil.unpack_archive(modelfile, extract_dir=dependencies_dir)\\n\\n    # Add the model directory to system path if it's not already there\\n    abs_path = str(dependencies_dir / Path(modelfile_url).name.split('.zip')[0])\\n\\n    return(abs_path)\\n\\n\\ndef apply_datacube(cube: xr.DataArray, context:Dict) -> xr.DataArray:\\n    \\n    logger = _setup_logging()\\n    \\n     \\n\\n    # shape and indiches for output\\n    cube = cube.transpose('bands', 't', 'x', 'y')\\n    cube = cube.fillna(65535)\\n    orig_dims = list(cube.dims)\\n    map_dims = cube.shape[2:]\\n\\n    logger.info(\\\"Unzipping dependencies\\\")\\n    #base_url = \\\"https://artifactory.vgt.vito.be/artifactory/auxdata-public/worldcereal-minimal-inference/\\\"\\n    base_url  = \\\"https://s3.waw3-1.cloudferro.com/swift/v1/project_dependencies\\\"\\n\\n    dependency_name = \\\"wc_presto_onnx_dependencies.zip\\\"\\n\\n    logger.info(\\\"Appending depencency\\\")\\n    dep_dir = extract_dependencies(base_url, dependency_name)\\n    \\n\\n    #directly add a path to the older pandas version\\n    sys.path.append(str(dep_dir))\\n    sys.path.append(str(dep_dir) + '/pandas')\\n\\n    from dependencies.wc_presto_onnx_dependencies.mvp_wc_presto.world_cereal_inference import get_presto_features\\n\\n    logger.info(\\\"Reading in required libs\\\")\\n\\n    logger.info(\\\"Extracting presto features\\\")\\n    PRESTO_PATH = \\\"https://artifactory.vgt.vito.be/artifactory/auxdata-public/worldcereal-minimal-inference/presto.pt\\\"\\n    features = get_presto_features(cube, PRESTO_PATH, 32631)\\n\\n    # go to 128, 1,100,100 (time, bands, x, y)\\n    presto_dim = map_dims + (128,)   \\n    logger.info(str(features.shape)) \\n    features = features.reshape(presto_dim) #100,100,128\\n    logger.info(str(features.shape))\\n    features = np.expand_dims(features, axis = 0) #1,100,100,128\\n    logger.info(str(features.shape))\\n    features = np.transpose(features, (3, 0, 1, 2)) #128,1,100,100\\n    logger.info(str(features.shape))\\n\\n\\n    transformer = Transformer.from_crs(f\\\"EPSG:{32631}\\\", \\\"EPSG:4326\\\", always_xy=True)\\n    longitudes, latitudes = transformer.transform(cube.x, cube.y)\\n\\n    \\n    output = xr.DataArray(features, dims=orig_dims, coords={'x': longitudes, 'y': latitudes})\\n    return output\\n\\n\\n\\n\\n\\n\\n\\n\\n\\n\\n\\n\\n\\n\\n\\n\\n\"}, \"process_id\": \"run_udf\", \"result\": true}}}, \"size\": [{\"dimension\": \"x\", \"unit\": \"px\", \"value\": 100}, {\"dimension\": \"y\", \"unit\": \"px\", \"value\": 100}]}, \"process_id\": \"apply_neighborhood\"}, \"filterbands1\": {\"arguments\": {\"bands\": [\"B02\", \"B03\", \"B04\", \"B05\", \"B06\", \"B07\", \"B08\", \"B8A\", \"B11\", \"B12\"], \"data\": {\"from_node\": \"maskscldilation1\"}}, \"process_id\": \"filter_bands\"}, \"filtertemporal1\": {\"arguments\": {\"data\": {\"from_node\": \"mergecubes1\"}, \"extent\": [\"2020-11-01\", \"2021-10-31\"]}, \"process_id\": \"filter_temporal\"}, \"loadcollection1\": {\"arguments\": {\"bands\": [\"B02\", \"B03\", \"B04\", \"B05\", \"B06\", \"B07\", \"B08\", \"B8A\", \"B11\", \"B12\", \"SCL\"], \"id\": \"SENTINEL2_L2A\", \"properties\": {\"eo:cloud_cover\": {\"process_graph\": {\"lte1\": {\"arguments\": {\"x\": {\"from_parameter\": \"value\"}, \"y\": 95}, \"process_id\": \"lte\", \"result\": true}}}}, \"spatial_extent\": {\"crs\": \"EPSG:32631\", \"east\": 665000.0, \"north\": 5612120.0, \"south\": 5611120.0, \"west\": 664000.0}, \"temporal_extent\": [\"2020-11-01\", \"2021-10-31\"]}, \"process_id\": \"load_collection\"}, \"loadcollection2\": {\"arguments\": {\"bands\": [\"VH\", \"VV\"], \"id\": \"SENTINEL1_GRD\", \"spatial_extent\": {\"crs\": \"EPSG:32631\", \"east\": 665000.0, \"north\": 5612120.0, \"south\": 5611120.0, \"west\": 664000.0}, \"temporal_extent\": [\"2020-11-01\", \"2021-10-31\"]}, \"process_id\": \"load_collection\"}, \"loadcollection3\": {\"arguments\": {\"id\": \"COPERNICUS_30\", \"spatial_extent\": {\"crs\": \"EPSG:32631\", \"east\": 665000.0, \"north\": 5612120.0, \"south\": 5611120.0, \"west\": 664000.0}, \"temporal_extent\": null}, \"process_id\": \"load_collection\"}, \"maskscldilation1\": {\"arguments\": {\"data\": {\"from_node\": \"loadcollection1\"}, \"erosion_kernel_size\": 3, \"kernel1_size\": 17, \"kernel2_size\": 77, \"mask1_values\": [2, 4, 5, 6, 7], \"mask2_values\": [3, 8, 9, 10, 11], \"scl_band_name\": \"SCL\"}, \"process_id\": \"mask_scl_dilation\"}, \"mergecubes1\": {\"arguments\": {\"cube1\": {\"from_node\": \"resamplecubespatial1\"}, \"cube2\": {\"from_node\": \"apply2\"}}, \"process_id\": \"merge_cubes\"}, \"mergecubes2\": {\"arguments\": {\"cube1\": {\"from_node\": \"filtertemporal1\"}, \"cube2\": {\"from_node\": \"reducedimension1\"}}, \"process_id\": \"merge_cubes\"}, \"reducedimension1\": {\"arguments\": {\"data\": {\"from_node\": \"loadcollection3\"}, \"dimension\": \"t\", \"reducer\": {\"process_graph\": {\"max1\": {\"arguments\": {\"data\": {\"from_parameter\": \"data\"}}, \"process_id\": \"max\", \"result\": true}}}}, \"process_id\": \"reduce_dimension\"}, \"renamelabels1\": {\"arguments\": {\"data\": {\"from_node\": \"applyneighborhood1\"}, \"dimension\": \"bands\", \"target\": [\"presto_1\", \"presto_2\", \"presto_3\", \"presto_4\", \"presto_5\", \"presto_6\", \"presto_7\", \"presto_8\", \"presto_9\", \"presto_10\", \"presto_11\", \"presto_12\", \"presto_13\", \"presto_14\", \"presto_15\", \"presto_16\", \"presto_17\", \"presto_18\", \"presto_19\", \"presto_20\", \"presto_21\", \"presto_22\", \"presto_23\", \"presto_24\", \"presto_25\", \"presto_26\", \"presto_27\", \"presto_28\", \"presto_29\", \"presto_30\", \"presto_31\", \"presto_32\", \"presto_33\", \"presto_34\", \"presto_35\", \"presto_36\", \"presto_37\", \"presto_38\", \"presto_39\", \"presto_40\", \"presto_41\", \"presto_42\", \"presto_43\", \"presto_44\", \"presto_45\", \"presto_46\", \"presto_47\", \"presto_48\", \"presto_49\", \"presto_50\", \"presto_51\", \"presto_52\", \"presto_53\", \"presto_54\", \"presto_55\", \"presto_56\", \"presto_57\", \"presto_58\", \"presto_59\", \"presto_60\", \"presto_61\", \"presto_62\", \"presto_63\", \"presto_64\", \"presto_65\", \"presto_66\", \"presto_67\", \"presto_68\", \"presto_69\", \"presto_70\", \"presto_71\", \"presto_72\", \"presto_73\", \"presto_74\", \"presto_75\", \"presto_76\", \"presto_77\", \"presto_78\", \"presto_79\", \"presto_80\", \"presto_81\", \"presto_82\", \"presto_83\", \"presto_84\", \"presto_85\", \"presto_86\", \"presto_87\", \"presto_88\", \"presto_89\", \"presto_90\", \"presto_91\", \"presto_92\", \"presto_93\", \"presto_94\", \"presto_95\", \"presto_96\", \"presto_97\", \"presto_98\", \"presto_99\", \"presto_100\", \"presto_101\", \"presto_102\", \"presto_103\", \"presto_104\", \"presto_105\", \"presto_106\", \"presto_107\", \"presto_108\", \"presto_109\", \"presto_110\", \"presto_111\", \"presto_112\", \"presto_113\", \"presto_114\", \"presto_115\", \"presto_116\", \"presto_117\", \"presto_118\", \"presto_119\", \"presto_120\", \"presto_121\", \"presto_122\", \"presto_123\", \"presto_124\", \"presto_125\", \"presto_126\", \"presto_127\", \"presto_128\"]}, \"process_id\": \"rename_labels\"}, \"resamplecubespatial1\": {\"arguments\": {\"data\": {\"from_node\": \"apply1\"}, \"method\": \"near\", \"target\": {\"from_node\": \"apply2\"}}, \"process_id\": \"resample_cube_spatial\"}, \"sarbackscatter1\": {\"arguments\": {\"coefficient\": \"sigma0-ellipsoid\", \"contributing_area\": false, \"data\": {\"from_node\": \"loadcollection2\"}, \"elevation_model\": null, \"ellipsoid_incidence_angle\": false, \"local_incidence_angle\": false, \"mask\": false, \"noise_removal\": true, \"options\": {\"debug\": false, \"elev_geoid\": \"/opt/openeo-vito-aux-data/egm96.tif\", \"implementation_version\": \"2\", \"otb_memory\": 1024, \"tile_size\": 256}}, \"process_id\": \"sar_backscatter\"}, \"saveresult1\": {\"arguments\": {\"data\": {\"from_node\": \"renamelabels1\"}, \"format\": \"netCDF\", \"options\": {}}, \"process_id\": \"save_result\", \"result\": true}}}, \"progress\": 100, \"status\": \"finished\", \"updated\": \"2024-05-22T10:37:26Z\", \"usage\": {\"cpu\": {\"unit\": \"cpu-seconds\", \"value\": 2422.92191932}, \"duration\": {\"unit\": \"seconds\", \"value\": 420}, \"input_pixel\": {\"unit\": \"mega-pixel\", \"value\": 33.689186096191406}, \"max_executor_memory\": {\"unit\": \"gb\", \"value\": 7.832515716552734}, \"memory\": {\"unit\": \"mb-seconds\", \"value\": 18423873.6796875}, \"network_received\": {\"unit\": \"b\", \"value\": 72579014044.0}}}}</script>\n",
       "    </openeo-job>\n",
       "    "
      ],
      "text/plain": [
       "<BatchJob job_id='j-240522d4b46c4b85a05d7bac60dbd894'>"
      ]
     },
     "execution_count": 6,
     "metadata": {},
     "output_type": "execute_result"
    }
   ],
   "source": [
    "from datetime import datetime\n",
    "\n",
    "current_datetime = datetime.now()\n",
    "formatted_datetime = current_datetime.strftime(\"%Y_%m_%d_%H_%M_%S\")\n",
    "outputfile_name = str(formatted_datetime) + '_output_presto.nc'\n",
    "\n",
    "udf = openeo.UDF.from_file(\"udf_presto.py\")\n",
    "\n",
    "prediction = input_cube.apply_neighborhood(\n",
    "    process=udf,\n",
    "    size=[\n",
    "        {\"dimension\": \"x\", \"value\": 100, \"unit\": \"px\"},\n",
    "        {\"dimension\": \"y\", \"value\": 100, \"unit\": \"px\"},\n",
    "    ],\n",
    "    overlap=[\n",
    "        {\"dimension\": \"x\", \"value\": 0, \"unit\": \"px\"},\n",
    "        {\"dimension\": \"y\", \"value\": 0, \"unit\": \"px\"},\n",
    "    ],\n",
    ")\n",
    "\n",
    "presto_list = [\"presto_\" + str(i) for i in range(1, 129)]\n",
    "prediction = prediction.rename_labels(dimension=\"bands\",target= presto_list)\n",
    "\n",
    "prediction.execute_batch(outputfile = outputfile_name,\n",
    "                        description='world cereal inference',\n",
    "                        job_options={'driver-memory': '4g',\n",
    "                                    'executor-memoryOverhead':'8g'} )"
   ]
  },
  {
   "cell_type": "code",
   "execution_count": 8,
   "id": "88755080",
   "metadata": {},
   "outputs": [
    {
     "data": {
      "text/plain": [
       "array([[[ 1.28030717,  1.24561238,  0.89612383, ..., -0.88404161,\n",
       "         -0.86419362, -0.94284689],\n",
       "        [ 1.18315971,  1.24996054,  1.00327194, ..., -0.86914986,\n",
       "         -0.81153351, -0.78880918],\n",
       "        [ 1.22972143,  1.34015703,  0.4644534 , ..., -0.88735497,\n",
       "         -0.86509544, -0.75152397],\n",
       "        ...,\n",
       "        [-0.04115722, -0.09354208,  0.06488457, ...,  0.52544767,\n",
       "          0.68004614,  0.2031192 ],\n",
       "        [ 0.16457513,  0.18039979,  0.25627238, ...,  0.43219674,\n",
       "          0.49971986,  0.24406503],\n",
       "        [ 0.20367333,  0.1553583 ,  0.22572494, ..., -0.35009685,\n",
       "         -0.44863623, -0.45004168]]])"
      ]
     },
     "execution_count": 8,
     "metadata": {},
     "output_type": "execute_result"
    }
   ],
   "source": [
    "import xarray as xr\n",
    "import matplotlib.pyplot as plt\n",
    "\n",
    "output = xr.open_dataset(outputfile_name)\n",
    "output['presto_1'].values"
   ]
  },
  {
   "cell_type": "markdown",
   "id": "48c9322c",
   "metadata": {},
   "source": [
    "Calculate the presto features and run the classifier on top"
   ]
  },
  {
   "cell_type": "code",
   "execution_count": 3,
   "id": "8f71136c-1252-4786-8609-8bb995da7daf",
   "metadata": {
    "tags": []
   },
   "outputs": [
    {
     "name": "stdout",
     "output_type": "stream",
     "text": [
      "0:00:00 Job 'j-2405229dc1614b34a394f847fafe77c2': send 'start'\n",
      "0:00:25 Job 'j-2405229dc1614b34a394f847fafe77c2': created (progress 0%)\n",
      "0:00:31 Job 'j-2405229dc1614b34a394f847fafe77c2': created (progress 0%)\n",
      "0:00:38 Job 'j-2405229dc1614b34a394f847fafe77c2': created (progress 0%)\n",
      "0:00:46 Job 'j-2405229dc1614b34a394f847fafe77c2': running (progress N/A)\n",
      "0:00:58 Job 'j-2405229dc1614b34a394f847fafe77c2': running (progress N/A)\n",
      "0:01:11 Job 'j-2405229dc1614b34a394f847fafe77c2': running (progress N/A)\n",
      "0:01:27 Job 'j-2405229dc1614b34a394f847fafe77c2': running (progress N/A)\n",
      "0:01:48 Job 'j-2405229dc1614b34a394f847fafe77c2': running (progress N/A)\n",
      "0:02:13 Job 'j-2405229dc1614b34a394f847fafe77c2': running (progress N/A)\n",
      "0:02:43 Job 'j-2405229dc1614b34a394f847fafe77c2': running (progress N/A)\n",
      "0:03:21 Job 'j-2405229dc1614b34a394f847fafe77c2': running (progress N/A)\n",
      "0:04:08 Job 'j-2405229dc1614b34a394f847fafe77c2': running (progress N/A)\n",
      "0:05:08 Job 'j-2405229dc1614b34a394f847fafe77c2': running (progress N/A)\n",
      "0:06:09 Job 'j-2405229dc1614b34a394f847fafe77c2': running (progress N/A)\n",
      "0:07:09 Job 'j-2405229dc1614b34a394f847fafe77c2': running (progress N/A)\n",
      "0:08:10 Job 'j-2405229dc1614b34a394f847fafe77c2': running (progress N/A)\n",
      "0:09:12 Job 'j-2405229dc1614b34a394f847fafe77c2': running (progress N/A)\n",
      "0:10:13 Job 'j-2405229dc1614b34a394f847fafe77c2': running (progress N/A)\n",
      "0:11:14 Job 'j-2405229dc1614b34a394f847fafe77c2': error (progress N/A)\n",
      "Your batch job 'j-2405229dc1614b34a394f847fafe77c2' failed. Error logs:\n",
      "[]\n",
      "Full logs can be inspected in an openEO (web) editor or with `connection.job('j-2405229dc1614b34a394f847fafe77c2').logs()`.\n"
     ]
    },
    {
     "ename": "JobFailedException",
     "evalue": "Batch job 'j-2405229dc1614b34a394f847fafe77c2' didn't finish successfully. Status: error (after 0:11:15).",
     "output_type": "error",
     "traceback": [
      "\u001b[1;31m---------------------------------------------------------------------------\u001b[0m",
      "\u001b[1;31mJobFailedException\u001b[0m                        Traceback (most recent call last)",
      "Cell \u001b[1;32mIn[3], line 21\u001b[0m\n\u001b[0;32m      7\u001b[0m prediction \u001b[38;5;241m=\u001b[39m input_cube\u001b[38;5;241m.\u001b[39mapply_neighborhood(\n\u001b[0;32m      8\u001b[0m     process\u001b[38;5;241m=\u001b[39mudf,\n\u001b[0;32m      9\u001b[0m     size\u001b[38;5;241m=\u001b[39m[\n\u001b[1;32m   (...)\u001b[0m\n\u001b[0;32m     16\u001b[0m     ],\n\u001b[0;32m     17\u001b[0m )\n\u001b[0;32m     19\u001b[0m prediction \u001b[38;5;241m=\u001b[39m prediction\u001b[38;5;241m.\u001b[39mrename_labels(dimension\u001b[38;5;241m=\u001b[39m\u001b[38;5;124m\"\u001b[39m\u001b[38;5;124mbands\u001b[39m\u001b[38;5;124m\"\u001b[39m,target\u001b[38;5;241m=\u001b[39m [\u001b[38;5;124m\"\u001b[39m\u001b[38;5;124moutput_catboost\u001b[39m\u001b[38;5;124m\"\u001b[39m])\n\u001b[1;32m---> 21\u001b[0m \u001b[43mprediction\u001b[49m\u001b[38;5;241;43m.\u001b[39;49m\u001b[43mexecute_batch\u001b[49m\u001b[43m(\u001b[49m\u001b[43moutputfile\u001b[49m\u001b[43m \u001b[49m\u001b[38;5;241;43m=\u001b[39;49m\u001b[43m \u001b[49m\u001b[43moutputfile_name\u001b[49m\u001b[43m,\u001b[49m\n\u001b[0;32m     22\u001b[0m \u001b[43m                        \u001b[49m\u001b[43mdescription\u001b[49m\u001b[38;5;241;43m=\u001b[39;49m\u001b[38;5;124;43m'\u001b[39;49m\u001b[38;5;124;43mworld cereal inference\u001b[39;49m\u001b[38;5;124;43m'\u001b[39;49m\u001b[43m,\u001b[49m\n\u001b[0;32m     23\u001b[0m \u001b[43m                        \u001b[49m\u001b[43mjob_options\u001b[49m\u001b[38;5;241;43m=\u001b[39;49m\u001b[43m{\u001b[49m\u001b[38;5;124;43m'\u001b[39;49m\u001b[38;5;124;43mdriver-memory\u001b[39;49m\u001b[38;5;124;43m'\u001b[39;49m\u001b[43m:\u001b[49m\u001b[43m \u001b[49m\u001b[38;5;124;43m'\u001b[39;49m\u001b[38;5;124;43m4g\u001b[39;49m\u001b[38;5;124;43m'\u001b[39;49m\u001b[43m,\u001b[49m\n\u001b[0;32m     24\u001b[0m \u001b[43m                                    \u001b[49m\u001b[38;5;124;43m'\u001b[39;49m\u001b[38;5;124;43mexecutor-memoryOverhead\u001b[39;49m\u001b[38;5;124;43m'\u001b[39;49m\u001b[43m:\u001b[49m\u001b[38;5;124;43m'\u001b[39;49m\u001b[38;5;124;43m8g\u001b[39;49m\u001b[38;5;124;43m'\u001b[39;49m\u001b[43m}\u001b[49m\u001b[43m \u001b[49m\u001b[43m)\u001b[49m\n",
      "File \u001b[1;32mc:\\Users\\VROMPAYH\\AppData\\Local\\anaconda3\\envs\\wc_presto\\Lib\\site-packages\\openeo\\rest\\datacube.py:2227\u001b[0m, in \u001b[0;36mDataCube.execute_batch\u001b[1;34m(self, outputfile, out_format, print, max_poll_interval, connection_retry_interval, job_options, validate, **format_options)\u001b[0m\n\u001b[0;32m   2224\u001b[0m     out_format \u001b[38;5;241m=\u001b[39m guess_format(outputfile)\n\u001b[0;32m   2226\u001b[0m job \u001b[38;5;241m=\u001b[39m \u001b[38;5;28mself\u001b[39m\u001b[38;5;241m.\u001b[39mcreate_job(out_format\u001b[38;5;241m=\u001b[39mout_format, job_options\u001b[38;5;241m=\u001b[39mjob_options, validate\u001b[38;5;241m=\u001b[39mvalidate, \u001b[38;5;241m*\u001b[39m\u001b[38;5;241m*\u001b[39mformat_options)\n\u001b[1;32m-> 2227\u001b[0m \u001b[38;5;28;01mreturn\u001b[39;00m \u001b[43mjob\u001b[49m\u001b[38;5;241;43m.\u001b[39;49m\u001b[43mrun_synchronous\u001b[49m\u001b[43m(\u001b[49m\n\u001b[0;32m   2228\u001b[0m \u001b[43m    \u001b[49m\u001b[43moutputfile\u001b[49m\u001b[38;5;241;43m=\u001b[39;49m\u001b[43moutputfile\u001b[49m\u001b[43m,\u001b[49m\n\u001b[0;32m   2229\u001b[0m \u001b[43m    \u001b[49m\u001b[38;5;28;43mprint\u001b[39;49m\u001b[38;5;241;43m=\u001b[39;49m\u001b[38;5;28;43mprint\u001b[39;49m\u001b[43m,\u001b[49m\u001b[43m \u001b[49m\u001b[43mmax_poll_interval\u001b[49m\u001b[38;5;241;43m=\u001b[39;49m\u001b[43mmax_poll_interval\u001b[49m\u001b[43m,\u001b[49m\u001b[43m \u001b[49m\u001b[43mconnection_retry_interval\u001b[49m\u001b[38;5;241;43m=\u001b[39;49m\u001b[43mconnection_retry_interval\u001b[49m\n\u001b[0;32m   2230\u001b[0m \u001b[43m\u001b[49m\u001b[43m)\u001b[49m\n",
      "File \u001b[1;32mc:\\Users\\VROMPAYH\\AppData\\Local\\anaconda3\\envs\\wc_presto\\Lib\\site-packages\\openeo\\rest\\job.py:239\u001b[0m, in \u001b[0;36mBatchJob.run_synchronous\u001b[1;34m(self, outputfile, print, max_poll_interval, connection_retry_interval)\u001b[0m\n\u001b[0;32m    234\u001b[0m \u001b[38;5;28;01mdef\u001b[39;00m \u001b[38;5;21mrun_synchronous\u001b[39m(\n\u001b[0;32m    235\u001b[0m         \u001b[38;5;28mself\u001b[39m, outputfile: Union[\u001b[38;5;28mstr\u001b[39m, Path, \u001b[38;5;28;01mNone\u001b[39;00m] \u001b[38;5;241m=\u001b[39m \u001b[38;5;28;01mNone\u001b[39;00m,\n\u001b[0;32m    236\u001b[0m         \u001b[38;5;28mprint\u001b[39m\u001b[38;5;241m=\u001b[39m\u001b[38;5;28mprint\u001b[39m, max_poll_interval\u001b[38;5;241m=\u001b[39m\u001b[38;5;241m60\u001b[39m, connection_retry_interval\u001b[38;5;241m=\u001b[39m\u001b[38;5;241m30\u001b[39m\n\u001b[0;32m    237\u001b[0m ) \u001b[38;5;241m-\u001b[39m\u001b[38;5;241m>\u001b[39m BatchJob:\n\u001b[0;32m    238\u001b[0m \u001b[38;5;250m    \u001b[39m\u001b[38;5;124;03m\"\"\"Start the job, wait for it to finish and download result\"\"\"\u001b[39;00m\n\u001b[1;32m--> 239\u001b[0m     \u001b[38;5;28;43mself\u001b[39;49m\u001b[38;5;241;43m.\u001b[39;49m\u001b[43mstart_and_wait\u001b[49m\u001b[43m(\u001b[49m\n\u001b[0;32m    240\u001b[0m \u001b[43m        \u001b[49m\u001b[38;5;28;43mprint\u001b[39;49m\u001b[38;5;241;43m=\u001b[39;49m\u001b[38;5;28;43mprint\u001b[39;49m\u001b[43m,\u001b[49m\u001b[43m \u001b[49m\u001b[43mmax_poll_interval\u001b[49m\u001b[38;5;241;43m=\u001b[39;49m\u001b[43mmax_poll_interval\u001b[49m\u001b[43m,\u001b[49m\u001b[43m \u001b[49m\u001b[43mconnection_retry_interval\u001b[49m\u001b[38;5;241;43m=\u001b[39;49m\u001b[43mconnection_retry_interval\u001b[49m\n\u001b[0;32m    241\u001b[0m \u001b[43m    \u001b[49m\u001b[43m)\u001b[49m\n\u001b[0;32m    242\u001b[0m     \u001b[38;5;66;03m# TODO #135 support multi file result sets too?\u001b[39;00m\n\u001b[0;32m    243\u001b[0m     \u001b[38;5;28;01mif\u001b[39;00m outputfile \u001b[38;5;129;01mis\u001b[39;00m \u001b[38;5;129;01mnot\u001b[39;00m \u001b[38;5;28;01mNone\u001b[39;00m:\n",
      "File \u001b[1;32mc:\\Users\\VROMPAYH\\AppData\\Local\\anaconda3\\envs\\wc_presto\\Lib\\site-packages\\openeo\\rest\\job.py:321\u001b[0m, in \u001b[0;36mBatchJob.start_and_wait\u001b[1;34m(self, print, max_poll_interval, connection_retry_interval, soft_error_max)\u001b[0m\n\u001b[0;32m    317\u001b[0m     \u001b[38;5;28mprint\u001b[39m(\u001b[38;5;28mself\u001b[39m\u001b[38;5;241m.\u001b[39mlogs(level\u001b[38;5;241m=\u001b[39mlogging\u001b[38;5;241m.\u001b[39mERROR))\n\u001b[0;32m    318\u001b[0m     \u001b[38;5;28mprint\u001b[39m(\n\u001b[0;32m    319\u001b[0m         \u001b[38;5;124mf\u001b[39m\u001b[38;5;124m\"\u001b[39m\u001b[38;5;124mFull logs can be inspected in an openEO (web) editor or with `connection.job(\u001b[39m\u001b[38;5;132;01m{\u001b[39;00m\u001b[38;5;28mself\u001b[39m\u001b[38;5;241m.\u001b[39mjob_id\u001b[38;5;132;01m!r}\u001b[39;00m\u001b[38;5;124m).logs()`.\u001b[39m\u001b[38;5;124m\"\u001b[39m\n\u001b[0;32m    320\u001b[0m     )\n\u001b[1;32m--> 321\u001b[0m     \u001b[38;5;28;01mraise\u001b[39;00m JobFailedException(\n\u001b[0;32m    322\u001b[0m         \u001b[38;5;124mf\u001b[39m\u001b[38;5;124m\"\u001b[39m\u001b[38;5;124mBatch job \u001b[39m\u001b[38;5;132;01m{\u001b[39;00m\u001b[38;5;28mself\u001b[39m\u001b[38;5;241m.\u001b[39mjob_id\u001b[38;5;132;01m!r}\u001b[39;00m\u001b[38;5;124m didn\u001b[39m\u001b[38;5;124m'\u001b[39m\u001b[38;5;124mt finish successfully. Status: \u001b[39m\u001b[38;5;132;01m{\u001b[39;00mstatus\u001b[38;5;132;01m}\u001b[39;00m\u001b[38;5;124m (after \u001b[39m\u001b[38;5;132;01m{\u001b[39;00melapsed()\u001b[38;5;132;01m}\u001b[39;00m\u001b[38;5;124m).\u001b[39m\u001b[38;5;124m\"\u001b[39m,\n\u001b[0;32m    323\u001b[0m         job\u001b[38;5;241m=\u001b[39m\u001b[38;5;28mself\u001b[39m,\n\u001b[0;32m    324\u001b[0m     )\n\u001b[0;32m    326\u001b[0m \u001b[38;5;28;01mreturn\u001b[39;00m \u001b[38;5;28mself\u001b[39m\n",
      "\u001b[1;31mJobFailedException\u001b[0m: Batch job 'j-2405229dc1614b34a394f847fafe77c2' didn't finish successfully. Status: error (after 0:11:15)."
     ]
    }
   ],
   "source": [
    "\n",
    "current_datetime = datetime.now()\n",
    "formatted_datetime = current_datetime.strftime(\"%Y_%m_%d_%H_%M_%S\")\n",
    "outputfile_name = str(formatted_datetime) + '_output_worldcereal.nc'\n",
    "\n",
    "udf = openeo.UDF.from_file(\"udf_worldcereal_inference.py\")\n",
    "\n",
    "prediction = input_cube.apply_neighborhood(\n",
    "    process=udf,\n",
    "    size=[\n",
    "        {\"dimension\": \"x\", \"value\": 100, \"unit\": \"px\"},\n",
    "        {\"dimension\": \"y\", \"value\": 100, \"unit\": \"px\"},\n",
    "    ],\n",
    "    overlap=[\n",
    "        {\"dimension\": \"x\", \"value\": 0, \"unit\": \"px\"},\n",
    "        {\"dimension\": \"y\", \"value\": 0, \"unit\": \"px\"},\n",
    "    ],\n",
    ")\n",
    "\n",
    "prediction = prediction.rename_labels(dimension=\"bands\",target= [\"output_catboost\"])\n",
    "\n",
    "prediction.execute_batch(outputfile = outputfile_name,\n",
    "                        description='world cereal inference',\n",
    "                        job_options={'driver-memory': '4g',\n",
    "                                    'executor-memoryOverhead':'8g'} )\n"
   ]
  },
  {
   "cell_type": "markdown",
   "id": "1f716b7a",
   "metadata": {},
   "source": [
    "Fetch the output and visualise"
   ]
  },
  {
   "cell_type": "code",
   "execution_count": 10,
   "id": "2cf64980",
   "metadata": {},
   "outputs": [
    {
     "data": {
      "text/plain": [
       "(116, 144)"
      ]
     },
     "execution_count": 10,
     "metadata": {},
     "output_type": "execute_result"
    },
    {
     "data": {
      "image/png": "[encoded data removed]",
      "text/plain": [
       "<Figure size 640x480 with 1 Axes>"
      ]
     },
     "metadata": {},
     "output_type": "display_data"
    }
   ],
   "source": [
    "import xarray as xr\n",
    "import matplotlib.pyplot as plt\n",
    "\n",
    "output = xr.open_dataset('2024_05_17_14_56_51_output_worldcereal.nc')\n",
    "output = output['output_catboost'].to_numpy().squeeze()\n",
    "plt.imshow(output)\n",
    "\n",
    "output.shape\n"
   ]
  },
  {
   "cell_type": "code",
   "execution_count": 15,
   "id": "f18b1535",
   "metadata": {},
   "outputs": [
    {
     "name": "stdout",
     "output_type": "stream",
     "text": [
      "<xarray.DataArray 'presto_1' (t: 1, y: 116, x: 144)> Size: 134kB\n",
      "[16704 values with dtype=float64]\n",
      "Coordinates:\n",
      "  * t        (t) datetime64[ns] 8B 1970-01-01\n",
      "  * x        (x) float64 1kB 6.528e+05 6.528e+05 ... 6.542e+05 6.542e+05\n",
      "  * y        (y) float64 928B 5.681e+06 5.681e+06 ... 5.68e+06 5.68e+06\n",
      "Attributes:\n",
      "    long_name:     presto_1\n",
      "    units:         \n",
      "    grid_mapping:  crs\n"
     ]
    }
   ],
   "source": [
    "presto_ft = xr.open_dataset('2024_05_17_14_00_16_output_presto.nc')\n",
    "\n",
    "print(presto_ft['presto_1'])\n"
   ]
  },
  {
   "cell_type": "markdown",
   "id": "5b47a2a0-d5f4-4e39-a924-4bca923400de",
   "metadata": {},
   "source": [
    "### Check reference"
   ]
  },
  {
   "cell_type": "code",
   "execution_count": 7,
   "id": "2c63667b-8e43-4640-8c70-41b85ad060d2",
   "metadata": {
    "tags": []
   },
   "outputs": [
    {
     "data": {
      "text/plain": [
       "<matplotlib.image.AxesImage at 0x1b48f018b90>"
      ]
     },
     "execution_count": 7,
     "metadata": {},
     "output_type": "execute_result"
    },
    {
     "data": {
      "image/png": "[encoded data removed]",
      "text/plain": [
       "<Figure size 1000x800 with 1 Axes>"
      ]
     },
     "metadata": {},
     "output_type": "display_data"
    }
   ],
   "source": []
  }
 ],
 "metadata": {
  "kernelspec": {
   "display_name": "Python 3",
   "language": "python",
   "name": "python3"
  },
  "language_info": {
   "codemirror_mode": {
    "name": "ipython",
    "version": 3
   },
   "file_extension": ".py",
   "mimetype": "text/x-python",
   "name": "python",
   "nbconvert_exporter": "python",
   "pygments_lexer": "ipython3",
   "version": "3.12.2"
  }
 },
 "nbformat": 4,
 "nbformat_minor": 5
}
