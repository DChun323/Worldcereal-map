{
 "cells": [
  {
   "cell_type": "markdown",
   "id": "b879f7b4-9a3f-41fc-90d0-ab9cfd25a093",
   "metadata": {},
   "source": [
    "### Make OpenEO connection"
   ]
  },
  {
   "cell_type": "code",
   "execution_count": 19,
   "id": "f700773b-a843-4ebe-b6ca-8f805b4ee5bf",
   "metadata": {
    "tags": []
   },
   "outputs": [
    {
     "name": "stdout",
     "output_type": "stream",
     "text": [
      "Authenticated using refresh token.\n"
     ]
    }
   ],
   "source": [
    "import openeo\n",
    "\n",
    "#token for METEO\n",
    "#connection_terra = openeo.connect(\"openeo.vito.be\").authenticate_oidc()\n",
    "\n",
    "#token SENTINEL\n",
    "connection = openeo.connect(\"https://openeofed.dataspace.copernicus.eu/\").authenticate_oidc()"
   ]
  },
  {
   "cell_type": "code",
   "execution_count": 22,
   "id": "5494c46d",
   "metadata": {},
   "outputs": [
    {
     "name": "stderr",
     "output_type": "stream",
     "text": [
      "Preflight process graph validation raised: [InternalValidationFailure] Validation failed: BackendLookupFailureException(status_code=400, code='BackendLookupFailure', message=\"Collections across multiple backends ({'cdse', 'terrascope'}): {'COPERNICUS_30', 'SENTINEL2_L2A', 'SENTINEL1_GRD', 'AGERA5'}.\", id='r-24051536a816438ebace84c022cdb826')\n"
     ]
    },
    {
     "name": "stdout",
     "output_type": "stream",
     "text": [
      "0:00:00 Job 'agg-pj-20240515-101812': send 'start'\n",
      "0:01:09 Job 'agg-pj-20240515-101812': running (progress 0%)\n",
      "0:01:19 Job 'agg-pj-20240515-101812': running (progress 0%)\n",
      "0:01:31 Job 'agg-pj-20240515-101812': running (progress 0%)\n",
      "0:01:42 Job 'agg-pj-20240515-101812': running (progress 0%)\n",
      "0:01:57 Job 'agg-pj-20240515-101812': running (progress 0%)\n",
      "0:02:15 Job 'agg-pj-20240515-101812': running (progress 0%)\n",
      "0:02:34 Job 'agg-pj-20240515-101812': running (progress 0%)\n",
      "0:03:01 Job 'agg-pj-20240515-101812': running (progress 0%)\n",
      "0:03:29 Job 'agg-pj-20240515-101812': running (progress 0%)\n",
      "0:04:03 Job 'agg-pj-20240515-101812': running (progress 0%)\n",
      "0:04:46 Job 'agg-pj-20240515-101812': running (progress 25%)\n",
      "0:05:45 Job 'agg-pj-20240515-101812': running (progress 25%)\n",
      "0:06:47 Job 'agg-pj-20240515-101812': running (progress 25%)\n",
      "0:08:01 Job 'agg-pj-20240515-101812': running (progress 25%)\n",
      "0:09:10 Job 'agg-pj-20240515-101812': running (progress 25%)\n",
      "0:10:14 Job 'agg-pj-20240515-101812': running (progress 25%)\n",
      "0:11:26 Job 'agg-pj-20240515-101812': running (progress 25%)\n",
      "0:12:31 Job 'agg-pj-20240515-101812': running (progress 25%)\n",
      "0:13:37 Job 'agg-pj-20240515-101812': running (progress 25%)\n",
      "0:14:40 Job 'agg-pj-20240515-101812': running (progress 25%)\n",
      "0:15:44 Job 'agg-pj-20240515-101812': running (progress 25%)\n",
      "0:16:48 Job 'agg-pj-20240515-101812': running (progress 25%)\n",
      "0:17:53 Job 'agg-pj-20240515-101812': running (progress 25%)\n",
      "0:19:13 Job 'agg-pj-20240515-101812': running (progress 25%)\n",
      "0:20:27 Job 'agg-pj-20240515-101812': running (progress 25%)\n",
      "0:21:33 Job 'agg-pj-20240515-101812': running (progress 25%)\n",
      "0:22:37 Job 'agg-pj-20240515-101812': running (progress 25%)\n",
      "0:23:43 Job 'agg-pj-20240515-101812': running (progress 25%)\n",
      "0:24:46 Job 'agg-pj-20240515-101812': running (progress 25%)\n",
      "0:25:50 Job 'agg-pj-20240515-101812': running (progress 25%)\n",
      "0:26:55 Job 'agg-pj-20240515-101812': running (progress 25%)\n",
      "0:28:02 Job 'agg-pj-20240515-101812': running (progress 25%)\n",
      "0:29:09 Job 'agg-pj-20240515-101812': running (progress 25%)\n",
      "0:30:15 Job 'agg-pj-20240515-101812': running (progress 25%)\n",
      "0:31:36 Job 'agg-pj-20240515-101812': running (progress 25%)\n",
      "0:32:42 Job 'agg-pj-20240515-101812': running (progress 25%)\n",
      "0:33:48 Job 'agg-pj-20240515-101812': running (progress 25%)\n",
      "0:34:54 Job 'agg-pj-20240515-101812': running (progress 25%)\n",
      "0:36:05 Job 'agg-pj-20240515-101812': running (progress 25%)\n",
      "0:37:10 Job 'agg-pj-20240515-101812': running (progress 25%)\n",
      "0:38:24 Job 'agg-pj-20240515-101812': running (progress 25%)\n",
      "0:39:29 Job 'agg-pj-20240515-101812': running (progress 25%)\n",
      "0:40:34 Job 'agg-pj-20240515-101812': running (progress 25%)\n",
      "0:41:48 Job 'agg-pj-20240515-101812': running (progress 25%)\n",
      "0:42:53 Job 'agg-pj-20240515-101812': running (progress 25%)\n",
      "0:44:02 Job 'agg-pj-20240515-101812': running (progress 25%)\n",
      "0:45:06 Job 'agg-pj-20240515-101812': running (progress 25%)\n",
      "0:46:10 Job 'agg-pj-20240515-101812': running (progress 25%)\n",
      "0:47:13 Job 'agg-pj-20240515-101812': running (progress 25%)\n",
      "0:48:17 Job 'agg-pj-20240515-101812': running (progress 25%)\n",
      "0:49:21 Job 'agg-pj-20240515-101812': running (progress 25%)\n",
      "0:50:28 Job 'agg-pj-20240515-101812': running (progress 25%)\n",
      "0:51:34 Job 'agg-pj-20240515-101812': running (progress 25%)\n",
      "0:52:40 Job 'agg-pj-20240515-101812': running (progress 25%)\n",
      "0:53:44 Job 'agg-pj-20240515-101812': running (progress 25%)\n",
      "0:54:50 Job 'agg-pj-20240515-101812': running (progress 25%)\n",
      "0:55:55 Job 'agg-pj-20240515-101812': running (progress 25%)\n",
      "0:56:58 Job 'agg-pj-20240515-101812': running (progress 25%)\n",
      "0:58:23 Job 'agg-pj-20240515-101812': running (progress 25%)\n",
      "0:59:54 Job 'agg-pj-20240515-101812': running (progress 25%)\n",
      "1:00:59 Job 'agg-pj-20240515-101812': running (progress 25%)\n",
      "1:02:15 Job 'agg-pj-20240515-101812': running (progress 25%)\n",
      "1:03:20 Job 'agg-pj-20240515-101812': running (progress 25%)\n",
      "1:04:30 Job 'agg-pj-20240515-101812': running (progress 25%)\n",
      "1:05:40 Job 'agg-pj-20240515-101812': running (progress 25%)\n",
      "1:06:43 Job 'agg-pj-20240515-101812': running (progress 25%)\n",
      "1:07:46 Job 'agg-pj-20240515-101812': running (progress 25%)\n",
      "1:09:00 Job 'agg-pj-20240515-101812': running (progress 25%)\n",
      "1:10:05 Job 'agg-pj-20240515-101812': running (progress 25%)\n",
      "1:11:08 Job 'agg-pj-20240515-101812': running (progress 25%)\n",
      "1:12:21 Job 'agg-pj-20240515-101812': running (progress 25%)\n",
      "1:13:36 Job 'agg-pj-20240515-101812': running (progress 25%)\n",
      "1:14:50 Job 'agg-pj-20240515-101812': running (progress 25%)\n",
      "1:15:54 Job 'agg-pj-20240515-101812': running (progress 25%)\n",
      "1:16:58 Job 'agg-pj-20240515-101812': running (progress 25%)\n",
      "1:18:14 Job 'agg-pj-20240515-101812': running (progress 25%)\n",
      "1:19:20 Job 'agg-pj-20240515-101812': running (progress 25%)\n",
      "1:20:39 Job 'agg-pj-20240515-101812': running (progress 25%)\n",
      "1:21:47 Job 'agg-pj-20240515-101812': running (progress 25%)\n",
      "1:22:57 Job 'agg-pj-20240515-101812': running (progress 25%)\n",
      "1:24:00 Job 'agg-pj-20240515-101812': running (progress 25%)\n",
      "1:25:03 Job 'agg-pj-20240515-101812': running (progress 25%)\n",
      "1:26:09 Job 'agg-pj-20240515-101812': running (progress 25%)\n",
      "1:27:17 Job 'agg-pj-20240515-101812': running (progress 25%)\n",
      "1:28:27 Job 'agg-pj-20240515-101812': running (progress 25%)\n",
      "1:29:32 Job 'agg-pj-20240515-101812': running (progress 25%)\n",
      "1:30:35 Job 'agg-pj-20240515-101812': running (progress 25%)\n",
      "1:31:41 Job 'agg-pj-20240515-101812': running (progress 25%)\n",
      "1:32:48 Job 'agg-pj-20240515-101812': running (progress 25%)\n",
      "1:33:54 Job 'agg-pj-20240515-101812': running (progress 25%)\n",
      "1:34:59 Job 'agg-pj-20240515-101812': running (progress 25%)\n",
      "1:36:08 Job 'agg-pj-20240515-101812': running (progress 25%)\n",
      "1:37:15 Job 'agg-pj-20240515-101812': running (progress 25%)\n",
      "1:38:22 Job 'agg-pj-20240515-101812': running (progress 25%)\n",
      "1:39:28 Job 'agg-pj-20240515-101812': running (progress 25%)\n",
      "1:40:44 Job 'agg-pj-20240515-101812': running (progress 25%)\n",
      "1:41:55 Job 'agg-pj-20240515-101812': running (progress 25%)\n",
      "1:43:01 Job 'agg-pj-20240515-101812': running (progress 25%)\n",
      "1:44:14 Job 'agg-pj-20240515-101812': running (progress 25%)\n",
      "1:45:25 Job 'agg-pj-20240515-101812': running (progress 25%)\n",
      "1:46:33 Job 'agg-pj-20240515-101812': running (progress 25%)\n",
      "1:47:40 Job 'agg-pj-20240515-101812': running (progress 25%)\n",
      "1:48:53 Job 'agg-pj-20240515-101812': running (progress 25%)\n",
      "1:50:01 Job 'agg-pj-20240515-101812': running (progress 25%)\n",
      "1:51:14 Job 'agg-pj-20240515-101812': running (progress 25%)\n",
      "1:52:20 Job 'agg-pj-20240515-101812': running (progress 25%)\n",
      "1:53:25 Job 'agg-pj-20240515-101812': running (progress 25%)\n",
      "1:54:29 Job 'agg-pj-20240515-101812': running (progress 25%)\n",
      "1:55:35 Job 'agg-pj-20240515-101812': running (progress 25%)\n",
      "1:56:38 Job 'agg-pj-20240515-101812': running (progress 25%)\n",
      "1:57:43 Job 'agg-pj-20240515-101812': running (progress 25%)\n",
      "1:58:43 Job 'agg-pj-20240515-101812': Connection error while polling job status: ('Connection aborted.', RemoteDisconnected('Remote end closed connection without response'))\n",
      "1:59:22 Job 'agg-pj-20240515-101812': running (progress 25%)\n",
      "2:00:22 Job 'agg-pj-20240515-101812': Connection error while polling job status: ('Connection aborted.', RemoteDisconnected('Remote end closed connection without response'))\n",
      "2:00:59 Job 'agg-pj-20240515-101812': running (progress 25%)\n",
      "2:02:03 Job 'agg-pj-20240515-101812': running (progress 25%)\n",
      "2:03:03 Job 'agg-pj-20240515-101812': Connection error while polling job status: ('Connection aborted.', RemoteDisconnected('Remote end closed connection without response'))\n",
      "2:03:37 Job 'agg-pj-20240515-101812': running (progress 25%)\n"
     ]
    },
    {
     "ename": "OpenEoApiError",
     "evalue": "[500] Internal: Server error: KazooTimeoutError('Connection time-out') (ref: r-240515e716d34d9b9e8f1481ece911f9)",
     "output_type": "error",
     "traceback": [
      "\u001b[1;31m---------------------------------------------------------------------------\u001b[0m",
      "\u001b[1;31mOpenEoApiError\u001b[0m                            Traceback (most recent call last)",
      "Cell \u001b[1;32mIn[22], line 47\u001b[0m\n\u001b[0;32m     18\u001b[0m input_cube \u001b[38;5;241m=\u001b[39m worldcereal_preprocessed_inputs(\n\u001b[0;32m     19\u001b[0m      connection \u001b[38;5;241m=\u001b[39m connection,\n\u001b[0;32m     20\u001b[0m      bbox \u001b[38;5;241m=\u001b[39m EXTENT,\n\u001b[1;32m   (...)\u001b[0m\n\u001b[0;32m     26\u001b[0m      DEM_collection\u001b[38;5;241m=\u001b[39m \u001b[38;5;124m\"\u001b[39m\u001b[38;5;124mCOPERNICUS_30\u001b[39m\u001b[38;5;124m\"\u001b[39m\n\u001b[0;32m     27\u001b[0m )\n\u001b[0;32m     29\u001b[0m \u001b[38;5;66;03m#agera5_cube = worldcereal_preprocessed_inputs(\u001b[39;00m\n\u001b[0;32m     30\u001b[0m \u001b[38;5;66;03m#     connection = connection_terra,\u001b[39;00m\n\u001b[0;32m     31\u001b[0m \u001b[38;5;66;03m#     bbox = EXTENT,\u001b[39;00m\n\u001b[1;32m   (...)\u001b[0m\n\u001b[0;32m     44\u001b[0m \u001b[38;5;66;03m#        temporal_extent=[STARTDATE, ENDDATE],\u001b[39;00m\n\u001b[0;32m     45\u001b[0m \u001b[38;5;66;03m#    )\u001b[39;00m\n\u001b[1;32m---> 47\u001b[0m \u001b[43minput_cube\u001b[49m\u001b[38;5;241;43m.\u001b[39;49m\u001b[43mexecute_batch\u001b[49m\u001b[43m(\u001b[49m\u001b[43moutputfile\u001b[49m\u001b[43m \u001b[49m\u001b[38;5;241;43m=\u001b[39;49m\u001b[43m \u001b[49m\u001b[38;5;124;43m'\u001b[39;49m\u001b[38;5;124;43mtest.nc\u001b[39;49m\u001b[38;5;124;43m'\u001b[39;49m\u001b[43m,\u001b[49m\n\u001b[0;32m     48\u001b[0m \u001b[43m                        \u001b[49m\u001b[43mdescription\u001b[49m\u001b[38;5;241;43m=\u001b[39;49m\u001b[38;5;124;43m'\u001b[39;49m\u001b[38;5;124;43mworld cereal data collection\u001b[39;49m\u001b[38;5;124;43m'\u001b[39;49m\u001b[43m,\u001b[49m\n\u001b[0;32m     49\u001b[0m \u001b[43m                        \u001b[49m\u001b[43mjob_options\u001b[49m\u001b[38;5;241;43m=\u001b[39;49m\u001b[43m{\u001b[49m\u001b[38;5;124;43m\"\u001b[39;49m\u001b[38;5;124;43msplit_strategy\u001b[39;49m\u001b[38;5;124;43m\"\u001b[39;49m\u001b[43m:\u001b[49m\u001b[43m \u001b[49m\u001b[38;5;124;43m\"\u001b[39;49m\u001b[38;5;124;43mcrossbackend\u001b[39;49m\u001b[38;5;124;43m\"\u001b[39;49m\u001b[43m}\u001b[49m\u001b[43m)\u001b[49m\n",
      "File \u001b[1;32mc:\\Users\\VROMPAYH\\AppData\\Local\\anaconda3\\envs\\wc_presto\\Lib\\site-packages\\openeo\\rest\\datacube.py:2227\u001b[0m, in \u001b[0;36mDataCube.execute_batch\u001b[1;34m(self, outputfile, out_format, print, max_poll_interval, connection_retry_interval, job_options, validate, **format_options)\u001b[0m\n\u001b[0;32m   2224\u001b[0m     out_format \u001b[38;5;241m=\u001b[39m guess_format(outputfile)\n\u001b[0;32m   2226\u001b[0m job \u001b[38;5;241m=\u001b[39m \u001b[38;5;28mself\u001b[39m\u001b[38;5;241m.\u001b[39mcreate_job(out_format\u001b[38;5;241m=\u001b[39mout_format, job_options\u001b[38;5;241m=\u001b[39mjob_options, validate\u001b[38;5;241m=\u001b[39mvalidate, \u001b[38;5;241m*\u001b[39m\u001b[38;5;241m*\u001b[39mformat_options)\n\u001b[1;32m-> 2227\u001b[0m \u001b[38;5;28;01mreturn\u001b[39;00m \u001b[43mjob\u001b[49m\u001b[38;5;241;43m.\u001b[39;49m\u001b[43mrun_synchronous\u001b[49m\u001b[43m(\u001b[49m\n\u001b[0;32m   2228\u001b[0m \u001b[43m    \u001b[49m\u001b[43moutputfile\u001b[49m\u001b[38;5;241;43m=\u001b[39;49m\u001b[43moutputfile\u001b[49m\u001b[43m,\u001b[49m\n\u001b[0;32m   2229\u001b[0m \u001b[43m    \u001b[49m\u001b[38;5;28;43mprint\u001b[39;49m\u001b[38;5;241;43m=\u001b[39;49m\u001b[38;5;28;43mprint\u001b[39;49m\u001b[43m,\u001b[49m\u001b[43m \u001b[49m\u001b[43mmax_poll_interval\u001b[49m\u001b[38;5;241;43m=\u001b[39;49m\u001b[43mmax_poll_interval\u001b[49m\u001b[43m,\u001b[49m\u001b[43m \u001b[49m\u001b[43mconnection_retry_interval\u001b[49m\u001b[38;5;241;43m=\u001b[39;49m\u001b[43mconnection_retry_interval\u001b[49m\n\u001b[0;32m   2230\u001b[0m \u001b[43m\u001b[49m\u001b[43m)\u001b[49m\n",
      "File \u001b[1;32mc:\\Users\\VROMPAYH\\AppData\\Local\\anaconda3\\envs\\wc_presto\\Lib\\site-packages\\openeo\\rest\\job.py:239\u001b[0m, in \u001b[0;36mBatchJob.run_synchronous\u001b[1;34m(self, outputfile, print, max_poll_interval, connection_retry_interval)\u001b[0m\n\u001b[0;32m    234\u001b[0m \u001b[38;5;28;01mdef\u001b[39;00m \u001b[38;5;21mrun_synchronous\u001b[39m(\n\u001b[0;32m    235\u001b[0m         \u001b[38;5;28mself\u001b[39m, outputfile: Union[\u001b[38;5;28mstr\u001b[39m, Path, \u001b[38;5;28;01mNone\u001b[39;00m] \u001b[38;5;241m=\u001b[39m \u001b[38;5;28;01mNone\u001b[39;00m,\n\u001b[0;32m    236\u001b[0m         \u001b[38;5;28mprint\u001b[39m\u001b[38;5;241m=\u001b[39m\u001b[38;5;28mprint\u001b[39m, max_poll_interval\u001b[38;5;241m=\u001b[39m\u001b[38;5;241m60\u001b[39m, connection_retry_interval\u001b[38;5;241m=\u001b[39m\u001b[38;5;241m30\u001b[39m\n\u001b[0;32m    237\u001b[0m ) \u001b[38;5;241m-\u001b[39m\u001b[38;5;241m>\u001b[39m BatchJob:\n\u001b[0;32m    238\u001b[0m \u001b[38;5;250m    \u001b[39m\u001b[38;5;124;03m\"\"\"Start the job, wait for it to finish and download result\"\"\"\u001b[39;00m\n\u001b[1;32m--> 239\u001b[0m     \u001b[38;5;28;43mself\u001b[39;49m\u001b[38;5;241;43m.\u001b[39;49m\u001b[43mstart_and_wait\u001b[49m\u001b[43m(\u001b[49m\n\u001b[0;32m    240\u001b[0m \u001b[43m        \u001b[49m\u001b[38;5;28;43mprint\u001b[39;49m\u001b[38;5;241;43m=\u001b[39;49m\u001b[38;5;28;43mprint\u001b[39;49m\u001b[43m,\u001b[49m\u001b[43m \u001b[49m\u001b[43mmax_poll_interval\u001b[49m\u001b[38;5;241;43m=\u001b[39;49m\u001b[43mmax_poll_interval\u001b[49m\u001b[43m,\u001b[49m\u001b[43m \u001b[49m\u001b[43mconnection_retry_interval\u001b[49m\u001b[38;5;241;43m=\u001b[39;49m\u001b[43mconnection_retry_interval\u001b[49m\n\u001b[0;32m    241\u001b[0m \u001b[43m    \u001b[49m\u001b[43m)\u001b[49m\n\u001b[0;32m    242\u001b[0m     \u001b[38;5;66;03m# TODO #135 support multi file result sets too?\u001b[39;00m\n\u001b[0;32m    243\u001b[0m     \u001b[38;5;28;01mif\u001b[39;00m outputfile \u001b[38;5;129;01mis\u001b[39;00m \u001b[38;5;129;01mnot\u001b[39;00m \u001b[38;5;28;01mNone\u001b[39;00m:\n",
      "File \u001b[1;32mc:\\Users\\VROMPAYH\\AppData\\Local\\anaconda3\\envs\\wc_presto\\Lib\\site-packages\\openeo\\rest\\job.py:292\u001b[0m, in \u001b[0;36mBatchJob.start_and_wait\u001b[1;34m(self, print, max_poll_interval, connection_retry_interval, soft_error_max)\u001b[0m\n\u001b[0;32m    289\u001b[0m \u001b[38;5;28;01mwhile\u001b[39;00m \u001b[38;5;28;01mTrue\u001b[39;00m:\n\u001b[0;32m    290\u001b[0m     \u001b[38;5;66;03m# TODO: also allow a hard time limit on this infinite poll loop?\u001b[39;00m\n\u001b[0;32m    291\u001b[0m     \u001b[38;5;28;01mtry\u001b[39;00m:\n\u001b[1;32m--> 292\u001b[0m         job_info \u001b[38;5;241m=\u001b[39m \u001b[38;5;28;43mself\u001b[39;49m\u001b[38;5;241;43m.\u001b[39;49m\u001b[43mdescribe\u001b[49m\u001b[43m(\u001b[49m\u001b[43m)\u001b[49m\n\u001b[0;32m    293\u001b[0m     \u001b[38;5;28;01mexcept\u001b[39;00m requests\u001b[38;5;241m.\u001b[39mConnectionError \u001b[38;5;28;01mas\u001b[39;00m e:\n\u001b[0;32m    294\u001b[0m         soft_error(\u001b[38;5;124m\"\u001b[39m\u001b[38;5;124mConnection error while polling job status: \u001b[39m\u001b[38;5;132;01m{e}\u001b[39;00m\u001b[38;5;124m\"\u001b[39m\u001b[38;5;241m.\u001b[39mformat(e\u001b[38;5;241m=\u001b[39me))\n",
      "File \u001b[1;32mc:\\Users\\VROMPAYH\\AppData\\Local\\anaconda3\\envs\\wc_presto\\Lib\\site-packages\\openeo\\rest\\job.py:74\u001b[0m, in \u001b[0;36mBatchJob.describe\u001b[1;34m(self)\u001b[0m\n\u001b[0;32m     65\u001b[0m \u001b[38;5;129m@openeo_endpoint\u001b[39m(\u001b[38;5;124m\"\u001b[39m\u001b[38;5;124mGET /jobs/\u001b[39m\u001b[38;5;132;01m{job_id}\u001b[39;00m\u001b[38;5;124m\"\u001b[39m)\n\u001b[0;32m     66\u001b[0m \u001b[38;5;28;01mdef\u001b[39;00m \u001b[38;5;21mdescribe\u001b[39m(\u001b[38;5;28mself\u001b[39m) \u001b[38;5;241m-\u001b[39m\u001b[38;5;241m>\u001b[39m \u001b[38;5;28mdict\u001b[39m:\n\u001b[0;32m     67\u001b[0m \u001b[38;5;250m    \u001b[39m\u001b[38;5;124;03m\"\"\"\u001b[39;00m\n\u001b[0;32m     68\u001b[0m \u001b[38;5;124;03m    Get detailed metadata about a submitted batch job\u001b[39;00m\n\u001b[0;32m     69\u001b[0m \u001b[38;5;124;03m    (title, process graph, status, progress, ...).\u001b[39;00m\n\u001b[1;32m   (...)\u001b[0m\n\u001b[0;32m     72\u001b[0m \u001b[38;5;124;03m        This method was previously called :py:meth:`describe_job`.\u001b[39;00m\n\u001b[0;32m     73\u001b[0m \u001b[38;5;124;03m    \"\"\"\u001b[39;00m\n\u001b[1;32m---> 74\u001b[0m     \u001b[38;5;28;01mreturn\u001b[39;00m \u001b[38;5;28;43mself\u001b[39;49m\u001b[38;5;241;43m.\u001b[39;49m\u001b[43mconnection\u001b[49m\u001b[38;5;241;43m.\u001b[39;49m\u001b[43mget\u001b[49m\u001b[43m(\u001b[49m\u001b[38;5;124;43mf\u001b[39;49m\u001b[38;5;124;43m\"\u001b[39;49m\u001b[38;5;124;43m/jobs/\u001b[39;49m\u001b[38;5;132;43;01m{\u001b[39;49;00m\u001b[38;5;28;43mself\u001b[39;49m\u001b[38;5;241;43m.\u001b[39;49m\u001b[43mjob_id\u001b[49m\u001b[38;5;132;43;01m}\u001b[39;49;00m\u001b[38;5;124;43m\"\u001b[39;49m\u001b[43m,\u001b[49m\u001b[43m \u001b[49m\u001b[43mexpected_status\u001b[49m\u001b[38;5;241;43m=\u001b[39;49m\u001b[38;5;241;43m200\u001b[39;49m\u001b[43m)\u001b[49m\u001b[38;5;241m.\u001b[39mjson()\n",
      "File \u001b[1;32mc:\\Users\\VROMPAYH\\AppData\\Local\\anaconda3\\envs\\wc_presto\\Lib\\site-packages\\openeo\\rest\\connection.py:221\u001b[0m, in \u001b[0;36mRestApiConnection.get\u001b[1;34m(self, path, stream, auth, **kwargs)\u001b[0m\n\u001b[0;32m    212\u001b[0m \u001b[38;5;28;01mdef\u001b[39;00m \u001b[38;5;21mget\u001b[39m(\u001b[38;5;28mself\u001b[39m, path: \u001b[38;5;28mstr\u001b[39m, stream: \u001b[38;5;28mbool\u001b[39m \u001b[38;5;241m=\u001b[39m \u001b[38;5;28;01mFalse\u001b[39;00m, auth: Optional[AuthBase] \u001b[38;5;241m=\u001b[39m \u001b[38;5;28;01mNone\u001b[39;00m, \u001b[38;5;241m*\u001b[39m\u001b[38;5;241m*\u001b[39mkwargs) \u001b[38;5;241m-\u001b[39m\u001b[38;5;241m>\u001b[39m Response:\n\u001b[0;32m    213\u001b[0m \u001b[38;5;250m    \u001b[39m\u001b[38;5;124;03m\"\"\"\u001b[39;00m\n\u001b[0;32m    214\u001b[0m \u001b[38;5;124;03m    Do GET request to REST API.\u001b[39;00m\n\u001b[0;32m    215\u001b[0m \n\u001b[1;32m   (...)\u001b[0m\n\u001b[0;32m    219\u001b[0m \u001b[38;5;124;03m    :return: response: Response\u001b[39;00m\n\u001b[0;32m    220\u001b[0m \u001b[38;5;124;03m    \"\"\"\u001b[39;00m\n\u001b[1;32m--> 221\u001b[0m     \u001b[38;5;28;01mreturn\u001b[39;00m \u001b[38;5;28;43mself\u001b[39;49m\u001b[38;5;241;43m.\u001b[39;49m\u001b[43mrequest\u001b[49m\u001b[43m(\u001b[49m\u001b[38;5;124;43m\"\u001b[39;49m\u001b[38;5;124;43mget\u001b[39;49m\u001b[38;5;124;43m\"\u001b[39;49m\u001b[43m,\u001b[49m\u001b[43m \u001b[49m\u001b[43mpath\u001b[49m\u001b[38;5;241;43m=\u001b[39;49m\u001b[43mpath\u001b[49m\u001b[43m,\u001b[49m\u001b[43m \u001b[49m\u001b[43mstream\u001b[49m\u001b[38;5;241;43m=\u001b[39;49m\u001b[43mstream\u001b[49m\u001b[43m,\u001b[49m\u001b[43m \u001b[49m\u001b[43mauth\u001b[49m\u001b[38;5;241;43m=\u001b[39;49m\u001b[43mauth\u001b[49m\u001b[43m,\u001b[49m\u001b[43m \u001b[49m\u001b[38;5;241;43m*\u001b[39;49m\u001b[38;5;241;43m*\u001b[39;49m\u001b[43mkwargs\u001b[49m\u001b[43m)\u001b[49m\n",
      "File \u001b[1;32mc:\\Users\\VROMPAYH\\AppData\\Local\\anaconda3\\envs\\wc_presto\\Lib\\site-packages\\openeo\\rest\\connection.py:770\u001b[0m, in \u001b[0;36mConnection.request\u001b[1;34m(self, method, path, headers, auth, check_error, expected_status, **kwargs)\u001b[0m\n\u001b[0;32m    763\u001b[0m     \u001b[38;5;28;01mreturn\u001b[39;00m \u001b[38;5;28msuper\u001b[39m(Connection, \u001b[38;5;28mself\u001b[39m)\u001b[38;5;241m.\u001b[39mrequest(\n\u001b[0;32m    764\u001b[0m         method\u001b[38;5;241m=\u001b[39mmethod, path\u001b[38;5;241m=\u001b[39mpath, headers\u001b[38;5;241m=\u001b[39mheaders, auth\u001b[38;5;241m=\u001b[39mauth,\n\u001b[0;32m    765\u001b[0m         check_error\u001b[38;5;241m=\u001b[39mcheck_error, expected_status\u001b[38;5;241m=\u001b[39mexpected_status, \u001b[38;5;241m*\u001b[39m\u001b[38;5;241m*\u001b[39mkwargs,\n\u001b[0;32m    766\u001b[0m     )\n\u001b[0;32m    768\u001b[0m \u001b[38;5;28;01mtry\u001b[39;00m:\n\u001b[0;32m    769\u001b[0m     \u001b[38;5;66;03m# Initial request attempt\u001b[39;00m\n\u001b[1;32m--> 770\u001b[0m     \u001b[38;5;28;01mreturn\u001b[39;00m \u001b[43m_request\u001b[49m\u001b[43m(\u001b[49m\u001b[43m)\u001b[49m\n\u001b[0;32m    771\u001b[0m \u001b[38;5;28;01mexcept\u001b[39;00m OpenEoApiError \u001b[38;5;28;01mas\u001b[39;00m api_exc:\n\u001b[0;32m    772\u001b[0m     \u001b[38;5;28;01mif\u001b[39;00m api_exc\u001b[38;5;241m.\u001b[39mhttp_status_code \u001b[38;5;129;01min\u001b[39;00m {\u001b[38;5;241m401\u001b[39m, \u001b[38;5;241m403\u001b[39m} \u001b[38;5;129;01mand\u001b[39;00m api_exc\u001b[38;5;241m.\u001b[39mcode \u001b[38;5;241m==\u001b[39m \u001b[38;5;124m\"\u001b[39m\u001b[38;5;124mTokenInvalid\u001b[39m\u001b[38;5;124m\"\u001b[39m:\n\u001b[0;32m    773\u001b[0m         \u001b[38;5;66;03m# Auth token expired: can we refresh?\u001b[39;00m\n",
      "File \u001b[1;32mc:\\Users\\VROMPAYH\\AppData\\Local\\anaconda3\\envs\\wc_presto\\Lib\\site-packages\\openeo\\rest\\connection.py:763\u001b[0m, in \u001b[0;36mConnection.request.<locals>._request\u001b[1;34m()\u001b[0m\n\u001b[0;32m    762\u001b[0m \u001b[38;5;28;01mdef\u001b[39;00m \u001b[38;5;21m_request\u001b[39m():\n\u001b[1;32m--> 763\u001b[0m     \u001b[38;5;28;01mreturn\u001b[39;00m \u001b[38;5;28;43msuper\u001b[39;49m\u001b[43m(\u001b[49m\u001b[43mConnection\u001b[49m\u001b[43m,\u001b[49m\u001b[43m \u001b[49m\u001b[38;5;28;43mself\u001b[39;49m\u001b[43m)\u001b[49m\u001b[38;5;241;43m.\u001b[39;49m\u001b[43mrequest\u001b[49m\u001b[43m(\u001b[49m\n\u001b[0;32m    764\u001b[0m \u001b[43m        \u001b[49m\u001b[43mmethod\u001b[49m\u001b[38;5;241;43m=\u001b[39;49m\u001b[43mmethod\u001b[49m\u001b[43m,\u001b[49m\u001b[43m \u001b[49m\u001b[43mpath\u001b[49m\u001b[38;5;241;43m=\u001b[39;49m\u001b[43mpath\u001b[49m\u001b[43m,\u001b[49m\u001b[43m \u001b[49m\u001b[43mheaders\u001b[49m\u001b[38;5;241;43m=\u001b[39;49m\u001b[43mheaders\u001b[49m\u001b[43m,\u001b[49m\u001b[43m \u001b[49m\u001b[43mauth\u001b[49m\u001b[38;5;241;43m=\u001b[39;49m\u001b[43mauth\u001b[49m\u001b[43m,\u001b[49m\n\u001b[0;32m    765\u001b[0m \u001b[43m        \u001b[49m\u001b[43mcheck_error\u001b[49m\u001b[38;5;241;43m=\u001b[39;49m\u001b[43mcheck_error\u001b[49m\u001b[43m,\u001b[49m\u001b[43m \u001b[49m\u001b[43mexpected_status\u001b[49m\u001b[38;5;241;43m=\u001b[39;49m\u001b[43mexpected_status\u001b[49m\u001b[43m,\u001b[49m\u001b[43m \u001b[49m\u001b[38;5;241;43m*\u001b[39;49m\u001b[38;5;241;43m*\u001b[39;49m\u001b[43mkwargs\u001b[49m\u001b[43m,\u001b[49m\n\u001b[0;32m    766\u001b[0m \u001b[43m    \u001b[49m\u001b[43m)\u001b[49m\n",
      "File \u001b[1;32mc:\\Users\\VROMPAYH\\AppData\\Local\\anaconda3\\envs\\wc_presto\\Lib\\site-packages\\openeo\\rest\\connection.py:169\u001b[0m, in \u001b[0;36mRestApiConnection.request\u001b[1;34m(self, method, path, headers, auth, check_error, expected_status, **kwargs)\u001b[0m\n\u001b[0;32m    167\u001b[0m expected_status \u001b[38;5;241m=\u001b[39m ensure_list(expected_status) \u001b[38;5;28;01mif\u001b[39;00m expected_status \u001b[38;5;28;01melse\u001b[39;00m []\n\u001b[0;32m    168\u001b[0m \u001b[38;5;28;01mif\u001b[39;00m check_error \u001b[38;5;129;01mand\u001b[39;00m status \u001b[38;5;241m>\u001b[39m\u001b[38;5;241m=\u001b[39m \u001b[38;5;241m400\u001b[39m \u001b[38;5;129;01mand\u001b[39;00m status \u001b[38;5;129;01mnot\u001b[39;00m \u001b[38;5;129;01min\u001b[39;00m expected_status:\n\u001b[1;32m--> 169\u001b[0m     \u001b[38;5;28;43mself\u001b[39;49m\u001b[38;5;241;43m.\u001b[39;49m\u001b[43m_raise_api_error\u001b[49m\u001b[43m(\u001b[49m\u001b[43mresp\u001b[49m\u001b[43m)\u001b[49m\n\u001b[0;32m    170\u001b[0m \u001b[38;5;28;01mif\u001b[39;00m expected_status \u001b[38;5;129;01mand\u001b[39;00m status \u001b[38;5;129;01mnot\u001b[39;00m \u001b[38;5;129;01min\u001b[39;00m expected_status:\n\u001b[0;32m    171\u001b[0m     \u001b[38;5;28;01mraise\u001b[39;00m OpenEoRestError(\u001b[38;5;124m\"\u001b[39m\u001b[38;5;124mGot status code \u001b[39m\u001b[38;5;132;01m{s!r}\u001b[39;00m\u001b[38;5;124m for `\u001b[39m\u001b[38;5;132;01m{m}\u001b[39;00m\u001b[38;5;124m \u001b[39m\u001b[38;5;132;01m{p}\u001b[39;00m\u001b[38;5;124m` (expected \u001b[39m\u001b[38;5;132;01m{e!r}\u001b[39;00m\u001b[38;5;124m) with body \u001b[39m\u001b[38;5;132;01m{body}\u001b[39;00m\u001b[38;5;124m\"\u001b[39m\u001b[38;5;241m.\u001b[39mformat(\n\u001b[0;32m    172\u001b[0m         m\u001b[38;5;241m=\u001b[39mmethod\u001b[38;5;241m.\u001b[39mupper(), p\u001b[38;5;241m=\u001b[39mpath, s\u001b[38;5;241m=\u001b[39mstatus, e\u001b[38;5;241m=\u001b[39mexpected_status, body\u001b[38;5;241m=\u001b[39mresp\u001b[38;5;241m.\u001b[39mtext)\n\u001b[0;32m    173\u001b[0m     )\n",
      "File \u001b[1;32mc:\\Users\\VROMPAYH\\AppData\\Local\\anaconda3\\envs\\wc_presto\\Lib\\site-packages\\openeo\\rest\\connection.py:189\u001b[0m, in \u001b[0;36mRestApiConnection._raise_api_error\u001b[1;34m(self, response)\u001b[0m\n\u001b[0;32m    187\u001b[0m     error_message \u001b[38;5;241m=\u001b[39m info\u001b[38;5;241m.\u001b[39mget(\u001b[38;5;124m\"\u001b[39m\u001b[38;5;124mmessage\u001b[39m\u001b[38;5;124m\"\u001b[39m)\n\u001b[0;32m    188\u001b[0m     \u001b[38;5;28;01mif\u001b[39;00m error_code \u001b[38;5;129;01mand\u001b[39;00m \u001b[38;5;28misinstance\u001b[39m(error_code, \u001b[38;5;28mstr\u001b[39m) \u001b[38;5;129;01mand\u001b[39;00m error_message \u001b[38;5;129;01mand\u001b[39;00m \u001b[38;5;28misinstance\u001b[39m(error_message, \u001b[38;5;28mstr\u001b[39m):\n\u001b[1;32m--> 189\u001b[0m         \u001b[38;5;28;01mraise\u001b[39;00m OpenEoApiError(\n\u001b[0;32m    190\u001b[0m             http_status_code\u001b[38;5;241m=\u001b[39mstatus_code,\n\u001b[0;32m    191\u001b[0m             code\u001b[38;5;241m=\u001b[39merror_code,\n\u001b[0;32m    192\u001b[0m             message\u001b[38;5;241m=\u001b[39merror_message,\n\u001b[0;32m    193\u001b[0m             \u001b[38;5;28mid\u001b[39m\u001b[38;5;241m=\u001b[39minfo\u001b[38;5;241m.\u001b[39mget(\u001b[38;5;124m\"\u001b[39m\u001b[38;5;124mid\u001b[39m\u001b[38;5;124m\"\u001b[39m),\n\u001b[0;32m    194\u001b[0m             url\u001b[38;5;241m=\u001b[39minfo\u001b[38;5;241m.\u001b[39mget(\u001b[38;5;124m\"\u001b[39m\u001b[38;5;124murl\u001b[39m\u001b[38;5;124m\"\u001b[39m),\n\u001b[0;32m    195\u001b[0m         )\n\u001b[0;32m    197\u001b[0m \u001b[38;5;66;03m# Failed to parse it as a compliant openEO API error: show body as-is in the exception.\u001b[39;00m\n\u001b[0;32m    198\u001b[0m text \u001b[38;5;241m=\u001b[39m response\u001b[38;5;241m.\u001b[39mtext\n",
      "\u001b[1;31mOpenEoApiError\u001b[0m: [500] Internal: Server error: KazooTimeoutError('Connection time-out') (ref: r-240515e716d34d9b9e8f1481ece911f9)"
     ]
    }
   ],
   "source": [
    "#Get desired data\n",
    "from preprocessing import worldcereal_preprocessed_inputs\n",
    "\n",
    "EXTENT = dict(zip([\"west\", \"south\", \"east\", \"north\"], [5.19, 51.25, 5.21, 51.26]))\n",
    "EXTENT['crs'] = \"EPSG:4326\"\n",
    "\n",
    "STARTDATE = '2020-11-01'\n",
    "ENDDATE = '2021-10-31'\n",
    "\n",
    "# Set OpenEO classification UDF context based on settings\n",
    "CONTEXT = {\n",
    "    \"startdate\": STARTDATE,  # Required\n",
    "    \"enddate\": ENDDATE,      # Required\n",
    "}\n",
    "\n",
    "\n",
    "\n",
    "input_cube = worldcereal_preprocessed_inputs(\n",
    "     connection = connection,\n",
    "     bbox = EXTENT,\n",
    "     start = STARTDATE,\n",
    "     end = ENDDATE,\n",
    "     METEO_collection=\"AGERA5\",\n",
    "     S2_collection= \"SENTINEL2_L2A\",\n",
    "     S1_collection= \"SENTINEL1_GRD\",\n",
    "     DEM_collection= \"COPERNICUS_30\"\n",
    ")\n",
    "\n",
    "#agera5_cube = worldcereal_preprocessed_inputs(\n",
    "#     connection = connection_terra,\n",
    "#     bbox = EXTENT,\n",
    "#     start = STARTDATE,\n",
    "#     end = ENDDATE,\n",
    "#     METEO_collection=\"AGERA5\",\n",
    "#     S2_collection= None,\n",
    "#     S1_collection= None,\n",
    "#     DEM_collection= None\n",
    "#)\n",
    "\n",
    "#agera5_cube = connection_terra.load_collection(\n",
    "#        \"AGERA5\",\n",
    "#        spatial_extent=EXTENT,\n",
    "#        bands=[\"temperature-mean\", \"precipitation-flux\"],\n",
    "#        temporal_extent=[STARTDATE, ENDDATE],\n",
    "#    )\n",
    "\n",
    "input_cube.execute_batch(outputfile = 'test.nc',\n",
    "                        description='world cereal data collection',\n",
    "                        job_options={\"split_strategy\": \"crossbackend\"})\n"
   ]
  },
  {
   "cell_type": "code",
   "execution_count": 11,
   "id": "94969249",
   "metadata": {},
   "outputs": [
    {
     "name": "stdout",
     "output_type": "stream",
     "text": [
      "0:00:00 Job 'j-24051575983946539c6694814f39164e': send 'start'\n",
      "0:00:30 Job 'j-24051575983946539c6694814f39164e': queued (progress 0%)\n",
      "0:00:36 Job 'j-24051575983946539c6694814f39164e': queued (progress 0%)\n",
      "0:00:44 Job 'j-24051575983946539c6694814f39164e': queued (progress 0%)\n",
      "0:00:53 Job 'j-24051575983946539c6694814f39164e': queued (progress 0%)\n",
      "0:01:03 Job 'j-24051575983946539c6694814f39164e': queued (progress 0%)\n",
      "0:01:19 Job 'j-24051575983946539c6694814f39164e': queued (progress 0%)\n",
      "0:01:35 Job 'j-24051575983946539c6694814f39164e': queued (progress 0%)\n",
      "0:01:55 Job 'j-24051575983946539c6694814f39164e': running (progress N/A)\n",
      "0:02:19 Job 'j-24051575983946539c6694814f39164e': running (progress N/A)\n",
      "0:02:52 Job 'j-24051575983946539c6694814f39164e': running (progress N/A)\n",
      "0:03:29 Job 'j-24051575983946539c6694814f39164e': running (progress N/A)\n",
      "0:04:16 Job 'j-24051575983946539c6694814f39164e': running (progress N/A)\n",
      "0:05:24 Job 'j-24051575983946539c6694814f39164e': running (progress N/A)\n",
      "0:06:24 Job 'j-24051575983946539c6694814f39164e': finished (progress 100%)\n"
     ]
    },
    {
     "ename": "AttributeError",
     "evalue": "'DataCube' object has no attribute 'load_stac'",
     "output_type": "error",
     "traceback": [
      "\u001b[1;31m---------------------------------------------------------------------------\u001b[0m",
      "\u001b[1;31mAttributeError\u001b[0m                            Traceback (most recent call last)",
      "Cell \u001b[1;32mIn[11], line 15\u001b[0m\n\u001b[0;32m     13\u001b[0m result_metadata \u001b[38;5;241m=\u001b[39m job\u001b[38;5;241m.\u001b[39mget_results()\n\u001b[0;32m     14\u001b[0m job_url, \u001b[38;5;241m=\u001b[39m [k[\u001b[38;5;124m\"\u001b[39m\u001b[38;5;124mhref\u001b[39m\u001b[38;5;124m\"\u001b[39m] \u001b[38;5;28;01mfor\u001b[39;00m k \u001b[38;5;129;01min\u001b[39;00m result_metadata\u001b[38;5;241m.\u001b[39mget_metadata()[\u001b[38;5;124m\"\u001b[39m\u001b[38;5;124mlinks\u001b[39m\u001b[38;5;124m\"\u001b[39m] \u001b[38;5;28;01mif\u001b[39;00m k[\u001b[38;5;124m\"\u001b[39m\u001b[38;5;124mrel\u001b[39m\u001b[38;5;124m\"\u001b[39m] \u001b[38;5;241m==\u001b[39m \u001b[38;5;124m\"\u001b[39m\u001b[38;5;124mcanonical\u001b[39m\u001b[38;5;124m\"\u001b[39m]\n\u001b[1;32m---> 15\u001b[0m load_stac_cube \u001b[38;5;241m=\u001b[39m \u001b[43ms2_cube\u001b[49m\u001b[38;5;241;43m.\u001b[39;49m\u001b[43mload_stac\u001b[49m(job_url)\n\u001b[0;32m     17\u001b[0m \u001b[38;5;66;03m#merge the cubes and download\u001b[39;00m\n\u001b[0;32m     18\u001b[0m input_cube \u001b[38;5;241m=\u001b[39m s2_cube\u001b[38;5;241m.\u001b[39mmerge_cubes(load_stac_cube)\n",
      "\u001b[1;31mAttributeError\u001b[0m: 'DataCube' object has no attribute 'load_stac'"
     ]
    }
   ],
   "source": [
    "from pathlib import Path\n",
    "\n",
    "# download the agera 5 cube\n",
    "result_dir = Path.cwd()\n",
    "job = agera5_cube.create_job(\n",
    "    out_format=\"GTIFF\",\n",
    ")\n",
    "job.start_and_wait()\n",
    "\n",
    "job.get_results().download_files(result_dir)\n",
    "\n",
    "#create a STAC collection from th eobtained cube\n",
    "result_metadata = job.get_results()\n",
    "job_url, = [k[\"href\"] for k in result_metadata.get_metadata()[\"links\"] if k[\"rel\"] == \"canonical\"]\n",
    "load_stac_cube = s2_cube.load_stac(job_url)\n",
    "\n",
    "#merge the cubes and download\n",
    "input_cube = s2_cube.merge_cubes(load_stac_cube)\n",
    "\n",
    "\n"
   ]
  },
  {
   "cell_type": "code",
   "execution_count": 11,
   "id": "4aab5695",
   "metadata": {},
   "outputs": [
    {
     "name": "stderr",
     "output_type": "stream",
     "text": [
      "Preflight process graph validation raised: [CollectionNotFound] Collection 'AGERA5' does not exist.\n"
     ]
    },
    {
     "name": "stdout",
     "output_type": "stream",
     "text": [
      "0:00:00 Job 'j-2405155e702e4218aa9dfac9671faaff': send 'start'\n",
      "0:00:16 Job 'j-2405155e702e4218aa9dfac9671faaff': created (progress 0%)\n",
      "0:00:22 Job 'j-2405155e702e4218aa9dfac9671faaff': running (progress N/A)\n",
      "0:00:28 Job 'j-2405155e702e4218aa9dfac9671faaff': running (progress N/A)\n",
      "0:00:36 Job 'j-2405155e702e4218aa9dfac9671faaff': running (progress N/A)\n",
      "0:00:47 Job 'j-2405155e702e4218aa9dfac9671faaff': running (progress N/A)\n",
      "0:01:00 Job 'j-2405155e702e4218aa9dfac9671faaff': running (progress N/A)\n",
      "0:01:16 Job 'j-2405155e702e4218aa9dfac9671faaff': running (progress N/A)\n",
      "0:01:35 Job 'j-2405155e702e4218aa9dfac9671faaff': error (progress N/A)\n",
      "Your batch job 'j-2405155e702e4218aa9dfac9671faaff' failed. Error logs:\n",
      "[{'id': '[1715756877175, 557437]', 'time': '2024-05-15T07:07:57.175Z', 'level': 'error', 'message': 'OpenEO batch job failed: CollectionNotFoundException(status_code=404, code=\\'CollectionNotFound\\', message=\"Collection \\'AGERA5\\' does not exist.\", id=\\'no-request\\')'}]\n",
      "Full logs can be inspected in an openEO (web) editor or with `connection.job('j-2405155e702e4218aa9dfac9671faaff').logs()`.\n"
     ]
    },
    {
     "ename": "JobFailedException",
     "evalue": "Batch job 'j-2405155e702e4218aa9dfac9671faaff' didn't finish successfully. Status: error (after 0:01:37).",
     "output_type": "error",
     "traceback": [
      "\u001b[1;31m---------------------------------------------------------------------------\u001b[0m",
      "\u001b[1;31mJobFailedException\u001b[0m                        Traceback (most recent call last)",
      "Cell \u001b[1;32mIn[11], line 6\u001b[0m\n\u001b[0;32m      3\u001b[0m formatted_datetime \u001b[38;5;241m=\u001b[39m current_datetime\u001b[38;5;241m.\u001b[39mstrftime(\u001b[38;5;124m\"\u001b[39m\u001b[38;5;124m%\u001b[39m\u001b[38;5;124mY_\u001b[39m\u001b[38;5;124m%\u001b[39m\u001b[38;5;124mm_\u001b[39m\u001b[38;5;132;01m%d\u001b[39;00m\u001b[38;5;124m_\u001b[39m\u001b[38;5;124m%\u001b[39m\u001b[38;5;124mH_\u001b[39m\u001b[38;5;124m%\u001b[39m\u001b[38;5;124mM_\u001b[39m\u001b[38;5;124m%\u001b[39m\u001b[38;5;124mS\u001b[39m\u001b[38;5;124m\"\u001b[39m)\n\u001b[0;32m      4\u001b[0m outputfile_name \u001b[38;5;241m=\u001b[39m \u001b[38;5;28mstr\u001b[39m(formatted_datetime) \u001b[38;5;241m+\u001b[39m \u001b[38;5;124m'\u001b[39m\u001b[38;5;124m_input_cube_worldCereal.nc\u001b[39m\u001b[38;5;124m'\u001b[39m\n\u001b[1;32m----> 6\u001b[0m \u001b[43minput_cube\u001b[49m\u001b[38;5;241;43m.\u001b[39;49m\u001b[43mexecute_batch\u001b[49m\u001b[43m(\u001b[49m\u001b[43moutputfile\u001b[49m\u001b[43m \u001b[49m\u001b[38;5;241;43m=\u001b[39;49m\u001b[43m \u001b[49m\u001b[43moutputfile_name\u001b[49m\u001b[43m,\u001b[49m\n\u001b[0;32m      7\u001b[0m \u001b[43m                        \u001b[49m\u001b[43mdescription\u001b[49m\u001b[38;5;241;43m=\u001b[39;49m\u001b[38;5;124;43m'\u001b[39;49m\u001b[38;5;124;43mworld cereal data collection\u001b[39;49m\u001b[38;5;124;43m'\u001b[39;49m\u001b[43m)\u001b[49m\n",
      "File \u001b[1;32mc:\\Users\\VROMPAYH\\AppData\\Local\\anaconda3\\envs\\wc_presto\\Lib\\site-packages\\openeo\\rest\\datacube.py:2227\u001b[0m, in \u001b[0;36mDataCube.execute_batch\u001b[1;34m(self, outputfile, out_format, print, max_poll_interval, connection_retry_interval, job_options, validate, **format_options)\u001b[0m\n\u001b[0;32m   2224\u001b[0m     out_format \u001b[38;5;241m=\u001b[39m guess_format(outputfile)\n\u001b[0;32m   2226\u001b[0m job \u001b[38;5;241m=\u001b[39m \u001b[38;5;28mself\u001b[39m\u001b[38;5;241m.\u001b[39mcreate_job(out_format\u001b[38;5;241m=\u001b[39mout_format, job_options\u001b[38;5;241m=\u001b[39mjob_options, validate\u001b[38;5;241m=\u001b[39mvalidate, \u001b[38;5;241m*\u001b[39m\u001b[38;5;241m*\u001b[39mformat_options)\n\u001b[1;32m-> 2227\u001b[0m \u001b[38;5;28;01mreturn\u001b[39;00m \u001b[43mjob\u001b[49m\u001b[38;5;241;43m.\u001b[39;49m\u001b[43mrun_synchronous\u001b[49m\u001b[43m(\u001b[49m\n\u001b[0;32m   2228\u001b[0m \u001b[43m    \u001b[49m\u001b[43moutputfile\u001b[49m\u001b[38;5;241;43m=\u001b[39;49m\u001b[43moutputfile\u001b[49m\u001b[43m,\u001b[49m\n\u001b[0;32m   2229\u001b[0m \u001b[43m    \u001b[49m\u001b[38;5;28;43mprint\u001b[39;49m\u001b[38;5;241;43m=\u001b[39;49m\u001b[38;5;28;43mprint\u001b[39;49m\u001b[43m,\u001b[49m\u001b[43m \u001b[49m\u001b[43mmax_poll_interval\u001b[49m\u001b[38;5;241;43m=\u001b[39;49m\u001b[43mmax_poll_interval\u001b[49m\u001b[43m,\u001b[49m\u001b[43m \u001b[49m\u001b[43mconnection_retry_interval\u001b[49m\u001b[38;5;241;43m=\u001b[39;49m\u001b[43mconnection_retry_interval\u001b[49m\n\u001b[0;32m   2230\u001b[0m \u001b[43m\u001b[49m\u001b[43m)\u001b[49m\n",
      "File \u001b[1;32mc:\\Users\\VROMPAYH\\AppData\\Local\\anaconda3\\envs\\wc_presto\\Lib\\site-packages\\openeo\\rest\\job.py:239\u001b[0m, in \u001b[0;36mBatchJob.run_synchronous\u001b[1;34m(self, outputfile, print, max_poll_interval, connection_retry_interval)\u001b[0m\n\u001b[0;32m    234\u001b[0m \u001b[38;5;28;01mdef\u001b[39;00m \u001b[38;5;21mrun_synchronous\u001b[39m(\n\u001b[0;32m    235\u001b[0m         \u001b[38;5;28mself\u001b[39m, outputfile: Union[\u001b[38;5;28mstr\u001b[39m, Path, \u001b[38;5;28;01mNone\u001b[39;00m] \u001b[38;5;241m=\u001b[39m \u001b[38;5;28;01mNone\u001b[39;00m,\n\u001b[0;32m    236\u001b[0m         \u001b[38;5;28mprint\u001b[39m\u001b[38;5;241m=\u001b[39m\u001b[38;5;28mprint\u001b[39m, max_poll_interval\u001b[38;5;241m=\u001b[39m\u001b[38;5;241m60\u001b[39m, connection_retry_interval\u001b[38;5;241m=\u001b[39m\u001b[38;5;241m30\u001b[39m\n\u001b[0;32m    237\u001b[0m ) \u001b[38;5;241m-\u001b[39m\u001b[38;5;241m>\u001b[39m BatchJob:\n\u001b[0;32m    238\u001b[0m \u001b[38;5;250m    \u001b[39m\u001b[38;5;124;03m\"\"\"Start the job, wait for it to finish and download result\"\"\"\u001b[39;00m\n\u001b[1;32m--> 239\u001b[0m     \u001b[38;5;28;43mself\u001b[39;49m\u001b[38;5;241;43m.\u001b[39;49m\u001b[43mstart_and_wait\u001b[49m\u001b[43m(\u001b[49m\n\u001b[0;32m    240\u001b[0m \u001b[43m        \u001b[49m\u001b[38;5;28;43mprint\u001b[39;49m\u001b[38;5;241;43m=\u001b[39;49m\u001b[38;5;28;43mprint\u001b[39;49m\u001b[43m,\u001b[49m\u001b[43m \u001b[49m\u001b[43mmax_poll_interval\u001b[49m\u001b[38;5;241;43m=\u001b[39;49m\u001b[43mmax_poll_interval\u001b[49m\u001b[43m,\u001b[49m\u001b[43m \u001b[49m\u001b[43mconnection_retry_interval\u001b[49m\u001b[38;5;241;43m=\u001b[39;49m\u001b[43mconnection_retry_interval\u001b[49m\n\u001b[0;32m    241\u001b[0m \u001b[43m    \u001b[49m\u001b[43m)\u001b[49m\n\u001b[0;32m    242\u001b[0m     \u001b[38;5;66;03m# TODO #135 support multi file result sets too?\u001b[39;00m\n\u001b[0;32m    243\u001b[0m     \u001b[38;5;28;01mif\u001b[39;00m outputfile \u001b[38;5;129;01mis\u001b[39;00m \u001b[38;5;129;01mnot\u001b[39;00m \u001b[38;5;28;01mNone\u001b[39;00m:\n",
      "File \u001b[1;32mc:\\Users\\VROMPAYH\\AppData\\Local\\anaconda3\\envs\\wc_presto\\Lib\\site-packages\\openeo\\rest\\job.py:321\u001b[0m, in \u001b[0;36mBatchJob.start_and_wait\u001b[1;34m(self, print, max_poll_interval, connection_retry_interval, soft_error_max)\u001b[0m\n\u001b[0;32m    317\u001b[0m     \u001b[38;5;28mprint\u001b[39m(\u001b[38;5;28mself\u001b[39m\u001b[38;5;241m.\u001b[39mlogs(level\u001b[38;5;241m=\u001b[39mlogging\u001b[38;5;241m.\u001b[39mERROR))\n\u001b[0;32m    318\u001b[0m     \u001b[38;5;28mprint\u001b[39m(\n\u001b[0;32m    319\u001b[0m         \u001b[38;5;124mf\u001b[39m\u001b[38;5;124m\"\u001b[39m\u001b[38;5;124mFull logs can be inspected in an openEO (web) editor or with `connection.job(\u001b[39m\u001b[38;5;132;01m{\u001b[39;00m\u001b[38;5;28mself\u001b[39m\u001b[38;5;241m.\u001b[39mjob_id\u001b[38;5;132;01m!r}\u001b[39;00m\u001b[38;5;124m).logs()`.\u001b[39m\u001b[38;5;124m\"\u001b[39m\n\u001b[0;32m    320\u001b[0m     )\n\u001b[1;32m--> 321\u001b[0m     \u001b[38;5;28;01mraise\u001b[39;00m JobFailedException(\n\u001b[0;32m    322\u001b[0m         \u001b[38;5;124mf\u001b[39m\u001b[38;5;124m\"\u001b[39m\u001b[38;5;124mBatch job \u001b[39m\u001b[38;5;132;01m{\u001b[39;00m\u001b[38;5;28mself\u001b[39m\u001b[38;5;241m.\u001b[39mjob_id\u001b[38;5;132;01m!r}\u001b[39;00m\u001b[38;5;124m didn\u001b[39m\u001b[38;5;124m'\u001b[39m\u001b[38;5;124mt finish successfully. Status: \u001b[39m\u001b[38;5;132;01m{\u001b[39;00mstatus\u001b[38;5;132;01m}\u001b[39;00m\u001b[38;5;124m (after \u001b[39m\u001b[38;5;132;01m{\u001b[39;00melapsed()\u001b[38;5;132;01m}\u001b[39;00m\u001b[38;5;124m).\u001b[39m\u001b[38;5;124m\"\u001b[39m,\n\u001b[0;32m    323\u001b[0m         job\u001b[38;5;241m=\u001b[39m\u001b[38;5;28mself\u001b[39m,\n\u001b[0;32m    324\u001b[0m     )\n\u001b[0;32m    326\u001b[0m \u001b[38;5;28;01mreturn\u001b[39;00m \u001b[38;5;28mself\u001b[39m\n",
      "\u001b[1;31mJobFailedException\u001b[0m: Batch job 'j-2405155e702e4218aa9dfac9671faaff' didn't finish successfully. Status: error (after 0:01:37)."
     ]
    }
   ],
   "source": [
    "from datetime import datetime\n",
    "current_datetime = datetime.now()\n",
    "formatted_datetime = current_datetime.strftime(\"%Y_%m_%d_%H_%M_%S\")\n",
    "outputfile_name = str(formatted_datetime) + '_input_cube_worldCereal.nc'\n",
    "\n",
    "input_cube.execute_batch(outputfile = outputfile_name,\n",
    "                        description='world cereal data collection')"
   ]
  },
  {
   "cell_type": "markdown",
   "id": "48c9322c",
   "metadata": {},
   "source": []
  },
  {
   "cell_type": "code",
   "execution_count": 3,
   "id": "8f71136c-1252-4786-8609-8bb995da7daf",
   "metadata": {
    "tags": []
   },
   "outputs": [
    {
     "name": "stdout",
     "output_type": "stream",
     "text": [
      "0:00:00 Job 'j-240508de680a4a01bad4dfca194be16b': send 'start'\n",
      "0:00:28 Job 'j-240508de680a4a01bad4dfca194be16b': created (progress 0%)\n",
      "0:00:34 Job 'j-240508de680a4a01bad4dfca194be16b': created (progress 0%)\n",
      "0:00:41 Job 'j-240508de680a4a01bad4dfca194be16b': queued (progress 0%)\n",
      "0:00:55 Job 'j-240508de680a4a01bad4dfca194be16b': queued (progress 0%)\n",
      "0:01:05 Job 'j-240508de680a4a01bad4dfca194be16b': queued (progress 0%)\n",
      "0:01:17 Job 'j-240508de680a4a01bad4dfca194be16b': queued (progress 0%)\n",
      "0:01:33 Job 'j-240508de680a4a01bad4dfca194be16b': queued (progress 0%)\n",
      "0:01:52 Job 'j-240508de680a4a01bad4dfca194be16b': queued (progress 0%)\n",
      "0:02:22 Job 'j-240508de680a4a01bad4dfca194be16b': running (progress N/A)\n",
      "0:02:52 Job 'j-240508de680a4a01bad4dfca194be16b': running (progress N/A)\n",
      "0:03:29 Job 'j-240508de680a4a01bad4dfca194be16b': running (progress N/A)\n",
      "0:04:16 Job 'j-240508de680a4a01bad4dfca194be16b': running (progress N/A)\n",
      "0:05:15 Job 'j-240508de680a4a01bad4dfca194be16b': running (progress N/A)\n",
      "0:06:16 Job 'j-240508de680a4a01bad4dfca194be16b': running (progress N/A)\n",
      "0:07:16 Job 'j-240508de680a4a01bad4dfca194be16b': running (progress N/A)\n",
      "0:08:17 Job 'j-240508de680a4a01bad4dfca194be16b': running (progress N/A)\n",
      "0:09:17 Job 'j-240508de680a4a01bad4dfca194be16b': running (progress N/A)\n",
      "0:10:18 Job 'j-240508de680a4a01bad4dfca194be16b': running (progress N/A)\n",
      "0:11:18 Job 'j-240508de680a4a01bad4dfca194be16b': running (progress N/A)\n",
      "0:12:19 Job 'j-240508de680a4a01bad4dfca194be16b': running (progress N/A)\n",
      "0:13:21 Job 'j-240508de680a4a01bad4dfca194be16b': running (progress N/A)\n",
      "0:14:21 Job 'j-240508de680a4a01bad4dfca194be16b': running (progress N/A)\n",
      "0:15:22 Job 'j-240508de680a4a01bad4dfca194be16b': running (progress N/A)\n",
      "0:16:22 Job 'j-240508de680a4a01bad4dfca194be16b': running (progress N/A)\n",
      "0:17:23 Job 'j-240508de680a4a01bad4dfca194be16b': running (progress N/A)\n",
      "0:18:23 Job 'j-240508de680a4a01bad4dfca194be16b': running (progress N/A)\n",
      "0:19:24 Job 'j-240508de680a4a01bad4dfca194be16b': running (progress N/A)\n",
      "0:20:24 Job 'j-240508de680a4a01bad4dfca194be16b': running (progress N/A)\n",
      "0:21:25 Job 'j-240508de680a4a01bad4dfca194be16b': running (progress N/A)\n",
      "0:22:26 Job 'j-240508de680a4a01bad4dfca194be16b': running (progress N/A)\n",
      "0:23:26 Job 'j-240508de680a4a01bad4dfca194be16b': running (progress N/A)\n",
      "0:24:26 Job 'j-240508de680a4a01bad4dfca194be16b': running (progress N/A)\n",
      "0:25:34 Job 'j-240508de680a4a01bad4dfca194be16b': running (progress N/A)\n",
      "0:26:34 Job 'j-240508de680a4a01bad4dfca194be16b': finished (progress 100%)\n"
     ]
    },
    {
     "data": {
      "text/html": [
       "\n",
       "    <script>\n",
       "    if (!window.customElements || !window.customElements.get('openeo-job')) {\n",
       "        var el = document.createElement('script');\n",
       "        el.src = \"https://cdn.jsdelivr.net/npm/@openeo/vue-components@2/assets/openeo.min.js\";\n",
       "        document.head.appendChild(el);\n",
       "\n",
       "        var font = document.createElement('font');\n",
       "        font.as = \"font\";\n",
       "        font.type = \"font/woff2\";\n",
       "        font.crossOrigin = true;\n",
       "        font.href = \"https://use.fontawesome.com/releases/v5.13.0/webfonts/fa-solid-900.woff2\"\n",
       "        document.head.appendChild(font);\n",
       "    }\n",
       "    </script>\n",
       "    <openeo-job>\n",
       "        <script type=\"application/json\">{\"currency\": \"credits\", \"job\": {\"costs\": 14.0, \"created\": \"2024-05-08T19:12:31Z\", \"description\": \"world cereal inference\", \"id\": \"j-240508de680a4a01bad4dfca194be16b\", \"process\": {\"process_graph\": {\"aggregatetemporalperiod1\": {\"arguments\": {\"data\": {\"from_node\": \"filterbands1\"}, \"period\": \"month\", \"reducer\": {\"process_graph\": {\"median1\": {\"arguments\": {\"data\": {\"from_parameter\": \"data\"}}, \"process_id\": \"median\", \"result\": true}}}}, \"process_id\": \"aggregate_temporal_period\"}, \"aggregatetemporalperiod2\": {\"arguments\": {\"data\": {\"from_node\": \"sarbackscatter1\"}, \"period\": \"month\", \"reducer\": {\"process_graph\": {\"mean1\": {\"arguments\": {\"data\": {\"from_parameter\": \"data\"}}, \"process_id\": \"mean\", \"result\": true}}}}, \"process_id\": \"aggregate_temporal_period\"}, \"apply1\": {\"arguments\": {\"data\": {\"from_node\": \"aggregatetemporalperiod1\"}, \"process\": {\"process_graph\": {\"linearscalerange1\": {\"arguments\": {\"inputMax\": 65534, \"inputMin\": 0, \"outputMax\": 65534, \"outputMin\": 0, \"x\": {\"from_parameter\": \"x\"}}, \"process_id\": \"linear_scale_range\", \"result\": true}}}}, \"process_id\": \"apply\"}, \"apply2\": {\"arguments\": {\"data\": {\"from_node\": \"applydimension1\"}, \"process\": {\"process_graph\": {\"linearscalerange2\": {\"arguments\": {\"inputMax\": 65534, \"inputMin\": 1, \"outputMax\": 65534, \"outputMin\": 1, \"x\": {\"from_parameter\": \"x\"}}, \"process_id\": \"linear_scale_range\", \"result\": true}}}}, \"process_id\": \"apply\"}, \"apply3\": {\"arguments\": {\"data\": {\"from_node\": \"mergecubes2\"}, \"process\": {\"process_graph\": {\"linearscalerange3\": {\"arguments\": {\"inputMax\": 65534, \"inputMin\": 0, \"outputMax\": 65534, \"outputMin\": 0, \"x\": {\"from_parameter\": \"x\"}}, \"process_id\": \"linear_scale_range\", \"result\": true}}}}, \"process_id\": \"apply\"}, \"applydimension1\": {\"arguments\": {\"data\": {\"from_node\": \"aggregatetemporalperiod2\"}, \"dimension\": \"bands\", \"process\": {\"process_graph\": {\"add1\": {\"arguments\": {\"x\": {\"from_node\": \"multiply1\"}, \"y\": 83.0}, \"process_id\": \"add\"}, \"add2\": {\"arguments\": {\"x\": {\"from_node\": \"multiply2\"}, \"y\": 83.0}, \"process_id\": \"add\"}, \"arraycreate1\": {\"arguments\": {\"data\": [{\"from_node\": \"power1\"}, {\"from_node\": \"power2\"}]}, \"process_id\": \"array_create\", \"result\": true}, \"arrayelement1\": {\"arguments\": {\"data\": {\"from_parameter\": \"data\"}, \"index\": 0}, \"process_id\": \"array_element\"}, \"arrayelement2\": {\"arguments\": {\"data\": {\"from_parameter\": \"data\"}, \"index\": 1}, \"process_id\": \"array_element\"}, \"divide1\": {\"arguments\": {\"x\": {\"from_node\": \"add1\"}, \"y\": 20.0}, \"process_id\": \"divide\"}, \"divide2\": {\"arguments\": {\"x\": {\"from_node\": \"add2\"}, \"y\": 20.0}, \"process_id\": \"divide\"}, \"log1\": {\"arguments\": {\"base\": 10, \"x\": {\"from_node\": \"arrayelement1\"}}, \"process_id\": \"log\"}, \"log2\": {\"arguments\": {\"base\": 10, \"x\": {\"from_node\": \"arrayelement2\"}}, \"process_id\": \"log\"}, \"multiply1\": {\"arguments\": {\"x\": 10.0, \"y\": {\"from_node\": \"log1\"}}, \"process_id\": \"multiply\"}, \"multiply2\": {\"arguments\": {\"x\": 10.0, \"y\": {\"from_node\": \"log2\"}}, \"process_id\": \"multiply\"}, \"power1\": {\"arguments\": {\"base\": 10, \"p\": {\"from_node\": \"divide1\"}}, \"process_id\": \"power\"}, \"power2\": {\"arguments\": {\"base\": 10, \"p\": {\"from_node\": \"divide2\"}}, \"process_id\": \"power\"}}}}, \"process_id\": \"apply_dimension\"}, \"applyneighborhood1\": {\"arguments\": {\"data\": {\"from_node\": \"apply3\"}, \"overlap\": [{\"dimension\": \"x\", \"unit\": \"px\", \"value\": 0}, {\"dimension\": \"y\", \"unit\": \"px\", \"value\": 0}], \"process\": {\"process_graph\": {\"runudf1\": {\"arguments\": {\"data\": {\"from_parameter\": \"data\"}, \"runtime\": \"Python\", \"udf\": \"import logging\\nimport urllib.request\\nimport shutil\\nfrom pathlib import Path\\nimport sys\\nimport functools\\nimport xarray as xr\\nfrom typing import Dict\\nimport numpy as np\\nfrom pyproj import Transformer\\n\\n\\ndef _setup_logging():\\n    logging.basicConfig(level=logging.INFO)\\n    logger = logging.getLogger(__name__)\\n    return logger\\n\\n@functools.lru_cache(maxsize=6)\\ndef extract_dependencies(base_url: str, dependency_name: str):\\n\\n    # Generate absolute path for the dependencies folder\\n    dependencies_dir = Path.cwd() / 'dependencies'\\n\\n    # Create the directory if it doesn't exist\\n    dependencies_dir.mkdir(exist_ok=True, parents=True)\\n\\n\\n    # Download and extract the model file\\n    modelfile_url = f\\\"{base_url}/{dependency_name}\\\"\\n    modelfile, _ = urllib.request.urlretrieve(modelfile_url, filename=dependencies_dir / Path(modelfile_url).name)\\n    shutil.unpack_archive(modelfile, extract_dir=dependencies_dir)\\n\\n    # Add the model directory to system path if it's not already there\\n    abs_path = str(dependencies_dir / Path(modelfile_url).name.split('.zip')[0])\\n\\n    return(abs_path)\\n\\n\\ndef apply_datacube(cube: xr.DataArray, context:Dict) -> xr.DataArray:\\n    \\n    logger = _setup_logging() \\n    logger.info(\\\"Shape of input: {}\\\".format(cube.shape))\\n\\n    # shape and indiches for output\\n    orig_dims = list(cube.dims)\\n    map_dims = (100,100)\\n\\n    # Unzip de dependencies on the backend\\n    logger.info(\\\"Unzipping dependencies\\\")\\n    base_url = \\\"https://artifactory.vgt.vito.be/artifactory/auxdata-public/worldcereal-minimal-inference/\\\"\\n    dependency_name = \\\"wc_presto_onnx_dependencies.zip\\\"\\n    dep_dir = extract_dependencies(base_url, dependency_name)\\n\\n    # Append the dependencies\\n    sys.path.append(str(dep_dir))\\n    sys.path.append(str(dep_dir) + '/pandas')\\n    from dependencies.wc_presto_onnx_dependencies.mvp_wc_presto.world_cereal_inference import get_presto_features, classify_with_catboost\\n\\n    # Run presto inference\\n    logger.info(\\\"Extracting presto features\\\")\\n    PRESTO_PATH = \\\"https://artifactory.vgt.vito.be/artifactory/auxdata-public/worldcereal-minimal-inference/presto.pt\\\"\\n    features = get_presto_features(cube, PRESTO_PATH)\\n    logger.info(\\\"Shape of presto output: {}\\\".format(features.shape))\\n\\n    # run catboost classification\\n    logger.info(\\\"Catboost classification\\\")\\n    CATBOOST_PATH = \\\"https://artifactory.vgt.vito.be/artifactory/auxdata-public/worldcereal-minimal-inference/wc_catboost.onnx\\\"\\n    classification = classify_with_catboost(features, CATBOOST_PATH)\\n    logger.info(\\\"Shape of classification output: {}\\\".format(classification.shape))\\n\\n    # revert to 4D shape for openEO\\n    logger.info(\\\"Revert to 4D xarray\\\")\\n    transformer = Transformer.from_crs(f\\\"EPSG:{4326}\\\", \\\"EPSG:4326\\\", always_xy=True)\\n    longitudes, latitudes = transformer.transform(cube.x, cube.y)\\n\\n    classification = np.flip(classification.reshape(map_dims),axis = 1)\\n    classification = np.expand_dims(np.expand_dims(classification, axis=0), axis=0)\\n    output = xr.DataArray(classification, dims=orig_dims)\\n    logger.info(\\\"Shape of output: {}\\\".format(output.shape))\\n\\n    return output\\n\\n\\n\\n\\n\\n\\n\\n\\n\\n\\n\\n\\n\\n\\n\\n\\n\"}, \"process_id\": \"run_udf\", \"result\": true}}}, \"size\": [{\"dimension\": \"x\", \"unit\": \"px\", \"value\": 100}, {\"dimension\": \"y\", \"unit\": \"px\", \"value\": 100}]}, \"process_id\": \"apply_neighborhood\"}, \"filterbands1\": {\"arguments\": {\"bands\": [\"B02\", \"B03\", \"B04\", \"B05\", \"B06\", \"B07\", \"B08\", \"B8A\", \"B11\", \"B12\"], \"data\": {\"from_node\": \"maskscldilation1\"}}, \"process_id\": \"filter_bands\"}, \"filtertemporal1\": {\"arguments\": {\"data\": {\"from_node\": \"mergecubes1\"}, \"extent\": [\"2020-11-01\", \"2021-10-31\"]}, \"process_id\": \"filter_temporal\"}, \"loadcollection1\": {\"arguments\": {\"bands\": [\"B02\", \"B03\", \"B04\", \"B05\", \"B06\", \"B07\", \"B08\", \"B8A\", \"B11\", \"B12\", \"SCL\"], \"id\": \"SENTINEL2_L2A\", \"properties\": {\"eo:cloud_cover\": {\"process_graph\": {\"lte1\": {\"arguments\": {\"x\": {\"from_parameter\": \"value\"}, \"y\": 95}, \"process_id\": \"lte\", \"result\": true}}}}, \"spatial_extent\": {\"crs\": \"EPSG:4326\", \"east\": 5.215158, \"north\": 51.267661, \"south\": 51.25692, \"west\": 5.191984}, \"temporal_extent\": [\"2020-11-01\", \"2021-10-31\"]}, \"process_id\": \"load_collection\"}, \"loadcollection2\": {\"arguments\": {\"bands\": [\"VH\", \"VV\"], \"id\": \"SENTINEL1_GRD\", \"spatial_extent\": {\"crs\": \"EPSG:4326\", \"east\": 5.215158, \"north\": 51.267661, \"south\": 51.25692, \"west\": 5.191984}, \"temporal_extent\": [\"2020-11-01\", \"2021-10-31\"]}, \"process_id\": \"load_collection\"}, \"loadcollection3\": {\"arguments\": {\"id\": \"COPERNICUS_30\", \"spatial_extent\": {\"crs\": \"EPSG:4326\", \"east\": 5.215158, \"north\": 51.267661, \"south\": 51.25692, \"west\": 5.191984}, \"temporal_extent\": null}, \"process_id\": \"load_collection\"}, \"maskscldilation1\": {\"arguments\": {\"data\": {\"from_node\": \"loadcollection1\"}, \"erosion_kernel_size\": 3, \"kernel1_size\": 17, \"kernel2_size\": 77, \"mask1_values\": [2, 4, 5, 6, 7], \"mask2_values\": [3, 8, 9, 10, 11], \"scl_band_name\": \"SCL\"}, \"process_id\": \"mask_scl_dilation\"}, \"mergecubes1\": {\"arguments\": {\"cube1\": {\"from_node\": \"resamplecubespatial1\"}, \"cube2\": {\"from_node\": \"apply2\"}}, \"process_id\": \"merge_cubes\"}, \"mergecubes2\": {\"arguments\": {\"cube1\": {\"from_node\": \"filtertemporal1\"}, \"cube2\": {\"from_node\": \"reducedimension1\"}}, \"process_id\": \"merge_cubes\"}, \"reducedimension1\": {\"arguments\": {\"data\": {\"from_node\": \"loadcollection3\"}, \"dimension\": \"t\", \"reducer\": {\"process_graph\": {\"max1\": {\"arguments\": {\"data\": {\"from_parameter\": \"data\"}}, \"process_id\": \"max\", \"result\": true}}}}, \"process_id\": \"reduce_dimension\"}, \"renamelabels1\": {\"arguments\": {\"data\": {\"from_node\": \"applyneighborhood1\"}, \"dimension\": \"bands\", \"target\": [\"output_catboost\"]}, \"process_id\": \"rename_labels\"}, \"resamplecubespatial1\": {\"arguments\": {\"data\": {\"from_node\": \"apply1\"}, \"method\": \"near\", \"target\": {\"from_node\": \"apply2\"}}, \"process_id\": \"resample_cube_spatial\"}, \"sarbackscatter1\": {\"arguments\": {\"coefficient\": \"sigma0-ellipsoid\", \"contributing_area\": false, \"data\": {\"from_node\": \"loadcollection2\"}, \"elevation_model\": null, \"ellipsoid_incidence_angle\": false, \"local_incidence_angle\": false, \"mask\": false, \"noise_removal\": true, \"options\": {\"debug\": false, \"elev_geoid\": \"/opt/openeo-vito-aux-data/egm96.tif\", \"implementation_version\": \"2\", \"otb_memory\": 1024, \"tile_size\": 256}}, \"process_id\": \"sar_backscatter\"}, \"saveresult1\": {\"arguments\": {\"data\": {\"from_node\": \"renamelabels1\"}, \"format\": \"netCDF\", \"options\": {}}, \"process_id\": \"save_result\", \"result\": true}}}, \"progress\": 100, \"status\": \"finished\", \"updated\": \"2024-05-08T19:39:02Z\", \"usage\": {\"cpu\": {\"unit\": \"cpu-seconds\", \"value\": 3120.4358030470003}, \"duration\": {\"unit\": \"seconds\", \"value\": 1556}, \"input_pixel\": {\"unit\": \"mega-pixel\", \"value\": 33.69062423706055}, \"max_executor_memory\": {\"unit\": \"gb\", \"value\": 6.189888000488281}, \"memory\": {\"unit\": \"mb-seconds\", \"value\": 40970314.745055206}, \"network_received\": {\"unit\": \"b\", \"value\": 92821522513.0}}}}</script>\n",
       "    </openeo-job>\n",
       "    "
      ],
      "text/plain": [
       "<BatchJob job_id='j-240508de680a4a01bad4dfca194be16b'>"
      ]
     },
     "execution_count": 3,
     "metadata": {},
     "output_type": "execute_result"
    }
   ],
   "source": [
    "\n",
    "current_datetime = datetime.now()\n",
    "formatted_datetime = current_datetime.strftime(\"%Y_%m_%d_%H_%M_%S\")\n",
    "outputfile_name = str(formatted_datetime) + '_output_worldcereal.nc'\n",
    "\n",
    "udf = openeo.UDF.from_file(\"udf_worldcereal_inference.py\")\n",
    "\n",
    "prediction = input_cube.apply_neighborhood(\n",
    "    process=udf,\n",
    "    size=[\n",
    "        {\"dimension\": \"x\", \"value\": 100, \"unit\": \"px\"},\n",
    "        {\"dimension\": \"y\", \"value\": 100, \"unit\": \"px\"},\n",
    "    ],\n",
    "    overlap=[\n",
    "        {\"dimension\": \"x\", \"value\": 0, \"unit\": \"px\"},\n",
    "        {\"dimension\": \"y\", \"value\": 0, \"unit\": \"px\"},\n",
    "    ],\n",
    ")\n",
    "\n",
    "prediction = prediction.rename_labels(dimension=\"bands\",target= [\"output_catboost\"])\n",
    "\n",
    "prediction.execute_batch(outputfile = outputfile_name,\n",
    "                        description='world cereal inference',\n",
    "                        job_options={'driver-memory': '4g',\n",
    "                                    'executor-memoryOverhead':'8g'} )\n"
   ]
  },
  {
   "cell_type": "code",
   "execution_count": 4,
   "id": "2cf64980",
   "metadata": {},
   "outputs": [
    {
     "data": {
      "text/plain": [
       "(126, 166)"
      ]
     },
     "execution_count": 4,
     "metadata": {},
     "output_type": "execute_result"
    },
    {
     "data": {
      "image/png": "[encoded data removed]",
      "text/plain": [
       "<Figure size 640x480 with 1 Axes>"
      ]
     },
     "metadata": {},
     "output_type": "display_data"
    }
   ],
   "source": [
    "import xarray as xr\n",
    "import matplotlib.pyplot as plt\n",
    "\n",
    "output = xr.open_dataset(outputfile_name)\n",
    "output = output['output_catboost'].to_numpy().squeeze()\n",
    "plt.imshow(output)\n",
    "\n",
    "output.shape\n"
   ]
  },
  {
   "cell_type": "code",
   "execution_count": 3,
   "id": "5b7bea33",
   "metadata": {},
   "outputs": [
    {
     "name": "stdout",
     "output_type": "stream",
     "text": [
      "0:00:00 Job 'j-24051411052f466b911c92ea2d1e7b20': send 'start'\n",
      "0:00:29 Job 'j-24051411052f466b911c92ea2d1e7b20': created (progress 0%)\n",
      "0:00:35 Job 'j-24051411052f466b911c92ea2d1e7b20': created (progress 0%)\n",
      "0:00:44 Job 'j-24051411052f466b911c92ea2d1e7b20': created (progress 0%)\n",
      "0:00:53 Job 'j-24051411052f466b911c92ea2d1e7b20': created (progress 0%)\n",
      "0:01:11 Job 'j-24051411052f466b911c92ea2d1e7b20': running (progress N/A)\n",
      "0:01:28 Job 'j-24051411052f466b911c92ea2d1e7b20': running (progress N/A)\n",
      "0:01:44 Job 'j-24051411052f466b911c92ea2d1e7b20': running (progress N/A)\n",
      "0:02:15 Job 'j-24051411052f466b911c92ea2d1e7b20': running (progress N/A)\n",
      "0:02:43 Job 'j-24051411052f466b911c92ea2d1e7b20': running (progress N/A)\n",
      "0:03:24 Job 'j-24051411052f466b911c92ea2d1e7b20': running (progress N/A)\n",
      "0:04:03 Job 'j-24051411052f466b911c92ea2d1e7b20': running (progress N/A)\n",
      "0:04:54 Job 'j-24051411052f466b911c92ea2d1e7b20': running (progress N/A)\n",
      "0:05:56 Job 'j-24051411052f466b911c92ea2d1e7b20': running (progress N/A)\n",
      "0:06:57 Job 'j-24051411052f466b911c92ea2d1e7b20': running (progress N/A)\n",
      "0:08:01 Job 'j-24051411052f466b911c92ea2d1e7b20': running (progress N/A)\n",
      "0:09:05 Job 'j-24051411052f466b911c92ea2d1e7b20': running (progress N/A)\n",
      "0:10:18 Job 'j-24051411052f466b911c92ea2d1e7b20': running (progress N/A)\n",
      "0:11:22 Job 'j-24051411052f466b911c92ea2d1e7b20': running (progress N/A)\n",
      "0:12:23 Job 'j-24051411052f466b911c92ea2d1e7b20': running (progress N/A)\n",
      "0:13:24 Job 'j-24051411052f466b911c92ea2d1e7b20': running (progress N/A)\n",
      "0:14:31 Job 'j-24051411052f466b911c92ea2d1e7b20': running (progress N/A)\n",
      "0:15:32 Job 'j-24051411052f466b911c92ea2d1e7b20': running (progress N/A)\n",
      "0:16:33 Job 'j-24051411052f466b911c92ea2d1e7b20': running (progress N/A)\n",
      "0:17:34 Job 'j-24051411052f466b911c92ea2d1e7b20': running (progress N/A)\n",
      "0:18:34 Job 'j-24051411052f466b911c92ea2d1e7b20': running (progress N/A)\n",
      "0:19:35 Job 'j-24051411052f466b911c92ea2d1e7b20': running (progress N/A)\n",
      "0:20:44 Job 'j-24051411052f466b911c92ea2d1e7b20': running (progress N/A)\n",
      "0:21:46 Job 'j-24051411052f466b911c92ea2d1e7b20': running (progress N/A)\n",
      "0:22:57 Job 'j-24051411052f466b911c92ea2d1e7b20': running (progress N/A)\n",
      "0:23:57 Job 'j-24051411052f466b911c92ea2d1e7b20': running (progress N/A)\n",
      "0:24:58 Job 'j-24051411052f466b911c92ea2d1e7b20': running (progress N/A)\n",
      "0:26:00 Job 'j-24051411052f466b911c92ea2d1e7b20': running (progress N/A)\n",
      "0:27:02 Job 'j-24051411052f466b911c92ea2d1e7b20': running (progress N/A)\n",
      "0:28:04 Job 'j-24051411052f466b911c92ea2d1e7b20': running (progress N/A)\n",
      "0:29:05 Job 'j-24051411052f466b911c92ea2d1e7b20': running (progress N/A)\n",
      "0:30:06 Job 'j-24051411052f466b911c92ea2d1e7b20': running (progress N/A)\n",
      "0:31:06 Job 'j-24051411052f466b911c92ea2d1e7b20': running (progress N/A)\n",
      "16:12:29 Job 'j-24051411052f466b911c92ea2d1e7b20': Connection error while polling job status: ('Connection aborted.', RemoteDisconnected('Remote end closed connection without response'))\n",
      "16:13:03 Job 'j-24051411052f466b911c92ea2d1e7b20': finished (progress 100%)\n"
     ]
    },
    {
     "data": {
      "text/html": [
       "\n",
       "    <script>\n",
       "    if (!window.customElements || !window.customElements.get('openeo-job')) {\n",
       "        var el = document.createElement('script');\n",
       "        el.src = \"https://cdn.jsdelivr.net/npm/@openeo/vue-components@2/assets/openeo.min.js\";\n",
       "        document.head.appendChild(el);\n",
       "\n",
       "        var font = document.createElement('font');\n",
       "        font.as = \"font\";\n",
       "        font.type = \"font/woff2\";\n",
       "        font.crossOrigin = true;\n",
       "        font.href = \"https://use.fontawesome.com/releases/v5.13.0/webfonts/fa-solid-900.woff2\"\n",
       "        document.head.appendChild(font);\n",
       "    }\n",
       "    </script>\n",
       "    <openeo-job>\n",
       "        <script type=\"application/json\">{\"currency\": \"credits\", \"job\": {\"costs\": 52.0, \"created\": \"2024-05-14T13:59:37Z\", \"description\": \"world cereal inference\", \"id\": \"j-24051411052f466b911c92ea2d1e7b20\", \"process\": {\"process_graph\": {\"aggregatetemporalperiod1\": {\"arguments\": {\"data\": {\"from_node\": \"filterbands1\"}, \"period\": \"month\", \"reducer\": {\"process_graph\": {\"median1\": {\"arguments\": {\"data\": {\"from_parameter\": \"data\"}}, \"process_id\": \"median\", \"result\": true}}}}, \"process_id\": \"aggregate_temporal_period\"}, \"aggregatetemporalperiod2\": {\"arguments\": {\"data\": {\"from_node\": \"sarbackscatter1\"}, \"period\": \"month\", \"reducer\": {\"process_graph\": {\"mean1\": {\"arguments\": {\"data\": {\"from_parameter\": \"data\"}}, \"process_id\": \"mean\", \"result\": true}}}}, \"process_id\": \"aggregate_temporal_period\"}, \"apply1\": {\"arguments\": {\"data\": {\"from_node\": \"aggregatetemporalperiod1\"}, \"process\": {\"process_graph\": {\"linearscalerange1\": {\"arguments\": {\"inputMax\": 65534, \"inputMin\": 0, \"outputMax\": 65534, \"outputMin\": 0, \"x\": {\"from_parameter\": \"x\"}}, \"process_id\": \"linear_scale_range\", \"result\": true}}}}, \"process_id\": \"apply\"}, \"apply2\": {\"arguments\": {\"data\": {\"from_node\": \"applydimension1\"}, \"process\": {\"process_graph\": {\"linearscalerange2\": {\"arguments\": {\"inputMax\": 65534, \"inputMin\": 1, \"outputMax\": 65534, \"outputMin\": 1, \"x\": {\"from_parameter\": \"x\"}}, \"process_id\": \"linear_scale_range\", \"result\": true}}}}, \"process_id\": \"apply\"}, \"apply3\": {\"arguments\": {\"data\": {\"from_node\": \"mergecubes2\"}, \"process\": {\"process_graph\": {\"linearscalerange3\": {\"arguments\": {\"inputMax\": 65534, \"inputMin\": 0, \"outputMax\": 65534, \"outputMin\": 0, \"x\": {\"from_parameter\": \"x\"}}, \"process_id\": \"linear_scale_range\", \"result\": true}}}}, \"process_id\": \"apply\"}, \"applydimension1\": {\"arguments\": {\"data\": {\"from_node\": \"aggregatetemporalperiod2\"}, \"dimension\": \"bands\", \"process\": {\"process_graph\": {\"add1\": {\"arguments\": {\"x\": {\"from_node\": \"multiply1\"}, \"y\": 83.0}, \"process_id\": \"add\"}, \"add2\": {\"arguments\": {\"x\": {\"from_node\": \"multiply2\"}, \"y\": 83.0}, \"process_id\": \"add\"}, \"arraycreate1\": {\"arguments\": {\"data\": [{\"from_node\": \"power1\"}, {\"from_node\": \"power2\"}]}, \"process_id\": \"array_create\", \"result\": true}, \"arrayelement1\": {\"arguments\": {\"data\": {\"from_parameter\": \"data\"}, \"index\": 0}, \"process_id\": \"array_element\"}, \"arrayelement2\": {\"arguments\": {\"data\": {\"from_parameter\": \"data\"}, \"index\": 1}, \"process_id\": \"array_element\"}, \"divide1\": {\"arguments\": {\"x\": {\"from_node\": \"add1\"}, \"y\": 20.0}, \"process_id\": \"divide\"}, \"divide2\": {\"arguments\": {\"x\": {\"from_node\": \"add2\"}, \"y\": 20.0}, \"process_id\": \"divide\"}, \"log1\": {\"arguments\": {\"base\": 10, \"x\": {\"from_node\": \"arrayelement1\"}}, \"process_id\": \"log\"}, \"log2\": {\"arguments\": {\"base\": 10, \"x\": {\"from_node\": \"arrayelement2\"}}, \"process_id\": \"log\"}, \"multiply1\": {\"arguments\": {\"x\": 10.0, \"y\": {\"from_node\": \"log1\"}}, \"process_id\": \"multiply\"}, \"multiply2\": {\"arguments\": {\"x\": 10.0, \"y\": {\"from_node\": \"log2\"}}, \"process_id\": \"multiply\"}, \"power1\": {\"arguments\": {\"base\": 10, \"p\": {\"from_node\": \"divide1\"}}, \"process_id\": \"power\"}, \"power2\": {\"arguments\": {\"base\": 10, \"p\": {\"from_node\": \"divide2\"}}, \"process_id\": \"power\"}}}}, \"process_id\": \"apply_dimension\"}, \"applyneighborhood1\": {\"arguments\": {\"data\": {\"from_node\": \"apply3\"}, \"overlap\": [{\"dimension\": \"x\", \"unit\": \"px\", \"value\": 0}, {\"dimension\": \"y\", \"unit\": \"px\", \"value\": 0}], \"process\": {\"process_graph\": {\"runudf1\": {\"arguments\": {\"data\": {\"from_parameter\": \"data\"}, \"runtime\": \"Python\", \"udf\": \"import logging\\nimport urllib.request\\nimport shutil\\nfrom pathlib import Path\\nimport sys\\nimport functools\\nimport xarray as xr\\nfrom typing import Dict\\nimport numpy as np\\nfrom pyproj import Transformer\\n\\n\\ndef _setup_logging():\\n    logging.basicConfig(level=logging.INFO)\\n    logger = logging.getLogger(__name__)\\n    return logger\\n\\n@functools.lru_cache(maxsize=6)\\ndef extract_dependencies(base_url: str, dependency_name: str):\\n\\n    # Generate absolute path for the dependencies folder\\n    dependencies_dir = Path.cwd() / 'dependencies'\\n\\n    # Create the directory if it doesn't exist\\n    dependencies_dir.mkdir(exist_ok=True, parents=True)\\n\\n\\n    # Download and extract the model file\\n    modelfile_url = f\\\"{base_url}/{dependency_name}\\\"\\n    modelfile, _ = urllib.request.urlretrieve(modelfile_url, filename=dependencies_dir / Path(modelfile_url).name)\\n    shutil.unpack_archive(modelfile, extract_dir=dependencies_dir)\\n\\n    # Add the model directory to system path if it's not already there\\n    abs_path = str(dependencies_dir / Path(modelfile_url).name.split('.zip')[0])\\n\\n    return(abs_path)\\n\\n\\ndef apply_datacube(cube: xr.DataArray, context:Dict) -> xr.DataArray:\\n    \\n    logger = _setup_logging() \\n\\n    # shape and indiches for output\\n    orig_dims = list(cube.dims)\\n    map_dims = cube.shape[2:]\\n\\n    logger.info(\\\"Unzipping dependencies\\\")\\n    base_url = \\\"https://artifactory.vgt.vito.be/artifactory/auxdata-public/worldcereal-minimal-inference/\\\"\\n    dependency_name = \\\"wc_presto_onnx_dependencies.zip\\\"\\n\\n    logger.info(\\\"Appending depencency\\\")\\n    dep_dir = extract_dependencies(base_url, dependency_name)\\n    \\n\\n    #directly add a path to the older pandas version\\n    sys.path.append(str(dep_dir))\\n    sys.path.append(str(dep_dir) + '/pandas')\\n\\n    from dependencies.wc_presto_onnx_dependencies.mvp_wc_presto.world_cereal_inference import get_presto_features\\n\\n    logger.info(\\\"Reading in required libs\\\")\\n\\n    logger.info(\\\"Extracting presto features\\\")\\n    PRESTO_PATH = \\\"https://artifactory.vgt.vito.be/artifactory/auxdata-public/worldcereal-minimal-inference/presto.pt\\\"\\n    features = get_presto_features(cube, PRESTO_PATH)\\n\\n    # go to 128,1,100,100\\n    presto_dim = map_dims + (128,)    \\n    features = features.reshape(presto_dim)\\n    features = np.expand_dims(features, axis = 0)\\n    features = np.transpose(features, (3, 0, 1, 2))\\n\\n\\n    transformer = Transformer.from_crs(f\\\"EPSG:{4326}\\\", \\\"EPSG:4326\\\", always_xy=True)\\n    longitudes, latitudes = transformer.transform(cube.x, cube.y)\\n\\n    \\n    output = xr.DataArray(features, dims=orig_dims, coords={'y': longitudes, 'x': latitudes})\\n    return output\\n\\n\\n\\n\\n\\n\\n\\n\\n\\n\\n\\n\\n\\n\\n\\n\\n\"}, \"process_id\": \"run_udf\", \"result\": true}}}, \"size\": [{\"dimension\": \"x\", \"unit\": \"px\", \"value\": 100}, {\"dimension\": \"y\", \"unit\": \"px\", \"value\": 100}]}, \"process_id\": \"apply_neighborhood\"}, \"filterbands1\": {\"arguments\": {\"bands\": [\"B02\", \"B03\", \"B04\", \"B05\", \"B06\", \"B07\", \"B08\", \"B8A\", \"B11\", \"B12\"], \"data\": {\"from_node\": \"maskscldilation1\"}}, \"process_id\": \"filter_bands\"}, \"filtertemporal1\": {\"arguments\": {\"data\": {\"from_node\": \"mergecubes1\"}, \"extent\": [\"2020-11-01\", \"2021-10-31\"]}, \"process_id\": \"filter_temporal\"}, \"loadcollection1\": {\"arguments\": {\"bands\": [\"B02\", \"B03\", \"B04\", \"B05\", \"B06\", \"B07\", \"B08\", \"B8A\", \"B11\", \"B12\", \"SCL\"], \"id\": \"SENTINEL2_L2A\", \"properties\": {\"eo:cloud_cover\": {\"process_graph\": {\"lte1\": {\"arguments\": {\"x\": {\"from_parameter\": \"value\"}, \"y\": 95}, \"process_id\": \"lte\", \"result\": true}}}}, \"spatial_extent\": {\"crs\": \"EPSG:4326\", \"east\": 5.21, \"north\": 51.26, \"south\": 51.25, \"west\": 5.19}, \"temporal_extent\": [\"2020-11-01\", \"2021-10-31\"]}, \"process_id\": \"load_collection\"}, \"loadcollection2\": {\"arguments\": {\"bands\": [\"VH\", \"VV\"], \"id\": \"SENTINEL1_GRD\", \"spatial_extent\": {\"crs\": \"EPSG:4326\", \"east\": 5.21, \"north\": 51.26, \"south\": 51.25, \"west\": 5.19}, \"temporal_extent\": [\"2020-11-01\", \"2021-10-31\"]}, \"process_id\": \"load_collection\"}, \"loadcollection3\": {\"arguments\": {\"id\": \"COPERNICUS_30\", \"spatial_extent\": {\"crs\": \"EPSG:4326\", \"east\": 5.21, \"north\": 51.26, \"south\": 51.25, \"west\": 5.19}, \"temporal_extent\": null}, \"process_id\": \"load_collection\"}, \"maskscldilation1\": {\"arguments\": {\"data\": {\"from_node\": \"loadcollection1\"}, \"erosion_kernel_size\": 3, \"kernel1_size\": 17, \"kernel2_size\": 77, \"mask1_values\": [2, 4, 5, 6, 7], \"mask2_values\": [3, 8, 9, 10, 11], \"scl_band_name\": \"SCL\"}, \"process_id\": \"mask_scl_dilation\"}, \"mergecubes1\": {\"arguments\": {\"cube1\": {\"from_node\": \"resamplecubespatial1\"}, \"cube2\": {\"from_node\": \"apply2\"}}, \"process_id\": \"merge_cubes\"}, \"mergecubes2\": {\"arguments\": {\"cube1\": {\"from_node\": \"filtertemporal1\"}, \"cube2\": {\"from_node\": \"reducedimension1\"}}, \"process_id\": \"merge_cubes\"}, \"reducedimension1\": {\"arguments\": {\"data\": {\"from_node\": \"loadcollection3\"}, \"dimension\": \"t\", \"reducer\": {\"process_graph\": {\"max1\": {\"arguments\": {\"data\": {\"from_parameter\": \"data\"}}, \"process_id\": \"max\", \"result\": true}}}}, \"process_id\": \"reduce_dimension\"}, \"renamelabels1\": {\"arguments\": {\"data\": {\"from_node\": \"applyneighborhood1\"}, \"dimension\": \"bands\", \"target\": [\"presto_1\", \"presto_2\", \"presto_3\", \"presto_4\", \"presto_5\", \"presto_6\", \"presto_7\", \"presto_8\", \"presto_9\", \"presto_10\", \"presto_11\", \"presto_12\", \"presto_13\", \"presto_14\", \"presto_15\", \"presto_16\", \"presto_17\", \"presto_18\", \"presto_19\", \"presto_20\", \"presto_21\", \"presto_22\", \"presto_23\", \"presto_24\", \"presto_25\", \"presto_26\", \"presto_27\", \"presto_28\", \"presto_29\", \"presto_30\", \"presto_31\", \"presto_32\", \"presto_33\", \"presto_34\", \"presto_35\", \"presto_36\", \"presto_37\", \"presto_38\", \"presto_39\", \"presto_40\", \"presto_41\", \"presto_42\", \"presto_43\", \"presto_44\", \"presto_45\", \"presto_46\", \"presto_47\", \"presto_48\", \"presto_49\", \"presto_50\", \"presto_51\", \"presto_52\", \"presto_53\", \"presto_54\", \"presto_55\", \"presto_56\", \"presto_57\", \"presto_58\", \"presto_59\", \"presto_60\", \"presto_61\", \"presto_62\", \"presto_63\", \"presto_64\", \"presto_65\", \"presto_66\", \"presto_67\", \"presto_68\", \"presto_69\", \"presto_70\", \"presto_71\", \"presto_72\", \"presto_73\", \"presto_74\", \"presto_75\", \"presto_76\", \"presto_77\", \"presto_78\", \"presto_79\", \"presto_80\", \"presto_81\", \"presto_82\", \"presto_83\", \"presto_84\", \"presto_85\", \"presto_86\", \"presto_87\", \"presto_88\", \"presto_89\", \"presto_90\", \"presto_91\", \"presto_92\", \"presto_93\", \"presto_94\", \"presto_95\", \"presto_96\", \"presto_97\", \"presto_98\", \"presto_99\", \"presto_100\", \"presto_101\", \"presto_102\", \"presto_103\", \"presto_104\", \"presto_105\", \"presto_106\", \"presto_107\", \"presto_108\", \"presto_109\", \"presto_110\", \"presto_111\", \"presto_112\", \"presto_113\", \"presto_114\", \"presto_115\", \"presto_116\", \"presto_117\", \"presto_118\", \"presto_119\", \"presto_120\", \"presto_121\", \"presto_122\", \"presto_123\", \"presto_124\", \"presto_125\", \"presto_126\", \"presto_127\", \"presto_128\"]}, \"process_id\": \"rename_labels\"}, \"resamplecubespatial1\": {\"arguments\": {\"data\": {\"from_node\": \"apply1\"}, \"method\": \"near\", \"target\": {\"from_node\": \"apply2\"}}, \"process_id\": \"resample_cube_spatial\"}, \"sarbackscatter1\": {\"arguments\": {\"coefficient\": \"sigma0-ellipsoid\", \"contributing_area\": false, \"data\": {\"from_node\": \"loadcollection2\"}, \"elevation_model\": null, \"ellipsoid_incidence_angle\": false, \"local_incidence_angle\": false, \"mask\": false, \"noise_removal\": true, \"options\": {\"debug\": false, \"elev_geoid\": \"/opt/openeo-vito-aux-data/egm96.tif\", \"implementation_version\": \"2\", \"otb_memory\": 1024, \"tile_size\": 256}}, \"process_id\": \"sar_backscatter\"}, \"saveresult1\": {\"arguments\": {\"data\": {\"from_node\": \"renamelabels1\"}, \"format\": \"netCDF\", \"options\": {}}, \"process_id\": \"save_result\", \"result\": true}}}, \"progress\": 100, \"status\": \"finished\", \"updated\": \"2024-05-14T15:17:18Z\", \"usage\": {\"cpu\": {\"unit\": \"cpu-seconds\", \"value\": 3706.698022512}, \"duration\": {\"unit\": \"seconds\", \"value\": 4617}, \"input_pixel\": {\"unit\": \"mega-pixel\", \"value\": 30.252471923828125}, \"max_executor_memory\": {\"unit\": \"gb\", \"value\": 8.349822998046875}, \"memory\": {\"unit\": \"mb-seconds\", \"value\": 182986338.87170532}, \"network_received\": {\"unit\": \"b\", \"value\": 89838790134.0}}}}</script>\n",
       "    </openeo-job>\n",
       "    "
      ],
      "text/plain": [
       "<BatchJob job_id='j-24051411052f466b911c92ea2d1e7b20'>"
      ]
     },
     "execution_count": 3,
     "metadata": {},
     "output_type": "execute_result"
    }
   ],
   "source": [
    "from datetime import datetime\n",
    "\n",
    "current_datetime = datetime.now()\n",
    "formatted_datetime = current_datetime.strftime(\"%Y_%m_%d_%H_%M_%S\")\n",
    "outputfile_name = str(formatted_datetime) + '_output_presto.nc'\n",
    "\n",
    "presto_list = [\"presto_\" + str(i) for i in range(1, 129)]\n",
    "\n",
    "\n",
    "udf = openeo.UDF.from_file(\"udf_presto.py\")\n",
    "\n",
    "prediction = input_cube.apply_neighborhood(\n",
    "    process=udf,\n",
    "    size=[\n",
    "        {\"dimension\": \"x\", \"value\": 100, \"unit\": \"px\"},\n",
    "        {\"dimension\": \"y\", \"value\": 100, \"unit\": \"px\"},\n",
    "    ],\n",
    "    overlap=[\n",
    "        {\"dimension\": \"x\", \"value\": 0, \"unit\": \"px\"},\n",
    "        {\"dimension\": \"y\", \"value\": 0, \"unit\": \"px\"},\n",
    "    ],\n",
    ")\n",
    "\n",
    "prediction = prediction.rename_labels(dimension=\"bands\",target= presto_list)\n",
    "\n",
    "prediction.execute_batch(outputfile = outputfile_name,\n",
    "                        description='world cereal inference',\n",
    "                        job_options={'driver-memory': '4g',\n",
    "                                    'executor-memoryOverhead':'8g'} )"
   ]
  },
  {
   "cell_type": "markdown",
   "id": "5b47a2a0-d5f4-4e39-a924-4bca923400de",
   "metadata": {},
   "source": [
    "### Check reference"
   ]
  },
  {
   "cell_type": "code",
   "execution_count": 7,
   "id": "2c63667b-8e43-4640-8c70-41b85ad060d2",
   "metadata": {
    "tags": []
   },
   "outputs": [
    {
     "data": {
      "text/plain": [
       "<matplotlib.image.AxesImage at 0x1b48f018b90>"
      ]
     },
     "execution_count": 7,
     "metadata": {},
     "output_type": "execute_result"
    },
    {
     "data": {
      "image/png": "[encoded data removed]",
      "text/plain": [
       "<Figure size 1000x800 with 1 Axes>"
      ]
     },
     "metadata": {},
     "output_type": "display_data"
    }
   ],
   "source": []
  }
 ],
 "metadata": {
  "kernelspec": {
   "display_name": "Python 3",
   "language": "python",
   "name": "python3"
  },
  "language_info": {
   "codemirror_mode": {
    "name": "ipython",
    "version": 3
   },
   "file_extension": ".py",
   "mimetype": "text/x-python",
   "name": "python",
   "nbconvert_exporter": "python",
   "pygments_lexer": "ipython3",
   "version": "3.12.2"
  }
 },
 "nbformat": 4,
 "nbformat_minor": 5
}
