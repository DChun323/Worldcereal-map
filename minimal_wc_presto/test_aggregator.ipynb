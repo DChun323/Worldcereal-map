{
 "cells": [
  {
   "cell_type": "markdown",
   "id": "b879f7b4-9a3f-41fc-90d0-ab9cfd25a093",
   "metadata": {},
   "source": [
    "### Make OpenEO connection"
   ]
  },
  {
   "cell_type": "code",
   "execution_count": 3,
   "id": "f700773b-a843-4ebe-b6ca-8f805b4ee5bf",
   "metadata": {
    "tags": []
   },
   "outputs": [
    {
     "name": "stdout",
     "output_type": "stream",
     "text": [
      "Authenticated using refresh token.\n"
     ]
    }
   ],
   "source": [
    "import openeo\n",
    "\n",
    "\n",
    "connection = openeo.connect(\"https://openeofed.dataspace.copernicus.eu/\").authenticate_oidc()"
   ]
  },
  {
   "cell_type": "code",
   "execution_count": 5,
   "id": "5494c46d",
   "metadata": {},
   "outputs": [
    {
     "name": "stderr",
     "output_type": "stream",
     "text": [
      "Preflight process graph validation raised: [InternalValidationFailure] Validation failed: BackendLookupFailureException(status_code=400, code='BackendLookupFailure', message=\"Collections across multiple backends ({'terrascope', 'cdse'}): {'SENTINEL2_L2A', 'AGERA5'}.\", id='r-2405172f25fa4f8bb7f69ca237bd5681')\n"
     ]
    },
    {
     "name": "stdout",
     "output_type": "stream",
     "text": [
      "0:00:00 Job 'agg-pj-20240517-093353': send 'start'\n",
      "0:00:38 Job 'agg-pj-20240517-093353': running (progress 0%)\n",
      "0:00:44 Job 'agg-pj-20240517-093353': running (progress 0%)\n",
      "0:00:51 Job 'agg-pj-20240517-093353': running (progress 0%)\n",
      "0:01:00 Job 'agg-pj-20240517-093353': running (progress 0%)\n",
      "0:01:11 Job 'agg-pj-20240517-093353': running (progress 0%)\n",
      "0:01:25 Job 'agg-pj-20240517-093353': running (progress 0%)\n",
      "0:01:43 Job 'agg-pj-20240517-093353': running (progress 0%)\n",
      "0:02:03 Job 'agg-pj-20240517-093353': running (progress 0%)\n",
      "0:02:34 Job 'agg-pj-20240517-093353': running (progress 50%)\n",
      "0:03:07 Job 'agg-pj-20240517-093353': running (progress 50%)\n",
      "0:03:46 Job 'agg-pj-20240517-093353': running (progress 50%)\n",
      "0:04:34 Job 'agg-pj-20240517-093353': running (progress 50%)\n",
      "0:05:34 Job 'agg-pj-20240517-093353': running (progress 50%)\n",
      "0:06:36 Job 'agg-pj-20240517-093353': running (progress 50%)\n",
      "0:07:38 Job 'agg-pj-20240517-093353': running (progress 50%)\n",
      "0:08:44 Job 'agg-pj-20240517-093353': running (progress 50%)\n",
      "0:09:45 Job 'agg-pj-20240517-093353': running (progress 50%)\n",
      "0:10:47 Job 'agg-pj-20240517-093353': running (progress 50%)\n",
      "0:11:48 Job 'agg-pj-20240517-093353': running (progress 50%)\n",
      "0:12:49 Job 'agg-pj-20240517-093353': running (progress 50%)\n",
      "0:13:49 Job 'agg-pj-20240517-093353': running (progress 50%)\n",
      "0:14:51 Job 'agg-pj-20240517-093353': running (progress 50%)\n",
      "0:15:52 Job 'agg-pj-20240517-093353': running (progress 50%)\n",
      "0:16:53 Job 'agg-pj-20240517-093353': running (progress 50%)\n",
      "0:17:54 Job 'agg-pj-20240517-093353': finished (progress 100%)\n"
     ]
    },
    {
     "data": {
      "text/html": [
       "\n",
       "    <script>\n",
       "    if (!window.customElements || !window.customElements.get('openeo-job')) {\n",
       "        var el = document.createElement('script');\n",
       "        el.src = \"https://cdn.jsdelivr.net/npm/@openeo/vue-components@2/assets/openeo.min.js\";\n",
       "        document.head.appendChild(el);\n",
       "\n",
       "        var font = document.createElement('font');\n",
       "        font.as = \"font\";\n",
       "        font.type = \"font/woff2\";\n",
       "        font.crossOrigin = true;\n",
       "        font.href = \"https://use.fontawesome.com/releases/v5.13.0/webfonts/fa-solid-900.woff2\"\n",
       "        document.head.appendChild(font);\n",
       "    }\n",
       "    </script>\n",
       "    <openeo-job>\n",
       "        <script type=\"application/json\">{\"currency\": \"credits\", \"job\": {\"created\": \"2024-05-17T09:33:53Z\", \"description\": \"world cereal data collection\", \"id\": \"agg-pj-20240517-093353\", \"process\": {\"process_graph\": {\"loadcollection1\": {\"arguments\": {\"bands\": [\"B02\", \"B03\"], \"id\": \"SENTINEL2_L2A\", \"spatial_extent\": {\"crs\": \"EPSG:4326\", \"east\": 5.2, \"north\": 51.26, \"south\": 51.25, \"west\": 5.19}, \"temporal_extent\": [\"2020-11-01\", \"2020-12-31\"]}, \"process_id\": \"load_collection\"}, \"loadcollection2\": {\"arguments\": {\"bands\": [\"temperature-mean\", \"precipitation-flux\"], \"id\": \"AGERA5\", \"spatial_extent\": {\"crs\": \"EPSG:4326\", \"east\": 5.2, \"north\": 51.26, \"south\": 51.25, \"west\": 5.19}, \"temporal_extent\": [\"2020-11-01\", \"2020-12-31\"]}, \"process_id\": \"load_collection\"}, \"mergecubes1\": {\"arguments\": {\"cube1\": {\"from_node\": \"loadcollection1\"}, \"cube2\": {\"from_node\": \"loadcollection2\"}}, \"process_id\": \"merge_cubes\"}, \"saveresult1\": {\"arguments\": {\"data\": {\"from_node\": \"mergecubes1\"}, \"format\": \"netCDF\", \"options\": {}}, \"process_id\": \"save_result\", \"result\": true}}}, \"progress\": 100, \"status\": \"finished\"}}</script>\n",
       "    </openeo-job>\n",
       "    "
      ],
      "text/plain": [
       "<BatchJob job_id='agg-pj-20240517-093353'>"
      ]
     },
     "execution_count": 5,
     "metadata": {},
     "output_type": "execute_result"
    }
   ],
   "source": [
    "\n",
    "#Get desired data\n",
    "\n",
    "\n",
    "EXTENT = dict(zip([\"west\", \"south\", \"east\", \"north\"], [5.19, 51.25, 5.20, 51.26]))\n",
    "EXTENT['crs'] = \"EPSG:4326\"\n",
    "\n",
    "STARTDATE = '2020-11-01'\n",
    "ENDDATE = '2020-12-31'\n",
    "\n",
    "# Set OpenEO classification UDF context based on settings\n",
    "CONTEXT = {\n",
    "    \"startdate\": STARTDATE,  # Required\n",
    "    \"enddate\": ENDDATE,      # Required\n",
    "}\n",
    "\n",
    "input_cube1 = connection.load_collection(\n",
    "        collection_id = \"SENTINEL2_L2A\",\n",
    "        spatial_extent=EXTENT,\n",
    "        bands = [\"B02\", \"B03\"],\n",
    "        temporal_extent=[STARTDATE, ENDDATE],\n",
    "    )\n",
    "\n",
    "input_cube2 = connection.load_collection(\n",
    "        collection_id = \"AGERA5\",\n",
    "        spatial_extent=EXTENT,\n",
    "        bands=[\"temperature-mean\", \"precipitation-flux\"],\n",
    "        temporal_extent=[STARTDATE, ENDDATE],\n",
    "    )\n",
    "\n",
    "cube = input_cube1.merge_cubes(input_cube2)\n",
    "\n",
    "cube.execute_batch(outputfile = 'test.nc',\n",
    "                        description='world cereal data collection',\n",
    "                        job_options={\"split_strategy\": \"crossbackend\"})\n"
   ]
  },
  {
   "cell_type": "markdown",
   "id": "48c9322c",
   "metadata": {},
   "source": []
  },
  {
   "cell_type": "markdown",
   "id": "5b47a2a0-d5f4-4e39-a924-4bca923400de",
   "metadata": {},
   "source": [
    "### Check reference"
   ]
  },
  {
   "cell_type": "code",
   "execution_count": 6,
   "id": "2c63667b-8e43-4640-8c70-41b85ad060d2",
   "metadata": {
    "tags": []
   },
   "outputs": [
    {
     "data": {
      "text/html": [
       "\n",
       "    <script>\n",
       "    if (!window.customElements || !window.customElements.get('openeo-model-builder')) {\n",
       "        var el = document.createElement('script');\n",
       "        el.src = \"https://cdn.jsdelivr.net/npm/@openeo/vue-components@2/assets/openeo.min.js\";\n",
       "        document.head.appendChild(el);\n",
       "\n",
       "        var font = document.createElement('font');\n",
       "        font.as = \"font\";\n",
       "        font.type = \"font/woff2\";\n",
       "        font.crossOrigin = true;\n",
       "        font.href = \"https://use.fontawesome.com/releases/v5.13.0/webfonts/fa-solid-900.woff2\"\n",
       "        document.head.appendChild(font);\n",
       "    }\n",
       "    </script>\n",
       "    <openeo-model-builder>\n",
       "        <script type=\"application/json\">{\"id\": \"10fe05dc27a049ce9e0c84e907b3b527\", \"explicit-zoom\": true, \"height\": \"400px\", \"value\": {\"process_graph\": {\"loadcollection1\": {\"process_id\": \"load_collection\", \"arguments\": {\"bands\": [\"B02\", \"B03\"], \"id\": \"SENTINEL2_L2A\", \"spatial_extent\": {\"west\": 5.19, \"south\": 51.25, \"east\": 5.2, \"north\": 51.26, \"crs\": \"EPSG:4326\"}, \"temporal_extent\": [\"2020-11-01\", \"2020-12-31\"]}}, \"loadcollection2\": {\"process_id\": \"load_collection\", \"arguments\": {\"bands\": [\"temperature-mean\", \"precipitation-flux\"], \"id\": \"AGERA5\", \"spatial_extent\": {\"west\": 5.19, \"south\": 51.25, \"east\": 5.2, \"north\": 51.26, \"crs\": \"EPSG:4326\"}, \"temporal_extent\": [\"2020-11-01\", \"2020-12-31\"]}}, \"mergecubes1\": {\"process_id\": \"merge_cubes\", \"arguments\": {\"cube1\": {\"from_node\": \"loadcollection1\"}, \"cube2\": {\"from_node\": \"loadcollection2\"}}, \"result\": true}}}}</script>\n",
       "    </openeo-model-builder>\n",
       "    "
      ],
      "text/plain": [
       "<openeo.rest.datacube.DataCube at 0x293ff66bef0>"
      ]
     },
     "execution_count": 6,
     "metadata": {},
     "output_type": "execute_result"
    }
   ],
   "source": [
    "cube"
   ]
  }
 ],
 "metadata": {
  "kernelspec": {
   "display_name": "Python 3",
   "language": "python",
   "name": "python3"
  },
  "language_info": {
   "codemirror_mode": {
    "name": "ipython",
    "version": 3
   },
   "file_extension": ".py",
   "mimetype": "text/x-python",
   "name": "python",
   "nbconvert_exporter": "python",
   "pygments_lexer": "ipython3",
   "version": "3.12.2"
  }
 },
 "nbformat": 4,
 "nbformat_minor": 5
}
