{
 "cells": [
  {
   "cell_type": "markdown",
   "metadata": {},
   "source": [
    "![](./resources/System_v1_temporary_crops.png)"
   ]
  },
  {
   "cell_type": "markdown",
   "metadata": {},
   "source": [
    "This notebook contains a short demo on how to use the WorldCereal system to generate a temporary crop extent map for your area and season of interest.\n",
    "The map is generated using a default model trained by the WorldCereal consortium to distinguish temporary crops from all other land use.\n",
    "\n",
    "Please note that for the purpose of this demo, the processing area is currently limited to 250 km² per model run."
   ]
  },
  {
   "cell_type": "markdown",
   "metadata": {},
   "source": [
    "### Content\n",
    "  \n",
    "- [Before you start](###-Before-you-start)\n",
    "- [1. Define your region of interest](#1.-Define-your-region-of-interest)\n",
    "- [2. Define your year of interest](#2.-Define-your-year-of-interest)\n",
    "- [3. Set some other options](#3.-Set-some-other-options)\n",
    "- [4. Generate your map](#2.-Generate-your-map)"
   ]
  },
  {
   "cell_type": "markdown",
   "metadata": {},
   "source": [
    "### Before you start\n",
    "\n",
    "In order to run this notebook, you need to create an account on the Copernicus Data Space Ecosystem,\n",
    "by completing the form [HERE](https://identity.dataspace.copernicus.eu/auth/realms/CDSE/login-actions/registration?client_id=cdse-public&tab_id=eRKGqDvoYI0)."
   ]
  },
  {
   "cell_type": "code",
   "execution_count": 3,
   "metadata": {},
   "outputs": [],
   "source": [
    "# TEMPORARY CELL\n",
    "\n",
    "import sys\n",
    "sys.path.append('/home/jeroendegerickx/git/worldcereal/worldcereal-classification/notebooks')\n",
    "%load_ext autoreload\n",
    "%autoreload 2"
   ]
  },
  {
   "cell_type": "markdown",
   "metadata": {},
   "source": [
    "### 1. Define your region of interest\n",
    "\n",
    "When running the code snippet below, an interactive map will be visualized. Click the Rectangle button on the left hand side of the map to start drawing your region of interest. When finished, execute the second cell to store the coordinates of your region of interest.\n",
    "\n",
    "In case your region exceeds the 250 km² limit, you will be asked to draw again."
   ]
  },
  {
   "cell_type": "code",
   "execution_count": 2,
   "metadata": {},
   "outputs": [
    {
     "data": {
      "application/vnd.jupyter.widget-view+json": {
       "model_id": "2896ba3a585140bab7eb78afb5841769",
       "version_major": 2,
       "version_minor": 0
      },
      "text/plain": [
       "Map(center=[51.1872, 5.1154], controls=(ZoomControl(options=['position', 'zoom_in_text', 'zoom_in_title', 'zoo…"
      ]
     },
     "execution_count": 2,
     "metadata": {},
     "output_type": "execute_result"
    },
    {
     "name": "stderr",
     "output_type": "stream",
     "text": [
      "\u001b[32m2024-10-10 20:53:13.581\u001b[0m | \u001b[1mINFO    \u001b[0m | \u001b[36mworldcereal.utils.map\u001b[0m:\u001b[36mhandle_draw\u001b[0m:\u001b[36m13\u001b[0m - \u001b[1mYour processing extent: (25.416183, 55.740255, 25.563126, 55.802439)\u001b[0m\n",
      "\u001b[32m2024-10-10 20:53:13.683\u001b[0m | \u001b[1mINFO    \u001b[0m | \u001b[36mworldcereal.utils.map\u001b[0m:\u001b[36mhandle_draw\u001b[0m:\u001b[36m19\u001b[0m - \u001b[1mArea of processing extent: 66.71 km²\u001b[0m\n"
     ]
    }
   ],
   "source": [
    "from worldcereal.utils.map import ui_map\n",
    "\n",
    "map = ui_map()\n",
    "map.show_map()"
   ]
  },
  {
   "cell_type": "markdown",
   "metadata": {},
   "source": [
    "### 2. Define your year of interest\n",
    "\n",
    "The default WorldCereal temporary crop model always uses a time series of exactly one year as input for the model.\n",
    "\n",
    "However, instead of just using a calendar year (January 1st - December 31st), we recommend to define the exact start and end date of your time series, or processing period, based on the timing of the local growing seasons.\n",
    "\n",
    "Take the following example for Western Europe, where we typically have a winter season (s1) and summer season (s2):\n",
    "\n",
    "<div>\n",
    "<img src=\"./resources/Cropland_inference_choose_end_date.png\" width=\"500\"/>\n",
    "</div>\n",
    "\n",
    "\n",
    "The best timing to start and end the time series in this case would be October (green vertical line), as for both seasons this would result in nicely capturing the growing season within the time series. It would not make sense in this case to define the year from June to June (red vertical line), as you will miss the start of the summer season and the end of the winter season in your time series.\n",
    "\n",
    "So if you would like to map temporary crops in Western Europe for the year 2021, we would recommend to define your processing period as October 1st 2020 - September 30th 2021.\n",
    "\n",
    "In case you do not know the typical seasonality of crops in your area of interest, you can consult the WorldCereal crop calendars using the function below.\n",
    "\n",
    "Note that in case your area of interest is located in an extremely heterogeneous part of the world, the WorldCereal seasons cannot be retrieved at the moment. As a fall-back, please consult the [USDA crop calendars](https://ipad.fas.usda.gov/ogamaps/cropcalendar.aspx)."
   ]
  },
  {
   "cell_type": "code",
   "execution_count": 3,
   "metadata": {},
   "outputs": [
    {
     "name": "stderr",
     "output_type": "stream",
     "text": [
      "\u001b[32m2024-10-10 20:53:23.377\u001b[0m | \u001b[1mINFO    \u001b[0m | \u001b[36mworldcereal.utils.map\u001b[0m:\u001b[36mget_processing_extent\u001b[0m:\u001b[36m107\u001b[0m - \u001b[1mYour processing extent: (25.416183, 55.740255, 25.563126, 55.802439)\u001b[0m\n"
     ]
    },
    {
     "data": {
      "image/png": "[encoded data removed]",
      "text/plain": [
       "<Figure size 640x480 with 1 Axes>"
      ]
     },
     "metadata": {},
     "output_type": "display_data"
    }
   ],
   "source": [
    "from utils import retrieve_worldcereal_seasons\n",
    "\n",
    "spatial_extent = map.get_processing_extent()\n",
    "seasons = retrieve_worldcereal_seasons(spatial_extent)"
   ]
  },
  {
   "cell_type": "markdown",
   "metadata": {},
   "source": [
    "Execute the next cell to select your processing period:"
   ]
  },
  {
   "cell_type": "code",
   "execution_count": 4,
   "metadata": {},
   "outputs": [
    {
     "data": {
      "application/vnd.jupyter.widget-view+json": {
       "model_id": "940e131c9a4b4ea3a2b31ea47658918c",
       "version_major": 2,
       "version_minor": 0
      },
      "text/plain": [
       "VBox(children=(HTML(value=\"\\n            <div style='text-align: center;'>\\n                <div style='font-s…"
      ]
     },
     "metadata": {},
     "output_type": "display_data"
    }
   ],
   "source": [
    "from utils import date_slider\n",
    "\n",
    "slider = date_slider()\n",
    "slider.show_slider()"
   ]
  },
  {
   "cell_type": "markdown",
   "metadata": {},
   "source": [
    "### 3. Set some other options"
   ]
  },
  {
   "cell_type": "code",
   "execution_count": 6,
   "metadata": {},
   "outputs": [
    {
     "name": "stdout",
     "output_type": "stream",
     "text": [
      "Output directory: /home/jeroendegerickx/git/worldcereal/worldcereal-classification/CROPLAND_stresstest\n"
     ]
    }
   ],
   "source": [
    "from worldcereal.job import PostprocessParameters\n",
    "import os\n",
    "from pathlib import Path\n",
    "\n",
    "# Choose whether or not you want to spatially clean the classification results (default = True)\n",
    "postprocess_result = True\n",
    "# Choose the postprocessing method you want to use [\"smooth_probabilities\", \"majority_vote\"] (default = \"smooth_probabilities\")\n",
    "postprocess_method = \"majority_vote\"\n",
    "# Additiona parameters for the majority vote method:\n",
    "kernel_size = 3 # default = 5\n",
    "conf_threshold = 60 # default = 30\n",
    "# Do you want to save the intermediate results (before applying the postprocessing)\n",
    "save_intermediate = True #default is False\n",
    "# Do you want to save all class probabilities in the final product? (default is False)\n",
    "keep_class_probs = True\n",
    "\n",
    "postprocess_parameters = PostprocessParameters(enable=postprocess_result,\n",
    "                                               method=postprocess_method,\n",
    "                                               kernel_size=kernel_size,\n",
    "                                               conf_threshold=conf_threshold,\n",
    "                                               save_intermediate=save_intermediate,\n",
    "                                               keep_class_probs=keep_class_probs)\n",
    "\n",
    "# Specify the local directory where the resulting maps should be downloaded to.\n",
    "output_dir = Path(os.getcwd()) / 'CROPLAND_stresstest'\n",
    "print(f\"Output directory: {output_dir}\")"
   ]
  },
  {
   "cell_type": "markdown",
   "metadata": {},
   "source": [
    "### 4. Generate your map"
   ]
  },
  {
   "cell_type": "code",
   "execution_count": 7,
   "metadata": {},
   "outputs": [
    {
     "name": "stderr",
     "output_type": "stream",
     "text": [
      "\u001b[32m2024-10-10 21:02:12.406\u001b[0m | \u001b[1mINFO    \u001b[0m | \u001b[36mutils\u001b[0m:\u001b[36mget_processing_period\u001b[0m:\u001b[36m114\u001b[0m - \u001b[1mSelected processing period: 2020-10-01 to 2021-09-30\u001b[0m\n",
      "\u001b[32m2024-10-10 21:02:12.477\u001b[0m | \u001b[1mINFO    \u001b[0m | \u001b[36mworldcereal.utils.map\u001b[0m:\u001b[36mget_processing_extent\u001b[0m:\u001b[36m107\u001b[0m - \u001b[1mYour processing extent: (25.416183, 55.740255, 25.563126, 55.802439)\u001b[0m\n"
     ]
    },
    {
     "name": "stdout",
     "output_type": "stream",
     "text": [
      "Authenticated using refresh token.\n"
     ]
    },
    {
     "name": "stderr",
     "output_type": "stream",
     "text": [
      "2024-10-10 21:02:28,962 - openeo_gfmap.utils - INFO - Selected orbit state: ASCENDING. Reason: Orbit has more cumulative intersected area. 4.8124009050128835 > 4.79131324083538\n",
      "WARNING:PrestoFeatureExtractor:No additional dependencies are defined. If you wish to add dependencies to your feature extractor, override the `dependencies` method in your class.\n"
     ]
    },
    {
     "name": "stdout",
     "output_type": "stream",
     "text": [
      "0:00:00 Job 'j-241010e55f384509a1eda1bd90543e07': send 'start'\n",
      "0:00:14 Job 'j-241010e55f384509a1eda1bd90543e07': created (progress 0%)\n",
      "0:00:19 Job 'j-241010e55f384509a1eda1bd90543e07': created (progress 0%)\n",
      "0:00:26 Job 'j-241010e55f384509a1eda1bd90543e07': created (progress 0%)\n",
      "0:00:34 Job 'j-241010e55f384509a1eda1bd90543e07': running (progress N/A)\n",
      "0:00:44 Job 'j-241010e55f384509a1eda1bd90543e07': running (progress N/A)\n",
      "0:00:56 Job 'j-241010e55f384509a1eda1bd90543e07': running (progress N/A)\n",
      "0:01:11 Job 'j-241010e55f384509a1eda1bd90543e07': running (progress N/A)\n",
      "0:01:31 Job 'j-241010e55f384509a1eda1bd90543e07': running (progress N/A)\n",
      "0:01:55 Job 'j-241010e55f384509a1eda1bd90543e07': running (progress N/A)\n",
      "0:02:25 Job 'j-241010e55f384509a1eda1bd90543e07': running (progress N/A)\n",
      "0:03:02 Job 'j-241010e55f384509a1eda1bd90543e07': running (progress N/A)\n",
      "0:03:49 Job 'j-241010e55f384509a1eda1bd90543e07': running (progress N/A)\n",
      "0:04:48 Job 'j-241010e55f384509a1eda1bd90543e07': running (progress N/A)\n",
      "0:05:48 Job 'j-241010e55f384509a1eda1bd90543e07': running (progress N/A)\n",
      "0:06:48 Job 'j-241010e55f384509a1eda1bd90543e07': running (progress N/A)\n",
      "0:07:49 Job 'j-241010e55f384509a1eda1bd90543e07': running (progress N/A)\n",
      "0:08:49 Job 'j-241010e55f384509a1eda1bd90543e07': running (progress N/A)\n",
      "0:09:49 Job 'j-241010e55f384509a1eda1bd90543e07': running (progress N/A)\n",
      "0:10:49 Job 'j-241010e55f384509a1eda1bd90543e07': running (progress N/A)\n",
      "0:11:49 Job 'j-241010e55f384509a1eda1bd90543e07': running (progress N/A)\n",
      "0:12:50 Job 'j-241010e55f384509a1eda1bd90543e07': running (progress N/A)\n",
      "0:13:50 Job 'j-241010e55f384509a1eda1bd90543e07': running (progress N/A)\n",
      "0:14:50 Job 'j-241010e55f384509a1eda1bd90543e07': running (progress N/A)\n",
      "0:15:51 Job 'j-241010e55f384509a1eda1bd90543e07': running (progress N/A)\n",
      "0:16:51 Job 'j-241010e55f384509a1eda1bd90543e07': running (progress N/A)\n",
      "0:17:51 Job 'j-241010e55f384509a1eda1bd90543e07': running (progress N/A)\n",
      "0:18:51 Job 'j-241010e55f384509a1eda1bd90543e07': running (progress N/A)\n",
      "0:19:52 Job 'j-241010e55f384509a1eda1bd90543e07': finished (progress 100%)\n"
     ]
    },
    {
     "name": "stderr",
     "output_type": "stream",
     "text": [
      "INFO:openeo.rest.job:Downloading Job result asset 'cropland-raw_2020-01-01Z.tif' from https://openeo.creo.vito.be/openeo/jobs/j-241010e55f384509a1eda1bd90543e07/results/assets/ZGNjYWI2ZDktODQ2Yy00OGE5LTlkOTQtNDk3MTQ2Y2IyMjg1/364dd642ab5d9e93fcabe6da7d34fedb/cropland-raw_2020-01-01Z.tif?expires=1729192954 to /home/jeroendegerickx/git/worldcereal/worldcereal-classification/CROPLAND_stresstest/cropland-raw_2020-01-01Z.tif\n",
      "INFO:openeo.rest.job:Downloading Job result asset 'cropland_2020-01-01Z.tif' from https://openeo.creo.vito.be/openeo/jobs/j-241010e55f384509a1eda1bd90543e07/results/assets/ZGNjYWI2ZDktODQ2Yy00OGE5LTlkOTQtNDk3MTQ2Y2IyMjg1/953926263739cfd7f42c97e11ba19ada/cropland_2020-01-01Z.tif?expires=1729192954 to /home/jeroendegerickx/git/worldcereal/worldcereal-classification/CROPLAND_stresstest/cropland_2020-01-01Z.tif\n"
     ]
    }
   ],
   "source": [
    "from worldcereal.job import generate_map\n",
    "\n",
    "processing_period = slider.get_processing_period()\n",
    "processing_extent = map.get_processing_extent()\n",
    "\n",
    "# Launch the job on CDSE through OpenEO\n",
    "results = generate_map(\n",
    "    processing_extent,\n",
    "    processing_period,\n",
    "    output_dir=output_dir,\n",
    "    postprocess_parameters=postprocess_parameters,\n",
    ")"
   ]
  },
  {
   "cell_type": "code",
   "execution_count": 9,
   "metadata": {},
   "outputs": [
    {
     "ename": "NameError",
     "evalue": "name 'results' is not defined",
     "output_type": "error",
     "traceback": [
      "\u001b[0;31m---------------------------------------------------------------------------\u001b[0m",
      "\u001b[0;31mNameError\u001b[0m                                 Traceback (most recent call last)",
      "Cell \u001b[0;32mIn[9], line 3\u001b[0m\n\u001b[1;32m      1\u001b[0m \u001b[38;5;28;01mfrom\u001b[39;00m \u001b[38;5;21;01mutils\u001b[39;00m \u001b[38;5;28;01mimport\u001b[39;00m prepare_visualization\n\u001b[0;32m----> 3\u001b[0m rasters \u001b[38;5;241m=\u001b[39m prepare_visualization(\u001b[43mresults\u001b[49m, processing_period)\n\u001b[1;32m      4\u001b[0m \u001b[38;5;28mprint\u001b[39m(rasters)\n",
      "\u001b[0;31mNameError\u001b[0m: name 'results' is not defined"
     ]
    }
   ],
   "source": [
    "from utils import prepare_visualization\n",
    "\n",
    "rasters = prepare_visualization(results, processing_period)\n",
    "print(rasters)"
   ]
  },
  {
   "cell_type": "code",
   "execution_count": 20,
   "metadata": {},
   "outputs": [
    {
     "data": {
      "image/png": "[encoded data removed]",
      "text/plain": [
       "<Figure size 236x90 with 1 Axes>"
      ]
     },
     "metadata": {},
     "output_type": "display_data"
    }
   ],
   "source": [
    "from utils import visualize_products\n",
    "\n",
    "visualize_products(rasters, port=8889)"
   ]
  },
  {
   "cell_type": "code",
   "execution_count": 23,
   "metadata": {},
   "outputs": [
    {
     "data": {
      "image/png": "[encoded data removed]",
      "text/plain": [
       "<Figure size 236x90 with 1 Axes>"
      ]
     },
     "metadata": {},
     "output_type": "display_data"
    }
   ],
   "source": [
    "from utils import show_color_legend\n",
    "\n",
    "show_color_legend(rasters, \"cropland\")\n"
   ]
  },
  {
   "cell_type": "code",
   "execution_count": null,
   "metadata": {},
   "outputs": [],
   "source": [
    "# Add section where user can check the availability of cropland reference data!"
   ]
  }
 ],
 "metadata": {
  "kernelspec": {
   "display_name": "worldcereal",
   "language": "python",
   "name": "python3"
  },
  "language_info": {
   "codemirror_mode": {
    "name": "ipython",
    "version": 3
   },
   "file_extension": ".py",
   "mimetype": "text/x-python",
   "name": "python",
   "nbconvert_exporter": "python",
   "pygments_lexer": "ipython3",
   "version": "3.10.0"
  }
 },
 "nbformat": 4,
 "nbformat_minor": 2
}
