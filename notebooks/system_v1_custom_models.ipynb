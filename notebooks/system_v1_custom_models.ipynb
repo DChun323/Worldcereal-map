{
 "cells": [
  {
   "cell_type": "markdown",
   "metadata": {},
   "source": [
    "![](./resources/System_v1_training_header.png)"
   ]
  },
  {
   "cell_type": "markdown",
   "metadata": {},
   "source": [
    "This notebook contains a demonstration on how to train custom crop type models based on your own reference data and how to apply the resulting model to generate a custom crop type map.\n",
    "\n",
    "# Content\n",
    "\n",
    "- [Before you start](#before-you-start)\n",
    "- [1. Define region of interest](#1.-Define-a-region-of-interest)\n",
    "- [2. Check public in-situ reference data](#2.-Check-public-in-situ-reference-data)\n",
    "- [3. Prepare own reference data](#3.-Prepare-own-reference-data)\n",
    "- [4. Extract required model inputs](#4.-Extract-required-model-inputs)\n",
    "- [5. Train custom classification model](#5.-Train-custom-classification-model)\n",
    "- [6. Generate a map](#6.-Generate-a-map)"
   ]
  },
  {
   "cell_type": "markdown",
   "metadata": {},
   "source": [
    "# Before you start\n",
    "\n",
    "In order to run this notebook, you need to create an account on:\n",
    "\n",
    "- The Copernicus Data Space Ecosystem (CDSE)\n",
    "--> by completing the form [HERE](https://identity.dataspace.copernicus.eu/auth/realms/CDSE/login-actions/registration?client_id=cdse-public&tab_id=eRKGqDvoYI0)\n",
    "\n",
    "- VITO's Terrascope platform\n",
    "--> by completing the form [HERE](https://sso.terrascope.be/auth/realms/terrascope/login-actions/registration?client_id=drupal-terrascope&tab_id=irBzckp2aDo)"
   ]
  },
  {
   "cell_type": "code",
   "execution_count": 1,
   "metadata": {},
   "outputs": [],
   "source": [
    "# First we import the necessary modules to run this notebook\n",
    "\n",
    "import pandas as pd\n",
    "import geopandas as gpd\n",
    "import requests\n",
    "from pathlib import Path\n",
    "from shapely.geometry import shape, Polygon\n",
    "import xarray as xr\n",
    "\n",
    "import openeo\n",
    "from openeo_gfmap import BoundingBoxExtent, TemporalContext\n",
    "from openeo_gfmap.backend import Backend, BackendContext\n",
    "\n",
    "import sys\n",
    "sys.path.append('/home/jovyan/worldcereal-classification/src')\n",
    "\n",
    "from worldcereal.utils.map import (get_ui_map, _latlon_to_utm)\n",
    "from worldcereal.utils.refdata import _to_points\n",
    "from worldcereal.utils.wrapper import run_inference\n",
    "\n",
    "RDM_API = 'https://ewoc-rdm-api.iiasa.ac.at'"
   ]
  },
  {
   "cell_type": "markdown",
   "metadata": {},
   "source": [
    "# 1. Define a region of interest\n",
    "\n",
    "When running the code snippet below, an interactive map will be visualized.\n",
    "Click the Rectangle button on the left hand side of the map to start drawing your region of interest.\n",
    "When finished, execute the second cell to store the coordinates of your region of interest. "
   ]
  },
  {
   "cell_type": "code",
   "execution_count": 2,
   "metadata": {},
   "outputs": [
    {
     "data": {
      "application/vnd.jupyter.widget-view+json": {
       "model_id": "49ba32eac4904216b1eec04e793e2165",
       "version_major": 2,
       "version_minor": 0
      },
      "text/plain": [
       "Map(center=[51.1872, 5.1154], controls=(ZoomControl(options=['position', 'zoom_in_text', 'zoom_in_title', 'zoo…"
      ]
     },
     "execution_count": 2,
     "metadata": {},
     "output_type": "execute_result"
    }
   ],
   "source": [
    "m, dc = get_ui_map()\n",
    "m"
   ]
  },
  {
   "cell_type": "code",
   "execution_count": 3,
   "metadata": {},
   "outputs": [
    {
     "name": "stdout",
     "output_type": "stream",
     "text": [
      "Your area of interest: (4.182795, 51.275179, 4.217471, 51.294719)\n"
     ]
    }
   ],
   "source": [
    "# retrieve bounding box from drawn rectangle\n",
    "obj = dc.last_draw\n",
    "if obj.get('geometry') is not None:\n",
    "    poly = Polygon(shape(obj.get('geometry')))\n",
    "    bbox = poly.bounds\n",
    "else:\n",
    "    raise ValueError('Please first draw a rectangle '\n",
    "                     'on the map before proceeding.')\n",
    "print(f'Your area of interest: {bbox}')"
   ]
  },
  {
   "cell_type": "markdown",
   "metadata": {},
   "source": [
    "# 2. Check public in situ reference data\n",
    "\n",
    "Here we do a series of requests to the RDM API to retrieve the collections and samples overlapping our bbox..."
   ]
  },
  {
   "cell_type": "markdown",
   "metadata": {},
   "source": [
    "# 3.Prepare own reference data\n",
    "\n",
    "Include some guidelines on how to upload user dataset to RDM (using the UI) and requesting those user samples through the API."
   ]
  },
  {
   "cell_type": "markdown",
   "metadata": {},
   "source": [
    "# 4. Extract required model inputs\n",
    "\n",
    "Here we launch point extractions for all samples intersecting our bbox resulting in a set of parquet files.\n",
    "\n",
    "We collect all these inputs and prepare presto features for each sample."
   ]
  },
  {
   "cell_type": "markdown",
   "metadata": {},
   "source": [
    "# 5. Train custom classification model\n",
    "We train a catboost model and upload this model to artifactory."
   ]
  },
  {
   "cell_type": "markdown",
   "metadata": {},
   "source": [
    "# 6. Generate a map\n",
    "\n",
    "Using our custom model, we generate a map for our region of interest..."
   ]
  }
 ],
 "metadata": {
  "kernelspec": {
   "display_name": "exp",
   "language": "python",
   "name": "python3"
  },
  "language_info": {
   "codemirror_mode": {
    "name": "ipython",
    "version": 3
   },
   "file_extension": ".py",
   "mimetype": "text/x-python",
   "name": "python",
   "nbconvert_exporter": "python",
   "pygments_lexer": "ipython3",
   "version": "3.11.9"
  }
 },
 "nbformat": 4,
 "nbformat_minor": 2
}
