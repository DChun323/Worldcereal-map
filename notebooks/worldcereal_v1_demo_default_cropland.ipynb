{
 "cells": [
  {
   "cell_type": "markdown",
   "metadata": {},
   "source": [
    "### Map widget to choose region"
   ]
  },
  {
   "cell_type": "code",
   "execution_count": 1,
   "metadata": {},
   "outputs": [
    {
     "data": {
      "application/vnd.jupyter.widget-view+json": {
       "model_id": "44d1c96f1f6c4f6292562edfebfcff61",
       "version_major": 2,
       "version_minor": 0
      },
      "text/plain": [
       "Map(center=[51.1872, 5.1154], controls=(ZoomControl(options=['position', 'zoom_in_text', 'zoom_in_title', 'zoo…"
      ]
     },
     "execution_count": 1,
     "metadata": {},
     "output_type": "execute_result"
    }
   ],
   "source": [
    "from worldcereal.utils.map import get_ui_map\n",
    "\n",
    "m, dc = get_ui_map()\n",
    "m"
   ]
  },
  {
   "cell_type": "code",
   "execution_count": 3,
   "metadata": {},
   "outputs": [
    {
     "name": "stderr",
     "output_type": "stream",
     "text": [
      "\u001b[32m2024-10-04 11:49:25.439\u001b[0m | \u001b[1mINFO    \u001b[0m | \u001b[36mworldcereal.utils.map\u001b[0m:\u001b[36mget_bbox_from_draw\u001b[0m:\u001b[36m464\u001b[0m - \u001b[1mYour area of interest: (4.988426, 51.235841, 5.228854, 51.330326)\u001b[0m\n",
      "\u001b[32m2024-10-04 11:49:25.933\u001b[0m | \u001b[1mINFO    \u001b[0m | \u001b[36mworldcereal.utils.map\u001b[0m:\u001b[36mget_bbox_from_draw\u001b[0m:\u001b[36m470\u001b[0m - \u001b[1mArea of processing extent: 187.53 km²\u001b[0m\n"
     ]
    }
   ],
   "source": [
    "# retrieve bounding box from drawn rectangle\n",
    "from worldcereal.utils.map import get_bbox_from_draw\n",
    "\n",
    "spatial_extent, bbox, poly = get_bbox_from_draw(dc)"
   ]
  },
  {
   "cell_type": "markdown",
   "metadata": {},
   "source": [
    "### Time slider to choose focus time"
   ]
  },
  {
   "cell_type": "code",
   "execution_count": 11,
   "metadata": {},
   "outputs": [
    {
     "name": "stdout",
     "output_type": "stream",
     "text": [
      "Start of `tc-annual` season: September 27\n",
      "End of `tc-annual` season: September 26\n",
      "Suggested focus time of `tc-annual` season: March 28\n"
     ]
    }
   ],
   "source": [
    "from utils import suggest_seasons\n",
    "\n",
    "# This method suggest season start, end and focus time based on default crop calendars\n",
    "suggest_seasons(spatial_extent)"
   ]
  },
  {
   "cell_type": "code",
   "execution_count": 4,
   "metadata": {},
   "outputs": [],
   "source": [
    "# Placeholder interactive slider\n",
    "\n",
    "focus_time = '2022-06-01'"
   ]
  },
  {
   "cell_type": "markdown",
   "metadata": {},
   "source": [
    "### Other customization options\n"
   ]
  },
  {
   "cell_type": "code",
   "execution_count": 5,
   "metadata": {},
   "outputs": [],
   "source": [
    "postprocess_result = True\n",
    "map_name = 'my_map'"
   ]
  },
  {
   "cell_type": "markdown",
   "metadata": {},
   "source": [
    "### Create and run job"
   ]
  },
  {
   "cell_type": "code",
   "execution_count": 7,
   "metadata": {},
   "outputs": [
    {
     "name": "stderr",
     "output_type": "stream",
     "text": [
      "\u001b[32m2024-10-02 21:17:54.184\u001b[0m | \u001b[1mINFO    \u001b[0m | \u001b[36mworldcereal.seasons\u001b[0m:\u001b[36mget_processing_dates_for_focus_time\u001b[0m:\u001b[36m328\u001b[0m - \u001b[1mDerived the following period for processing: 2021-12-01 - 2022-11-30\u001b[0m\n",
      "INFO:openeo.rest.connection:Found OIDC providers: ['CDSE']\n",
      "INFO:openeo.rest.connection:No OIDC provider given, but only one available: 'CDSE'. Using that one.\n",
      "INFO:openeo.rest.connection:Using default client_id 'sh-b1c3a958-52d4-40fe-a333-153595d1c71e' from OIDC provider 'CDSE' info.\n",
      "INFO:openeo.rest.connection:Found refresh token: trying refresh token based authentication.\n",
      "INFO:openeo.rest.auth.oidc:Doing 'refresh_token' token request 'https://identity.dataspace.copernicus.eu/auth/realms/CDSE/protocol/openid-connect/token' with post data fields ['grant_type', 'client_id', 'refresh_token'] (client_id 'sh-b1c3a958-52d4-40fe-a333-153595d1c71e')\n",
      "INFO:openeo.rest.connection:Obtained tokens: ['access_token', 'id_token', 'refresh_token']\n",
      "INFO:openeo.rest.auth.config:Storing refresh token for issuer 'https://identity.dataspace.copernicus.eu/auth/realms/CDSE' (client 'sh-b1c3a958-52d4-40fe-a333-153595d1c71e')\n"
     ]
    },
    {
     "name": "stdout",
     "output_type": "stream",
     "text": [
      "Authenticated using refresh token.\n"
     ]
    },
    {
     "name": "stderr",
     "output_type": "stream",
     "text": [
      "2024-10-02 21:18:05,410 - openeo_gfmap.utils - INFO - Selected orbit state: DESCENDING. Reason: Orbit has more cumulative intersected area. 1.6111722959235162 > 1.5120232315589912\n",
      "INFO:openeo_gfmap.utils:Selected orbit state: DESCENDING. Reason: Orbit has more cumulative intersected area. 1.6111722959235162 > 1.5120232315589912\n",
      "WARNING:PrestoFeatureExtractor:No additional dependencies are defined. If you wish to add dependencies to your feature extractor, override the `dependencies` method in your class.\n"
     ]
    },
    {
     "name": "stdout",
     "output_type": "stream",
     "text": [
      "0:00:00 Job 'j-2410027aa7ec40e084303b9388d87e02': send 'start'\n",
      "0:00:15 Job 'j-2410027aa7ec40e084303b9388d87e02': created (progress 0%)\n",
      "0:00:20 Job 'j-2410027aa7ec40e084303b9388d87e02': created (progress 0%)\n",
      "0:00:36 Job 'j-2410027aa7ec40e084303b9388d87e02': created (progress 0%)\n",
      "0:00:53 Job 'j-2410027aa7ec40e084303b9388d87e02': created (progress 0%)\n",
      "0:01:04 Job 'j-2410027aa7ec40e084303b9388d87e02': running (progress N/A)\n",
      "0:01:24 Job 'j-2410027aa7ec40e084303b9388d87e02': running (progress N/A)\n",
      "0:01:39 Job 'j-2410027aa7ec40e084303b9388d87e02': running (progress N/A)\n",
      "0:01:58 Job 'j-2410027aa7ec40e084303b9388d87e02': running (progress N/A)\n",
      "0:02:32 Job 'j-2410027aa7ec40e084303b9388d87e02': running (progress N/A)\n",
      "0:03:02 Job 'j-2410027aa7ec40e084303b9388d87e02': running (progress N/A)\n",
      "0:03:40 Job 'j-2410027aa7ec40e084303b9388d87e02': running (progress N/A)\n",
      "0:04:28 Job 'j-2410027aa7ec40e084303b9388d87e02': running (progress N/A)\n",
      "0:05:26 Job 'j-2410027aa7ec40e084303b9388d87e02': running (progress N/A)\n",
      "0:06:27 Job 'j-2410027aa7ec40e084303b9388d87e02': running (progress N/A)\n",
      "0:07:27 Job 'j-2410027aa7ec40e084303b9388d87e02': running (progress N/A)\n",
      "0:08:27 Job 'j-2410027aa7ec40e084303b9388d87e02': running (progress N/A)\n",
      "0:09:27 Job 'j-2410027aa7ec40e084303b9388d87e02': running (progress N/A)\n",
      "0:10:28 Job 'j-2410027aa7ec40e084303b9388d87e02': running (progress N/A)\n",
      "0:11:29 Job 'j-2410027aa7ec40e084303b9388d87e02': running (progress N/A)\n",
      "0:12:46 Job 'j-2410027aa7ec40e084303b9388d87e02': running (progress N/A)\n",
      "0:13:46 Job 'j-2410027aa7ec40e084303b9388d87e02': running (progress N/A)\n",
      "0:14:47 Job 'j-2410027aa7ec40e084303b9388d87e02': finished (progress 100%)\n"
     ]
    },
    {
     "name": "stderr",
     "output_type": "stream",
     "text": [
      "INFO:openeo.rest.job:Downloading Job result asset 'openEO_2020-01-01Z.tif' from https://openeo.creo.vito.be/openeo/jobs/j-2410027aa7ec40e084303b9388d87e02/results/assets/NGZkOWRiOTYtZDYyMC00NDU0LTliZTYtMTRhN2Q4ZTkyMzU3/011c8bd2684181bdf18d497da581e6f5/openEO_2020-01-01Z.tif?expires=1728502385 to my_map.tif\n"
     ]
    }
   ],
   "source": [
    "from worldcereal.job import generate_map, PostprocessParameters\n",
    "from worldcereal.seasons import get_processing_dates_for_focus_time\n",
    "\n",
    "# Get temporal range to generate product\n",
    "temporal_extent = get_processing_dates_for_focus_time(focus_time)\n",
    "\n",
    "# Launch the job\n",
    "job_results = generate_map(\n",
    "    spatial_extent,\n",
    "    temporal_extent,\n",
    "    output_path=f\"./{map_name}.tif\",\n",
    "    postprocess_parameters=PostprocessParameters(enable=postprocess_result),\n",
    ")"
   ]
  }
 ],
 "metadata": {
  "kernelspec": {
   "display_name": "exp",
   "language": "python",
   "name": "python3"
  },
  "language_info": {
   "codemirror_mode": {
    "name": "ipython",
    "version": 3
   },
   "file_extension": ".py",
   "mimetype": "text/x-python",
   "name": "python",
   "nbconvert_exporter": "python",
   "pygments_lexer": "ipython3",
   "version": "3.10.14"
  }
 },
 "nbformat": 4,
 "nbformat_minor": 2
}
