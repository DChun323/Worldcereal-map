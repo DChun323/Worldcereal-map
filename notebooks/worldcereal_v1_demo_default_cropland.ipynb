{
 "cells": [
  {
   "cell_type": "markdown",
   "metadata": {},
   "source": [
    "### Map widget to choose region"
   ]
  },
  {
   "cell_type": "code",
   "execution_count": 1,
   "metadata": {},
   "outputs": [
    {
     "data": {
      "application/vnd.jupyter.widget-view+json": {
       "model_id": "503071b8fcfa4699997535fbbbacd4f4",
       "version_major": 2,
       "version_minor": 0
      },
      "text/plain": [
       "Map(center=[51.1872, 5.1154], controls=(ZoomControl(options=['position', 'zoom_in_text', 'zoom_in_title', 'zoo…"
      ]
     },
     "execution_count": 1,
     "metadata": {},
     "output_type": "execute_result"
    }
   ],
   "source": [
    "from worldcereal.utils.map import get_ui_map\n",
    "\n",
    "m, dc = get_ui_map()\n",
    "m"
   ]
  },
  {
   "cell_type": "code",
   "execution_count": 2,
   "metadata": {},
   "outputs": [
    {
     "name": "stderr",
     "output_type": "stream",
     "text": [
      "\u001b[32m2024-10-01 17:25:46.183\u001b[0m | \u001b[1mINFO    \u001b[0m | \u001b[36mworldcereal.utils.map\u001b[0m:\u001b[36mget_bbox_from_draw\u001b[0m:\u001b[36m464\u001b[0m - \u001b[1mYour area of interest: (1.357605, 52.343646, 1.50115, 52.407781)\u001b[0m\n",
      "\u001b[32m2024-10-01 17:25:46.221\u001b[0m | \u001b[1mINFO    \u001b[0m | \u001b[36mworldcereal.utils.map\u001b[0m:\u001b[36mget_bbox_from_draw\u001b[0m:\u001b[36m470\u001b[0m - \u001b[1mArea of processing extent: 72.91 km²\u001b[0m\n"
     ]
    }
   ],
   "source": [
    "# retrieve bounding box from drawn rectangle\n",
    "from worldcereal.utils.map import get_bbox_from_draw\n",
    "\n",
    "spatial_extent, bbox, poly = get_bbox_from_draw(dc)"
   ]
  },
  {
   "cell_type": "markdown",
   "metadata": {},
   "source": [
    "### Time slider to choose focus time"
   ]
  },
  {
   "cell_type": "code",
   "execution_count": 3,
   "metadata": {},
   "outputs": [],
   "source": [
    "# Placeholder interactive slider\n",
    "\n",
    "focus_time = '2022-06-01'"
   ]
  },
  {
   "cell_type": "markdown",
   "metadata": {},
   "source": [
    "### Other customization options\n"
   ]
  },
  {
   "cell_type": "code",
   "execution_count": 4,
   "metadata": {},
   "outputs": [],
   "source": [
    "postprocess_result = True\n",
    "map_name = 'my_map'"
   ]
  },
  {
   "cell_type": "markdown",
   "metadata": {},
   "source": [
    "### Create and run job"
   ]
  },
  {
   "cell_type": "code",
   "execution_count": 6,
   "metadata": {},
   "outputs": [
    {
     "name": "stderr",
     "output_type": "stream",
     "text": [
      "\u001b[32m2024-10-01 19:36:42.875\u001b[0m | \u001b[1mINFO    \u001b[0m | \u001b[36mworldcereal.seasons\u001b[0m:\u001b[36mget_processing_dates_for_focus_time\u001b[0m:\u001b[36m328\u001b[0m - \u001b[1mDerived the following period for processing: 2021-12-01 - 2022-11-30\u001b[0m\n"
     ]
    },
    {
     "name": "stderr",
     "output_type": "stream",
     "text": [
      "INFO:openeo.rest.connection:Found OIDC providers: ['CDSE']\n",
      "INFO:openeo.rest.connection:No OIDC provider given, but only one available: 'CDSE'. Using that one.\n",
      "INFO:openeo.rest.connection:Using default client_id 'sh-b1c3a958-52d4-40fe-a333-153595d1c71e' from OIDC provider 'CDSE' info.\n",
      "INFO:openeo.rest.connection:Found refresh token: trying refresh token based authentication.\n",
      "INFO:openeo.rest.auth.oidc:Doing 'refresh_token' token request 'https://identity.dataspace.copernicus.eu/auth/realms/CDSE/protocol/openid-connect/token' with post data fields ['grant_type', 'client_id', 'refresh_token'] (client_id 'sh-b1c3a958-52d4-40fe-a333-153595d1c71e')\n",
      "INFO:openeo.rest.connection:Obtained tokens: ['access_token', 'id_token', 'refresh_token']\n",
      "INFO:openeo.rest.auth.config:Storing refresh token for issuer 'https://identity.dataspace.copernicus.eu/auth/realms/CDSE' (client 'sh-b1c3a958-52d4-40fe-a333-153595d1c71e')\n"
     ]
    },
    {
     "name": "stdout",
     "output_type": "stream",
     "text": [
      "Authenticated using refresh token.\n"
     ]
    },
    {
     "name": "stderr",
     "output_type": "stream",
     "text": [
      "2024-10-01 19:36:53,422 - openeo_gfmap.utils - INFO - Selected orbit state: DESCENDING. Reason: Orbit has more cumulative intersected area. 2.415089356606615 > 1.3914592521588716\n",
      "INFO:openeo_gfmap.utils:Selected orbit state: DESCENDING. Reason: Orbit has more cumulative intersected area. 2.415089356606615 > 1.3914592521588716\n",
      "WARNING:PrestoFeatureExtractor:No additional dependencies are defined. If you wish to add dependencies to your feature extractor, override the `dependencies` method in your class.\n"
     ]
    },
    {
     "name": "stdout",
     "output_type": "stream",
     "text": [
      "0:00:00 Job 'j-241001b3ae5741aabeeffa06f1c59a6f': send 'start'\n",
      "0:00:22 Job 'j-241001b3ae5741aabeeffa06f1c59a6f': created (progress 0%)\n",
      "0:00:27 Job 'j-241001b3ae5741aabeeffa06f1c59a6f': created (progress 0%)\n",
      "0:00:36 Job 'j-241001b3ae5741aabeeffa06f1c59a6f': created (progress 0%)\n",
      "0:00:44 Job 'j-241001b3ae5741aabeeffa06f1c59a6f': created (progress 0%)\n",
      "0:00:56 Job 'j-241001b3ae5741aabeeffa06f1c59a6f': created (progress 0%)\n",
      "0:01:08 Job 'j-241001b3ae5741aabeeffa06f1c59a6f': running (progress N/A)\n",
      "0:01:30 Job 'j-241001b3ae5741aabeeffa06f1c59a6f': running (progress N/A)\n",
      "0:01:49 Job 'j-241001b3ae5741aabeeffa06f1c59a6f': running (progress N/A)\n",
      "0:02:17 Job 'j-241001b3ae5741aabeeffa06f1c59a6f': running (progress N/A)\n",
      "0:02:47 Job 'j-241001b3ae5741aabeeffa06f1c59a6f': running (progress N/A)\n",
      "0:03:25 Job 'j-241001b3ae5741aabeeffa06f1c59a6f': running (progress N/A)\n",
      "0:04:16 Job 'j-241001b3ae5741aabeeffa06f1c59a6f': running (progress N/A)\n",
      "0:05:15 Job 'j-241001b3ae5741aabeeffa06f1c59a6f': running (progress N/A)\n",
      "0:06:15 Job 'j-241001b3ae5741aabeeffa06f1c59a6f': running (progress N/A)\n",
      "0:07:15 Job 'j-241001b3ae5741aabeeffa06f1c59a6f': running (progress N/A)\n",
      "0:08:19 Job 'j-241001b3ae5741aabeeffa06f1c59a6f': running (progress N/A)\n",
      "0:09:23 Job 'j-241001b3ae5741aabeeffa06f1c59a6f': running (progress N/A)\n",
      "0:10:26 Job 'j-241001b3ae5741aabeeffa06f1c59a6f': running (progress N/A)\n",
      "0:11:26 Job 'j-241001b3ae5741aabeeffa06f1c59a6f': running (progress N/A)\n",
      "0:12:26 Job 'j-241001b3ae5741aabeeffa06f1c59a6f': running (progress N/A)\n",
      "0:13:27 Job 'j-241001b3ae5741aabeeffa06f1c59a6f': running (progress N/A)\n",
      "0:14:32 Job 'j-241001b3ae5741aabeeffa06f1c59a6f': error (progress N/A)\n",
      "Your batch job 'j-241001b3ae5741aabeeffa06f1c59a6f' failed. Error logs:\n",
      "[{'id': '[1727804267562, 652213]', 'time': '2024-10-01T17:37:47.562Z', 'level': 'error', 'message': 'Trying to construct a datacube with a bounds Extent(387732.9649466293, 5799933.038133569, 398428.6696299887, 5808048.283030516) that is not entirely inside the global bounds: Extent(388117.96494662925, 5800318.038133569, 398043.66962998867, 5807663.283030516). '}, {'id': '[1727805023693, 229343]', 'time': '2024-10-01T17:50:23.693Z', 'level': 'error', 'message': 'Task 1 in stage 136.0 failed 4 times; aborting job'}, {'id': '[1727805023699, 839435]', 'time': '2024-10-01T17:50:23.699Z', 'level': 'error', 'message': 'Stage error: Job aborted due to stage failure: Task 1 in stage 136.0 failed 4 times, most recent failure: Lost task 1.3 in stage 136.0 (TID 13155) (10.42.127.158 executor 17): java.lang.IllegalArgumentException: The number of bands in the metadata 13/2 does not match the actual band count in the cubes (left/right): 13/4. You can fix this by explicitly specifying correct band labels.\\n\\tat org.openeo.geotrellis.OpenEOProcesses.$anonfun$combine_bands$1(OpenEOProcesses.scala:973)\\n\\tat org.apache.spark.rdd.PairRDDFunctions.$anonfun$mapValues$3(PairRDDFunctions.scala:752)\\n\\tat scala.collection.Iterator$$anon$10.next(Iterator.scala:461)\\n\\tat scala.collection.Iterator$$anon$12.hasNext(Iterator.scala:514)\\n\\tat scala.collection.Iterator$$anon$12.hasNext(Iterator.scala:513)\\n\\tat scala.collection.Iterator$$anon$11.hasNext(Iterator.scala:491)\\n\\tat org.apache.spark.shuffle.sort.UnsafeShuffleWriter.write(UnsafeShuffleWriter.java:179)\\n\\tat org.apache.spark.shuffle.ShuffleWriteProcessor.write(ShuffleWriteProcessor.scala:59)\\n\\tat org.apache.spark.scheduler.ShuffleMapTask.runTask(ShuffleMapTask.scala:101)\\n\\tat org.apache.spark.scheduler.ShuffleMapTask.runTask(ShuffleMapTask.scala:53)\\n\\tat org.apache.spark.TaskContext.runTaskWithListeners(TaskContext.scala:161)\\n\\tat org.apache.spark.scheduler.Task.run(Task.scala:139)\\n\\tat org.apache.spark.executor.Executor$TaskRunner.$anonfun$run$3(Executor.scala:554)\\n\\tat org.apache.spark.util.Utils$.tryWithSafeFinally(Utils.scala:1529)\\n\\tat org.apache.spark.executor.Executor$TaskRunner.run(Executor.scala:557)\\n\\tat java.base/java.util.concurrent.ThreadPoolExecutor.runWorker(ThreadPoolExecutor.java:1128)\\n\\tat java.base/java.util.concurrent.ThreadPoolExecutor$Worker.run(ThreadPoolExecutor.java:628)\\n\\tat java.base/java.lang.Thread.run(Thread.java:829)\\n\\nDriver stacktrace:'}, {'id': '[1727805025378, 655672]', 'time': '2024-10-01T17:50:25.378Z', 'level': 'error', 'message': 'OpenEO batch job failed: Exception during Spark execution: java.lang.IllegalArgumentException: The number of bands in the metadata 13/2 does not match the actual band count in the cubes (left/right): 13/4. You can fix this by explicitly specifying correct band labels.'}, {'id': '[1727805025535, 598626]', 'time': '2024-10-01T17:50:25.535Z', 'level': 'error', 'message': 'Batch job error stack trace with locals'}]\n",
      "Full logs can be inspected in an openEO (web) editor or with `connection.job('j-241001b3ae5741aabeeffa06f1c59a6f').logs()`.\n"
     ]
    },
    {
     "ename": "JobFailedException",
     "evalue": "Batch job 'j-241001b3ae5741aabeeffa06f1c59a6f' didn't finish successfully. Status: error (after 0:14:33).",
     "output_type": "error",
     "traceback": [
      "\u001b[0;31m---------------------------------------------------------------------------\u001b[0m",
      "\u001b[0;31mJobFailedException\u001b[0m                        Traceback (most recent call last)",
      "Cell \u001b[0;32mIn[6], line 8\u001b[0m\n\u001b[1;32m      5\u001b[0m temporal_extent \u001b[38;5;241m=\u001b[39m get_processing_dates_for_focus_time(focus_time)\n\u001b[1;32m      7\u001b[0m \u001b[38;5;66;03m# Launch the job\u001b[39;00m\n\u001b[0;32m----> 8\u001b[0m job_results \u001b[38;5;241m=\u001b[39m \u001b[43mgenerate_map\u001b[49m\u001b[43m(\u001b[49m\n\u001b[1;32m      9\u001b[0m \u001b[43m    \u001b[49m\u001b[43mspatial_extent\u001b[49m\u001b[43m,\u001b[49m\n\u001b[1;32m     10\u001b[0m \u001b[43m    \u001b[49m\u001b[43mtemporal_extent\u001b[49m\u001b[43m,\u001b[49m\n\u001b[1;32m     11\u001b[0m \u001b[43m    \u001b[49m\u001b[43moutput_path\u001b[49m\u001b[38;5;241;43m=\u001b[39;49m\u001b[38;5;124;43mf\u001b[39;49m\u001b[38;5;124;43m\"\u001b[39;49m\u001b[38;5;124;43m./\u001b[39;49m\u001b[38;5;132;43;01m{\u001b[39;49;00m\u001b[43mmap_name\u001b[49m\u001b[38;5;132;43;01m}\u001b[39;49;00m\u001b[38;5;124;43m.tif\u001b[39;49m\u001b[38;5;124;43m\"\u001b[39;49m\u001b[43m,\u001b[49m\n\u001b[1;32m     12\u001b[0m \u001b[43m    \u001b[49m\u001b[43mpostprocess_parameters\u001b[49m\u001b[38;5;241;43m=\u001b[39;49m\u001b[43mPostprocessParameters\u001b[49m\u001b[43m(\u001b[49m\u001b[43menable\u001b[49m\u001b[38;5;241;43m=\u001b[39;49m\u001b[38;5;28;43;01mFalse\u001b[39;49;00m\u001b[43m)\u001b[49m\u001b[43m,\u001b[49m\n\u001b[1;32m     13\u001b[0m \u001b[43m)\u001b[49m\n",
      "File \u001b[0;32m~/git/worldcereal-classification/src/worldcereal/job.py:170\u001b[0m, in \u001b[0;36mgenerate_map\u001b[0;34m(spatial_extent, temporal_extent, output_path, product_type, cropland_parameters, croptype_parameters, postprocess_parameters, out_format, backend_context, tile_size, job_options)\u001b[0m\n\u001b[1;32m    167\u001b[0m \u001b[38;5;28;01mif\u001b[39;00m job_options \u001b[38;5;129;01mis\u001b[39;00m \u001b[38;5;129;01mnot\u001b[39;00m \u001b[38;5;28;01mNone\u001b[39;00m:\n\u001b[1;32m    168\u001b[0m     JOB_OPTIONS\u001b[38;5;241m.\u001b[39mupdate(job_options)\n\u001b[0;32m--> 170\u001b[0m job \u001b[38;5;241m=\u001b[39m \u001b[43mclasses\u001b[49m\u001b[38;5;241;43m.\u001b[39;49m\u001b[43mexecute_batch\u001b[49m\u001b[43m(\u001b[49m\n\u001b[1;32m    171\u001b[0m \u001b[43m    \u001b[49m\u001b[43moutputfile\u001b[49m\u001b[38;5;241;43m=\u001b[39;49m\u001b[43moutput_path\u001b[49m\u001b[43m,\u001b[49m\n\u001b[1;32m    172\u001b[0m \u001b[43m    \u001b[49m\u001b[43mout_format\u001b[49m\u001b[38;5;241;43m=\u001b[39;49m\u001b[43mout_format\u001b[49m\u001b[43m,\u001b[49m\n\u001b[1;32m    173\u001b[0m \u001b[43m    \u001b[49m\u001b[43mjob_options\u001b[49m\u001b[38;5;241;43m=\u001b[39;49m\u001b[43mJOB_OPTIONS\u001b[49m\u001b[43m,\u001b[49m\n\u001b[1;32m    174\u001b[0m \u001b[43m    \u001b[49m\u001b[43mtitle\u001b[49m\u001b[38;5;241;43m=\u001b[39;49m\u001b[38;5;124;43m\"\u001b[39;49m\u001b[38;5;124;43mWorldCereal [generate_map] job\u001b[39;49m\u001b[38;5;124;43m\"\u001b[39;49m\u001b[43m,\u001b[49m\n\u001b[1;32m    175\u001b[0m \u001b[43m    \u001b[49m\u001b[43mdescription\u001b[49m\u001b[38;5;241;43m=\u001b[39;49m\u001b[38;5;124;43m\"\u001b[39;49m\u001b[38;5;124;43mJob that performs end-to-end WorldCereal inference\u001b[39;49m\u001b[38;5;124;43m\"\u001b[39;49m\u001b[43m,\u001b[49m\n\u001b[1;32m    176\u001b[0m \u001b[43m\u001b[49m\u001b[43m)\u001b[49m\n\u001b[1;32m    178\u001b[0m asset \u001b[38;5;241m=\u001b[39m job\u001b[38;5;241m.\u001b[39mget_results()\u001b[38;5;241m.\u001b[39mget_assets()[\u001b[38;5;241m0\u001b[39m]\n\u001b[1;32m    180\u001b[0m \u001b[38;5;28;01mreturn\u001b[39;00m InferenceResults(\n\u001b[1;32m    181\u001b[0m     job_id\u001b[38;5;241m=\u001b[39mjob\u001b[38;5;241m.\u001b[39mjob_id,\n\u001b[1;32m    182\u001b[0m     product_url\u001b[38;5;241m=\u001b[39masset\u001b[38;5;241m.\u001b[39mhref,\n\u001b[1;32m    183\u001b[0m     output_path\u001b[38;5;241m=\u001b[39moutput_path,\n\u001b[1;32m    184\u001b[0m     product\u001b[38;5;241m=\u001b[39mproduct_type,\n\u001b[1;32m    185\u001b[0m )\n",
      "File \u001b[0;32m~/miniconda3/envs/worldcereal/lib/python3.10/site-packages/openeo/rest/datacube.py:2242\u001b[0m, in \u001b[0;36mDataCube.execute_batch\u001b[0;34m(self, outputfile, out_format, print, max_poll_interval, connection_retry_interval, job_options, validate, **format_options)\u001b[0m\n\u001b[1;32m   2239\u001b[0m     out_format \u001b[38;5;241m=\u001b[39m guess_format(outputfile)\n\u001b[1;32m   2241\u001b[0m job \u001b[38;5;241m=\u001b[39m \u001b[38;5;28mself\u001b[39m\u001b[38;5;241m.\u001b[39mcreate_job(out_format\u001b[38;5;241m=\u001b[39mout_format, job_options\u001b[38;5;241m=\u001b[39mjob_options, validate\u001b[38;5;241m=\u001b[39mvalidate, \u001b[38;5;241m*\u001b[39m\u001b[38;5;241m*\u001b[39mformat_options)\n\u001b[0;32m-> 2242\u001b[0m \u001b[38;5;28;01mreturn\u001b[39;00m \u001b[43mjob\u001b[49m\u001b[38;5;241;43m.\u001b[39;49m\u001b[43mrun_synchronous\u001b[49m\u001b[43m(\u001b[49m\n\u001b[1;32m   2243\u001b[0m \u001b[43m    \u001b[49m\u001b[43moutputfile\u001b[49m\u001b[38;5;241;43m=\u001b[39;49m\u001b[43moutputfile\u001b[49m\u001b[43m,\u001b[49m\n\u001b[1;32m   2244\u001b[0m \u001b[43m    \u001b[49m\u001b[38;5;28;43mprint\u001b[39;49m\u001b[38;5;241;43m=\u001b[39;49m\u001b[38;5;28;43mprint\u001b[39;49m\u001b[43m,\u001b[49m\u001b[43m \u001b[49m\u001b[43mmax_poll_interval\u001b[49m\u001b[38;5;241;43m=\u001b[39;49m\u001b[43mmax_poll_interval\u001b[49m\u001b[43m,\u001b[49m\u001b[43m \u001b[49m\u001b[43mconnection_retry_interval\u001b[49m\u001b[38;5;241;43m=\u001b[39;49m\u001b[43mconnection_retry_interval\u001b[49m\n\u001b[1;32m   2245\u001b[0m \u001b[43m\u001b[49m\u001b[43m)\u001b[49m\n",
      "File \u001b[0;32m~/miniconda3/envs/worldcereal/lib/python3.10/site-packages/openeo/rest/job.py:242\u001b[0m, in \u001b[0;36mBatchJob.run_synchronous\u001b[0;34m(self, outputfile, print, max_poll_interval, connection_retry_interval)\u001b[0m\n\u001b[1;32m    237\u001b[0m \u001b[38;5;28;01mdef\u001b[39;00m \u001b[38;5;21mrun_synchronous\u001b[39m(\n\u001b[1;32m    238\u001b[0m         \u001b[38;5;28mself\u001b[39m, outputfile: Union[\u001b[38;5;28mstr\u001b[39m, Path, \u001b[38;5;28;01mNone\u001b[39;00m] \u001b[38;5;241m=\u001b[39m \u001b[38;5;28;01mNone\u001b[39;00m,\n\u001b[1;32m    239\u001b[0m         \u001b[38;5;28mprint\u001b[39m\u001b[38;5;241m=\u001b[39m\u001b[38;5;28mprint\u001b[39m, max_poll_interval\u001b[38;5;241m=\u001b[39m\u001b[38;5;241m60\u001b[39m, connection_retry_interval\u001b[38;5;241m=\u001b[39m\u001b[38;5;241m30\u001b[39m\n\u001b[1;32m    240\u001b[0m ) \u001b[38;5;241m-\u001b[39m\u001b[38;5;241m>\u001b[39m BatchJob:\n\u001b[1;32m    241\u001b[0m \u001b[38;5;250m    \u001b[39m\u001b[38;5;124;03m\"\"\"Start the job, wait for it to finish and download result\"\"\"\u001b[39;00m\n\u001b[0;32m--> 242\u001b[0m     \u001b[38;5;28;43mself\u001b[39;49m\u001b[38;5;241;43m.\u001b[39;49m\u001b[43mstart_and_wait\u001b[49m\u001b[43m(\u001b[49m\n\u001b[1;32m    243\u001b[0m \u001b[43m        \u001b[49m\u001b[38;5;28;43mprint\u001b[39;49m\u001b[38;5;241;43m=\u001b[39;49m\u001b[38;5;28;43mprint\u001b[39;49m\u001b[43m,\u001b[49m\u001b[43m \u001b[49m\u001b[43mmax_poll_interval\u001b[49m\u001b[38;5;241;43m=\u001b[39;49m\u001b[43mmax_poll_interval\u001b[49m\u001b[43m,\u001b[49m\u001b[43m \u001b[49m\u001b[43mconnection_retry_interval\u001b[49m\u001b[38;5;241;43m=\u001b[39;49m\u001b[43mconnection_retry_interval\u001b[49m\n\u001b[1;32m    244\u001b[0m \u001b[43m    \u001b[49m\u001b[43m)\u001b[49m\n\u001b[1;32m    245\u001b[0m     \u001b[38;5;66;03m# TODO #135 support multi file result sets too?\u001b[39;00m\n\u001b[1;32m    246\u001b[0m     \u001b[38;5;28;01mif\u001b[39;00m outputfile \u001b[38;5;129;01mis\u001b[39;00m \u001b[38;5;129;01mnot\u001b[39;00m \u001b[38;5;28;01mNone\u001b[39;00m:\n",
      "File \u001b[0;32m~/miniconda3/envs/worldcereal/lib/python3.10/site-packages/openeo/rest/job.py:324\u001b[0m, in \u001b[0;36mBatchJob.start_and_wait\u001b[0;34m(self, print, max_poll_interval, connection_retry_interval, soft_error_max)\u001b[0m\n\u001b[1;32m    320\u001b[0m     \u001b[38;5;28mprint\u001b[39m(\u001b[38;5;28mself\u001b[39m\u001b[38;5;241m.\u001b[39mlogs(level\u001b[38;5;241m=\u001b[39mlogging\u001b[38;5;241m.\u001b[39mERROR))\n\u001b[1;32m    321\u001b[0m     \u001b[38;5;28mprint\u001b[39m(\n\u001b[1;32m    322\u001b[0m         \u001b[38;5;124mf\u001b[39m\u001b[38;5;124m\"\u001b[39m\u001b[38;5;124mFull logs can be inspected in an openEO (web) editor or with `connection.job(\u001b[39m\u001b[38;5;132;01m{\u001b[39;00m\u001b[38;5;28mself\u001b[39m\u001b[38;5;241m.\u001b[39mjob_id\u001b[38;5;132;01m!r}\u001b[39;00m\u001b[38;5;124m).logs()`.\u001b[39m\u001b[38;5;124m\"\u001b[39m\n\u001b[1;32m    323\u001b[0m     )\n\u001b[0;32m--> 324\u001b[0m     \u001b[38;5;28;01mraise\u001b[39;00m JobFailedException(\n\u001b[1;32m    325\u001b[0m         \u001b[38;5;124mf\u001b[39m\u001b[38;5;124m\"\u001b[39m\u001b[38;5;124mBatch job \u001b[39m\u001b[38;5;132;01m{\u001b[39;00m\u001b[38;5;28mself\u001b[39m\u001b[38;5;241m.\u001b[39mjob_id\u001b[38;5;132;01m!r}\u001b[39;00m\u001b[38;5;124m didn\u001b[39m\u001b[38;5;124m'\u001b[39m\u001b[38;5;124mt finish successfully. Status: \u001b[39m\u001b[38;5;132;01m{\u001b[39;00mstatus\u001b[38;5;132;01m}\u001b[39;00m\u001b[38;5;124m (after \u001b[39m\u001b[38;5;132;01m{\u001b[39;00melapsed()\u001b[38;5;132;01m}\u001b[39;00m\u001b[38;5;124m).\u001b[39m\u001b[38;5;124m\"\u001b[39m,\n\u001b[1;32m    326\u001b[0m         job\u001b[38;5;241m=\u001b[39m\u001b[38;5;28mself\u001b[39m,\n\u001b[1;32m    327\u001b[0m     )\n\u001b[1;32m    329\u001b[0m \u001b[38;5;28;01mreturn\u001b[39;00m \u001b[38;5;28mself\u001b[39m\n",
      "\u001b[0;31mJobFailedException\u001b[0m: Batch job 'j-241001b3ae5741aabeeffa06f1c59a6f' didn't finish successfully. Status: error (after 0:14:33)."
     ]
    }
   ],
   "source": [
    "from worldcereal.job import generate_map, PostprocessParameters\n",
    "from worldcereal.seasons import get_processing_dates_for_focus_time\n",
    "\n",
    "# Get temporal range to generate product\n",
    "temporal_extent = get_processing_dates_for_focus_time(focus_time)\n",
    "\n",
    "# Launch the job\n",
    "job_results = generate_map(\n",
    "    spatial_extent,\n",
    "    temporal_extent,\n",
    "    output_path=f\"./{map_name}.tif\",\n",
    "    postprocess_parameters=PostprocessParameters(enable=postprocess_result),\n",
    ")"
   ]
  }
 ],
 "metadata": {
  "kernelspec": {
   "display_name": "exp",
   "language": "python",
   "name": "python3"
  },
  "language_info": {
   "codemirror_mode": {
    "name": "ipython",
    "version": 3
   },
   "file_extension": ".py",
   "mimetype": "text/x-python",
   "name": "python",
   "nbconvert_exporter": "python",
   "pygments_lexer": "ipython3",
   "version": "3.10.14"
  }
 },
 "nbformat": 4,
 "nbformat_minor": 2
}
