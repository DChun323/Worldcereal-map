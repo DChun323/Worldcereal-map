{
 "cells": [
  {
   "cell_type": "markdown",
   "metadata": {},
   "source": [
    "![](./resources/System_v1_demo_header.png)"
   ]
  },
  {
   "cell_type": "markdown",
   "metadata": {},
   "source": [
    "This notebook contains a demo of the WorldCereal system v1 and all its functionalities.\n",
    "\n",
    "# Content\n",
    "\n",
    "- [1. Define region of interest](#1.-Define-a-region-of-interest)\n",
    "- [2. Generate default Worldcereal products](#2.-Generate-default-WorldCereal-products)\n",
    "- [3. Explore available reference data](#3.-Explore-available-reference-data)\n",
    "\n",
    "<!-- - Contributing reference data to RDM\n",
    "- Requesting reference data from RDM\n",
    "- Launching point extractions for obtaining satellite input data \n",
    "- Launching catboost model training based on the extracted points\n",
    "- Perform inference run with the newly trained model\n",
    "    (and/or the default cropland model) -->"
   ]
  },
  {
   "cell_type": "code",
   "execution_count": 1,
   "metadata": {},
   "outputs": [],
   "source": [
    "# First we import the necessary modules to run this notebook\n",
    "\n",
    "import pandas as pd\n",
    "import geopandas as gpd\n",
    "import requests\n",
    "from shapely.geometry import shape, Polygon\n",
    "\n",
    "from worldcereal.utils.map import get_ui_map\n",
    "from worldcereal.utils.refdata import _to_points\n",
    "\n",
    "RDM_API = 'https://ewoc-rdm-api.iiasa.ac.at'"
   ]
  },
  {
   "cell_type": "markdown",
   "metadata": {},
   "source": [
    "# 1. Define a region of interest\n",
    "\n",
    "When running the code snippet below, an interactive map will be visualized.\n",
    "Click the Rectangle button on the left hand side of the map to start drawing your region of interest.\n",
    "When finished, execute the second cell to store the coordinates of your region of interest. "
   ]
  },
  {
   "cell_type": "code",
   "execution_count": 2,
   "metadata": {},
   "outputs": [
    {
     "data": {
      "application/vnd.jupyter.widget-view+json": {
       "model_id": "ec95bae2a68944d696b82eacf381064c",
       "version_major": 2,
       "version_minor": 0
      },
      "text/plain": [
       "Map(center=[51.1872, 5.1154], controls=(ZoomControl(options=['position', 'zoom_in_text', 'zoom_in_title', 'zoo…"
      ]
     },
     "execution_count": 2,
     "metadata": {},
     "output_type": "execute_result"
    }
   ],
   "source": [
    "m, dc = get_ui_map()\n",
    "m"
   ]
  },
  {
   "cell_type": "code",
   "execution_count": 3,
   "metadata": {},
   "outputs": [
    {
     "name": "stdout",
     "output_type": "stream",
     "text": [
      "Your area of interest: (3.975677, 51.297564, 4.079361, 51.323747)\n"
     ]
    }
   ],
   "source": [
    "# retrieve bounding box from drawn rectangle\n",
    "obj = dc.last_draw\n",
    "if obj.get('geometry') is not None:\n",
    "    poly = Polygon(shape(obj.get('geometry')))\n",
    "    bbox = poly.bounds\n",
    "else:\n",
    "    raise ValueError('Please first draw a rectangle '\n",
    "                     'on the map before proceeding.')\n",
    "print(f'Your area of interest: {bbox}')"
   ]
  },
  {
   "cell_type": "markdown",
   "metadata": {},
   "source": [
    "# 2. Generate default WorldCereal products\n",
    "\n",
    "In this section we will generate a WorldCereal mapping product for our region of interest using a series of pre-trained models made available by the consortium. Aside from our region, we will need to specify the type of product to generate and the time frame (year or agricultural season) of interest.\n",
    "\n",
    "In this example, we will generate a temporary crops product, followed by a crop type product for maize."
   ]
  },
  {
   "cell_type": "code",
   "execution_count": null,
   "metadata": {},
   "outputs": [],
   "source": []
  },
  {
   "cell_type": "markdown",
   "metadata": {},
   "source": [
    "# 3. Explore available reference data\n",
    "\n",
    "In-situ reference data used for training and validating WorldCereal classification models is hosted in the WorldCereal Reference Data Module (RDM). This module can be accessed through a dedicated user interface (https://ewoc-rdm-ui.iiasa.ac.at/map), but also through an API, which will be demonstrated here.\n",
    "\n",
    "In this section we will explore the available reference datasets for our region of interest. In case you would like to test multiple regions of interest, execute the first two cells in [this section](#1.-Define-a-region-of-interest) of the notebook."
   ]
  },
  {
   "cell_type": "code",
   "execution_count": 4,
   "metadata": {},
   "outputs": [
    {
     "name": "stdout",
     "output_type": "stream",
     "text": [
      "Available collections: ['2017afoneacrefundmelpoint110', '2017ascawaprojectpoly111', '2017bellpisflanderspoly110', '2017bfajecamciradpoly111', '2017brajecamciradpoly111', '2017canaafccropinventorypoint110', '2017cmrcgiargardianpoint110', '2017lbnfaowapor1poly111', '2017lbnfaowapor2poly111', '2017mdgjecamciradpoly111']\n",
      "The following collections intersect with your AOI:\n",
      "\n",
      "Collection 1: 2017bellpisflanderspoly110\n",
      "\n",
      "Collection 2: 2018eulucas2018point110\n",
      "\n",
      "Collection 3: 2019beflandersfullpoly110\n",
      "\n",
      "Collection 4: 2020nleurocroppoly110\n"
     ]
    }
   ],
   "source": [
    "# Check full list of available collections\n",
    "headers = {}\n",
    "collectionResponse = requests.get(f'{RDM_API}/collections', headers=headers)\n",
    "collections = collectionResponse.json()\n",
    "col_ids = [x['collectionId'] for x in collections['items']]\n",
    "print(f'Available collections: {col_ids}')\n",
    "\n",
    "# Now we check which collections intersect with our AOI\n",
    "bbox_str = f'Bbox={bbox[0]}&Bbox={bbox[1]}&Bbox={bbox[2]}&Bbox={bbox[3]}'\n",
    "colSearchUrl = f'{RDM_API}/collections/search?{bbox_str}'\n",
    "colSearchResponse = requests.get(colSearchUrl, headers=headers)\n",
    "test = colSearchResponse.json()\n",
    "print('The following collections intersect with your AOI:')\n",
    "for i, col in enumerate(test):\n",
    "    print()\n",
    "    print(f'Collection {i+1}: {col[\"collectionId\"]}')\n"
   ]
  },
  {
   "cell_type": "code",
   "execution_count": null,
   "metadata": {},
   "outputs": [],
   "source": [
    "# Now that our reference data has been added,\n",
    "# we launch a request to extract all reference points and polygons\n",
    "# intersecting our region of interest.\n",
    "# --> this should return the selected points/polygons as a geojson file/object\n",
    "# (one per collection).\n",
    "\n",
    "# To combine the data into one database, we immediately convert\n",
    "# the polygons to points (by taking the centroid).\n",
    "\n",
    "max_items = 2000\n",
    "\n",
    "dfs = []\n",
    "for col in cols_aoi:\n",
    "    itemSearchCollectionId = col['collectionId']\n",
    "    print(\n",
    "        f'Extracting reference data from collection {itemSearchCollectionId}')\n",
    "    itemSearchUrl = f'{RDM_API}/collections/{itemSearchCollectionId}/items?{bbox_str}&MaxResultCount={max_items}'\n",
    "    itemSearchResponse = requests.get(itemSearchUrl, headers=headers)\n",
    "    df = gpd.GeoDataFrame.from_features(\n",
    "        itemSearchResponse.json(), crs='EPSG:4326')\n",
    "    dfs.append(_to_points(df))\n",
    "\n",
    "gdf = pd.concat(dfs, ignore_index=True)\n",
    "print(f'Got a total of {len(gdf)} reference points')"
   ]
  }
 ],
 "metadata": {
  "kernelspec": {
   "display_name": "exp",
   "language": "python",
   "name": "python3"
  },
  "language_info": {
   "codemirror_mode": {
    "name": "ipython",
    "version": 3
   },
   "file_extension": ".py",
   "mimetype": "text/x-python",
   "name": "python",
   "nbconvert_exporter": "python",
   "pygments_lexer": "ipython3",
   "version": "3.11.9"
  }
 },
 "nbformat": 4,
 "nbformat_minor": 2
}
