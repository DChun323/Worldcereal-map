{
 "cells": [
  {
   "cell_type": "markdown",
   "metadata": {},
   "source": [
    "![](./resources/System_v1_training_header.png)"
   ]
  },
  {
   "cell_type": "markdown",
   "metadata": {},
   "source": [
    "**Table of contents**<a id='toc0_'></a>    \n",
    "- [Before you start](#toc1_)    \n",
    "- [Define a region of interest](#toc2_)    \n",
    "- [Extract public in situ reference data](#toc3_)    \n",
    "- [Select desired crops for prediction](#toc4_)    \n",
    "- [Extract required model inputs](#toc5_)    \n",
    "- [Train custom classification model](#toc6_)    \n",
    "- [Deploy custom model](#toc7_)    \n",
    "- [Generate a map](#toc8_)    \n",
    "\n",
    "<!-- vscode-jupyter-toc-config\n",
    "\tnumbering=false\n",
    "\tanchor=true\n",
    "\tflat=false\n",
    "\tminLevel=1\n",
    "\tmaxLevel=6\n",
    "\t/vscode-jupyter-toc-config -->\n",
    "<!-- THIS CELL WILL BE REPLACED ON TOC UPDATE. DO NOT WRITE YOUR TEXT IN THIS CELL -->"
   ]
  },
  {
   "cell_type": "markdown",
   "metadata": {},
   "source": [
    "# <a id='toc1_'></a>[Before you start](#toc0_)\n",
    "\n",
    "In order to run this notebook, you need to create an account on the Copernicus Data Space Ecosystem (CDSE) by completing [this](https://identity.dataspace.copernicus.eu/auth/realms/CDSE/login-actions/registration?client_id=cdse-public&tab_id=eRKGqDvoYI0)."
   ]
  },
  {
   "cell_type": "markdown",
   "metadata": {},
   "source": [
    "# <a id='toc2_'></a>[Define a region of interest](#toc0_)\n",
    "\n",
    "When running the code snippet below, an interactive map will be visualized.\n",
    "Click the Rectangle button on the left hand side of the map to start drawing your region of interest. Currently, there is a maximum size of 100 km² for your area, shown during drawing of the polygon.\n",
    "\n",
    "When finished, execute the second cell to store the coordinates of your region of interest. "
   ]
  },
  {
   "cell_type": "code",
   "execution_count": 2,
   "metadata": {},
   "outputs": [
    {
     "data": {
      "application/vnd.jupyter.widget-view+json": {
       "model_id": "315c7af112764c509d9504f11c084162",
       "version_major": 2,
       "version_minor": 0
      },
      "text/plain": [
       "Map(center=[51.1872, 5.1154], controls=(ZoomControl(options=['position', 'zoom_in_text', 'zoom_in_title', 'zoo…"
      ]
     },
     "execution_count": 2,
     "metadata": {},
     "output_type": "execute_result"
    }
   ],
   "source": [
    "from worldcereal.utils.map import get_ui_map\n",
    "\n",
    "m, dc = get_ui_map()\n",
    "m"
   ]
  },
  {
   "cell_type": "code",
   "execution_count": 15,
   "metadata": {},
   "outputs": [
    {
     "name": "stdout",
     "output_type": "stream",
     "text": [
      "Your area of interest: (4.668091, 51.073159, 4.837006, 51.142138)\n",
      "Area of processing extent: 95.47 km²\n"
     ]
    }
   ],
   "source": [
    "# retrieve bounding box from drawn rectangle\n",
    "from worldcereal.utils.map import get_bbox_from_draw\n",
    "\n",
    "spatial_extent, bbox, poly = get_bbox_from_draw(dc)"
   ]
  },
  {
   "cell_type": "markdown",
   "metadata": {},
   "source": [
    "# <a id='toc3_'></a>[Extract public in situ reference data](#toc0_)\n",
    "\n",
    "Here we query existing reference data that have already been processed by WorldCereal and are ready to use.\n",
    "We filter for croptype labels by default, intersecting with a buffer (250 km by default) around the bbox."
   ]
  },
  {
   "cell_type": "code",
   "execution_count": 5,
   "metadata": {},
   "outputs": [
    {
     "name": "stdout",
     "output_type": "stream",
     "text": [
      "Applying a buffer of 250.0 km to the selected area ...\n",
      "Querying WorldCereal global database ...\n",
      "Processing selected samples ...\n",
      "Extracted and processed 39416 samples from global database.\n"
     ]
    }
   ],
   "source": [
    "from utils import query_worldcereal_samples\n",
    "\n",
    "public_df = query_worldcereal_samples(poly)"
   ]
  },
  {
   "cell_type": "markdown",
   "metadata": {},
   "source": [
    "# <a id='toc4_'></a>[Select desired crops for prediction](#toc0_)\n",
    "\n",
    "Crops with ticked checkboxes will be included in the prediction. All the crops that are not selected will be grouped under the \"other_crop\" category. The model will be trained in a multi-class setting, not a hierarchical one. Keep this in mind when choosing your crop types."
   ]
  },
  {
   "cell_type": "code",
   "execution_count": 8,
   "metadata": {},
   "outputs": [
    {
     "data": {
      "application/vnd.jupyter.widget-view+json": {
       "model_id": "05da07ee0ef64f10b7cf5bbec7c7792d",
       "version_major": 2,
       "version_minor": 0
      },
      "text/plain": [
       "VBox(children=(Checkbox(value=False, description='maize (20406 samples)'), Checkbox(value=False, description='…"
      ]
     },
     "metadata": {},
     "output_type": "display_data"
    }
   ],
   "source": [
    "from utils import pick_croptypes\n",
    "from IPython.display import display\n",
    "\n",
    "checkbox, checkbox_widgets = pick_croptypes(public_df, samples_threshold=100)\n",
    "display(checkbox)"
   ]
  },
  {
   "cell_type": "markdown",
   "metadata": {},
   "source": [
    "Based on your selection, a custom target label is now generated for each sample. Verify that only crops of your choice are appearing in the `custom_class`, all others will fall under `other`."
   ]
  },
  {
   "cell_type": "code",
   "execution_count": 9,
   "metadata": {},
   "outputs": [
    {
     "data": {
      "text/plain": [
       "custom_class\n",
       "maize                 20406\n",
       "other                  6209\n",
       "unspecified_wheat      5699\n",
       "potatoes               4964\n",
       "unspecified_barley     1682\n",
       "rapeseed_rape           456\n",
       "Name: count, dtype: int64"
      ]
     },
     "execution_count": 9,
     "metadata": {},
     "output_type": "execute_result"
    }
   ],
   "source": [
    "from utils import get_custom_labels\n",
    "\n",
    "public_df = get_custom_labels(public_df, checkbox_widgets)\n",
    "public_df[\"custom_class\"].value_counts()"
   ]
  },
  {
   "cell_type": "markdown",
   "metadata": {},
   "source": [
    "# <a id='toc5_'></a>[Extract required model inputs](#toc0_)\n",
    "\n",
    "Here we prepare presto inputs features for each sample by using a model pretrained on WorldCereal data. The resulting `encodings` and `targets` will be used for model training."
   ]
  },
  {
   "cell_type": "code",
   "execution_count": 10,
   "metadata": {},
   "outputs": [
    {
     "name": "stdout",
     "output_type": "stream",
     "text": [
      "Computing Presto embeddings ...\n",
      "Done.\n"
     ]
    }
   ],
   "source": [
    "from utils import get_inputs_outputs\n",
    "\n",
    "encodings, targets = get_inputs_outputs(public_df)"
   ]
  },
  {
   "cell_type": "markdown",
   "metadata": {},
   "source": [
    "# <a id='toc6_'></a>[Train custom classification model](#toc0_)\n",
    "We train a catboost model for the selected crop types. Class weights are automatically determined to balance the individual classes."
   ]
  },
  {
   "cell_type": "code",
   "execution_count": 11,
   "metadata": {},
   "outputs": [
    {
     "name": "stdout",
     "output_type": "stream",
     "text": [
      "Split train/test ...\n",
      "Computing class weights ...\n",
      "Class weights: {'maize': 0.3219336320358443, 'other': 1.0580994017487344, 'potatoes': 1.3233093525179855, 'rapeseed_rape': 14.415360501567399, 'unspecified_barley': 3.9036502546689302, 'unspecified_wheat': 1.1527951867636}\n",
      "Training CatBoost classifier ...\n",
      "0:\tlearn: 1.7364508\ttest: 1.7378444\tbest: 1.7378444 (0)\ttotal: 207ms\tremaining: 27m 35s\n",
      "25:\tlearn: 1.1280108\ttest: 1.1903473\tbest: 1.1903473 (25)\ttotal: 3.79s\tremaining: 19m 23s\n",
      "50:\tlearn: 0.9091442\ttest: 1.0085152\tbest: 1.0085152 (50)\ttotal: 6.61s\tremaining: 17m 10s\n",
      "75:\tlearn: 0.7907767\ttest: 0.9217450\tbest: 0.9217450 (75)\ttotal: 9.08s\tremaining: 15m 47s\n",
      "100:\tlearn: 0.7099343\ttest: 0.8670240\tbest: 0.8670240 (100)\ttotal: 11.4s\tremaining: 14m 54s\n",
      "125:\tlearn: 0.6559995\ttest: 0.8305589\tbest: 0.8305589 (125)\ttotal: 13.7s\tremaining: 14m 16s\n",
      "150:\tlearn: 0.6105830\ttest: 0.8044927\tbest: 0.8044927 (150)\ttotal: 16s\tremaining: 13m 50s\n",
      "175:\tlearn: 0.5739024\ttest: 0.7853897\tbest: 0.7853897 (175)\ttotal: 18.3s\tremaining: 13m 35s\n",
      "200:\tlearn: 0.5450314\ttest: 0.7712935\tbest: 0.7712935 (200)\ttotal: 20.6s\tremaining: 13m 19s\n",
      "225:\tlearn: 0.5194135\ttest: 0.7595841\tbest: 0.7595841 (225)\ttotal: 22.9s\tremaining: 13m 9s\n",
      "250:\tlearn: 0.4971164\ttest: 0.7497639\tbest: 0.7497639 (250)\ttotal: 25.4s\tremaining: 13m 3s\n",
      "275:\tlearn: 0.4762696\ttest: 0.7415525\tbest: 0.7415525 (275)\ttotal: 27.8s\tremaining: 12m 58s\n",
      "300:\tlearn: 0.4578471\ttest: 0.7344039\tbest: 0.7344039 (300)\ttotal: 30.2s\tremaining: 12m 52s\n",
      "325:\tlearn: 0.4417494\ttest: 0.7281823\tbest: 0.7281823 (325)\ttotal: 32.5s\tremaining: 12m 45s\n",
      "350:\tlearn: 0.4261894\ttest: 0.7224797\tbest: 0.7224797 (350)\ttotal: 34.7s\tremaining: 12m 36s\n",
      "375:\tlearn: 0.4130666\ttest: 0.7184108\tbest: 0.7184108 (375)\ttotal: 36.9s\tremaining: 12m 29s\n",
      "400:\tlearn: 0.3995656\ttest: 0.7142093\tbest: 0.7142093 (400)\ttotal: 39.2s\tremaining: 12m 22s\n",
      "425:\tlearn: 0.3872011\ttest: 0.7104682\tbest: 0.7104682 (425)\ttotal: 41.4s\tremaining: 12m 16s\n",
      "450:\tlearn: 0.3757983\ttest: 0.7067305\tbest: 0.7067305 (450)\ttotal: 43.7s\tremaining: 12m 10s\n",
      "475:\tlearn: 0.3654134\ttest: 0.7046475\tbest: 0.7046325 (474)\ttotal: 45.9s\tremaining: 12m 6s\n",
      "500:\tlearn: 0.3549700\ttest: 0.7014833\tbest: 0.7014833 (500)\ttotal: 48.2s\tremaining: 12m 1s\n",
      "525:\tlearn: 0.3459748\ttest: 0.6996338\tbest: 0.6996338 (525)\ttotal: 50.6s\tremaining: 11m 59s\n",
      "550:\tlearn: 0.3369761\ttest: 0.6977621\tbest: 0.6977621 (550)\ttotal: 53.1s\tremaining: 11m 57s\n",
      "575:\tlearn: 0.3287347\ttest: 0.6956244\tbest: 0.6956244 (575)\ttotal: 55.6s\tremaining: 11m 56s\n",
      "600:\tlearn: 0.3208548\ttest: 0.6943406\tbest: 0.6942709 (599)\ttotal: 57.8s\tremaining: 11m 51s\n",
      "625:\tlearn: 0.3126045\ttest: 0.6928209\tbest: 0.6928209 (625)\ttotal: 1m\tremaining: 11m 52s\n",
      "650:\tlearn: 0.3055426\ttest: 0.6912461\tbest: 0.6912461 (650)\ttotal: 1m 3s\tremaining: 11m 53s\n",
      "675:\tlearn: 0.2985491\ttest: 0.6902355\tbest: 0.6902098 (674)\ttotal: 1m 5s\tremaining: 11m 51s\n",
      "700:\tlearn: 0.2921968\ttest: 0.6893087\tbest: 0.6892282 (697)\ttotal: 1m 7s\tremaining: 11m 46s\n",
      "725:\tlearn: 0.2859193\ttest: 0.6882537\tbest: 0.6882537 (725)\ttotal: 1m 10s\tremaining: 11m 42s\n",
      "750:\tlearn: 0.2798124\ttest: 0.6875087\tbest: 0.6875087 (750)\ttotal: 1m 12s\tremaining: 11m 38s\n",
      "775:\tlearn: 0.2742147\ttest: 0.6869145\tbest: 0.6868433 (772)\ttotal: 1m 14s\tremaining: 11m 35s\n",
      "800:\tlearn: 0.2685189\ttest: 0.6854575\tbest: 0.6854575 (800)\ttotal: 1m 17s\tremaining: 11m 35s\n",
      "825:\tlearn: 0.2635242\ttest: 0.6851896\tbest: 0.6851438 (805)\ttotal: 1m 19s\tremaining: 11m 33s\n",
      "850:\tlearn: 0.2585626\ttest: 0.6846995\tbest: 0.6846988 (842)\ttotal: 1m 22s\tremaining: 11m 31s\n",
      "875:\tlearn: 0.2530686\ttest: 0.6848742\tbest: 0.6846988 (842)\ttotal: 1m 24s\tremaining: 11m 29s\n",
      "900:\tlearn: 0.2482796\ttest: 0.6841218\tbest: 0.6841218 (900)\ttotal: 1m 27s\tremaining: 11m 26s\n",
      "925:\tlearn: 0.2433338\ttest: 0.6832138\tbest: 0.6832092 (923)\ttotal: 1m 29s\tremaining: 11m 23s\n",
      "950:\tlearn: 0.2388352\ttest: 0.6830490\tbest: 0.6830249 (949)\ttotal: 1m 31s\tremaining: 11m 21s\n",
      "975:\tlearn: 0.2346108\ttest: 0.6822981\tbest: 0.6822981 (975)\ttotal: 1m 34s\tremaining: 11m 20s\n",
      "1000:\tlearn: 0.2303385\ttest: 0.6820178\tbest: 0.6820178 (1000)\ttotal: 1m 36s\tremaining: 11m 17s\n",
      "1025:\tlearn: 0.2258874\ttest: 0.6814646\tbest: 0.6814646 (1025)\ttotal: 1m 39s\tremaining: 11m 14s\n",
      "1050:\tlearn: 0.2224399\ttest: 0.6814796\tbest: 0.6813778 (1036)\ttotal: 1m 41s\tremaining: 11m 11s\n",
      "1075:\tlearn: 0.2187418\ttest: 0.6812517\tbest: 0.6810852 (1067)\ttotal: 1m 43s\tremaining: 11m 7s\n",
      "1100:\tlearn: 0.2150907\ttest: 0.6808885\tbest: 0.6808885 (1100)\ttotal: 1m 46s\tremaining: 11m 5s\n",
      "1125:\tlearn: 0.2113734\ttest: 0.6812129\tbest: 0.6808109 (1103)\ttotal: 1m 48s\tremaining: 11m 3s\n",
      "1150:\tlearn: 0.2075770\ttest: 0.6812320\tbest: 0.6808109 (1103)\ttotal: 1m 51s\tremaining: 11m\n",
      "Stopped by overfitting detector  (50 iterations wait)\n",
      "\n",
      "bestTest = 0.6808109388\n",
      "bestIteration = 1103\n",
      "\n",
      "Shrink model to first 1104 iterations.\n"
     ]
    }
   ],
   "source": [
    "from utils import train_classifier\n",
    "\n",
    "custom_model, report = train_classifier(encodings, targets)"
   ]
  },
  {
   "cell_type": "code",
   "execution_count": 12,
   "metadata": {},
   "outputs": [
    {
     "name": "stdout",
     "output_type": "stream",
     "text": [
      "                    precision    recall  f1-score   support\n",
      "\n",
      "             maize       0.93      0.90      0.91      6122\n",
      "             other       0.67      0.71      0.69      1863\n",
      "          potatoes       0.73      0.76      0.74      1489\n",
      "     rapeseed_rape       0.69      0.84      0.76       137\n",
      "unspecified_barley       0.54      0.57      0.55       504\n",
      " unspecified_wheat       0.81      0.81      0.81      1710\n",
      "\n",
      "          accuracy                           0.82     11825\n",
      "         macro avg       0.73      0.76      0.74     11825\n",
      "      weighted avg       0.83      0.82      0.82     11825\n",
      "\n"
     ]
    }
   ],
   "source": [
    "# Print the classification report\n",
    "print(report)"
   ]
  },
  {
   "cell_type": "markdown",
   "metadata": {},
   "source": [
    "# <a id='toc7_'></a>[Deploy custom model](#toc0_)\n",
    "\n",
    "Once trained, we have to upload our model to the cloud so it can be used for inference. Executing the cell below will require you to enter a `token`. A WorldCereal admin has to provide this token.\n"
   ]
  },
  {
   "cell_type": "code",
   "execution_count": 13,
   "metadata": {},
   "outputs": [
    {
     "name": "stdout",
     "output_type": "stream",
     "text": [
      "Uploading model to `demo_large_20240708175000_custommodel.onnx`\n"
     ]
    },
    {
     "name": "stderr",
     "output_type": "stream",
     "text": [
      "  % Total    % Received % Xferd  Average Speed   Time    Time     Time  Current\n",
      "                                 Dload  Upload   Total   Spent    Left  Speed\n",
      " 68 38.6M    0     0   68 26.6M      0  58.3M --:--:-- --:--:-- --:--:-- 58.3M"
     ]
    },
    {
     "name": "stdout",
     "output_type": "stream",
     "text": [
      "Deployed to: https://artifactory.vgt.vito.be/artifactory/worldcereal_models/demo_large_20240708175000_custommodel.onnx\n"
     ]
    },
    {
     "name": "stderr",
     "output_type": "stream",
     "text": [
      "100 38.6M    0   812  100 38.6M    606  28.8M  0:00:01  0:00:01 --:--:-- 28.8M\n"
     ]
    }
   ],
   "source": [
    "from utils import deploy_model\n",
    "\n",
    "model_url = deploy_model(custom_model, pattern=\"demo_large\")"
   ]
  },
  {
   "cell_type": "markdown",
   "metadata": {},
   "source": [
    "# <a id='toc8_'></a>[Generate a map](#toc0_)\n",
    "\n",
    "Using our custom model, we generate a map for our region of interest and download the result.\n",
    "\n",
    "You can also manually download the resulting GeoTIFF by clicking on the link that will be diplayed."
   ]
  },
  {
   "cell_type": "code",
   "execution_count": 14,
   "metadata": {},
   "outputs": [
    {
     "name": "stdout",
     "output_type": "stream",
     "text": [
      "Authenticated using refresh token.\n",
      "TILE SIZE: 128\n",
      "Selected orbit direction: ASCENDING from max accumulated area overlap between bounds and products.\n"
     ]
    },
    {
     "name": "stderr",
     "output_type": "stream",
     "text": [
      "WARNING:PrestoFeatureExtractor:No additional dependencies are defined. If you wish to add dependencies to your feature extractor, override the `dependencies` method in your class.\n",
      "WARNING:PrestoFeatureExtractor:No additional dependencies are defined. If you wish to add dependencies to your feature extractor, override the `dependencies` method in your class.\n"
     ]
    },
    {
     "name": "stdout",
     "output_type": "stream",
     "text": [
      "0:00:00 Job 'j-24070820be4540ee8007c7622c26b189': send 'start'\n",
      "0:00:27 Job 'j-24070820be4540ee8007c7622c26b189': created (progress 0%)\n",
      "0:00:32 Job 'j-24070820be4540ee8007c7622c26b189': created (progress 0%)\n",
      "0:00:39 Job 'j-24070820be4540ee8007c7622c26b189': created (progress 0%)\n",
      "0:00:47 Job 'j-24070820be4540ee8007c7622c26b189': created (progress 0%)\n",
      "0:00:57 Job 'j-24070820be4540ee8007c7622c26b189': created (progress 0%)\n",
      "0:01:10 Job 'j-24070820be4540ee8007c7622c26b189': running (progress N/A)\n",
      "0:01:26 Job 'j-24070820be4540ee8007c7622c26b189': running (progress N/A)\n",
      "0:01:45 Job 'j-24070820be4540ee8007c7622c26b189': running (progress N/A)\n",
      "0:02:09 Job 'j-24070820be4540ee8007c7622c26b189': running (progress N/A)\n",
      "0:02:40 Job 'j-24070820be4540ee8007c7622c26b189': running (progress N/A)\n",
      "0:03:18 Job 'j-24070820be4540ee8007c7622c26b189': running (progress N/A)\n",
      "0:04:15 Job 'j-24070820be4540ee8007c7622c26b189': running (progress N/A)\n",
      "0:05:14 Job 'j-24070820be4540ee8007c7622c26b189': running (progress N/A)\n",
      "0:06:14 Job 'j-24070820be4540ee8007c7622c26b189': running (progress N/A)\n",
      "0:07:15 Job 'j-24070820be4540ee8007c7622c26b189': running (progress N/A)\n",
      "0:08:17 Job 'j-24070820be4540ee8007c7622c26b189': running (progress N/A)\n",
      "0:09:18 Job 'j-24070820be4540ee8007c7622c26b189': running (progress N/A)\n",
      "0:10:29 Job 'j-24070820be4540ee8007c7622c26b189': running (progress N/A)\n",
      "0:11:30 Job 'j-24070820be4540ee8007c7622c26b189': running (progress N/A)\n",
      "0:12:30 Job 'j-24070820be4540ee8007c7622c26b189': running (progress N/A)\n",
      "0:13:31 Job 'j-24070820be4540ee8007c7622c26b189': running (progress N/A)\n",
      "0:14:31 Job 'j-24070820be4540ee8007c7622c26b189': running (progress N/A)\n",
      "0:15:32 Job 'j-24070820be4540ee8007c7622c26b189': running (progress N/A)\n",
      "0:16:39 Job 'j-24070820be4540ee8007c7622c26b189': running (progress N/A)\n",
      "0:17:42 Job 'j-24070820be4540ee8007c7622c26b189': running (progress N/A)\n",
      "0:18:43 Job 'j-24070820be4540ee8007c7622c26b189': running (progress N/A)\n",
      "0:19:44 Job 'j-24070820be4540ee8007c7622c26b189': running (progress N/A)\n",
      "0:20:45 Job 'j-24070820be4540ee8007c7622c26b189': running (progress N/A)\n",
      "0:21:46 Job 'j-24070820be4540ee8007c7622c26b189': running (progress N/A)\n",
      "0:22:48 Job 'j-24070820be4540ee8007c7622c26b189': running (progress N/A)\n",
      "0:23:49 Job 'j-24070820be4540ee8007c7622c26b189': running (progress N/A)\n",
      "0:24:50 Job 'j-24070820be4540ee8007c7622c26b189': running (progress N/A)\n",
      "0:25:51 Job 'j-24070820be4540ee8007c7622c26b189': running (progress N/A)\n",
      "0:26:54 Job 'j-24070820be4540ee8007c7622c26b189': running (progress N/A)\n",
      "0:27:54 Job 'j-24070820be4540ee8007c7622c26b189': running (progress N/A)\n",
      "0:28:58 Job 'j-24070820be4540ee8007c7622c26b189': running (progress N/A)\n",
      "0:29:59 Job 'j-24070820be4540ee8007c7622c26b189': running (progress N/A)\n",
      "0:30:59 Job 'j-24070820be4540ee8007c7622c26b189': running (progress N/A)\n",
      "0:32:00 Job 'j-24070820be4540ee8007c7622c26b189': running (progress N/A)\n",
      "0:33:00 Job 'j-24070820be4540ee8007c7622c26b189': running (progress N/A)\n",
      "0:34:01 Job 'j-24070820be4540ee8007c7622c26b189': running (progress N/A)\n",
      "0:35:14 Job 'j-24070820be4540ee8007c7622c26b189': running (progress N/A)\n",
      "0:36:22 Job 'j-24070820be4540ee8007c7622c26b189': running (progress N/A)\n",
      "0:37:22 Job 'j-24070820be4540ee8007c7622c26b189': running (progress N/A)\n",
      "0:38:23 Job 'j-24070820be4540ee8007c7622c26b189': running (progress N/A)\n",
      "0:39:23 Job 'j-24070820be4540ee8007c7622c26b189': running (progress N/A)\n",
      "0:40:24 Job 'j-24070820be4540ee8007c7622c26b189': running (progress N/A)\n",
      "0:41:30 Job 'j-24070820be4540ee8007c7622c26b189': finished (progress 100%)\n"
     ]
    },
    {
     "name": "stderr",
     "output_type": "stream",
     "text": [
      "INFO:openeo.rest.job:Downloading Job result asset 'openEO_2020-01-01Z.tif' from https://openeo.creo.vito.be/openeo/jobs/j-24070820be4540ee8007c7622c26b189/results/assets/NGZkOWRiOTYtZDYyMC00NDU0LTliZTYtMTRhN2Q4ZTkyMzU3/5168688197e7051a9fe094e773c7f5dc/openEO_2020-01-01Z.tif?expires=1721061161 to cropmap.tif\n"
     ]
    }
   ],
   "source": [
    "from worldcereal.job import WorldCerealProduct, generate_map, CropTypeParameters\n",
    "from openeo_gfmap import TemporalContext\n",
    "\n",
    "# Set temporal range to generate product\n",
    "temporal_extent = TemporalContext(\n",
    "    start_date=\"2021-11-01\",\n",
    "    end_date=\"2022-10-31\",\n",
    ")\n",
    "\n",
    "# Initializes default parameters\n",
    "parameters = CropTypeParameters()\n",
    "\n",
    "# Change the URL to the classification model\n",
    "parameters.classifier_parameters.classifier_url = model_url\n",
    "\n",
    "# Launch the job\n",
    "job_results = generate_map(\n",
    "    spatial_extent,\n",
    "    temporal_extent,\n",
    "    output_path=\"./cropmap.tif\",\n",
    "    product_type=WorldCerealProduct.CROPTYPE,\n",
    "    croptype_parameters=parameters,\n",
    "    out_format=\"GTiff\",\n",
    "    tile_size=128\n",
    ")"
   ]
  }
 ],
 "metadata": {
  "kernelspec": {
   "display_name": "exp",
   "language": "python",
   "name": "python3"
  },
  "language_info": {
   "codemirror_mode": {
    "name": "ipython",
    "version": 3
   },
   "file_extension": ".py",
   "mimetype": "text/x-python",
   "name": "python",
   "nbconvert_exporter": "python",
   "pygments_lexer": "ipython3",
   "version": "3.10.14"
  }
 },
 "nbformat": 4,
 "nbformat_minor": 2
}
