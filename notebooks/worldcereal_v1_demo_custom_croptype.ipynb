{
 "cells": [
  {
   "cell_type": "markdown",
   "metadata": {},
   "source": [
    "![](./resources/System_v1_custom_croptype.png)"
   ]
  },
  {
   "cell_type": "markdown",
   "metadata": {},
   "source": [
    "**Table of contents**<a id='toc0_'></a>    \n",
    "- [Before you start](#toc1_)    \n",
    "- [Define a region of interest](#toc2_)    \n",
    "- [Extract public training data](#toc3_)    \n",
    "- [Select desired crops for prediction](#toc4_)    \n",
    "- [Extract required model inputs](#toc5_)    \n",
    "- [Train custom classification model](#toc6_)    \n",
    "- [Deploy custom model](#toc7_)    \n",
    "- [Generate a map](#toc8_)    \n",
    "\n",
    "<!-- vscode-jupyter-toc-config\n",
    "\tnumbering=false\n",
    "\tanchor=true\n",
    "\tflat=false\n",
    "\tminLevel=1\n",
    "\tmaxLevel=6\n",
    "\t/vscode-jupyter-toc-config -->\n",
    "<!-- THIS CELL WILL BE REPLACED ON TOC UPDATE. DO NOT WRITE YOUR TEXT IN THIS CELL -->"
   ]
  },
  {
   "cell_type": "markdown",
   "metadata": {},
   "source": [
    "# <a id='toc1_'></a>[Before you start](#toc0_)\n",
    "\n",
    "In order to run WorldCereal crop mapping jobs from this notebook, you need to create an account on the Copernicus Data Space Ecosystem (CDSE) registering [here](https://dataspace.copernicus.eu/). This is free of charge and will grant you a number of free openEO processing credits to continue this demo."
   ]
  },
  {
   "cell_type": "code",
   "execution_count": 5,
   "metadata": {},
   "outputs": [
    {
     "name": "stdout",
     "output_type": "stream",
     "text": [
      "The autoreload extension is already loaded. To reload it, use:\n",
      "  %reload_ext autoreload\n"
     ]
    }
   ],
   "source": [
    "# TEMPORARY CELL\n",
    "\n",
    "import sys\n",
    "sys.path.append('/home/jeroendegerickx/git/worldcereal/worldcereal-classification/notebooks')\n",
    "%load_ext autoreload\n",
    "%autoreload 2"
   ]
  },
  {
   "cell_type": "markdown",
   "metadata": {},
   "source": [
    "# <a id='toc2_'></a>[Define a region of interest](#toc0_)\n",
    "\n",
    "When running the code snippet below, an interactive map will be visualized.\n",
    "Click the Rectangle button on the left hand side of the map to start drawing your region of interest.\n",
    "Currently, there is a maximum size of 250 km² for your area within this demo. Upon exceeding this limit, an error will be shown.\n",
    "The widget will automatically store the coordinates of the last rectangle you drew on the map."
   ]
  },
  {
   "cell_type": "code",
   "execution_count": 2,
   "metadata": {},
   "outputs": [
    {
     "data": {
      "application/vnd.jupyter.widget-view+json": {
       "model_id": "ba074684b1b34f3babdc149124fe94a3",
       "version_major": 2,
       "version_minor": 0
      },
      "text/plain": [
       "Map(center=[51.1872, 5.1154], controls=(ZoomControl(options=['position', 'zoom_in_text', 'zoom_in_title', 'zoo…"
      ]
     },
     "execution_count": 2,
     "metadata": {},
     "output_type": "execute_result"
    },
    {
     "name": "stderr",
     "output_type": "stream",
     "text": [
      "\u001b[32m2024-10-14 19:08:09.833\u001b[0m | \u001b[1mINFO    \u001b[0m | \u001b[36mworldcereal.utils.map\u001b[0m:\u001b[36mhandle_draw\u001b[0m:\u001b[36m13\u001b[0m - \u001b[1mYour processing extent: (10.349941, 53.119306, 10.408676, 53.145054)\u001b[0m\n",
      "\u001b[32m2024-10-14 19:08:09.915\u001b[0m | \u001b[1mINFO    \u001b[0m | \u001b[36mworldcereal.utils.map\u001b[0m:\u001b[36mhandle_draw\u001b[0m:\u001b[36m19\u001b[0m - \u001b[1mArea of processing extent: 11.71 km²\u001b[0m\n"
     ]
    }
   ],
   "source": [
    "from worldcereal.utils.map import ui_map\n",
    "\n",
    "map = ui_map()\n",
    "map.show_map()"
   ]
  },
  {
   "cell_type": "markdown",
   "metadata": {},
   "source": [
    "# <a id='toc3_'></a>[Extract public training data](#toc0_)\n",
    "\n",
    "Here we query existing reference data that have already been processed by WorldCereal and are ready to use.\n",
    "To increase the number of hits, we expand the search area by 250 km in all directions."
   ]
  },
  {
   "cell_type": "code",
   "execution_count": 3,
   "metadata": {},
   "outputs": [
    {
     "name": "stderr",
     "output_type": "stream",
     "text": [
      "\u001b[32m2024-10-14 19:08:17.731\u001b[0m | \u001b[1mINFO    \u001b[0m | \u001b[36mworldcereal.utils.map\u001b[0m:\u001b[36mget_processing_extent\u001b[0m:\u001b[36m112\u001b[0m - \u001b[1mYour processing extent: (10.349941, 53.119306, 10.408676, 53.145054)\u001b[0m\n",
      "\u001b[32m2024-10-14 19:08:17.733\u001b[0m | \u001b[1mINFO    \u001b[0m | \u001b[36mworldcereal.utils.refdata\u001b[0m:\u001b[36mquery_public_extractions\u001b[0m:\u001b[36m51\u001b[0m - \u001b[1mApplying a buffer of 250 km to the selected area ...\u001b[0m\n",
      "\u001b[32m2024-10-14 19:08:17.892\u001b[0m | \u001b[1mINFO    \u001b[0m | \u001b[36mworldcereal.utils.refdata\u001b[0m:\u001b[36mquery_public_extractions\u001b[0m:\u001b[36m81\u001b[0m - \u001b[1mQuerying WorldCereal global extractions database (this can take a while) ...\u001b[0m\n",
      "\u001b[32m2024-10-14 19:08:35.070\u001b[0m | \u001b[1mINFO    \u001b[0m | \u001b[36mworldcereal.utils.refdata\u001b[0m:\u001b[36mprocess_parquet\u001b[0m:\u001b[36m127\u001b[0m - \u001b[1mProcessing selected samples ...\u001b[0m\n",
      "\u001b[32m2024-10-14 19:08:35.463\u001b[0m | \u001b[1mINFO    \u001b[0m | \u001b[36mworldcereal.utils.refdata\u001b[0m:\u001b[36mprocess_parquet\u001b[0m:\u001b[36m130\u001b[0m - \u001b[1mExtracted and processed 582 samples from global database.\u001b[0m\n"
     ]
    },
    {
     "data": {
      "text/plain": [
       "year\n",
       "2018    582\n",
       "Name: count, dtype: int64"
      ]
     },
     "execution_count": 3,
     "metadata": {},
     "output_type": "execute_result"
    }
   ],
   "source": [
    "from worldcereal.utils.refdata import query_public_extractions\n",
    "\n",
    "# retrieve the polygon you just drew\n",
    "polygon = map.get_polygon_latlon()\n",
    "\n",
    "# Query our public database of training data\n",
    "public_df = query_public_extractions(polygon)\n",
    "public_df.year.value_counts()"
   ]
  },
  {
   "cell_type": "markdown",
   "metadata": {},
   "source": [
    "# <a id='toc4_'></a>[Select desired crops for prediction](#toc0_)\n",
    "\n",
    "Run the next cell and select all crop types you wish to include in your model. All the crops that are not selected will be grouped under the \"other_crop\" category. The model will be trained in a multi-class setting."
   ]
  },
  {
   "cell_type": "code",
   "execution_count": 6,
   "metadata": {},
   "outputs": [
    {
     "data": {
      "application/vnd.jupyter.widget-view+json": {
       "model_id": "b1be511b4fd1451abc657b389f3df5d6",
       "version_major": 2,
       "version_minor": 0
      },
      "text/plain": [
       "VBox(children=(Checkbox(value=False, description='unspecified_wheat (192 samples)'), Checkbox(value=False, des…"
      ]
     },
     "metadata": {},
     "output_type": "display_data"
    }
   ],
   "source": [
    "from utils import pick_croptypes\n",
    "from IPython.display import display\n",
    "\n",
    "checkbox, checkbox_widgets = pick_croptypes(public_df, samples_threshold=100)\n",
    "display(checkbox)"
   ]
  },
  {
   "cell_type": "markdown",
   "metadata": {},
   "source": [
    "Based on your selection, a custom target label is now generated for each sample. Verify that only crops of your choice are appearing in the `downstream_class`, all others will fall under `other`."
   ]
  },
  {
   "cell_type": "code",
   "execution_count": 7,
   "metadata": {},
   "outputs": [
    {
     "data": {
      "text/plain": [
       "downstream_class\n",
       "other                252\n",
       "unspecified_wheat    192\n",
       "maize                138\n",
       "Name: count, dtype: int64"
      ]
     },
     "execution_count": 7,
     "metadata": {},
     "output_type": "execute_result"
    }
   ],
   "source": [
    "from utils import get_custom_croptype_labels\n",
    "\n",
    "public_df = get_custom_croptype_labels(public_df, checkbox_widgets)\n",
    "public_df[\"downstream_class\"].value_counts()"
   ]
  },
  {
   "cell_type": "markdown",
   "metadata": {},
   "source": [
    "# <a id='toc5_'></a>[Extract required model inputs](#toc0_)\n",
    "\n",
    "Here we prepare presto inputs features for each sample by using a model pretrained on WorldCereal data. The resulting `encodings` and `targets` will be used for model training."
   ]
  },
  {
   "cell_type": "code",
   "execution_count": 8,
   "metadata": {},
   "outputs": [
    {
     "name": "stderr",
     "output_type": "stream",
     "text": [
      "\u001b[32m2024-10-14 19:09:21.714\u001b[0m | \u001b[1mINFO    \u001b[0m | \u001b[36mutils\u001b[0m:\u001b[36mprepare_training_dataframe\u001b[0m:\u001b[36m324\u001b[0m - \u001b[1mPresto URL: https://artifactory.vgt.vito.be/artifactory/auxdata-public/worldcereal/models/PhaseII/presto-ss-wc-ft-ct_croptype_CROPTYPE0_30D_random_time-token=month_balance=True_augment=True.pt\u001b[0m\n"
     ]
    },
    {
     "name": "stderr",
     "output_type": "stream",
     "text": [
      "\u001b[32m2024-10-14 19:09:21.893\u001b[0m | \u001b[1mINFO    \u001b[0m | \u001b[36mworldcereal.train.data\u001b[0m:\u001b[36m__init__\u001b[0m:\u001b[36m35\u001b[0m - \u001b[1mAugmentation is enabled.     The horizontal jittering of the selected window will be performed.\u001b[0m\n",
      "\u001b[32m2024-10-14 19:09:21.895\u001b[0m | \u001b[1mINFO    \u001b[0m | \u001b[36mworldcereal.train.data\u001b[0m:\u001b[36m__init__\u001b[0m:\u001b[36m51\u001b[0m - \u001b[1mOriginal dataset size: 582\u001b[0m\n",
      "\u001b[32m2024-10-14 19:09:21.896\u001b[0m | \u001b[1mINFO    \u001b[0m | \u001b[36mworldcereal.train.data\u001b[0m:\u001b[36m__init__\u001b[0m:\u001b[36m57\u001b[0m - \u001b[1mDataset size after 1 repeats: 582\u001b[0m\n",
      "\u001b[32m2024-10-14 19:09:21.896\u001b[0m | \u001b[1mINFO    \u001b[0m | \u001b[36mutils\u001b[0m:\u001b[36mprepare_training_dataframe\u001b[0m:\u001b[36m340\u001b[0m - \u001b[1mComputing Presto embeddings ...\u001b[0m\n",
      "100%|██████████| 3/3 [00:02<00:00,  1.14it/s]\n",
      "\u001b[32m2024-10-14 19:09:24.543\u001b[0m | \u001b[1mINFO    \u001b[0m | \u001b[36mutils\u001b[0m:\u001b[36mprepare_training_dataframe\u001b[0m:\u001b[36m348\u001b[0m - \u001b[1mDone.\u001b[0m\n"
     ]
    }
   ],
   "source": [
    "from utils import prepare_training_dataframe\n",
    "\n",
    "training_dataframe = prepare_training_dataframe(public_df, task_type=\"croptype\")"
   ]
  },
  {
   "cell_type": "markdown",
   "metadata": {},
   "source": [
    "# <a id='toc6_'></a>[Train custom classification model](#toc0_)\n",
    "We train a catboost model for the selected crop types. Class weights are automatically determined to balance the individual classes."
   ]
  },
  {
   "cell_type": "code",
   "execution_count": 9,
   "metadata": {},
   "outputs": [
    {
     "name": "stderr",
     "output_type": "stream",
     "text": [
      "\u001b[32m2024-10-14 19:09:31.606\u001b[0m | \u001b[1mINFO    \u001b[0m | \u001b[36mutils\u001b[0m:\u001b[36mtrain_classifier\u001b[0m:\u001b[36m395\u001b[0m - \u001b[1mSplit train/test ...\u001b[0m\n",
      "\u001b[32m2024-10-14 19:09:31.617\u001b[0m | \u001b[1mINFO    \u001b[0m | \u001b[36mutils\u001b[0m:\u001b[36mtrain_classifier\u001b[0m:\u001b[36m414\u001b[0m - \u001b[1mComputing class weights ...\u001b[0m\n",
      "\u001b[32m2024-10-14 19:09:31.621\u001b[0m | \u001b[1mINFO    \u001b[0m | \u001b[36mutils\u001b[0m:\u001b[36mtrain_classifier\u001b[0m:\u001b[36m427\u001b[0m - \u001b[1mClass weights: {'maize': 1.409, 'other': 0.771, 'unspecified_wheat': 1.006}\u001b[0m\n",
      "\u001b[32m2024-10-14 19:09:31.661\u001b[0m | \u001b[1mINFO    \u001b[0m | \u001b[36mutils\u001b[0m:\u001b[36mtrain_classifier\u001b[0m:\u001b[36m467\u001b[0m - \u001b[1mTraining CatBoost classifier ...\u001b[0m\n"
     ]
    },
    {
     "name": "stdout",
     "output_type": "stream",
     "text": [
      "Learning rate set to 0.04805\n",
      "0:\tlearn: 1.0586911\ttest: 1.0637480\tbest: 1.0637480 (0)\ttotal: 91.7ms\tremaining: 12m 13s\n",
      "25:\tlearn: 0.5650713\ttest: 0.6863680\tbest: 0.6863680 (25)\ttotal: 768ms\tremaining: 3m 55s\n",
      "50:\tlearn: 0.3771754\ttest: 0.5571138\tbest: 0.5571138 (50)\ttotal: 1.39s\tremaining: 3m 36s\n",
      "75:\tlearn: 0.2801689\ttest: 0.4972990\tbest: 0.4972990 (75)\ttotal: 2.04s\tremaining: 3m 32s\n",
      "100:\tlearn: 0.2221873\ttest: 0.4668236\tbest: 0.4668236 (100)\ttotal: 2.64s\tremaining: 3m 26s\n",
      "125:\tlearn: 0.1820294\ttest: 0.4457419\tbest: 0.4457419 (125)\ttotal: 3.2s\tremaining: 3m 20s\n",
      "150:\tlearn: 0.1503336\ttest: 0.4347274\tbest: 0.4347274 (150)\ttotal: 3.78s\tremaining: 3m 16s\n",
      "175:\tlearn: 0.1263781\ttest: 0.4280751\tbest: 0.4280751 (175)\ttotal: 4.35s\tremaining: 3m 13s\n",
      "200:\tlearn: 0.1079100\ttest: 0.4259335\tbest: 0.4256174 (197)\ttotal: 4.92s\tremaining: 3m 11s\n",
      "225:\tlearn: 0.0934925\ttest: 0.4247271\tbest: 0.4247271 (225)\ttotal: 5.49s\tremaining: 3m 8s\n",
      "250:\tlearn: 0.0830328\ttest: 0.4214331\tbest: 0.4214331 (250)\ttotal: 6.07s\tremaining: 3m 7s\n",
      "275:\tlearn: 0.0740736\ttest: 0.4203690\tbest: 0.4201436 (274)\ttotal: 6.63s\tremaining: 3m 5s\n",
      "300:\tlearn: 0.0669315\ttest: 0.4195972\tbest: 0.4190787 (298)\ttotal: 7.21s\tremaining: 3m 4s\n",
      "325:\tlearn: 0.0610666\ttest: 0.4212918\tbest: 0.4190787 (298)\ttotal: 7.8s\tremaining: 3m 3s\n",
      "Stopped by overfitting detector  (50 iterations wait)\n",
      "\n",
      "bestTest = 0.419078654\n",
      "bestIteration = 298\n",
      "\n",
      "Shrink model to first 299 iterations.\n"
     ]
    }
   ],
   "source": [
    "from utils import train_classifier\n",
    "\n",
    "custom_model, report, confusion_matrix = train_classifier(training_dataframe)"
   ]
  },
  {
   "cell_type": "code",
   "execution_count": 10,
   "metadata": {},
   "outputs": [
    {
     "name": "stdout",
     "output_type": "stream",
     "text": [
      "                   precision    recall  f1-score   support\n",
      "\n",
      "            maize       0.84      0.93      0.88        28\n",
      "            other       0.85      0.80      0.83        51\n",
      "unspecified_wheat       0.82      0.82      0.82        38\n",
      "\n",
      "         accuracy                           0.84       117\n",
      "        macro avg       0.84      0.85      0.84       117\n",
      "     weighted avg       0.84      0.84      0.84       117\n",
      "\n"
     ]
    }
   ],
   "source": [
    "# Print the classification report\n",
    "print(report)"
   ]
  },
  {
   "cell_type": "markdown",
   "metadata": {},
   "source": [
    "# <a id='toc7_'></a>[Deploy custom model](#toc0_)\n",
    "\n",
    "Once trained, we have to upload our model to the cloud so it can be used for inference. Note that these models are only kept in cloud storage for a limited amount of time.\n"
   ]
  },
  {
   "cell_type": "code",
   "execution_count": 11,
   "metadata": {},
   "outputs": [
    {
     "name": "stderr",
     "output_type": "stream",
     "text": [
      "\u001b[32m2024-10-14 19:10:03.213\u001b[0m | \u001b[1mINFO    \u001b[0m | \u001b[36mworldcereal.utils.upload\u001b[0m:\u001b[36mdeploy_model\u001b[0m:\u001b[36m205\u001b[0m - \u001b[1mDeploying model ...\u001b[0m\n"
     ]
    },
    {
     "name": "stdout",
     "output_type": "stream",
     "text": [
      "Authenticated using refresh token.\n"
     ]
    },
    {
     "name": "stderr",
     "output_type": "stream",
     "text": [
      "\u001b[32m2024-10-14 19:10:07.957\u001b[0m | \u001b[1mINFO    \u001b[0m | \u001b[36mworldcereal.utils.upload\u001b[0m:\u001b[36mdeploy_model\u001b[0m:\u001b[36m211\u001b[0m - \u001b[1mDeployed to: s3://OpenEO-artifacts/fd307620ba8a0a07c44a2dc28541b181d5c03cb4/2024/10/14/demo_croptype_multiclass_DE_custommodel.onnx\u001b[0m\n"
     ]
    }
   ],
   "source": [
    "from worldcereal.utils.upload import deploy_model\n",
    "from openeo_gfmap.backend import cdse_connection\n",
    "\n",
    "model_url = deploy_model(cdse_connection(), custom_model, pattern=\"demo_croptype_multiclass_DE\")"
   ]
  },
  {
   "cell_type": "markdown",
   "metadata": {},
   "source": [
    "# <a id='toc8_'></a>[Generate a map](#toc0_)\n",
    "\n",
    "Using our custom model, we generate a map for our region and season of interest.\n",
    "To determine your season of interest, you can consult the WorldCereal crop calendars (by executing the next cell), or check out the [USDA crop calendars](https://ipad.fas.usda.gov/ogamaps/cropcalendar.aspx)."
   ]
  },
  {
   "cell_type": "code",
   "execution_count": 12,
   "metadata": {},
   "outputs": [
    {
     "name": "stderr",
     "output_type": "stream",
     "text": [
      "\u001b[32m2024-10-14 19:10:13.168\u001b[0m | \u001b[1mINFO    \u001b[0m | \u001b[36mworldcereal.utils.map\u001b[0m:\u001b[36mget_processing_extent\u001b[0m:\u001b[36m112\u001b[0m - \u001b[1mYour processing extent: (10.349941, 53.119306, 10.408676, 53.145054)\u001b[0m\n"
     ]
    },
    {
     "data": {
      "image/png": "[encoded data removed]",
      "text/plain": [
       "<Figure size 640x480 with 1 Axes>"
      ]
     },
     "metadata": {},
     "output_type": "display_data"
    }
   ],
   "source": [
    "from utils import retrieve_worldcereal_seasons\n",
    "\n",
    "spatial_extent = map.get_processing_extent()\n",
    "seasons = retrieve_worldcereal_seasons(spatial_extent)"
   ]
  },
  {
   "cell_type": "markdown",
   "metadata": {},
   "source": [
    "Now use the slider to select your processing period. Note that the length of the period is always fixed to a year.\n",
    "Just make sure your season of interest is fully captured within the period you select."
   ]
  },
  {
   "cell_type": "code",
   "execution_count": 13,
   "metadata": {},
   "outputs": [
    {
     "data": {
      "application/vnd.jupyter.widget-view+json": {
       "model_id": "58fbf1920eb141448a8240dec13e496b",
       "version_major": 2,
       "version_minor": 0
      },
      "text/plain": [
       "VBox(children=(HTML(value=\"\\n            <div style='text-align: center;'>\\n                <div style='font-s…"
      ]
     },
     "metadata": {},
     "output_type": "display_data"
    }
   ],
   "source": [
    "from utils import date_slider\n",
    "\n",
    "slider = date_slider()\n",
    "slider.show_slider()"
   ]
  },
  {
   "cell_type": "markdown",
   "metadata": {},
   "source": [
    "Set some other customization options:"
   ]
  },
  {
   "cell_type": "code",
   "execution_count": 14,
   "metadata": {},
   "outputs": [
    {
     "name": "stdout",
     "output_type": "stream",
     "text": [
      "Output directory: /home/jeroendegerickx/git/worldcereal/worldcereal-classification/CROPTYPE_germany\n"
     ]
    }
   ],
   "source": [
    "from worldcereal.job import PostprocessParameters\n",
    "import os\n",
    "from pathlib import Path\n",
    "\n",
    "# Choose whether you want to store the cropland mask as separate output file (default = False)\n",
    "save_mask = True\n",
    "\n",
    "# Choose whether or not you want to spatially clean the classification results (default = True)\n",
    "postprocess_result = True\n",
    "# Choose the postprocessing method you want to use [\"smooth_probabilities\", \"majority_vote\"] (default = \"smooth_probabilities\")\n",
    "postprocess_method = \"majority_vote\"\n",
    "# Additiona parameters for the majority vote method:\n",
    "kernel_size = 5 # default = 5\n",
    "# Do you want to save the intermediate results (before applying the postprocessing)\n",
    "save_intermediate = True #default is False\n",
    "# Do you want to save all class probabilities in the final product? (default is False)\n",
    "keep_class_probs = True\n",
    "\n",
    "postprocess_parameters = PostprocessParameters(enable=postprocess_result,\n",
    "                                               method=postprocess_method,\n",
    "                                               kernel_size=kernel_size,\n",
    "                                               save_intermediate=save_intermediate,\n",
    "                                               keep_class_probs=keep_class_probs)\n",
    "\n",
    "# Specify the local directory where the resulting maps should be downloaded to.\n",
    "output_dir = Path(os.getcwd()) / 'CROPTYPE_germany'\n",
    "print(f\"Output directory: {output_dir}\")"
   ]
  },
  {
   "cell_type": "code",
   "execution_count": 17,
   "metadata": {},
   "outputs": [
    {
     "name": "stderr",
     "output_type": "stream",
     "text": [
      "\u001b[32m2024-10-14 20:20:20.647\u001b[0m | \u001b[1mINFO    \u001b[0m | \u001b[36mutils\u001b[0m:\u001b[36mget_processing_period\u001b[0m:\u001b[36m120\u001b[0m - \u001b[1mSelected processing period: 2018-12-01 to 2019-11-30\u001b[0m\n",
      "\u001b[32m2024-10-14 20:20:20.717\u001b[0m | \u001b[1mINFO    \u001b[0m | \u001b[36mworldcereal.utils.map\u001b[0m:\u001b[36mget_processing_extent\u001b[0m:\u001b[36m112\u001b[0m - \u001b[1mYour processing extent: (10.349941, 53.119306, 10.408676, 53.145054)\u001b[0m\n",
      "INFO:openeo.rest.connection:Found OIDC providers: ['CDSE']\n",
      "INFO:openeo.rest.connection:No OIDC provider given, but only one available: 'CDSE'. Using that one.\n",
      "INFO:openeo.rest.connection:Using default client_id 'sh-b1c3a958-52d4-40fe-a333-153595d1c71e' from OIDC provider 'CDSE' info.\n",
      "INFO:openeo.rest.connection:Found refresh token: trying refresh token based authentication.\n",
      "INFO:openeo.rest.auth.oidc:Doing 'refresh_token' token request 'https://identity.dataspace.copernicus.eu/auth/realms/CDSE/protocol/openid-connect/token' with post data fields ['grant_type', 'client_id', 'refresh_token'] (client_id 'sh-b1c3a958-52d4-40fe-a333-153595d1c71e')\n",
      "INFO:openeo.rest.connection:Obtained tokens: ['access_token', 'id_token', 'refresh_token']\n",
      "INFO:openeo.rest.auth.config:Storing refresh token for issuer 'https://identity.dataspace.copernicus.eu/auth/realms/CDSE' (client 'sh-b1c3a958-52d4-40fe-a333-153595d1c71e')\n"
     ]
    },
    {
     "name": "stdout",
     "output_type": "stream",
     "text": [
      "Authenticated using refresh token.\n"
     ]
    },
    {
     "name": "stderr",
     "output_type": "stream",
     "text": [
      "2024-10-14 20:20:35,372 - openeo_gfmap.utils - INFO - Selected orbit state: ASCENDING. Reason: Orbit has more cumulative intersected area. 0.9639606281260852 > 0.5250584645381887\n",
      "INFO:openeo_gfmap.utils:Selected orbit state: ASCENDING. Reason: Orbit has more cumulative intersected area. 0.9639606281260852 > 0.5250584645381887\n",
      "WARNING:PrestoFeatureExtractor:No additional dependencies are defined. If you wish to add dependencies to your feature extractor, override the `dependencies` method in your class.\n",
      "WARNING:PrestoFeatureExtractor:No additional dependencies are defined. If you wish to add dependencies to your feature extractor, override the `dependencies` method in your class.\n"
     ]
    },
    {
     "name": "stdout",
     "output_type": "stream",
     "text": [
      "0:00:00 Job 'j-2410145b1b3c43b8851ed611261b9ecb': send 'start'\n",
      "0:00:20 Job 'j-2410145b1b3c43b8851ed611261b9ecb': running (progress N/A)\n",
      "0:00:25 Job 'j-2410145b1b3c43b8851ed611261b9ecb': running (progress N/A)\n",
      "0:00:32 Job 'j-2410145b1b3c43b8851ed611261b9ecb': running (progress N/A)\n",
      "0:00:40 Job 'j-2410145b1b3c43b8851ed611261b9ecb': running (progress N/A)\n",
      "0:00:50 Job 'j-2410145b1b3c43b8851ed611261b9ecb': running (progress N/A)\n",
      "0:01:03 Job 'j-2410145b1b3c43b8851ed611261b9ecb': running (progress N/A)\n",
      "0:01:19 Job 'j-2410145b1b3c43b8851ed611261b9ecb': running (progress N/A)\n",
      "0:01:39 Job 'j-2410145b1b3c43b8851ed611261b9ecb': running (progress N/A)\n",
      "0:02:03 Job 'j-2410145b1b3c43b8851ed611261b9ecb': running (progress N/A)\n",
      "0:02:33 Job 'j-2410145b1b3c43b8851ed611261b9ecb': running (progress N/A)\n",
      "0:03:11 Job 'j-2410145b1b3c43b8851ed611261b9ecb': running (progress N/A)\n",
      "0:03:58 Job 'j-2410145b1b3c43b8851ed611261b9ecb': running (progress N/A)\n",
      "0:04:57 Job 'j-2410145b1b3c43b8851ed611261b9ecb': running (progress N/A)\n",
      "0:05:58 Job 'j-2410145b1b3c43b8851ed611261b9ecb': running (progress N/A)\n",
      "0:06:58 Job 'j-2410145b1b3c43b8851ed611261b9ecb': running (progress N/A)\n",
      "0:07:58 Job 'j-2410145b1b3c43b8851ed611261b9ecb': running (progress N/A)\n",
      "0:08:59 Job 'j-2410145b1b3c43b8851ed611261b9ecb': running (progress N/A)\n",
      "0:09:59 Job 'j-2410145b1b3c43b8851ed611261b9ecb': running (progress N/A)\n",
      "0:10:59 Job 'j-2410145b1b3c43b8851ed611261b9ecb': running (progress N/A)\n",
      "0:12:00 Job 'j-2410145b1b3c43b8851ed611261b9ecb': running (progress N/A)\n",
      "0:13:00 Job 'j-2410145b1b3c43b8851ed611261b9ecb': running (progress N/A)\n",
      "0:14:01 Job 'j-2410145b1b3c43b8851ed611261b9ecb': finished (progress 100%)\n"
     ]
    },
    {
     "name": "stderr",
     "output_type": "stream",
     "text": [
      "INFO:openeo.rest.job:Downloading Job result asset 'cropland-raw_20181201_20191130.tif' from https://openeo.creo.vito.be/openeo/jobs/j-2410145b1b3c43b8851ed611261b9ecb/results/assets/ZGNjYWI2ZDktODQ2Yy00OGE5LTlkOTQtNDk3MTQ2Y2IyMjg1/990ac36cfcb6a2797bcf85bfa5b3ed7c/cropland-raw_20181201_20191130.tif?expires=1729535690 to /home/jeroendegerickx/git/worldcereal/worldcereal-classification/CROPTYPE_germany/cropland-raw_20181201_20191130.tif\n",
      "INFO:openeo.rest.job:Downloading Job result asset 'cropland_20181201_20191130.tif' from https://openeo.creo.vito.be/openeo/jobs/j-2410145b1b3c43b8851ed611261b9ecb/results/assets/ZGNjYWI2ZDktODQ2Yy00OGE5LTlkOTQtNDk3MTQ2Y2IyMjg1/1199815155d5ed90ed8be9d0eede8b30/cropland_20181201_20191130.tif?expires=1729535690 to /home/jeroendegerickx/git/worldcereal/worldcereal-classification/CROPTYPE_germany/cropland_20181201_20191130.tif\n",
      "INFO:openeo.rest.job:Downloading Job result asset 'croptype-raw_20181201_20191130.tif' from https://openeo.creo.vito.be/openeo/jobs/j-2410145b1b3c43b8851ed611261b9ecb/results/assets/ZGNjYWI2ZDktODQ2Yy00OGE5LTlkOTQtNDk3MTQ2Y2IyMjg1/6b7a8e0051698e4ecafda95322eeda9a/croptype-raw_20181201_20191130.tif?expires=1729535690 to /home/jeroendegerickx/git/worldcereal/worldcereal-classification/CROPTYPE_germany/croptype-raw_20181201_20191130.tif\n",
      "INFO:openeo.rest.job:Downloading Job result asset 'croptype_20181201_20191130.tif' from https://openeo.creo.vito.be/openeo/jobs/j-2410145b1b3c43b8851ed611261b9ecb/results/assets/ZGNjYWI2ZDktODQ2Yy00OGE5LTlkOTQtNDk3MTQ2Y2IyMjg1/2662e69753718ad3f2abade4416eb16e/croptype_20181201_20191130.tif?expires=1729535690 to /home/jeroendegerickx/git/worldcereal/worldcereal-classification/CROPTYPE_germany/croptype_20181201_20191130.tif\n"
     ]
    }
   ],
   "source": [
    "from worldcereal.job import WorldCerealProductType, generate_map, CropTypeParameters\n",
    "\n",
    "# Initializes default parameters\n",
    "parameters = CropTypeParameters()\n",
    "\n",
    "# Change the URL to your custom classification model\n",
    "parameters.classifier_parameters.classifier_url = model_url\n",
    "parameters.save_mask = save_mask\n",
    "\n",
    "# Get processing period and area\n",
    "processing_period = slider.get_processing_period()\n",
    "processing_extent = map.get_processing_extent()\n",
    "\n",
    "# Launch the job\n",
    "job_results = generate_map(\n",
    "    processing_extent,\n",
    "    processing_period,\n",
    "    output_dir=output_dir,\n",
    "    product_type=WorldCerealProductType.CROPTYPE,\n",
    "    croptype_parameters=parameters,\n",
    "    postprocess_parameters=postprocess_parameters,\n",
    ")"
   ]
  },
  {
   "cell_type": "markdown",
   "metadata": {},
   "source": [
    "The classification results will be automatically downloaded to your output_dir in .tif format.\n",
    "By default, OpenEO stores the class labels, confidence score and class probabilities in one file.\n",
    "\n",
    "Using the function below, we split this information into separate .tif files, thereby adding metadata and a color map, to ease interpretation and visualization:\n",
    "- \"xxx_classification_start-date_end-date.tif\" --> contains the classification labels. A class look-up table is included in the .tif metadata.\n",
    "- \"xxx_confidence_start-date_end-date.tif\" -->  contains the probability associated to the prediction [0 - 100]\n",
    "\n",
    "In case you chose to store the original per-class probabilities, these are NOT written to a separate file and need to be consulted in the original result downloaded from OpenEO."
   ]
  },
  {
   "cell_type": "code",
   "execution_count": 18,
   "metadata": {},
   "outputs": [
    {
     "name": "stderr",
     "output_type": "stream",
     "text": [
      "\u001b[32m2024-10-14 20:35:48.639\u001b[0m | \u001b[1mINFO    \u001b[0m | \u001b[36mutils\u001b[0m:\u001b[36m_get_colormap\u001b[0m:\u001b[36m540\u001b[0m - \u001b[1mAssigning random color map for product croptype. \u001b[0m\n"
     ]
    },
    {
     "name": "stdout",
     "output_type": "stream",
     "text": [
      "{'cropland-raw': {'classification': PosixPath('/home/jeroendegerickx/git/worldcereal/worldcereal-classification/CROPTYPE_germany/cropland-raw_classification_20181201_20191130.tif'), 'confidence': PosixPath('/home/jeroendegerickx/git/worldcereal/worldcereal-classification/CROPTYPE_germany/cropland-raw_confidence_20181201_20191130.tif')}, 'cropland': {'classification': PosixPath('/home/jeroendegerickx/git/worldcereal/worldcereal-classification/CROPTYPE_germany/cropland_classification_20181201_20191130.tif'), 'confidence': PosixPath('/home/jeroendegerickx/git/worldcereal/worldcereal-classification/CROPTYPE_germany/cropland_confidence_20181201_20191130.tif')}, 'croptype-raw': {'classification': PosixPath('/home/jeroendegerickx/git/worldcereal/worldcereal-classification/CROPTYPE_germany/croptype-raw_classification_20181201_20191130.tif'), 'confidence': PosixPath('/home/jeroendegerickx/git/worldcereal/worldcereal-classification/CROPTYPE_germany/croptype-raw_confidence_20181201_20191130.tif')}, 'croptype': {'classification': PosixPath('/home/jeroendegerickx/git/worldcereal/worldcereal-classification/CROPTYPE_germany/croptype_classification_20181201_20191130.tif'), 'confidence': PosixPath('/home/jeroendegerickx/git/worldcereal/worldcereal-classification/CROPTYPE_germany/croptype_confidence_20181201_20191130.tif')}}\n"
     ]
    }
   ],
   "source": [
    "from utils import prepare_visualization\n",
    "\n",
    "rasters = prepare_visualization(job_results)\n",
    "print(rasters)"
   ]
  },
  {
   "cell_type": "markdown",
   "metadata": {},
   "source": [
    "The resulting raster files can be visualized in QGIS, or using the function in the cell below..."
   ]
  },
  {
   "cell_type": "code",
   "execution_count": 25,
   "metadata": {},
   "outputs": [
    {
     "data": {
      "application/vnd.jupyter.widget-view+json": {
       "model_id": "1382fa85ebf645e8809a579f3c5a1265",
       "version_major": 2,
       "version_minor": 0
      },
      "text/plain": [
       "Map(center=[53.1321915, 10.379311000000001], controls=(ZoomControl(options=['position', 'zoom_in_text', 'zoom_…"
      ]
     },
     "execution_count": 25,
     "metadata": {},
     "output_type": "execute_result"
    }
   ],
   "source": [
    "from utils import visualize_products\n",
    "\n",
    "visualize_products(rasters, port=8887)"
   ]
  },
  {
   "cell_type": "markdown",
   "metadata": {},
   "source": [
    "Finally, use the cell below to visualize the look-up table for the classification product."
   ]
  },
  {
   "cell_type": "code",
   "execution_count": 24,
   "metadata": {},
   "outputs": [
    {
     "data": {
      "image/png": "[encoded data removed]",
      "text/plain": [
       "<Figure size 236x134 with 1 Axes>"
      ]
     },
     "metadata": {},
     "output_type": "display_data"
    }
   ],
   "source": [
    "from utils import show_color_legend\n",
    "\n",
    "show_color_legend(rasters, \"croptype\")"
   ]
  }
 ],
 "metadata": {
  "kernelspec": {
   "display_name": "worldcereal",
   "language": "python",
   "name": "python3"
  },
  "language_info": {
   "codemirror_mode": {
    "name": "ipython",
    "version": 3
   },
   "file_extension": ".py",
   "mimetype": "text/x-python",
   "name": "python",
   "nbconvert_exporter": "python",
   "pygments_lexer": "ipython3",
   "version": "3.10.0"
  }
 },
 "nbformat": 4,
 "nbformat_minor": 2
}
