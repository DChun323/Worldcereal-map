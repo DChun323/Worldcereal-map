{
 "cells": [
  {
   "cell_type": "markdown",
   "metadata": {},
   "source": [
    "![](./resources/System_v1_custom_croptype.png)"
   ]
  },
  {
   "cell_type": "markdown",
   "metadata": {},
   "source": [
    "**Table of contents**<a id='toc0_'></a>    \n",
    "- [Before you start](#toc1_)    \n",
    "- [Define a region of interest](#toc2_)    \n",
    "- [Extract public training data](#toc3_)    \n",
    "- [Select desired crops for prediction](#toc4_)    \n",
    "- [Extract required model inputs](#toc5_)    \n",
    "- [Train custom classification model](#toc6_)    \n",
    "- [Deploy custom model](#toc7_)    \n",
    "- [Generate a map](#toc8_)    \n",
    "\n",
    "<!-- vscode-jupyter-toc-config\n",
    "\tnumbering=false\n",
    "\tanchor=true\n",
    "\tflat=false\n",
    "\tminLevel=1\n",
    "\tmaxLevel=6\n",
    "\t/vscode-jupyter-toc-config -->\n",
    "<!-- THIS CELL WILL BE REPLACED ON TOC UPDATE. DO NOT WRITE YOUR TEXT IN THIS CELL -->"
   ]
  },
  {
   "cell_type": "markdown",
   "metadata": {},
   "source": [
    "# <a id='toc1_'></a>[Before you start](#toc0_)\n",
    "\n",
    "In order to run WorldCereal crop mapping jobs from this notebook, you need to create an account on the Copernicus Data Space Ecosystem (CDSE) registering [here](https://dataspace.copernicus.eu/). This is free of charge and will grant you a number of free openEO processing credits to continue this demo."
   ]
  },
  {
   "cell_type": "code",
   "execution_count": 1,
   "metadata": {},
   "outputs": [],
   "source": [
    "# TEMPORARY CELL\n",
    "\n",
    "import sys\n",
    "sys.path.append('/home/jeroendegerickx/git/worldcereal/worldcereal-classification/notebooks')\n",
    "%load_ext autoreload\n",
    "%autoreload 2"
   ]
  },
  {
   "cell_type": "markdown",
   "metadata": {},
   "source": [
    "# <a id='toc2_'></a>[Define a region of interest](#toc0_)\n",
    "\n",
    "When running the code snippet below, an interactive map will be visualized.\n",
    "Click the Rectangle button on the left hand side of the map to start drawing your region of interest.\n",
    "Currently, there is a maximum size of 250 km² for your area within this demo. Upon exceeding this limit, an error will be shown.\n",
    "The widget will automatically store the coordinates of the last rectangle you drew on the map"
   ]
  },
  {
   "cell_type": "code",
   "execution_count": 2,
   "metadata": {},
   "outputs": [
    {
     "data": {
      "application/vnd.jupyter.widget-view+json": {
       "model_id": "5cb9575329eb459994afff2f7f9fcc4a",
       "version_major": 2,
       "version_minor": 0
      },
      "text/plain": [
       "Map(center=[51.1872, 5.1154], controls=(ZoomControl(options=['position', 'zoom_in_text', 'zoom_in_title', 'zoo…"
      ]
     },
     "execution_count": 2,
     "metadata": {},
     "output_type": "execute_result"
    },
    {
     "name": "stderr",
     "output_type": "stream",
     "text": [
      "\u001b[32m2024-10-11 09:45:32.837\u001b[0m | \u001b[1mINFO    \u001b[0m | \u001b[36mworldcereal.utils.map\u001b[0m:\u001b[36mhandle_draw\u001b[0m:\u001b[36m13\u001b[0m - \u001b[1mYour processing extent: (2.689934, 47.181313, 2.790527, 47.222366)\u001b[0m\n",
      "\u001b[32m2024-10-11 09:45:32.912\u001b[0m | \u001b[1mINFO    \u001b[0m | \u001b[36mworldcereal.utils.map\u001b[0m:\u001b[36mhandle_draw\u001b[0m:\u001b[36m19\u001b[0m - \u001b[1mArea of processing extent: 35.02 km²\u001b[0m\n"
     ]
    }
   ],
   "source": [
    "from worldcereal.utils.map import ui_map\n",
    "\n",
    "map = ui_map()\n",
    "map.show_map()"
   ]
  },
  {
   "cell_type": "markdown",
   "metadata": {},
   "source": [
    "# <a id='toc3_'></a>[Extract public training data](#toc0_)\n",
    "\n",
    "Here we query existing reference data that have already been processed by WorldCereal and are ready to use.\n",
    "To increase the number of hits, we expand the search area by 250 km in all directions."
   ]
  },
  {
   "cell_type": "code",
   "execution_count": 4,
   "metadata": {},
   "outputs": [
    {
     "name": "stderr",
     "output_type": "stream",
     "text": [
      "\u001b[32m2024-10-11 09:49:03.914\u001b[0m | \u001b[1mINFO    \u001b[0m | \u001b[36mworldcereal.utils.map\u001b[0m:\u001b[36mget_processing_extent\u001b[0m:\u001b[36m107\u001b[0m - \u001b[1mYour processing extent: (2.689934, 47.181313, 2.790527, 47.222366)\u001b[0m\n",
      "\u001b[32m2024-10-11 09:49:03.916\u001b[0m | \u001b[1mINFO    \u001b[0m | \u001b[36mworldcereal.utils.refdata\u001b[0m:\u001b[36mquery_public_extractions\u001b[0m:\u001b[36m51\u001b[0m - \u001b[1mApplying a buffer of 250 km to the selected area ...\u001b[0m\n",
      "\u001b[32m2024-10-11 09:49:04.051\u001b[0m | \u001b[1mINFO    \u001b[0m | \u001b[36mworldcereal.utils.refdata\u001b[0m:\u001b[36mquery_public_extractions\u001b[0m:\u001b[36m82\u001b[0m - \u001b[1mQuerying WorldCereal global extractions database (this can take a while) ...\u001b[0m\n",
      "\u001b[32m2024-10-11 09:49:22.269\u001b[0m | \u001b[1mINFO    \u001b[0m | \u001b[36mworldcereal.utils.refdata\u001b[0m:\u001b[36mprocess_parquet\u001b[0m:\u001b[36m128\u001b[0m - \u001b[1mProcessing selected samples ...\u001b[0m\n",
      "\u001b[32m2024-10-11 09:49:22.978\u001b[0m | \u001b[1mINFO    \u001b[0m | \u001b[36mworldcereal.utils.refdata\u001b[0m:\u001b[36mprocess_parquet\u001b[0m:\u001b[36m131\u001b[0m - \u001b[1mExtracted and processed 5877 samples from global database.\u001b[0m\n"
     ]
    }
   ],
   "source": [
    "from worldcereal.utils.refdata import query_public_extractions\n",
    "\n",
    "# retrieve the polygon you just drew\n",
    "polygon = map.get_polygon_latlon()\n",
    "\n",
    "# Query our public database of training data\n",
    "public_df = query_public_extractions(polygon)"
   ]
  },
  {
   "cell_type": "markdown",
   "metadata": {},
   "source": [
    "# <a id='toc4_'></a>[Select desired crops for prediction](#toc0_)\n",
    "\n",
    "Crops with ticked checkboxes will be included in the prediction. All the crops that are not selected will be grouped under the \"other_crop\" category. The model will be trained in a multi-class setting."
   ]
  },
  {
   "cell_type": "code",
   "execution_count": 5,
   "metadata": {},
   "outputs": [
    {
     "data": {
      "application/vnd.jupyter.widget-view+json": {
       "model_id": "f2d069328bce433eb3b4e6daf55d7cf6",
       "version_major": 2,
       "version_minor": 0
      },
      "text/plain": [
       "VBox(children=(Checkbox(value=False, description='unspecified_wheat (2329 samples)'), Checkbox(value=False, de…"
      ]
     },
     "metadata": {},
     "output_type": "display_data"
    }
   ],
   "source": [
    "from utils import pick_croptypes\n",
    "from IPython.display import display\n",
    "\n",
    "checkbox, checkbox_widgets = pick_croptypes(public_df, samples_threshold=100)\n",
    "display(checkbox)"
   ]
  },
  {
   "cell_type": "markdown",
   "metadata": {},
   "source": [
    "Based on your selection, a custom target label is now generated for each sample. Verify that only crops of your choice are appearing in the `custom_class`, all others will fall under `other`."
   ]
  },
  {
   "cell_type": "code",
   "execution_count": 6,
   "metadata": {},
   "outputs": [
    {
     "data": {
      "text/plain": [
       "downstream_class\n",
       "unspecified_wheat     2329\n",
       "other                 2085\n",
       "unspecified_barley     855\n",
       "rapeseed_rape          608\n",
       "Name: count, dtype: int64"
      ]
     },
     "execution_count": 6,
     "metadata": {},
     "output_type": "execute_result"
    }
   ],
   "source": [
    "from utils import get_custom_labels\n",
    "\n",
    "public_df = get_custom_labels(public_df, checkbox_widgets)\n",
    "public_df[\"downstream_class\"].value_counts()"
   ]
  },
  {
   "cell_type": "markdown",
   "metadata": {},
   "source": [
    "# <a id='toc5_'></a>[Extract required model inputs](#toc0_)\n",
    "\n",
    "Here we prepare presto inputs features for each sample by using a model pretrained on WorldCereal data. The resulting `encodings` and `targets` will be used for model training."
   ]
  },
  {
   "cell_type": "code",
   "execution_count": 7,
   "metadata": {},
   "outputs": [
    {
     "name": "stderr",
     "output_type": "stream",
     "text": [
      "\u001b[32m2024-10-11 09:51:47.100\u001b[0m | \u001b[1mINFO    \u001b[0m | \u001b[36mutils\u001b[0m:\u001b[36mget_inputs_outputs\u001b[0m:\u001b[36m261\u001b[0m - \u001b[1mPresto URL: https://artifactory.vgt.vito.be/artifactory/auxdata-public/worldcereal/models/PhaseII/presto-ss-wc-ft-ct-30D_test.pt\u001b[0m\n",
      "\u001b[32m2024-10-11 09:51:47.282\u001b[0m | \u001b[1mINFO    \u001b[0m | \u001b[36mutils\u001b[0m:\u001b[36mget_inputs_outputs\u001b[0m:\u001b[36m269\u001b[0m - \u001b[1mComputing Presto embeddings ...\u001b[0m\n",
      "\u001b[32m2024-10-11 09:52:01.535\u001b[0m | \u001b[1mINFO    \u001b[0m | \u001b[36mutils\u001b[0m:\u001b[36mget_inputs_outputs\u001b[0m:\u001b[36m292\u001b[0m - \u001b[1mDone.\u001b[0m\n"
     ]
    }
   ],
   "source": [
    "from utils import get_inputs_outputs\n",
    "\n",
    "encodings, targets = get_inputs_outputs(public_df)"
   ]
  },
  {
   "cell_type": "markdown",
   "metadata": {},
   "source": [
    "# <a id='toc6_'></a>[Train custom classification model](#toc0_)\n",
    "We train a catboost model for the selected crop types. Class weights are automatically determined to balance the individual classes."
   ]
  },
  {
   "cell_type": "code",
   "execution_count": 8,
   "metadata": {},
   "outputs": [
    {
     "name": "stderr",
     "output_type": "stream",
     "text": [
      "\u001b[32m2024-10-11 09:56:00.159\u001b[0m | \u001b[1mINFO    \u001b[0m | \u001b[36mutils\u001b[0m:\u001b[36mtrain_classifier\u001b[0m:\u001b[36m319\u001b[0m - \u001b[1mSplit train/test ...\u001b[0m\n",
      "\u001b[32m2024-10-11 09:56:00.174\u001b[0m | \u001b[1mINFO    \u001b[0m | \u001b[36mutils\u001b[0m:\u001b[36mtrain_classifier\u001b[0m:\u001b[36m335\u001b[0m - \u001b[1mComputing class weights ...\u001b[0m\n",
      "\u001b[32m2024-10-11 09:56:00.183\u001b[0m | \u001b[1mINFO    \u001b[0m | \u001b[36mutils\u001b[0m:\u001b[36mtrain_classifier\u001b[0m:\u001b[36m340\u001b[0m - \u001b[1mClass weights:\u001b[0m\n",
      "\u001b[32m2024-10-11 09:56:00.187\u001b[0m | \u001b[1mINFO    \u001b[0m | \u001b[36mutils\u001b[0m:\u001b[36mtrain_classifier\u001b[0m:\u001b[36m363\u001b[0m - \u001b[1mTraining CatBoost classifier ...\u001b[0m\n"
     ]
    },
    {
     "name": "stdout",
     "output_type": "stream",
     "text": [
      "Learning rate set to 0.050192\n",
      "0:\tlearn: 1.3175728\ttest: 1.3175199\tbest: 1.3175199 (0)\ttotal: 108ms\tremaining: 14m 24s\n",
      "25:\tlearn: 0.6652848\ttest: 0.6872883\tbest: 0.6872883 (25)\ttotal: 1.05s\tremaining: 5m 21s\n",
      "50:\tlearn: 0.4904228\ttest: 0.5411005\tbest: 0.5411005 (50)\ttotal: 1.98s\tremaining: 5m 8s\n",
      "75:\tlearn: 0.4074234\ttest: 0.4843929\tbest: 0.4843929 (75)\ttotal: 2.87s\tremaining: 4m 59s\n",
      "100:\tlearn: 0.3546780\ttest: 0.4576552\tbest: 0.4576552 (100)\ttotal: 3.78s\tremaining: 4m 55s\n",
      "125:\tlearn: 0.3174771\ttest: 0.4411317\tbest: 0.4411317 (125)\ttotal: 4.74s\tremaining: 4m 55s\n",
      "150:\tlearn: 0.2878676\ttest: 0.4317767\tbest: 0.4317767 (150)\ttotal: 5.68s\tremaining: 4m 55s\n",
      "175:\tlearn: 0.2626588\ttest: 0.4253288\tbest: 0.4253288 (175)\ttotal: 6.61s\tremaining: 4m 53s\n",
      "200:\tlearn: 0.2439518\ttest: 0.4194977\tbest: 0.4194977 (200)\ttotal: 7.55s\tremaining: 4m 53s\n",
      "225:\tlearn: 0.2267627\ttest: 0.4159549\tbest: 0.4159549 (225)\ttotal: 8.59s\tremaining: 4m 55s\n",
      "250:\tlearn: 0.2110828\ttest: 0.4137662\tbest: 0.4137662 (250)\ttotal: 9.52s\tremaining: 4m 53s\n",
      "275:\tlearn: 0.1983794\ttest: 0.4115970\tbest: 0.4115970 (275)\ttotal: 10.5s\tremaining: 4m 53s\n",
      "300:\tlearn: 0.1878606\ttest: 0.4100955\tbest: 0.4100955 (300)\ttotal: 11.4s\tremaining: 4m 52s\n",
      "325:\tlearn: 0.1775729\ttest: 0.4087765\tbest: 0.4087765 (325)\ttotal: 12.4s\tremaining: 4m 52s\n",
      "350:\tlearn: 0.1685075\ttest: 0.4077360\tbest: 0.4076752 (347)\ttotal: 13.4s\tremaining: 4m 52s\n",
      "375:\tlearn: 0.1603514\ttest: 0.4064117\tbest: 0.4064117 (375)\ttotal: 14.4s\tremaining: 4m 51s\n",
      "400:\tlearn: 0.1526573\ttest: 0.4050315\tbest: 0.4050315 (400)\ttotal: 15.3s\tremaining: 4m 50s\n",
      "425:\tlearn: 0.1458580\ttest: 0.4044487\tbest: 0.4044351 (424)\ttotal: 16.2s\tremaining: 4m 48s\n",
      "450:\tlearn: 0.1394102\ttest: 0.4041326\tbest: 0.4041326 (450)\ttotal: 17.2s\tremaining: 4m 47s\n",
      "475:\tlearn: 0.1337714\ttest: 0.4035826\tbest: 0.4035826 (475)\ttotal: 18.2s\tremaining: 4m 47s\n",
      "500:\tlearn: 0.1277406\ttest: 0.4034948\tbest: 0.4033003 (484)\ttotal: 19.1s\tremaining: 4m 45s\n",
      "525:\tlearn: 0.1227076\ttest: 0.4038944\tbest: 0.4033003 (484)\ttotal: 20s\tremaining: 4m 44s\n",
      "Stopped by overfitting detector  (50 iterations wait)\n",
      "\n",
      "bestTest = 0.4033003203\n",
      "bestIteration = 484\n",
      "\n",
      "Shrink model to first 485 iterations.\n"
     ]
    }
   ],
   "source": [
    "from utils import train_classifier\n",
    "\n",
    "custom_model, report, confusion_matrix = train_classifier(encodings, targets)"
   ]
  },
  {
   "cell_type": "code",
   "execution_count": 9,
   "metadata": {},
   "outputs": [
    {
     "name": "stdout",
     "output_type": "stream",
     "text": [
      "                    precision    recall  f1-score   support\n",
      "\n",
      "             other       0.89      0.86      0.87       626\n",
      "     rapeseed_rape       0.88      0.92      0.90       182\n",
      "unspecified_barley       0.70      0.75      0.73       257\n",
      " unspecified_wheat       0.87      0.87      0.87       699\n",
      "\n",
      "          accuracy                           0.85      1764\n",
      "         macro avg       0.84      0.85      0.84      1764\n",
      "      weighted avg       0.86      0.85      0.85      1764\n",
      "\n"
     ]
    }
   ],
   "source": [
    "# Print the classification report\n",
    "print(report)"
   ]
  },
  {
   "cell_type": "markdown",
   "metadata": {},
   "source": [
    "# <a id='toc7_'></a>[Deploy custom model](#toc0_)\n",
    "\n",
    "Once trained, we have to upload our model to the cloud so it can be used for inference. Note that these models are only kept in cloud storage for a limited amount of time.\n"
   ]
  },
  {
   "cell_type": "code",
   "execution_count": 10,
   "metadata": {},
   "outputs": [
    {
     "name": "stderr",
     "output_type": "stream",
     "text": [
      "\u001b[32m2024-10-11 09:56:46.465\u001b[0m | \u001b[1mINFO    \u001b[0m | \u001b[36mworldcereal.utils.upload\u001b[0m:\u001b[36mdeploy_model\u001b[0m:\u001b[36m205\u001b[0m - \u001b[1mDeploying model ...\u001b[0m\n"
     ]
    },
    {
     "name": "stdout",
     "output_type": "stream",
     "text": [
      "Authenticated using refresh token.\n"
     ]
    },
    {
     "name": "stderr",
     "output_type": "stream",
     "text": [
      "\u001b[32m2024-10-11 09:56:49.429\u001b[0m | \u001b[1mINFO    \u001b[0m | \u001b[36mworldcereal.utils.upload\u001b[0m:\u001b[36mdeploy_model\u001b[0m:\u001b[36m211\u001b[0m - \u001b[1mDeployed to: s3://OpenEO-artifacts/fd307620ba8a0a07c44a2dc28541b181d5c03cb4/2024/10/11/demo_croptype_multiclass_FR_custommodel.onnx\u001b[0m\n"
     ]
    }
   ],
   "source": [
    "from worldcereal.utils.upload import deploy_model\n",
    "from openeo_gfmap.backend import cdse_connection\n",
    "\n",
    "model_url = deploy_model(cdse_connection(), custom_model, pattern=\"demo_croptype_multiclass_FR\")"
   ]
  },
  {
   "cell_type": "markdown",
   "metadata": {},
   "source": [
    "# <a id='toc8_'></a>[Generate a map](#toc0_)\n",
    "\n",
    "Using our custom model, we generate a map for our region and season of interest.\n",
    "To determine your season of interest, you can consult the WorldCereal crop calendars (by executing the next cell), or check out the [USDA crop calendars](https://ipad.fas.usda.gov/ogamaps/cropcalendar.aspx)."
   ]
  },
  {
   "cell_type": "code",
   "execution_count": 11,
   "metadata": {},
   "outputs": [
    {
     "name": "stderr",
     "output_type": "stream",
     "text": [
      "\u001b[32m2024-10-11 10:01:21.547\u001b[0m | \u001b[1mINFO    \u001b[0m | \u001b[36mworldcereal.utils.map\u001b[0m:\u001b[36mget_processing_extent\u001b[0m:\u001b[36m107\u001b[0m - \u001b[1mYour processing extent: (2.689934, 47.181313, 2.790527, 47.222366)\u001b[0m\n"
     ]
    },
    {
     "data": {
      "image/png": "[encoded data removed]",
      "text/plain": [
       "<Figure size 640x480 with 1 Axes>"
      ]
     },
     "metadata": {},
     "output_type": "display_data"
    }
   ],
   "source": [
    "from utils import retrieve_worldcereal_seasons\n",
    "\n",
    "spatial_extent = map.get_processing_extent()\n",
    "seasons = retrieve_worldcereal_seasons(spatial_extent)"
   ]
  },
  {
   "cell_type": "markdown",
   "metadata": {},
   "source": [
    "Now use the slider to select your processing period. Note that the length of the period is always fixed to a year.\n",
    "Just make sure your season of interest is fully captured within the period you select."
   ]
  },
  {
   "cell_type": "code",
   "execution_count": 12,
   "metadata": {},
   "outputs": [
    {
     "data": {
      "application/vnd.jupyter.widget-view+json": {
       "model_id": "479888fba3ff437087010cfb70bf2019",
       "version_major": 2,
       "version_minor": 0
      },
      "text/plain": [
       "VBox(children=(HTML(value=\"\\n            <div style='text-align: center;'>\\n                <div style='font-s…"
      ]
     },
     "metadata": {},
     "output_type": "display_data"
    }
   ],
   "source": [
    "from utils import date_slider\n",
    "\n",
    "slider = date_slider()\n",
    "slider.show_slider()"
   ]
  },
  {
   "cell_type": "markdown",
   "metadata": {},
   "source": [
    "Set some other customization options:"
   ]
  },
  {
   "cell_type": "code",
   "execution_count": 13,
   "metadata": {},
   "outputs": [
    {
     "name": "stdout",
     "output_type": "stream",
     "text": [
      "Output directory: /home/jeroendegerickx/git/worldcereal/worldcereal-classification/CROPTYPE_test\n"
     ]
    }
   ],
   "source": [
    "from worldcereal.job import PostprocessParameters\n",
    "import os\n",
    "from pathlib import Path\n",
    "\n",
    "# Choose whether you want to store the cropland mask as separate output file (default = False)\n",
    "save_mask = True\n",
    "\n",
    "# Choose whether or not you want to spatially clean the classification results (default = True)\n",
    "postprocess_result = True\n",
    "# Choose the postprocessing method you want to use [\"smooth_probabilities\", \"majority_vote\"] (default = \"smooth_probabilities\")\n",
    "postprocess_method = \"majority_vote\"\n",
    "# Additiona parameters for the majority vote method:\n",
    "kernel_size = 5 # default = 5\n",
    "conf_threshold = 60 # default = 30\n",
    "# Do you want to save the intermediate results (before applying the postprocessing)\n",
    "save_intermediate = True #default is False\n",
    "# Do you want to save all class probabilities in the final product? (default is False)\n",
    "keep_class_probs = True\n",
    "\n",
    "postprocess_parameters = PostprocessParameters(enable=postprocess_result,\n",
    "                                               method=postprocess_method,\n",
    "                                               kernel_size=kernel_size,\n",
    "                                               conf_threshold=conf_threshold,\n",
    "                                               save_intermediate=save_intermediate,\n",
    "                                               keep_class_probs=keep_class_probs)\n",
    "\n",
    "# Specify the local directory where the resulting maps should be downloaded to.\n",
    "output_dir = Path(os.getcwd()) / 'CROPTYPE_test'\n",
    "print(f\"Output directory: {output_dir}\")"
   ]
  },
  {
   "cell_type": "code",
   "execution_count": 14,
   "metadata": {},
   "outputs": [
    {
     "name": "stderr",
     "output_type": "stream",
     "text": [
      "\u001b[32m2024-10-11 10:08:13.190\u001b[0m | \u001b[1mINFO    \u001b[0m | \u001b[36mutils\u001b[0m:\u001b[36mget_processing_period\u001b[0m:\u001b[36m116\u001b[0m - \u001b[1mSelected processing period: 2020-09-01 to 2021-08-31\u001b[0m\n",
      "\u001b[32m2024-10-11 10:08:13.277\u001b[0m | \u001b[1mINFO    \u001b[0m | \u001b[36mworldcereal.utils.map\u001b[0m:\u001b[36mget_processing_extent\u001b[0m:\u001b[36m107\u001b[0m - \u001b[1mYour processing extent: (2.689934, 47.181313, 2.790527, 47.222366)\u001b[0m\n"
     ]
    },
    {
     "name": "stdout",
     "output_type": "stream",
     "text": [
      "Authenticated using refresh token.\n"
     ]
    },
    {
     "name": "stderr",
     "output_type": "stream",
     "text": [
      "2024-10-11 10:08:25,067 - openeo_gfmap.utils - INFO - Selected orbit state: DESCENDING. Reason: Orbit has more cumulative intersected area. 1.106744805086367 > 1.0773866182185106\n",
      "WARNING:PrestoFeatureExtractor:No additional dependencies are defined. If you wish to add dependencies to your feature extractor, override the `dependencies` method in your class.\n",
      "WARNING:PrestoFeatureExtractor:No additional dependencies are defined. If you wish to add dependencies to your feature extractor, override the `dependencies` method in your class.\n"
     ]
    },
    {
     "name": "stdout",
     "output_type": "stream",
     "text": [
      "0:00:00 Job 'j-241011ce5eb042ce81b3ddff287777a8': send 'start'\n",
      "0:00:15 Job 'j-241011ce5eb042ce81b3ddff287777a8': created (progress 0%)\n",
      "0:00:21 Job 'j-241011ce5eb042ce81b3ddff287777a8': running (progress N/A)\n",
      "0:00:27 Job 'j-241011ce5eb042ce81b3ddff287777a8': running (progress N/A)\n",
      "0:00:35 Job 'j-241011ce5eb042ce81b3ddff287777a8': running (progress N/A)\n",
      "0:00:45 Job 'j-241011ce5eb042ce81b3ddff287777a8': running (progress N/A)\n",
      "0:00:58 Job 'j-241011ce5eb042ce81b3ddff287777a8': running (progress N/A)\n",
      "0:01:13 Job 'j-241011ce5eb042ce81b3ddff287777a8': running (progress N/A)\n",
      "0:01:33 Job 'j-241011ce5eb042ce81b3ddff287777a8': running (progress N/A)\n",
      "0:01:57 Job 'j-241011ce5eb042ce81b3ddff287777a8': running (progress N/A)\n",
      "0:02:27 Job 'j-241011ce5eb042ce81b3ddff287777a8': running (progress N/A)\n",
      "0:03:05 Job 'j-241011ce5eb042ce81b3ddff287777a8': running (progress N/A)\n",
      "0:03:51 Job 'j-241011ce5eb042ce81b3ddff287777a8': running (progress N/A)\n",
      "0:04:50 Job 'j-241011ce5eb042ce81b3ddff287777a8': running (progress N/A)\n",
      "0:05:50 Job 'j-241011ce5eb042ce81b3ddff287777a8': running (progress N/A)\n",
      "0:06:51 Job 'j-241011ce5eb042ce81b3ddff287777a8': running (progress N/A)\n",
      "0:07:51 Job 'j-241011ce5eb042ce81b3ddff287777a8': running (progress N/A)\n",
      "0:08:52 Job 'j-241011ce5eb042ce81b3ddff287777a8': running (progress N/A)\n",
      "0:09:52 Job 'j-241011ce5eb042ce81b3ddff287777a8': running (progress N/A)\n",
      "0:10:52 Job 'j-241011ce5eb042ce81b3ddff287777a8': running (progress N/A)\n",
      "0:11:52 Job 'j-241011ce5eb042ce81b3ddff287777a8': running (progress N/A)\n",
      "0:12:53 Job 'j-241011ce5eb042ce81b3ddff287777a8': running (progress N/A)\n",
      "0:13:53 Job 'j-241011ce5eb042ce81b3ddff287777a8': running (progress N/A)\n",
      "0:14:53 Job 'j-241011ce5eb042ce81b3ddff287777a8': running (progress N/A)\n",
      "0:15:54 Job 'j-241011ce5eb042ce81b3ddff287777a8': running (progress N/A)\n",
      "0:16:54 Job 'j-241011ce5eb042ce81b3ddff287777a8': running (progress N/A)\n",
      "0:17:54 Job 'j-241011ce5eb042ce81b3ddff287777a8': finished (progress 100%)\n"
     ]
    },
    {
     "name": "stderr",
     "output_type": "stream",
     "text": [
      "INFO:openeo.rest.job:Downloading Job result asset 'cropland-raw_2020-01-01Z.tif' from https://openeo.creo.vito.be/openeo/jobs/j-241011ce5eb042ce81b3ddff287777a8/results/assets/ZGNjYWI2ZDktODQ2Yy00OGE5LTlkOTQtNDk3MTQ2Y2IyMjg1/b16fc6f8a948dbabb9f874e121a80de7/cropland-raw_2020-01-01Z.tif?expires=1729240001 to /home/jeroendegerickx/git/worldcereal/worldcereal-classification/CROPTYPE_test/cropland-raw_2020-01-01Z.tif\n",
      "INFO:openeo.rest.job:Downloading Job result asset 'croptype-raw_2020-01-01Z.tif' from https://openeo.creo.vito.be/openeo/jobs/j-241011ce5eb042ce81b3ddff287777a8/results/assets/ZGNjYWI2ZDktODQ2Yy00OGE5LTlkOTQtNDk3MTQ2Y2IyMjg1/d6e7fe06afdefd8cc62f82a1c5caf1b4/croptype-raw_2020-01-01Z.tif?expires=1729240001 to /home/jeroendegerickx/git/worldcereal/worldcereal-classification/CROPTYPE_test/croptype-raw_2020-01-01Z.tif\n",
      "INFO:openeo.rest.job:Downloading Job result asset 'croptype_2020-01-01Z.tif' from https://openeo.creo.vito.be/openeo/jobs/j-241011ce5eb042ce81b3ddff287777a8/results/assets/ZGNjYWI2ZDktODQ2Yy00OGE5LTlkOTQtNDk3MTQ2Y2IyMjg1/d9ab1cb23caa3d2d2ac352faba7122fd/croptype_2020-01-01Z.tif?expires=1729240001 to /home/jeroendegerickx/git/worldcereal/worldcereal-classification/CROPTYPE_test/croptype_2020-01-01Z.tif\n"
     ]
    }
   ],
   "source": [
    "from worldcereal.job import WorldCerealProductType, generate_map, CropTypeParameters\n",
    "\n",
    "# Initializes default parameters\n",
    "parameters = CropTypeParameters()\n",
    "\n",
    "# Change the URL to your custom classification model\n",
    "parameters.classifier_parameters.classifier_url = model_url\n",
    "parameters.save_mask = save_mask\n",
    "\n",
    "# Get processing period and area\n",
    "processing_period = slider.get_processing_period()\n",
    "processing_extent = map.get_processing_extent()\n",
    "\n",
    "# Launch the job\n",
    "job_results = generate_map(\n",
    "    processing_extent,\n",
    "    processing_period,\n",
    "    output_dir=output_dir,\n",
    "    product_type=WorldCerealProductType.CROPTYPE,\n",
    "    croptype_parameters=parameters,\n",
    "    postprocess_parameters=postprocess_parameters,\n",
    ")"
   ]
  },
  {
   "cell_type": "markdown",
   "metadata": {},
   "source": [
    "The classification results will be automatically downloaded to your output_dir in .tif format.\n",
    "By default, OpenEO stores the class labels, confidence score and class probabilities in one file.\n",
    "\n",
    "Using the function below, we split this information into separate .tif files, thereby adding metadata and a color map, to ease interpretation and visualization:\n",
    "- \"xxx_classification_start-date_end-date.tif\" --> contains the classification labels. A class look-up table is included in the .tif metadata.\n",
    "- \"xxx_confidence_start-date_end-date.tif\" -->  contains the probability associated to the prediction [0 - 100]\n",
    "\n",
    "In case you chose to store the original per-class probabilities, these are NOT written to a separate file and need to be consulted in the original result downloaded from OpenEO."
   ]
  },
  {
   "cell_type": "code",
   "execution_count": 18,
   "metadata": {},
   "outputs": [
    {
     "name": "stderr",
     "output_type": "stream",
     "text": [
      "WARNING:rasterio._env:CPLE_AppDefined in /home/jeroendegerickx/git/worldcereal/worldcereal-classification/CROPTYPE_test/cropland-raw_2020-01-01Z.tif: /home/jeroendegerickx/git/worldcereal/worldcereal-classification/CROPTYPE_test/cropland-raw_2020-01-01Z.tif:Nonstandard tile width 100, convert file\n",
      "WARNING:rasterio._env:CPLE_AppDefined in /home/jeroendegerickx/git/worldcereal/worldcereal-classification/CROPTYPE_test/cropland-raw_2020-01-01Z.tif: /home/jeroendegerickx/git/worldcereal/worldcereal-classification/CROPTYPE_test/cropland-raw_2020-01-01Z.tif:Nonstandard tile length 100, convert file\n",
      "WARNING:rasterio._env:CPLE_AppDefined in /home/jeroendegerickx/git/worldcereal/worldcereal-classification/CROPTYPE_test/cropland-raw_2020-01-01Z.tif: TIFFReadDirectory:Sum of Photometric type-related color channels and ExtraSamples doesn't match SamplesPerPixel. Defining non-color channels as ExtraSamples.\n",
      "WARNING:rasterio._env:CPLE_AppDefined in /home/jeroendegerickx/git/worldcereal/worldcereal-classification/CROPTYPE_test/cropland-raw_2020-01-01Z.tif:Nonstandard tile width 100, convert file\n",
      "WARNING:rasterio._env:CPLE_AppDefined in /home/jeroendegerickx/git/worldcereal/worldcereal-classification/CROPTYPE_test/cropland-raw_2020-01-01Z.tif:Nonstandard tile length 100, convert file\n",
      "WARNING:rasterio._env:CPLE_AppDefined in TIFFReadDirectory:Sum of Photometric type-related color channels and ExtraSamples doesn't match SamplesPerPixel. Defining non-color channels as ExtraSamples.\n",
      "INFO:rasterio._env:GDAL signalled an error: err_no=1, msg='TIFFSetField:/home/jeroendegerickx/git/worldcereal/worldcereal-classification/CROPTYPE_test/cropland-raw_classification_20200901_20210831.tif: Cannot modify tag \"PhotometricInterpretation\" while writing'\n",
      "INFO:rasterio._env:GDAL signalled an error: err_no=1, msg='TIFFSetField:/home/jeroendegerickx/git/worldcereal/worldcereal-classification/CROPTYPE_test/cropland-raw_confidence_20200901_20210831.tif: Cannot modify tag \"PhotometricInterpretation\" while writing'\n",
      "WARNING:rasterio._env:CPLE_AppDefined in /home/jeroendegerickx/git/worldcereal/worldcereal-classification/CROPTYPE_test/croptype-raw_2020-01-01Z.tif: /home/jeroendegerickx/git/worldcereal/worldcereal-classification/CROPTYPE_test/croptype-raw_2020-01-01Z.tif:Nonstandard tile width 100, convert file\n",
      "WARNING:rasterio._env:CPLE_AppDefined in /home/jeroendegerickx/git/worldcereal/worldcereal-classification/CROPTYPE_test/croptype-raw_2020-01-01Z.tif: /home/jeroendegerickx/git/worldcereal/worldcereal-classification/CROPTYPE_test/croptype-raw_2020-01-01Z.tif:Nonstandard tile length 100, convert file\n",
      "WARNING:rasterio._env:CPLE_AppDefined in /home/jeroendegerickx/git/worldcereal/worldcereal-classification/CROPTYPE_test/croptype-raw_2020-01-01Z.tif: TIFFReadDirectory:Sum of Photometric type-related color channels and ExtraSamples doesn't match SamplesPerPixel. Defining non-color channels as ExtraSamples.\n",
      "WARNING:rasterio._env:CPLE_AppDefined in /home/jeroendegerickx/git/worldcereal/worldcereal-classification/CROPTYPE_test/croptype-raw_2020-01-01Z.tif:Nonstandard tile width 100, convert file\n",
      "WARNING:rasterio._env:CPLE_AppDefined in /home/jeroendegerickx/git/worldcereal/worldcereal-classification/CROPTYPE_test/croptype-raw_2020-01-01Z.tif:Nonstandard tile length 100, convert file\n",
      "WARNING:rasterio._env:CPLE_AppDefined in TIFFReadDirectory:Sum of Photometric type-related color channels and ExtraSamples doesn't match SamplesPerPixel. Defining non-color channels as ExtraSamples.\n",
      "\u001b[32m2024-10-11 13:11:00.130\u001b[0m | \u001b[1mINFO    \u001b[0m | \u001b[36mutils\u001b[0m:\u001b[36m_get_colormap\u001b[0m:\u001b[36m432\u001b[0m - \u001b[1mAssigning random color map for product croptype. \u001b[0m\n",
      "INFO:rasterio._env:GDAL signalled an error: err_no=1, msg='TIFFSetField:/home/jeroendegerickx/git/worldcereal/worldcereal-classification/CROPTYPE_test/croptype-raw_classification_20200901_20210831.tif: Cannot modify tag \"PhotometricInterpretation\" while writing'\n",
      "INFO:rasterio._env:GDAL signalled an error: err_no=1, msg='TIFFSetField:/home/jeroendegerickx/git/worldcereal/worldcereal-classification/CROPTYPE_test/croptype-raw_confidence_20200901_20210831.tif: Cannot modify tag \"PhotometricInterpretation\" while writing'\n",
      "WARNING:rasterio._env:CPLE_AppDefined in /home/jeroendegerickx/git/worldcereal/worldcereal-classification/CROPTYPE_test/croptype_2020-01-01Z.tif: /home/jeroendegerickx/git/worldcereal/worldcereal-classification/CROPTYPE_test/croptype_2020-01-01Z.tif:Nonstandard tile width 100, convert file\n",
      "WARNING:rasterio._env:CPLE_AppDefined in /home/jeroendegerickx/git/worldcereal/worldcereal-classification/CROPTYPE_test/croptype_2020-01-01Z.tif: /home/jeroendegerickx/git/worldcereal/worldcereal-classification/CROPTYPE_test/croptype_2020-01-01Z.tif:Nonstandard tile length 100, convert file\n",
      "WARNING:rasterio._env:CPLE_AppDefined in /home/jeroendegerickx/git/worldcereal/worldcereal-classification/CROPTYPE_test/croptype_2020-01-01Z.tif: TIFFReadDirectory:Sum of Photometric type-related color channels and ExtraSamples doesn't match SamplesPerPixel. Defining non-color channels as ExtraSamples.\n",
      "WARNING:rasterio._env:CPLE_AppDefined in /home/jeroendegerickx/git/worldcereal/worldcereal-classification/CROPTYPE_test/croptype_2020-01-01Z.tif:Nonstandard tile width 100, convert file\n",
      "WARNING:rasterio._env:CPLE_AppDefined in /home/jeroendegerickx/git/worldcereal/worldcereal-classification/CROPTYPE_test/croptype_2020-01-01Z.tif:Nonstandard tile length 100, convert file\n",
      "WARNING:rasterio._env:CPLE_AppDefined in TIFFReadDirectory:Sum of Photometric type-related color channels and ExtraSamples doesn't match SamplesPerPixel. Defining non-color channels as ExtraSamples.\n",
      "INFO:rasterio._env:GDAL signalled an error: err_no=1, msg='TIFFSetField:/home/jeroendegerickx/git/worldcereal/worldcereal-classification/CROPTYPE_test/croptype_classification_20200901_20210831.tif: Cannot modify tag \"PhotometricInterpretation\" while writing'\n",
      "INFO:rasterio._env:GDAL signalled an error: err_no=1, msg='TIFFSetField:/home/jeroendegerickx/git/worldcereal/worldcereal-classification/CROPTYPE_test/croptype_confidence_20200901_20210831.tif: Cannot modify tag \"PhotometricInterpretation\" while writing'\n"
     ]
    },
    {
     "name": "stdout",
     "output_type": "stream",
     "text": [
      "{'cropland-raw': {'classification': PosixPath('/home/jeroendegerickx/git/worldcereal/worldcereal-classification/CROPTYPE_test/cropland-raw_classification_20200901_20210831.tif'), 'confidence': PosixPath('/home/jeroendegerickx/git/worldcereal/worldcereal-classification/CROPTYPE_test/cropland-raw_confidence_20200901_20210831.tif')}, 'croptype-raw': {'classification': PosixPath('/home/jeroendegerickx/git/worldcereal/worldcereal-classification/CROPTYPE_test/croptype-raw_classification_20200901_20210831.tif'), 'confidence': PosixPath('/home/jeroendegerickx/git/worldcereal/worldcereal-classification/CROPTYPE_test/croptype-raw_confidence_20200901_20210831.tif')}, 'croptype': {'classification': PosixPath('/home/jeroendegerickx/git/worldcereal/worldcereal-classification/CROPTYPE_test/croptype_classification_20200901_20210831.tif'), 'confidence': PosixPath('/home/jeroendegerickx/git/worldcereal/worldcereal-classification/CROPTYPE_test/croptype_confidence_20200901_20210831.tif')}}\n"
     ]
    }
   ],
   "source": [
    "from utils import prepare_visualization\n",
    "\n",
    "rasters = prepare_visualization(job_results, processing_period)\n",
    "print(rasters)"
   ]
  },
  {
   "cell_type": "code",
   "execution_count": 17,
   "metadata": {},
   "outputs": [
    {
     "data": {
      "text/plain": [
       "InferenceResults(job_id='j-241011ce5eb042ce81b3ddff287777a8', products={'cropland-raw': {'url': 'https://openeo.creo.vito.be/openeo/jobs/j-241011ce5eb042ce81b3ddff287777a8/results/assets/ZGNjYWI2ZDktODQ2Yy00OGE5LTlkOTQtNDk3MTQ2Y2IyMjg1/b16fc6f8a948dbabb9f874e121a80de7/cropland-raw_2020-01-01Z.tif?expires=1729240001', 'type': <WorldCerealProductType.CROPLAND: 'cropland'>, 'path': PosixPath('/home/jeroendegerickx/git/worldcereal/worldcereal-classification/CROPTYPE_test/cropland-raw_2020-01-01Z.tif'), 'lut': {0: 0, 1: 1}}, 'croptype-raw': {'url': 'https://openeo.creo.vito.be/openeo/jobs/j-241011ce5eb042ce81b3ddff287777a8/results/assets/ZGNjYWI2ZDktODQ2Yy00OGE5LTlkOTQtNDk3MTQ2Y2IyMjg1/d6e7fe06afdefd8cc62f82a1c5caf1b4/croptype-raw_2020-01-01Z.tif?expires=1729240001', 'type': <WorldCerealProductType.CROPTYPE: 'croptype'>, 'path': PosixPath('/home/jeroendegerickx/git/worldcereal/worldcereal-classification/CROPTYPE_test/croptype-raw_2020-01-01Z.tif'), 'lut': {'other': 0, 'rapeseed_rape': 1, 'unspecified_barley': 2, 'unspecified_wheat': 3}}, 'croptype': {'url': 'https://openeo.creo.vito.be/openeo/jobs/j-241011ce5eb042ce81b3ddff287777a8/results/assets/ZGNjYWI2ZDktODQ2Yy00OGE5LTlkOTQtNDk3MTQ2Y2IyMjg1/d9ab1cb23caa3d2d2ac352faba7122fd/croptype_2020-01-01Z.tif?expires=1729240001', 'type': <WorldCerealProductType.CROPTYPE: 'croptype'>, 'path': PosixPath('/home/jeroendegerickx/git/worldcereal/worldcereal-classification/CROPTYPE_test/croptype_2020-01-01Z.tif'), 'lut': {'other': 0, 'rapeseed_rape': 1, 'unspecified_barley': 2, 'unspecified_wheat': 3}}}, metadata=PosixPath('/home/jeroendegerickx/git/worldcereal/worldcereal-classification/CROPTYPE_test/job-results.json'))"
      ]
     },
     "execution_count": 17,
     "metadata": {},
     "output_type": "execute_result"
    }
   ],
   "source": [
    "job_results"
   ]
  },
  {
   "cell_type": "markdown",
   "metadata": {},
   "source": [
    "The resulting raster files can be visualized in QGIS, or using the function in the cell below..."
   ]
  },
  {
   "cell_type": "code",
   "execution_count": null,
   "metadata": {},
   "outputs": [],
   "source": [
    "from utils import visualize_products\n",
    "\n",
    "visualize_products(rasters, port=8889)"
   ]
  },
  {
   "cell_type": "markdown",
   "metadata": {},
   "source": [
    "Finally, use the cell below to visualize the look-up table for the classification product."
   ]
  },
  {
   "cell_type": "code",
   "execution_count": null,
   "metadata": {},
   "outputs": [],
   "source": [
    "from utils import show_color_legend\n",
    "\n",
    "show_color_legend(rasters, \"croptype\")"
   ]
  }
 ],
 "metadata": {
  "kernelspec": {
   "display_name": "worldcereal",
   "language": "python",
   "name": "python3"
  },
  "language_info": {
   "codemirror_mode": {
    "name": "ipython",
    "version": 3
   },
   "file_extension": ".py",
   "mimetype": "text/x-python",
   "name": "python",
   "nbconvert_exporter": "python",
   "pygments_lexer": "ipython3",
   "version": "3.10.0"
  }
 },
 "nbformat": 4,
 "nbformat_minor": 2
}
