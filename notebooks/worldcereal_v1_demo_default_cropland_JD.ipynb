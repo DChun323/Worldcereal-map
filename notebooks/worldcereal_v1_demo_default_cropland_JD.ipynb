{
 "cells": [
  {
   "cell_type": "markdown",
   "metadata": {},
   "source": [
    "![](./resources/System_v1_temporary_crops.png)"
   ]
  },
  {
   "cell_type": "markdown",
   "metadata": {},
   "source": [
    "This notebook contains a short demo on how to use the WorldCereal system to generate a temporary crop extent map for your area and season of interest.\n",
    "The map is generated using a default model trained by the WorldCereal consortium to distinguish temporary crops from all other land use.\n",
    "\n",
    "Please note that for the purpose of this demo, the processing area is currently limited to 250 km² per model run."
   ]
  },
  {
   "cell_type": "markdown",
   "metadata": {},
   "source": [
    "### Content\n",
    "  \n",
    "- [Before you start](###-Before-you-start)\n",
    "- [1. Define your region of interest](#1.-Define-your-region-of-interest)\n",
    "- [2. Define your year of interest](#2.-Define-your-year-of-interest)\n",
    "- [3. Set some other options](#3.-Set-some-other-options)\n",
    "- [4. Generate your map](#2.-Generate-your-map)"
   ]
  },
  {
   "cell_type": "markdown",
   "metadata": {},
   "source": [
    "### Before you start\n",
    "\n",
    "In order to run this notebook, you need to create an account on the Copernicus Data Space Ecosystem,\n",
    "by completing the form [HERE](https://identity.dataspace.copernicus.eu/auth/realms/CDSE/login-actions/registration?client_id=cdse-public&tab_id=eRKGqDvoYI0)."
   ]
  },
  {
   "cell_type": "code",
   "execution_count": 1,
   "metadata": {},
   "outputs": [],
   "source": [
    "# TEMPORARY CELL\n",
    "\n",
    "import sys\n",
    "sys.path.append('/home/jeroendegerickx/git/worldcereal/worldcereal-classification/notebooks')\n",
    "%load_ext autoreload\n",
    "%autoreload 2"
   ]
  },
  {
   "cell_type": "markdown",
   "metadata": {},
   "source": [
    "### 1. Define your region of interest\n",
    "\n",
    "When running the code snippet below, an interactive map will be visualized. Click the Rectangle button on the left hand side of the map to start drawing your region of interest. When finished, execute the second cell to store the coordinates of your region of interest.\n",
    "\n",
    "In case your region exceeds the 250 km² limit, you will be asked to draw again."
   ]
  },
  {
   "cell_type": "code",
   "execution_count": 2,
   "metadata": {},
   "outputs": [
    {
     "data": {
      "application/vnd.jupyter.widget-view+json": {
       "model_id": "3531212abca54666981d84cea6fd74fb",
       "version_major": 2,
       "version_minor": 0
      },
      "text/plain": [
       "Map(center=[51.1872, 5.1154], controls=(ZoomControl(options=['position', 'zoom_in_text', 'zoom_in_title', 'zoo…"
      ]
     },
     "execution_count": 2,
     "metadata": {},
     "output_type": "execute_result"
    }
   ],
   "source": [
    "from worldcereal.utils.map import get_ui_map\n",
    "\n",
    "m, dc = get_ui_map()\n",
    "m"
   ]
  },
  {
   "cell_type": "code",
   "execution_count": 3,
   "metadata": {},
   "outputs": [
    {
     "name": "stderr",
     "output_type": "stream",
     "text": [
      "\u001b[32m2024-10-09 00:02:04.893\u001b[0m | \u001b[1mINFO    \u001b[0m | \u001b[36mworldcereal.utils.map\u001b[0m:\u001b[36mget_bbox_from_draw\u001b[0m:\u001b[36m464\u001b[0m - \u001b[1mYour area of interest: (0.87204, 51.866316, 1.035461, 51.935799)\u001b[0m\n"
     ]
    },
    {
     "name": "stderr",
     "output_type": "stream",
     "text": [
      "\u001b[32m2024-10-09 00:02:04.976\u001b[0m | \u001b[1mINFO    \u001b[0m | \u001b[36mworldcereal.utils.map\u001b[0m:\u001b[36mget_bbox_from_draw\u001b[0m:\u001b[36m470\u001b[0m - \u001b[1mArea of processing extent: 92.16 km²\u001b[0m\n"
     ]
    }
   ],
   "source": [
    "# retrieve bounding box from drawn rectangle\n",
    "from worldcereal.utils.map import get_bbox_from_draw\n",
    "\n",
    "spatial_extent, bbox, poly = get_bbox_from_draw(dc)"
   ]
  },
  {
   "cell_type": "markdown",
   "metadata": {},
   "source": [
    "### 2. Define your year of interest\n",
    "\n",
    "The default WorldCereal temporary crop model always uses a time series of exactly one year as input for the model.\n",
    "\n",
    "However, instead of just using a calendar year (January 1st - December 31st), we recommend to define the exact start and end date of your time series, or processing period, based on the timing of the local growing seasons.\n",
    "\n",
    "Take the following example for Western Europe, where we typically have a winter season (s1) and summer season (s2):\n",
    "\n",
    "<div>\n",
    "<img src=\"./resources/Cropland_inference_choose_end_date.png\" width=\"500\"/>\n",
    "</div>\n",
    "\n",
    "\n",
    "The best timing to start and end the time series in this case would be October (green vertical line), as for both seasons this would result in nicely capturing the growing season within the time series. It would not make sense in this case to define the year from June to June (red vertical line), as you will miss the start of the summer season and the end of the winter season in your time series.\n",
    "\n",
    "So if you would like to map temporary crops in Western Europe for the year 2021, we would recommend to define your processing period as October 1st 2020 - September 30th 2021.\n",
    "\n",
    "In case you do not know the typical seasonality of crops in your area of interest, you can consult the WorldCereal crop calendars using the function below:"
   ]
  },
  {
   "cell_type": "code",
   "execution_count": 4,
   "metadata": {},
   "outputs": [
    {
     "data": {
      "image/png": "[encoded data removed]",
      "text/plain": [
       "<Figure size 640x480 with 1 Axes>"
      ]
     },
     "metadata": {},
     "output_type": "display_data"
    }
   ],
   "source": [
    "from utils import retrieve_worldcereal_seasons\n",
    "\n",
    "seasons = retrieve_worldcereal_seasons(spatial_extent)"
   ]
  },
  {
   "cell_type": "markdown",
   "metadata": {},
   "source": [
    "Based on your knowledge of the seasons in your area of interest, use the slider below to define your desired processing period:"
   ]
  },
  {
   "cell_type": "code",
   "execution_count": 16,
   "metadata": {},
   "outputs": [
    {
     "data": {
      "text/plain": [
       "False"
      ]
     },
     "execution_count": 16,
     "metadata": {},
     "output_type": "execute_result"
    }
   ],
   "source": [
    "import datetime\n",
    "import pandas as pd\n",
    "import calendar\n",
    "\n",
    "end = datetime.datetime(2020, 3 , 2)\n",
    "start = datetime.datetime(2019, 3, 1)\n",
    "# (end - start) / pd.DateOffset(years=1)\n",
    "# (end - start).days\n",
    "ndays = 365\n",
    "if calendar.isleap(start.year):\n",
    "    if start <= pd.to_datetime(f\"{start.year}-02-28\") < end:\n",
    "        ndays = 366\n",
    "if calendar.isleap(end.year):\n",
    "    if start < pd.to_datetime(f\"{end.year}-02-28\") <= end:\n",
    "        ndays = 366\n",
    "ndays\n",
    "\n",
    "expected_end = start + pd.DateOffset(months=12)\n",
    "expected_end == end\n",
    "        \n",
    "    "
   ]
  },
  {
   "cell_type": "code",
   "execution_count": 17,
   "metadata": {},
   "outputs": [
    {
     "data": {
      "application/vnd.jupyter.widget-view+json": {
       "model_id": "c5821f4dc88b43e2b1c10834b29fac53",
       "version_major": 2,
       "version_minor": 0
      },
      "text/plain": [
       "SelectionRangeSlider(continuous_update=False, index=(0, 12), layout=Layout(height='100px', margin='auto', widt…"
      ]
     },
     "execution_count": 17,
     "metadata": {},
     "output_type": "execute_result"
    }
   ],
   "source": [
    "from utils import date_slider\n",
    "\n",
    "slider = date_slider()\n",
    "slider.get_slider()"
   ]
  },
  {
   "cell_type": "code",
   "execution_count": 21,
   "metadata": {},
   "outputs": [
    {
     "name": "stdout",
     "output_type": "stream",
     "text": [
      "Selected processing period: 2019-03-01 to 2020-02-29\n"
     ]
    }
   ],
   "source": [
    "processing_period = slider.get_processing_period()"
   ]
  },
  {
   "cell_type": "markdown",
   "metadata": {},
   "source": [
    "### 3. Set some other options"
   ]
  },
  {
   "cell_type": "code",
   "execution_count": 7,
   "metadata": {},
   "outputs": [],
   "source": [
    "# Choose whether or not you want to spatially clean the classification results\n",
    "postprocess_result = True\n",
    "# In case you chose to activate spatial cleaning, choose whether or not you also want to see the original model predictions before cleaning\n",
    "save_intermediate_results = True\n",
    "# Specify the local directory where the resulting maps should be downloaded to.\n",
    "# If left unchanged, the maps will be downloaded to the current working directory.\n",
    "output_dir = '.'"
   ]
  },
  {
   "cell_type": "markdown",
   "metadata": {},
   "source": [
    "### 4. Generate your map"
   ]
  },
  {
   "cell_type": "code",
   "execution_count": 8,
   "metadata": {},
   "outputs": [
    {
     "name": "stdout",
     "output_type": "stream",
     "text": [
      "Authenticated using refresh token.\n"
     ]
    },
    {
     "name": "stderr",
     "output_type": "stream",
     "text": [
      "2024-10-09 00:03:12,256 - openeo_gfmap.utils - INFO - Selected orbit state: DESCENDING. Reason: Orbit has more cumulative intersected area. 7.587834614588888 > 7.054985203302894\n",
      "WARNING:PrestoFeatureExtractor:No additional dependencies are defined. If you wish to add dependencies to your feature extractor, override the `dependencies` method in your class.\n"
     ]
    },
    {
     "name": "stdout",
     "output_type": "stream",
     "text": [
      "0:00:00 Job 'j-241008b65c7a42beaf661b77c9a17e21': send 'start'\n",
      "0:00:23 Job 'j-241008b65c7a42beaf661b77c9a17e21': created (progress 0%)\n",
      "0:00:28 Job 'j-241008b65c7a42beaf661b77c9a17e21': created (progress 0%)\n",
      "0:00:34 Job 'j-241008b65c7a42beaf661b77c9a17e21': created (progress 0%)\n",
      "0:00:42 Job 'j-241008b65c7a42beaf661b77c9a17e21': created (progress 0%)\n",
      "0:00:52 Job 'j-241008b65c7a42beaf661b77c9a17e21': running (progress N/A)\n",
      "0:01:05 Job 'j-241008b65c7a42beaf661b77c9a17e21': running (progress N/A)\n",
      "0:01:20 Job 'j-241008b65c7a42beaf661b77c9a17e21': running (progress N/A)\n",
      "0:01:40 Job 'j-241008b65c7a42beaf661b77c9a17e21': running (progress N/A)\n",
      "0:02:07 Job 'j-241008b65c7a42beaf661b77c9a17e21': running (progress N/A)\n",
      "0:02:37 Job 'j-241008b65c7a42beaf661b77c9a17e21': running (progress N/A)\n",
      "0:03:14 Job 'j-241008b65c7a42beaf661b77c9a17e21': running (progress N/A)\n",
      "0:04:03 Job 'j-241008b65c7a42beaf661b77c9a17e21': running (progress N/A)\n",
      "0:05:02 Job 'j-241008b65c7a42beaf661b77c9a17e21': running (progress N/A)\n",
      "0:06:02 Job 'j-241008b65c7a42beaf661b77c9a17e21': running (progress N/A)\n",
      "0:07:02 Job 'j-241008b65c7a42beaf661b77c9a17e21': running (progress N/A)\n",
      "0:08:03 Job 'j-241008b65c7a42beaf661b77c9a17e21': running (progress N/A)\n",
      "0:09:03 Job 'j-241008b65c7a42beaf661b77c9a17e21': running (progress N/A)\n",
      "0:10:03 Job 'j-241008b65c7a42beaf661b77c9a17e21': running (progress N/A)\n",
      "0:11:03 Job 'j-241008b65c7a42beaf661b77c9a17e21': running (progress N/A)\n",
      "0:12:04 Job 'j-241008b65c7a42beaf661b77c9a17e21': running (progress N/A)\n",
      "0:13:04 Job 'j-241008b65c7a42beaf661b77c9a17e21': running (progress N/A)\n",
      "0:14:04 Job 'j-241008b65c7a42beaf661b77c9a17e21': running (progress N/A)\n",
      "0:15:05 Job 'j-241008b65c7a42beaf661b77c9a17e21': running (progress N/A)\n",
      "0:16:05 Job 'j-241008b65c7a42beaf661b77c9a17e21': running (progress N/A)\n",
      "0:17:05 Job 'j-241008b65c7a42beaf661b77c9a17e21': running (progress N/A)\n",
      "0:18:14 Job 'j-241008b65c7a42beaf661b77c9a17e21': running (progress N/A)\n",
      "0:19:14 Job 'j-241008b65c7a42beaf661b77c9a17e21': running (progress N/A)\n",
      "0:20:14 Job 'j-241008b65c7a42beaf661b77c9a17e21': running (progress N/A)\n",
      "0:21:15 Job 'j-241008b65c7a42beaf661b77c9a17e21': finished (progress 100%)\n"
     ]
    },
    {
     "name": "stderr",
     "output_type": "stream",
     "text": [
      "INFO:openeo.rest.job:Downloading Job result asset 'cropland-cleaned_2020-01-01Z.tif' from https://openeo.creo.vito.be/openeo/jobs/j-241008b65c7a42beaf661b77c9a17e21/results/assets/ZGNjYWI2ZDktODQ2Yy00OGE5LTlkOTQtNDk3MTQ2Y2IyMjg1/25d43e6cdf1524f7004c2750e6888c2a/cropland-cleaned_2020-01-01Z.tif?expires=1729031080 to cropland-cleaned_2020-01-01Z.tif\n",
      "INFO:openeo.rest.job:Downloading Job result asset 'cropland-raw_2020-01-01Z.tif' from https://openeo.creo.vito.be/openeo/jobs/j-241008b65c7a42beaf661b77c9a17e21/results/assets/ZGNjYWI2ZDktODQ2Yy00OGE5LTlkOTQtNDk3MTQ2Y2IyMjg1/5bdff4252b952765cf8c1bafbb88704a/cropland-raw_2020-01-01Z.tif?expires=1729031080 to cropland-raw_2020-01-01Z.tif\n"
     ]
    }
   ],
   "source": [
    "from worldcereal.job import generate_map, PostprocessParameters\n",
    "\n",
    "# Launch the job on CDSE through OpenEO\n",
    "results = generate_map(\n",
    "    spatial_extent,\n",
    "    processing_period,\n",
    "    output_dir=output_dir,\n",
    "    postprocess_parameters=PostprocessParameters(enable=postprocess_result,\n",
    "                                                 save_intermediate=save_intermediate_results),\n",
    ")"
   ]
  },
  {
   "cell_type": "code",
   "execution_count": 9,
   "metadata": {},
   "outputs": [
    {
     "data": {
      "text/plain": [
       "{'cropland-cleaned': {'url': 'https://openeo.creo.vito.be/openeo/jobs/j-241008b65c7a42beaf661b77c9a17e21/results/assets/ZGNjYWI2ZDktODQ2Yy00OGE5LTlkOTQtNDk3MTQ2Y2IyMjg1/25d43e6cdf1524f7004c2750e6888c2a/cropland-cleaned_2020-01-01Z.tif?expires=1729031080',\n",
       "  'type': <WorldCerealProductType.CROPLAND: 'cropland'>,\n",
       "  'path': PosixPath('cropland-cleaned_2020-01-01Z.tif')},\n",
       " 'cropland-raw': {'url': 'https://openeo.creo.vito.be/openeo/jobs/j-241008b65c7a42beaf661b77c9a17e21/results/assets/ZGNjYWI2ZDktODQ2Yy00OGE5LTlkOTQtNDk3MTQ2Y2IyMjg1/5bdff4252b952765cf8c1bafbb88704a/cropland-raw_2020-01-01Z.tif?expires=1729031080',\n",
       "  'type': <WorldCerealProductType.CROPLAND: 'cropland'>,\n",
       "  'path': PosixPath('cropland-raw_2020-01-01Z.tif')}}"
      ]
     },
     "execution_count": 9,
     "metadata": {},
     "output_type": "execute_result"
    }
   ],
   "source": [
    "results.products"
   ]
  },
  {
   "cell_type": "code",
   "execution_count": null,
   "metadata": {},
   "outputs": [],
   "source": [
    "# Add section where user can check the availability of cropland reference data!"
   ]
  }
 ],
 "metadata": {
  "kernelspec": {
   "display_name": "worldcereal",
   "language": "python",
   "name": "python3"
  },
  "language_info": {
   "codemirror_mode": {
    "name": "ipython",
    "version": 3
   },
   "file_extension": ".py",
   "mimetype": "text/x-python",
   "name": "python",
   "nbconvert_exporter": "python",
   "pygments_lexer": "ipython3",
   "version": "3.10.0"
  }
 },
 "nbformat": 4,
 "nbformat_minor": 2
}
