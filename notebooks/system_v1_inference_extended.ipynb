{
 "cells": [
  {
   "cell_type": "markdown",
   "metadata": {},
   "source": [
    "![](./resources/System_v1_inference_header.png)"
   ]
  },
  {
   "cell_type": "markdown",
   "metadata": {},
   "source": [
    "This notebook contains a short demo on how to use the WorldCereal system to generate a temporary crop extent and crop type map, using default models trained by the WorldCereal consortium.\n",
    "\n",
    "# Content\n",
    "\n",
    "- [Before you start](#before-you-start)\n",
    "- [1. Define region of interest](#1.-Define-a-region-of-interest)\n",
    "- [2. Generate default temporary crop extent product](#2.-Generate-default-temporary-crop-extent-product)\n",
    "- [3. Generate default crop type product](#3.-Generate-default-crop-type-product)\n",
    "- [4. Explore available reference data](#4.-Explore-available-reference-data)"
   ]
  },
  {
   "cell_type": "code",
   "execution_count": 4,
   "metadata": {},
   "outputs": [],
   "source": [
    "%load_ext autoreload\n",
    "%autoreload 2"
   ]
  },
  {
   "cell_type": "markdown",
   "metadata": {},
   "source": [
    "# Before you start\n",
    "\n",
    "In order to run this notebook, you need to create an account on the Copernicus Data Space Ecosystem,\n",
    "by completing the form [HERE](https://identity.dataspace.copernicus.eu/auth/realms/CDSE/login-actions/registration?client_id=cdse-public&tab_id=eRKGqDvoYI0).\n"
   ]
  },
  {
   "cell_type": "code",
   "execution_count": 1,
   "metadata": {},
   "outputs": [],
   "source": [
    "# First we import the necessary modules to run this notebook\n",
    "\n",
    "from pathlib import Path\n",
    "\n",
    "from worldcereal.utils.map import (\n",
    "    get_ui_map,\n",
    "    get_bbox_from_draw,\n",
    "    visualize_products,\n",
    "    postprocess_product,\n",
    "    show_color_legend,\n",
    ")\n",
    "from worldcereal.job import generate_map, WorldCerealProduct\n",
    "from worldcereal.seasons import get_processing_dates_for_extent\n",
    "\n",
    "OUTDIR = Path(\"/vitodata/worldcereal/test/demo-inference\")"
   ]
  },
  {
   "cell_type": "markdown",
   "metadata": {},
   "source": [
    "# 1. Define a region of interest\n",
    "\n",
    "When running the code snippet below, an interactive map will be visualized.\n",
    "Click the Rectangle button on the left hand side of the map to start drawing your region of interest.\n",
    "When finished, execute the second cell to store the coordinates of your region of interest. "
   ]
  },
  {
   "cell_type": "code",
   "execution_count": 2,
   "metadata": {},
   "outputs": [
    {
     "data": {
      "application/vnd.jupyter.widget-view+json": {
       "model_id": "2163752818c04e1aa3026dde867ca53d",
       "version_major": 2,
       "version_minor": 0
      },
      "text/plain": [
       "Map(center=[51.1872, 5.1154], controls=(ZoomControl(options=['position', 'zoom_in_text', 'zoom_in_title', 'zoo…"
      ]
     },
     "execution_count": 2,
     "metadata": {},
     "output_type": "execute_result"
    }
   ],
   "source": [
    "m, dc = get_ui_map()\n",
    "m"
   ]
  },
  {
   "cell_type": "code",
   "execution_count": 3,
   "metadata": {},
   "outputs": [
    {
     "name": "stdout",
     "output_type": "stream",
     "text": [
      "Your area of interest: (0.171003, 51.788827, 0.235183, 51.815152)\n",
      "Area of processing extent: 14.05 km²\n"
     ]
    }
   ],
   "source": [
    "# retrieve bounding box from drawn rectangle\n",
    "spatial_extent, bbox, poly = get_bbox_from_draw(dc)\n",
    "\n",
    "# TODO: relax processing area limit but raise a warning containing an estimate on processsing credits consumption for large areas?"
   ]
  },
  {
   "cell_type": "markdown",
   "metadata": {},
   "source": [
    "# 2. Generate default temporary crop extent product\n",
    "\n",
    "The temporary crops extent product is defined as a binary mask indicating the presence of temporary crops. This product is generated for a full year. The exact timing of the processing period is defined by the WorldCereal crop calendars.\n",
    "\n",
    "In the cell below we specify some input parameters (year, season, output path and product type) and then launch an OpenEO processing job which will generate our map:"
   ]
  },
  {
   "cell_type": "code",
   "execution_count": 4,
   "metadata": {},
   "outputs": [
    {
     "name": "stderr",
     "output_type": "stream",
     "text": [
      "\u001b[32m2024-07-03 15:41:15.695\u001b[0m | \u001b[1mINFO    \u001b[0m | \u001b[36mworldcereal.seasons\u001b[0m:\u001b[36mdoy_from_tiff\u001b[0m:\u001b[36m128\u001b[0m - \u001b[1mLoading DOY data from: ANNUAL_EOS_WGS84.tif\u001b[0m\n"
     ]
    },
    {
     "name": "stdout",
     "output_type": "stream",
     "text": [
      "Derived the following period for processing: 2020-11-04 00:00:00 - 2021-11-03 00:00:00\n",
      "Authenticated using refresh token.\n",
      "Selected orbit direction: DESCENDING from max accumulated area overlap between bounds and products.\n"
     ]
    },
    {
     "name": "stderr",
     "output_type": "stream",
     "text": [
      "WARNING:PrestoFeatureExtractor:No additional dependencies are defined. If you wish to add dependencies to your feature extractor, override the `dependencies` method in your class.\n"
     ]
    },
    {
     "name": "stdout",
     "output_type": "stream",
     "text": [
      "0:00:00 Job 'j-2407033b70e14102aa8161a2ba7ee045': send 'start'\n",
      "0:00:35 Job 'j-2407033b70e14102aa8161a2ba7ee045': created (progress 0%)\n",
      "0:00:40 Job 'j-2407033b70e14102aa8161a2ba7ee045': queued (progress 0%)\n",
      "0:00:51 Job 'j-2407033b70e14102aa8161a2ba7ee045': queued (progress 0%)\n",
      "0:00:59 Job 'j-2407033b70e14102aa8161a2ba7ee045': queued (progress 0%)\n",
      "0:01:10 Job 'j-2407033b70e14102aa8161a2ba7ee045': queued (progress 0%)\n",
      "0:01:23 Job 'j-2407033b70e14102aa8161a2ba7ee045': queued (progress 0%)\n",
      "0:01:46 Job 'j-2407033b70e14102aa8161a2ba7ee045': running (progress N/A)\n",
      "0:02:05 Job 'j-2407033b70e14102aa8161a2ba7ee045': running (progress N/A)\n",
      "0:02:30 Job 'j-2407033b70e14102aa8161a2ba7ee045': running (progress N/A)\n",
      "0:03:00 Job 'j-2407033b70e14102aa8161a2ba7ee045': running (progress N/A)\n",
      "0:03:38 Job 'j-2407033b70e14102aa8161a2ba7ee045': running (progress N/A)\n",
      "0:04:25 Job 'j-2407033b70e14102aa8161a2ba7ee045': running (progress N/A)\n",
      "0:05:23 Job 'j-2407033b70e14102aa8161a2ba7ee045': running (progress N/A)\n",
      "0:06:23 Job 'j-2407033b70e14102aa8161a2ba7ee045': running (progress N/A)\n",
      "0:07:25 Job 'j-2407033b70e14102aa8161a2ba7ee045': running (progress N/A)\n",
      "0:08:29 Job 'j-2407033b70e14102aa8161a2ba7ee045': running (progress N/A)\n",
      "0:09:30 Job 'j-2407033b70e14102aa8161a2ba7ee045': running (progress N/A)\n",
      "0:10:30 Job 'j-2407033b70e14102aa8161a2ba7ee045': running (progress N/A)\n",
      "0:11:30 Job 'j-2407033b70e14102aa8161a2ba7ee045': running (progress N/A)\n",
      "0:12:31 Job 'j-2407033b70e14102aa8161a2ba7ee045': running (progress N/A)\n",
      "0:13:32 Job 'j-2407033b70e14102aa8161a2ba7ee045': running (progress N/A)\n"
     ]
    }
   ],
   "source": [
    "# ---------------------------------------------\n",
    "# DEFINE INPUTS FOR GENERATING THE MAP\n",
    "\n",
    "# Our year of interest:\n",
    "year = 2021\n",
    "# The temporary crop extent product is generated once per year.\n",
    "# The processing period of this product is defined by the tc-annual season:\n",
    "season = \"tc-annual\"\n",
    "# Output path where the generated map will be stored:\n",
    "output_path = str(OUTDIR / \"test_temporal_crop.tif\")\n",
    "# Type of product to be generated. For now, we only have the choice between\n",
    "# two pre-trained models, i.e. a CROPLAND model and a CROPTYPE model.\n",
    "product_type = WorldCerealProduct.CROPLAND\n",
    "\n",
    "# ---------------------------------------------\n",
    "\n",
    "# Get the processing period for the temporary crops product\n",
    "# based on the WorldCereal crop calendars:\n",
    "temporal_extent = get_processing_dates_for_extent(spatial_extent, year, season)\n",
    "\n",
    "# check whether we have a valid spatial extent\n",
    "if spatial_extent is None:\n",
    "    raise ValueError(\"Please first select a processing area using the cells above.\")\n",
    "\n",
    "# We call the function to generate the map on the CDSE backend using OpenEO.\n",
    "# Note that if we do not specify a \"product_type\" in the arguments of the\n",
    "# generate_map function, the temporary crops product will be generated based on\n",
    "# the default model as provided by the WorldCereal consortium.\n",
    "# When output path is specified, the results will be automatically downloaded to the\n",
    "# specified location.\n",
    "Path(output_path).parent.mkdir(parents=True, exist_ok=True)\n",
    "results = generate_map(\n",
    "    spatial_extent, temporal_extent, output_path=output_path, product_type=product_type\n",
    ")\n",
    "\n",
    "# check content of \"results\"\n",
    "print(\"----------------------------------\")\n",
    "print(f\"OpenEO job ID: {results.job_id}\")\n",
    "print(f\"URL to download the map product: {results.product_url}\")"
   ]
  },
  {
   "cell_type": "markdown",
   "metadata": {},
   "source": [
    "After the OpenEO processing job ends, we get to see the OpenEO job ID of the processing job in which our map has been generated and also a direct download link to get access to our generated map. You can login to the [OpenEO web editor](https://openeo.dataspace.copernicus.eu/) on the Copernicus Data Space Ecosystem, and, using the job ID, retrieve more information about this processing job (logs, metadata and direct access to the generated product).\n",
    "\n",
    "The resulting map will be written to disk (specified by output_path).\n",
    "There are three options to visualize the product:\n",
    "- using the code cell below, we visualize the output directly in this notebook.\n",
    "- visualize the map directly through the [OpenEO web editor](https://openeo.dataspace.copernicus.eu/). After logging in, look for the processing job that was used to generate the map (use the job ID) and click the \"View results\" button for direct visualization.\n",
    "- visualize the downloaded product in QGIS locally."
   ]
  },
  {
   "cell_type": "code",
   "execution_count": 2,
   "metadata": {},
   "outputs": [
    {
     "data": {
      "application/vnd.jupyter.widget-view+json": {
       "model_id": "b4f631d8203a43a0b7a147049f839717",
       "version_major": 2,
       "version_minor": 0
      },
      "text/plain": [
       "Map(center=[20, 0], controls=(ZoomControl(options=['position', 'zoom_in_text', 'zoom_in_title', 'zoom_out_text…"
      ]
     },
     "execution_count": 2,
     "metadata": {},
     "output_type": "execute_result"
    }
   ],
   "source": [
    "# In this cell, we prepare the generated map for visualization.\n",
    "# Post-processing includes separating the classification labels and probabilities into separate files and assigning an easily interpretable color code to these products.\n",
    "# During post-processing, we also clean the output map through a spatial majority filter.\n",
    "product = \"temporary-crops\"\n",
    "outfiles = postprocess_product(output_path, product=product)\n",
    "show_color_legend(product)\n",
    "m = visualize_products(outfiles)\n",
    "m"
   ]
  },
  {
   "cell_type": "markdown",
   "metadata": {},
   "source": [
    "# 3. Generate default crop type product\n",
    "\n",
    "The WorldCereal consortium has pre-trained a default crop type model, containing the following crops:\n",
    "- Barley\n",
    "- Maize\n",
    "- Millet/Sorghum\n",
    "- Rapeseed\n",
    "- Soybean\n",
    "- Sunflower\n",
    "- Wheat\n",
    "- Other crop\n",
    "\n",
    "This product is generated for a specific growing season. For each region in the world, the WorldCereal system has pre-defined two major growing seasons (tc-s1 and tc-s2) in the WorldCereal crop calendars. Seasons are ordered chronologically, i.e. tc-s1 is the season which ends first in a calendar year.\n",
    "\n",
    "Note that the default WorldCereal crop type map is automatically masked using the binary temporary crop extent product, which is generated before the actual crop type product in the same workflow. This means that if you are interested in the crop type map, you do not need to generate the temporary crop extent product separately.\n",
    "\n",
    "In the cell below we specify some input parameters (year, season, output path and product type) and then launch an OpenEO processing job which will generate our map:"
   ]
  },
  {
   "cell_type": "code",
   "execution_count": 4,
   "metadata": {},
   "outputs": [
    {
     "name": "stderr",
     "output_type": "stream",
     "text": [
      "\u001b[32m2024-07-03 08:31:12.057\u001b[0m | \u001b[1mINFO    \u001b[0m | \u001b[36mworldcereal.seasons\u001b[0m:\u001b[36mdoy_from_tiff\u001b[0m:\u001b[36m128\u001b[0m - \u001b[1mLoading DOY data from: S1_EOS_WGS84.tif\u001b[0m\n"
     ]
    },
    {
     "name": "stdout",
     "output_type": "stream",
     "text": [
      "Derived the following period for processing: 2020-07-17 00:00:00 - 2021-07-16 00:00:00\n",
      "Authenticated using refresh token.\n",
      "Selected orbit direction: DESCENDING from max accumulated area overlap between bounds and products.\n"
     ]
    },
    {
     "name": "stderr",
     "output_type": "stream",
     "text": [
      "WARNING:PrestoFeatureExtractor:No additional dependencies are defined. If you wish to add dependencies to your feature extractor, override the `dependencies` method in your class.\n",
      "WARNING:PrestoFeatureExtractor:No additional dependencies are defined. If you wish to add dependencies to your feature extractor, override the `dependencies` method in your class.\n"
     ]
    },
    {
     "name": "stdout",
     "output_type": "stream",
     "text": [
      "0:00:00 Job 'j-240703e49a8e438589a2a1382b06a557': send 'start'\n",
      "0:00:18 Job 'j-240703e49a8e438589a2a1382b06a557': created (progress 0%)\n",
      "0:00:24 Job 'j-240703e49a8e438589a2a1382b06a557': created (progress 0%)\n",
      "0:00:30 Job 'j-240703e49a8e438589a2a1382b06a557': running (progress N/A)\n",
      "0:00:38 Job 'j-240703e49a8e438589a2a1382b06a557': running (progress N/A)\n",
      "0:00:52 Job 'j-240703e49a8e438589a2a1382b06a557': running (progress N/A)\n",
      "0:01:04 Job 'j-240703e49a8e438589a2a1382b06a557': running (progress N/A)\n",
      "0:01:20 Job 'j-240703e49a8e438589a2a1382b06a557': running (progress N/A)\n",
      "0:01:40 Job 'j-240703e49a8e438589a2a1382b06a557': running (progress N/A)\n",
      "0:02:04 Job 'j-240703e49a8e438589a2a1382b06a557': running (progress N/A)\n",
      "0:02:35 Job 'j-240703e49a8e438589a2a1382b06a557': running (progress N/A)\n",
      "0:03:12 Job 'j-240703e49a8e438589a2a1382b06a557': running (progress N/A)\n",
      "0:03:59 Job 'j-240703e49a8e438589a2a1382b06a557': running (progress N/A)\n",
      "0:04:57 Job 'j-240703e49a8e438589a2a1382b06a557': running (progress N/A)\n",
      "0:05:58 Job 'j-240703e49a8e438589a2a1382b06a557': running (progress N/A)\n",
      "0:06:58 Job 'j-240703e49a8e438589a2a1382b06a557': running (progress N/A)\n",
      "0:07:58 Job 'j-240703e49a8e438589a2a1382b06a557': running (progress N/A)\n",
      "0:08:59 Job 'j-240703e49a8e438589a2a1382b06a557': running (progress N/A)\n",
      "0:09:59 Job 'j-240703e49a8e438589a2a1382b06a557': running (progress N/A)\n",
      "0:10:59 Job 'j-240703e49a8e438589a2a1382b06a557': running (progress N/A)\n",
      "0:12:10 Job 'j-240703e49a8e438589a2a1382b06a557': running (progress N/A)\n",
      "0:13:10 Job 'j-240703e49a8e438589a2a1382b06a557': running (progress N/A)\n",
      "0:14:13 Job 'j-240703e49a8e438589a2a1382b06a557': running (progress N/A)\n",
      "0:15:13 Job 'j-240703e49a8e438589a2a1382b06a557': running (progress N/A)\n",
      "0:16:16 Job 'j-240703e49a8e438589a2a1382b06a557': running (progress N/A)\n",
      "0:17:16 Job 'j-240703e49a8e438589a2a1382b06a557': running (progress N/A)\n",
      "0:18:17 Job 'j-240703e49a8e438589a2a1382b06a557': running (progress N/A)\n",
      "0:19:17 Job 'j-240703e49a8e438589a2a1382b06a557': running (progress N/A)\n",
      "0:20:17 Job 'j-240703e49a8e438589a2a1382b06a557': running (progress N/A)\n",
      "0:21:18 Job 'j-240703e49a8e438589a2a1382b06a557': running (progress N/A)\n",
      "0:22:18 Job 'j-240703e49a8e438589a2a1382b06a557': finished (progress 100%)\n"
     ]
    },
    {
     "name": "stderr",
     "output_type": "stream",
     "text": [
      "INFO:openeo.rest.job:Downloading Job result asset 'openEO_2020-01-01Z.tif' from https://openeo.creo.vito.be/openeo/jobs/j-240703e49a8e438589a2a1382b06a557/results/assets/ZGNjYWI2ZDktODQ2Yy00OGE5LTlkOTQtNDk3MTQ2Y2IyMjg1/c3076635f39a13173e03f0f664c2e7de/openEO_2020-01-01Z.tif?expires=1720594437 to /vitodata/worldcereal/test/demo-inference/Italy_crop_type.tif\n"
     ]
    },
    {
     "name": "stdout",
     "output_type": "stream",
     "text": [
      "----------------------------------\n",
      "OpenEO job ID: j-240703e49a8e438589a2a1382b06a557\n",
      "URL to download the map product: https://openeo.creo.vito.be/openeo/jobs/j-240703e49a8e438589a2a1382b06a557/results/assets/ZGNjYWI2ZDktODQ2Yy00OGE5LTlkOTQtNDk3MTQ2Y2IyMjg1/a61c968101d4ccfb63b938879f5d0474/openEO_2020-01-01Z.tif?expires=1720594438\n"
     ]
    }
   ],
   "source": [
    "# ---------------------------------------------\n",
    "# DEFINE INPUTS FOR GENERATING THE MAP\n",
    "\n",
    "# Our year of interest:\n",
    "year = 2021\n",
    "# The crop type product can be generated for each individual growing season.\n",
    "# By default, the WorldCereal system defines two growing seasons per year\n",
    "# for each location on the planet, indicated by \"tc-s1\" and \"tc-s2\".\n",
    "# Here, we choose the first season:\n",
    "season = \"tc-s1\"\n",
    "# Output path where the generated map will be stored:\n",
    "output_path = str(OUTDIR / \"Italy_crop_type.tif\")\n",
    "# Type of product to be generated. For now, we only have the choice between\n",
    "# two pre-trained models, i.e. a CROPLAND model and a CROPTYPE model.\n",
    "product_type = WorldCerealProduct.CROPTYPE\n",
    "\n",
    "# ---------------------------------------------\n",
    "\n",
    "# Get the processing period for the temporary crops product\n",
    "# based on the WorldCereal crop calendars:\n",
    "temporal_extent = get_processing_dates_for_extent(spatial_extent, year, season)\n",
    "\n",
    "# check whether we have a valid spatial extent\n",
    "if spatial_extent is None:\n",
    "    raise ValueError(\"Please first select a processing area using the cells above.\")\n",
    "\n",
    "# We call the function to generate the map on the CDSE backend using OpenEO.\n",
    "# Note that if we do not specify a \"product_type\" in the arguments of the\n",
    "# generate_map function, the temporary crops product will be generated based on\n",
    "# the default model as provided by the WorldCereal consortium.\n",
    "# When output path is specified, the results will be automatically downloaded to the\n",
    "# specified location.\n",
    "Path(output_path).parent.mkdir(parents=True, exist_ok=True)\n",
    "results = generate_map(\n",
    "    spatial_extent, temporal_extent, output_path=output_path, product_type=product_type\n",
    ")\n",
    "\n",
    "# check content of \"results\"\n",
    "print(\"----------------------------------\")\n",
    "print(f\"OpenEO job ID: {results.job_id}\")\n",
    "print(f\"URL to download the map product: {results.product_url}\")"
   ]
  },
  {
   "cell_type": "code",
   "execution_count": 6,
   "metadata": {},
   "outputs": [
    {
     "data": {
      "application/vnd.jupyter.widget-view+json": {
       "model_id": "4bb8ba4d7f6d478494db1ef4a014a11f",
       "version_major": 2,
       "version_minor": 0
      },
      "text/plain": [
       "Map(center=[20, 0], controls=(ZoomControl(options=['position', 'zoom_in_text', 'zoom_in_title', 'zoom_out_text…"
      ]
     },
     "execution_count": 6,
     "metadata": {},
     "output_type": "execute_result"
    }
   ],
   "source": [
    "# In this cell, we prepare the generated map for visualization.\n",
    "# Post-processing includes separating the classification labels and probabilities into separate files and assigning an easily interpretable color code to these products.\n",
    "# During post-processing, we also clean the output map through a spatial majority filter.\n",
    "product = \"croptype\"\n",
    "outfiles = postprocess_product(output_path, product=product)\n",
    "show_color_legend(product)\n",
    "m = visualize_products(outfiles)\n",
    "m"
   ]
  },
  {
   "cell_type": "markdown",
   "metadata": {},
   "source": [
    "# 3. Explore available reference data\n",
    "\n",
    "To gain an understanding of how much local training data was available to the classification model that generated the maps in your area of interest, we use the API of the WorldCereal Reference Data Module (RDM) to check which datasets (collections) intersect with your area of interest.\n",
    "\n",
    "The RDM can also be accessed through a [dedicated user interface](https://ewoc-rdm-ui.iiasa.ac.at/map) in case you wish to explore further.\n",
    "\n",
    "In case you would like to test multiple regions of interest, execute the first two cells in [this section](#1.-Define-a-region-of-interest) of the notebook."
   ]
  },
  {
   "cell_type": "code",
   "execution_count": 7,
   "metadata": {},
   "outputs": [
    {
     "name": "stdout",
     "output_type": "stream",
     "text": [
      "https://ewoc-rdm-api.iiasa.ac.at/collections/search?Bbox=8.485450789701195&Bbox=43.05601201423592&Bbox=13.039855210298803&Bbox=46.278235401844455\n",
      "The following collections intersect with your AOI:\n",
      "\n",
      "Collection 1: 2018eulucaspoint110 of type Point containing 51579 samples\n"
     ]
    }
   ],
   "source": [
    "# TODO: access to utils script should be fixed\n",
    "import sys\n",
    "\n",
    "sys.path.append(\n",
    "    \"/home/jeroendegerickx/git/worldcereal/worldcereal-classification/notebooks\"\n",
    ")\n",
    "\n",
    "from utils import rdm_collection_request\n",
    "\n",
    "# by default, the collection request uses a buffer around the requested bounding box of 250 km\n",
    "# the buffer can be adjusted by specifying the buffer parameter (in meters)\n",
    "col_ids = rdm_collection_request(poly)"
   ]
  }
 ],
 "metadata": {
  "kernelspec": {
   "display_name": "exp",
   "language": "python",
   "name": "python3"
  },
  "language_info": {
   "codemirror_mode": {
    "name": "ipython",
    "version": 3
   },
   "file_extension": ".py",
   "mimetype": "text/x-python",
   "name": "python",
   "nbconvert_exporter": "python",
   "pygments_lexer": "ipython3",
   "version": "3.11.9"
  }
 },
 "nbformat": 4,
 "nbformat_minor": 2
}
