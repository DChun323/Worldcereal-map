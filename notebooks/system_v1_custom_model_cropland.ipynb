{
 "cells": [
  {
   "cell_type": "markdown",
   "metadata": {},
   "source": [
    "![](./resources/System_v1_training_header.png)"
   ]
  },
  {
   "cell_type": "markdown",
   "metadata": {},
   "source": [
    "This notebook contains a demonstration on how to train custom crop type models based on your own reference data and how to apply the resulting model to generate a custom crop type map.\n",
    "\n",
    "# Content\n",
    "\n",
    "- [Before you start](#before-you-start)\n",
    "- [1. Define region of interest](#1.-Define-a-region-of-interest)\n",
    "- [2. Check public in-situ reference data](#2.-Check-public-in-situ-reference-data)\n",
    "- [3. Prepare own reference data](#3.-Prepare-own-reference-data)\n",
    "- [4. Extract required model inputs](#4.-Extract-required-model-inputs)\n",
    "- [5. Train custom classification model](#5.-Train-custom-classification-model)\n",
    "- [6. Generate a map](#6.-Generate-a-map)"
   ]
  },
  {
   "cell_type": "markdown",
   "metadata": {},
   "source": [
    "# Before you start\n",
    "\n",
    "In order to run this notebook, you need to create an account on:\n",
    "\n",
    "- The Copernicus Data Space Ecosystem (CDSE)\n",
    "--> by completing the form [HERE](https://identity.dataspace.copernicus.eu/auth/realms/CDSE/login-actions/registration?client_id=cdse-public&tab_id=eRKGqDvoYI0)\n",
    "\n",
    "- VITO's Terrascope platform\n",
    "--> by completing the form [HERE](https://sso.terrascope.be/auth/realms/terrascope/login-actions/registration?client_id=drupal-terrascope&tab_id=irBzckp2aDo)"
   ]
  },
  {
   "cell_type": "code",
   "execution_count": 1,
   "metadata": {},
   "outputs": [],
   "source": [
    "%load_ext autoreload\n",
    "%autoreload 2"
   ]
  },
  {
   "cell_type": "code",
   "execution_count": 3,
   "metadata": {},
   "outputs": [],
   "source": [
    "from worldcereal.utils.map import get_ui_map\n",
    "RDM_API = \"https://ewoc-rdm-api.iiasa.ac.at\""
   ]
  },
  {
   "cell_type": "markdown",
   "metadata": {},
   "source": [
    "# 1. Define a region of interest\n",
    "\n",
    "When running the code snippet below, an interactive map will be visualized.\n",
    "Click the Rectangle button on the left hand side of the map to start drawing your region of interest.\n",
    "When finished, execute the second cell to store the coordinates of your region of interest. "
   ]
  },
  {
   "cell_type": "code",
   "execution_count": 4,
   "metadata": {},
   "outputs": [
    {
     "data": {
      "application/vnd.jupyter.widget-view+json": {
       "model_id": "6bd4e17b496f4a468030bdd2f334c622",
       "version_major": 2,
       "version_minor": 0
      },
      "text/plain": [
       "Map(center=[51.1872, 5.1154], controls=(ZoomControl(options=['position', 'zoom_in_text', 'zoom_in_title', 'zoo…"
      ]
     },
     "execution_count": 4,
     "metadata": {},
     "output_type": "execute_result"
    }
   ],
   "source": [
    "m, dc = get_ui_map()\n",
    "m"
   ]
  },
  {
   "cell_type": "code",
   "execution_count": 6,
   "metadata": {},
   "outputs": [
    {
     "name": "stdout",
     "output_type": "stream",
     "text": [
      "Your area of interest: (4.535852, 51.173725, 4.561776, 51.186639) (7 km2)\n"
     ]
    }
   ],
   "source": [
    "# retrieve bounding box from drawn rectangle\n",
    "from utils import get_bbox_from_draw\n",
    "\n",
    "bbox, poly = get_bbox_from_draw(dc)"
   ]
  },
  {
   "cell_type": "markdown",
   "metadata": {},
   "source": [
    "# 2. Check public in situ reference data\n",
    "\n",
    "Here we do a series of requests to the RDM API to retrieve the collections and samples overlapping our bbox..."
   ]
  },
  {
   "cell_type": "markdown",
   "metadata": {},
   "source": [
    "‼ The following snippet does not query the RDM API, but parquet file on Cloudferro bucket with Phase I extractions"
   ]
  },
  {
   "cell_type": "code",
   "execution_count": 7,
   "metadata": {},
   "outputs": [
    {
     "name": "stdout",
     "output_type": "stream",
     "text": [
      "Applying a buffer of 50.0 km to the selected area ...\n",
      "Querying WorldCereal global database ...\n",
      "Processing selected samples ...\n",
      "Extracted and processed 38542 samples from global database.\n"
     ]
    }
   ],
   "source": [
    "from utils import query_worldcereal_samples\n",
    "\n",
    "public_df = query_worldcereal_samples(poly, buffer=50000, filter_cropland=False)"
   ]
  },
  {
   "cell_type": "markdown",
   "metadata": {},
   "source": [
    "# 3.Prepare own reference data\n",
    "\n",
    "Include some guidelines on how to upload user dataset to RDM (using the UI) and requesting those user samples through the API."
   ]
  },
  {
   "cell_type": "code",
   "execution_count": 8,
   "metadata": {},
   "outputs": [],
   "source": [
    "merged_df = public_df.copy()"
   ]
  },
  {
   "cell_type": "markdown",
   "metadata": {},
   "source": [
    "# 4. Extract required model inputs\n",
    "\n",
    "Here we launch point extractions for all samples intersecting our bbox resulting in a set of parquet files.\n",
    "\n",
    "We collect all these inputs and prepare presto features for each sample."
   ]
  },
  {
   "cell_type": "code",
   "execution_count": 9,
   "metadata": {},
   "outputs": [
    {
     "name": "stdout",
     "output_type": "stream",
     "text": [
      "Loading Presto model ...\n",
      "Computing Presto embeddings ...\n",
      "Done.\n"
     ]
    }
   ],
   "source": [
    "from utils import get_inputs_outputs\n",
    "\n",
    "encodings, targets = get_inputs_outputs(merged_df, task_type=\"cropland\")"
   ]
  },
  {
   "cell_type": "markdown",
   "metadata": {},
   "source": [
    "# 5. Train custom classification model\n",
    "We train a catboost model and upload this model to artifactory."
   ]
  },
  {
   "cell_type": "code",
   "execution_count": 10,
   "metadata": {},
   "outputs": [
    {
     "name": "stdout",
     "output_type": "stream",
     "text": [
      "Split train/test ...\n",
      "Computing class weights ...\n",
      "Class weights: {0: 0.6461708017223703, 1: 2.2103278975977556}\n",
      "Training CatBoost classifier ...\n",
      "0:\tlearn: 0.8181683\ttest: 0.8073083\tbest: 0.8073083 (0)\ttotal: 169ms\tremaining: 22m 32s\n",
      "25:\tlearn: 0.8607315\ttest: 0.8497237\tbest: 0.8497237 (25)\ttotal: 2.01s\tremaining: 10m 15s\n",
      "50:\tlearn: 0.8709879\ttest: 0.8579291\tbest: 0.8581425 (48)\ttotal: 3.88s\tremaining: 10m 4s\n",
      "75:\tlearn: 0.8792820\ttest: 0.8605337\tbest: 0.8609643 (73)\ttotal: 5.76s\tremaining: 10m\n",
      "100:\tlearn: 0.8863502\ttest: 0.8644228\tbest: 0.8645838 (99)\ttotal: 7.59s\tremaining: 9m 53s\n",
      "125:\tlearn: 0.8938005\ttest: 0.8671287\tbest: 0.8679282 (118)\ttotal: 9.4s\tremaining: 9m 47s\n",
      "150:\tlearn: 0.9001281\ttest: 0.8672146\tbest: 0.8684957 (145)\ttotal: 11.3s\tremaining: 9m 47s\n",
      "175:\tlearn: 0.9073189\ttest: 0.8663867\tbest: 0.8684957 (145)\ttotal: 13.1s\tremaining: 9m 42s\n",
      "Stopped by overfitting detector  (50 iterations wait)\n",
      "\n",
      "bestTest = 0.8684957122\n",
      "bestIteration = 145\n",
      "\n",
      "Shrink model to first 146 iterations.\n"
     ]
    }
   ],
   "source": [
    "from utils import train_classifier\n",
    "\n",
    "custom_model, report = train_classifier(encodings, targets)"
   ]
  },
  {
   "cell_type": "code",
   "execution_count": 11,
   "metadata": {},
   "outputs": [
    {
     "name": "stdout",
     "output_type": "stream",
     "text": [
      "              precision    recall  f1-score   support\n",
      "\n",
      "           0       0.95      0.91      0.93      8362\n",
      "           1       0.73      0.84      0.78      2444\n",
      "\n",
      "    accuracy                           0.89     10806\n",
      "   macro avg       0.84      0.87      0.85     10806\n",
      "weighted avg       0.90      0.89      0.90     10806\n",
      "\n"
     ]
    }
   ],
   "source": [
    "print(report)"
   ]
  },
  {
   "cell_type": "markdown",
   "metadata": {},
   "source": [
    "# 6. Deploy custom model\n",
    "\n",
    "Once trained, we have to upload our model to the cloud so it can be used for inference.\n"
   ]
  },
  {
   "cell_type": "markdown",
   "metadata": {},
   "source": [
    "# 7. Generate a map\n",
    "\n",
    "Using our custom model, we generate a map for our region of interest..."
   ]
  }
 ],
 "metadata": {
  "kernelspec": {
   "display_name": "exp",
   "language": "python",
   "name": "python3"
  },
  "language_info": {
   "codemirror_mode": {
    "name": "ipython",
    "version": 3
   },
   "file_extension": ".py",
   "mimetype": "text/x-python",
   "name": "python",
   "nbconvert_exporter": "python",
   "pygments_lexer": "ipython3",
   "version": "3.11.8"
  }
 },
 "nbformat": 4,
 "nbformat_minor": 2
}
