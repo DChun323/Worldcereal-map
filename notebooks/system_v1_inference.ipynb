{
 "cells": [
  {
   "cell_type": "markdown",
   "metadata": {},
   "source": [
    "![](./resources/System_v1_inference_header.png)"
   ]
  },
  {
   "cell_type": "markdown",
   "metadata": {},
   "source": [
    "This notebook contains a short demo on how to use the WorldCereal system to generate a cropland extent and crop type map,\n",
    "using default models trained by the WorldCereal consortium.\n",
    "\n",
    "# Content\n",
    "\n",
    "- [Before you start](#before-you-start)\n",
    "- [1. Define region of interest](#1.-Define-a-region-of-interest)\n",
    "- [2. Generate default Worldcereal products](#2.-Generate-default-WorldCereal-products)\n",
    "- [3. Explore available reference data](#3.-Explore-available-reference-data)"
   ]
  },
  {
   "cell_type": "code",
   "execution_count": null,
   "metadata": {},
   "outputs": [],
   "source": [
    "# TODO:\n",
    "\n",
    "# - add inference for crop type\n",
    "# - test post-processing workflow\n",
    "# - display some information regarding the in-situ datasets found (e.g. number of observations)"
   ]
  },
  {
   "cell_type": "markdown",
   "metadata": {},
   "source": [
    "# Before you start\n",
    "\n",
    "In order to run this notebook, you need to create an account on the Copernicus Data Space Ecosystem,\n",
    "by completing the form [HERE](https://identity.dataspace.copernicus.eu/auth/realms/CDSE/login-actions/registration?client_id=cdse-public&tab_id=eRKGqDvoYI0).\n"
   ]
  },
  {
   "cell_type": "code",
   "execution_count": 5,
   "metadata": {},
   "outputs": [],
   "source": [
    "# First we import the necessary modules to run this notebook\n",
    "\n",
    "import pandas as pd\n",
    "import requests\n",
    "from pathlib import Path\n",
    "from shapely.geometry import shape, Polygon\n",
    "\n",
    "from openeo_gfmap import TemporalContext, BoundingBoxExtent\n",
    "from openeo_gfmap.backend import Backend, BackendContext\n",
    "\n",
    "import sys\n",
    "\n",
    "sys.path.append(\"/home/jovyan/worldcereal-classification/src\")\n",
    "\n",
    "from worldcereal.utils.map import (\n",
    "    get_ui_map,\n",
    "    _latlon_to_utm,\n",
    "    visualize_products,\n",
    "    postprocess_product,\n",
    ")\n",
    "from worldcereal.job import generate_map\n",
    "from worldcereal.seasons import get_processing_dates_for_extent\n",
    "\n",
    "RDM_API = \"https://ewoc-rdm-api.iiasa.ac.at\"\n",
    "LOCALTILESERVER_PORT = 8889"
   ]
  },
  {
   "cell_type": "markdown",
   "metadata": {},
   "source": [
    "# 1. Define a region of interest\n",
    "\n",
    "When running the code snippet below, an interactive map will be visualized.\n",
    "Click the Rectangle button on the left hand side of the map to start drawing your region of interest.\n",
    "When finished, execute the second cell to store the coordinates of your region of interest. "
   ]
  },
  {
   "cell_type": "code",
   "execution_count": 2,
   "metadata": {},
   "outputs": [
    {
     "data": {
      "application/vnd.jupyter.widget-view+json": {
       "model_id": "a9ceae4d7482475caac9b3c01fcefc0a",
       "version_major": 2,
       "version_minor": 0
      },
      "text/plain": [
       "Map(center=[51.1872, 5.1154], controls=(ZoomControl(options=['position', 'zoom_in_text', 'zoom_in_title', 'zoo…"
      ]
     },
     "execution_count": 2,
     "metadata": {},
     "output_type": "execute_result"
    }
   ],
   "source": [
    "m, dc = get_ui_map()\n",
    "m"
   ]
  },
  {
   "cell_type": "code",
   "execution_count": 4,
   "metadata": {},
   "outputs": [
    {
     "name": "stdout",
     "output_type": "stream",
     "text": [
      "Your area of interest: (5.133262, 51.182616, 5.153612, 51.187969)\n",
      "Area of processing extent: 0.92 km²\n"
     ]
    }
   ],
   "source": [
    "# retrieve bounding box from drawn rectangle\n",
    "obj = dc.last_draw\n",
    "if obj.get(\"geometry\") is not None:\n",
    "    poly = Polygon(shape(obj.get(\"geometry\")))\n",
    "    bbox = poly.bounds\n",
    "else:\n",
    "    raise ValueError(\"Please first draw a rectangle \" \"on the map before proceeding.\")\n",
    "print(f\"Your area of interest: {bbox}\")\n",
    "\n",
    "# We convert our bounding box to local UTM projection for further processing\n",
    "bbox_utm, epsg = _latlon_to_utm(bbox)\n",
    "spatial_extent = BoundingBoxExtent(*bbox_utm, epsg)\n",
    "area = (bbox_utm[2] - bbox_utm[0]) * (bbox_utm[3] - bbox_utm[1]) / 1000000\n",
    "print(f\"Area of processing extent: {area:.2f} km²\")\n",
    "if area > 4000:\n",
    "    spatial_extent = None\n",
    "    raise ValueError(\n",
    "        \"Area of processing extent is too large. \" \"Please select a smaller area.\"\n",
    "    )"
   ]
  },
  {
   "cell_type": "markdown",
   "metadata": {},
   "source": [
    "# 2. Generate default WorldCereal products\n",
    "\n",
    "In this section we will generate two WorldCereal mapping products for our region of interest using a series of pre-trained models made available by the consortium:\n",
    "1) A temporary crops extent product, defined as a binary mask indicating the presence of temporary crops.\n",
    "2) A binary seasonal crop type product, indicating for a specific growing season which pixels previously identified as temporary crops contain our crop of interest (in this case maize).\n",
    "\n",
    "We start with the temporary crops product. This product is generated for a full year. The exact timing of the processing period is defined by the WorldCereal crop calendars."
   ]
  },
  {
   "cell_type": "code",
   "execution_count": 4,
   "metadata": {},
   "outputs": [
    {
     "name": "stderr",
     "output_type": "stream",
     "text": [
      "\u001b[32m2024-06-25 14:27:40.938\u001b[0m | \u001b[1mINFO    \u001b[0m | \u001b[36mworldcereal.seasons\u001b[0m:\u001b[36mdoy_from_tiff\u001b[0m:\u001b[36m126\u001b[0m - \u001b[1mLoading DOY data from: ANNUAL_EOS_WGS84.tif\u001b[0m\n"
     ]
    },
    {
     "name": "stdout",
     "output_type": "stream",
     "text": [
      "Using the following period for processing: 2020-10-30 - 2021-10-29\n",
      "Authenticated using refresh token.\n",
      "Selected orbit direction: DESCENDING from max accumulated area overlap between bounds and products.\n"
     ]
    },
    {
     "name": "stderr",
     "output_type": "stream",
     "text": [
      "WARNING:PrestoFeatureExtractor:No additional dependencies are defined. If you wish to add dependencies to your feature extractor, override the `dependencies` method in your class.\n"
     ]
    },
    {
     "name": "stdout",
     "output_type": "stream",
     "text": [
      "0:00:00 Job 'j-240625994d9e48be8a7f63bd426e1497': send 'start'\n",
      "0:00:26 Job 'j-240625994d9e48be8a7f63bd426e1497': created (progress 0%)\n",
      "0:00:31 Job 'j-240625994d9e48be8a7f63bd426e1497': created (progress 0%)\n",
      "0:00:41 Job 'j-240625994d9e48be8a7f63bd426e1497': created (progress 0%)\n",
      "0:00:50 Job 'j-240625994d9e48be8a7f63bd426e1497': created (progress 0%)\n",
      "0:01:00 Job 'j-240625994d9e48be8a7f63bd426e1497': created (progress 0%)\n",
      "0:01:13 Job 'j-240625994d9e48be8a7f63bd426e1497': running (progress N/A)\n",
      "0:01:29 Job 'j-240625994d9e48be8a7f63bd426e1497': running (progress N/A)\n",
      "0:01:48 Job 'j-240625994d9e48be8a7f63bd426e1497': running (progress N/A)\n",
      "0:02:13 Job 'j-240625994d9e48be8a7f63bd426e1497': running (progress N/A)\n",
      "0:02:43 Job 'j-240625994d9e48be8a7f63bd426e1497': running (progress N/A)\n",
      "0:03:41 Job 'j-240625994d9e48be8a7f63bd426e1497': running (progress N/A)\n",
      "0:04:30 Job 'j-240625994d9e48be8a7f63bd426e1497': running (progress N/A)\n",
      "0:05:30 Job 'j-240625994d9e48be8a7f63bd426e1497': running (progress N/A)\n",
      "0:06:31 Job 'j-240625994d9e48be8a7f63bd426e1497': running (progress N/A)\n",
      "0:07:32 Job 'j-240625994d9e48be8a7f63bd426e1497': running (progress N/A)\n",
      "0:08:32 Job 'j-240625994d9e48be8a7f63bd426e1497': running (progress N/A)\n",
      "0:09:33 Job 'j-240625994d9e48be8a7f63bd426e1497': running (progress N/A)\n",
      "0:10:42 Job 'j-240625994d9e48be8a7f63bd426e1497': running (progress N/A)\n",
      "0:11:42 Job 'j-240625994d9e48be8a7f63bd426e1497': running (progress N/A)\n",
      "0:12:42 Job 'j-240625994d9e48be8a7f63bd426e1497': running (progress N/A)\n",
      "0:13:43 Job 'j-240625994d9e48be8a7f63bd426e1497': running (progress N/A)\n",
      "0:14:48 Job 'j-240625994d9e48be8a7f63bd426e1497': running (progress N/A)\n",
      "0:15:49 Job 'j-240625994d9e48be8a7f63bd426e1497': running (progress N/A)\n",
      "0:16:49 Job 'j-240625994d9e48be8a7f63bd426e1497': running (progress N/A)\n",
      "0:17:49 Job 'j-240625994d9e48be8a7f63bd426e1497': running (progress N/A)\n",
      "0:18:49 Job 'j-240625994d9e48be8a7f63bd426e1497': running (progress N/A)\n",
      "0:19:50 Job 'j-240625994d9e48be8a7f63bd426e1497': running (progress N/A)\n",
      "0:20:50 Job 'j-240625994d9e48be8a7f63bd426e1497': running (progress N/A)\n",
      "0:21:51 Job 'j-240625994d9e48be8a7f63bd426e1497': running (progress N/A)\n",
      "0:22:51 Job 'j-240625994d9e48be8a7f63bd426e1497': running (progress N/A)\n",
      "0:23:54 Job 'j-240625994d9e48be8a7f63bd426e1497': error (progress N/A)\n",
      "Your batch job 'j-240625994d9e48be8a7f63bd426e1497' failed. Error logs:\n",
      "[{'id': '[1719318673343, 681396]', 'time': '2024-06-25T12:31:13.343Z', 'level': 'error', 'message': 'Trying to construct a datacube with a bounds Extent(650501.0658311945, 5673499.403923106, 652495.7692024919, 5675153.967758948) that is not entirely inside the global bounds: Extent(650886.0658311945, 5673884.403923106, 652110.7692024919, 5674768.967758948). '}, {'id': '[1719318984277, 771384]', 'time': '2024-06-25T12:36:24.277Z', 'level': 'error', 'message': 'Error communicating with MapOutputTracker'}, {'id': '[1719319296261, 318599]', 'time': '2024-06-25T12:41:36.261Z', 'level': 'error', 'message': 'Python worker exited unexpectedly (crashed)'}, {'id': '[1719319296274, 100656]', 'time': '2024-06-25T12:41:36.274Z', 'level': 'error', 'message': 'This may have been caused by a prior exception:'}, {'id': '[1719319316449, 938788]', 'time': '2024-06-25T12:41:56.449Z', 'level': 'error', 'message': 'Python worker exited unexpectedly (crashed)'}, {'id': '[1719319316461, 647138]', 'time': '2024-06-25T12:41:56.461Z', 'level': 'error', 'message': 'This may have been caused by a prior exception:'}, {'id': '[1719319336354, 713927]', 'time': '2024-06-25T12:42:16.354Z', 'level': 'error', 'message': 'Python worker exited unexpectedly (crashed)'}, {'id': '[1719319336363, 444403]', 'time': '2024-06-25T12:42:16.363Z', 'level': 'error', 'message': 'This may have been caused by a prior exception:'}, {'id': '[1719319356296, 23441]', 'time': '2024-06-25T12:42:36.296Z', 'level': 'error', 'message': 'Python worker exited unexpectedly (crashed)'}, {'id': '[1719319356299, 407143]', 'time': '2024-06-25T12:42:36.299Z', 'level': 'error', 'message': 'This may have been caused by a prior exception:'}, {'id': '[1719319369964, 720015]', 'time': '2024-06-25T12:42:49.964Z', 'level': 'error', 'message': 'Python worker exited unexpectedly (crashed)'}, {'id': '[1719319369973, 53332]', 'time': '2024-06-25T12:42:49.973Z', 'level': 'error', 'message': 'This may have been caused by a prior exception:'}, {'id': '[1719319391904, 414929]', 'time': '2024-06-25T12:43:11.904Z', 'level': 'error', 'message': 'Python worker exited unexpectedly (crashed)'}, {'id': '[1719319391906, 750795]', 'time': '2024-06-25T12:43:11.906Z', 'level': 'error', 'message': 'This may have been caused by a prior exception:'}, {'id': '[1719319509385, 685069]', 'time': '2024-06-25T12:45:09.385Z', 'level': 'error', 'message': 'Exception while beginning fetch of 1 outstanding blocks '}, {'id': '[1719319509401, 757389]', 'time': '2024-06-25T12:45:09.401Z', 'level': 'error', 'message': 'Failed to get block(s) from 10.42.58.5:41825'}, {'id': '[1719319509934, 956761]', 'time': '2024-06-25T12:45:09.934Z', 'level': 'error', 'message': 'Exception while beginning fetch of 4 outstanding blocks '}, {'id': '[1719319509945, 254722]', 'time': '2024-06-25T12:45:09.945Z', 'level': 'error', 'message': 'Failed to get block(s) from 10.42.58.5:41825'}, {'id': '[1719319509947, 392462]', 'time': '2024-06-25T12:45:09.947Z', 'level': 'error', 'message': 'Failed to get block(s) from 10.42.58.5:41825'}, {'id': '[1719319509953, 743954]', 'time': '2024-06-25T12:45:09.953Z', 'level': 'error', 'message': 'Failed to get block(s) from 10.42.58.5:41825'}, {'id': '[1719319509954, 306621]', 'time': '2024-06-25T12:45:09.954Z', 'level': 'error', 'message': 'Failed to get block(s) from 10.42.58.5:41825'}, {'id': '[1719319511091, 97222]', 'time': '2024-06-25T12:45:11.091Z', 'level': 'error', 'message': 'Exception while beginning fetch of 3 outstanding blocks '}, {'id': '[1719319511100, 631528]', 'time': '2024-06-25T12:45:11.100Z', 'level': 'error', 'message': 'Failed to get block(s) from 10.42.58.5:41825'}, {'id': '[1719319511103, 517585]', 'time': '2024-06-25T12:45:11.103Z', 'level': 'error', 'message': 'Failed to get block(s) from 10.42.58.5:41825'}, {'id': '[1719319511105, 455131]', 'time': '2024-06-25T12:45:11.105Z', 'level': 'error', 'message': 'Failed to get block(s) from 10.42.58.5:41825'}, {'id': '[1719319513321, 366760]', 'time': '2024-06-25T12:45:13.321Z', 'level': 'error', 'message': 'Exception while beginning fetch of 1 outstanding blocks '}, {'id': '[1719319513330, 717806]', 'time': '2024-06-25T12:45:13.330Z', 'level': 'error', 'message': 'Failed to get block(s) from 10.42.58.5:41825'}, {'id': '[1719319519009, 165291]', 'time': '2024-06-25T12:45:19.009Z', 'level': 'error', 'message': 'Exception while beginning fetch of 2 outstanding blocks '}, {'id': '[1719319519016, 15911]', 'time': '2024-06-25T12:45:19.016Z', 'level': 'error', 'message': 'Failed to get block(s) from 10.42.58.5:41825'}, {'id': '[1719319519018, 979419]', 'time': '2024-06-25T12:45:19.018Z', 'level': 'error', 'message': 'Failed to get block(s) from 10.42.58.5:41825'}, {'id': '[1719319519035, 817739]', 'time': '2024-06-25T12:45:19.035Z', 'level': 'error', 'message': 'Python worker exited unexpectedly (crashed)'}, {'id': '[1719319519039, 141928]', 'time': '2024-06-25T12:45:19.039Z', 'level': 'error', 'message': 'This may have been caused by a prior exception:'}, {'id': '[1719319519045, 527538]', 'time': '2024-06-25T12:45:19.045Z', 'level': 'error', 'message': 'Python worker exited unexpectedly (crashed)'}, {'id': '[1719319519047, 350027]', 'time': '2024-06-25T12:45:19.047Z', 'level': 'error', 'message': 'This may have been caused by a prior exception:'}, {'id': '[1719319519154, 371448]', 'time': '2024-06-25T12:45:19.154Z', 'level': 'error', 'message': 'Exception while beginning fetch of 2 outstanding blocks '}, {'id': '[1719319519161, 590654]', 'time': '2024-06-25T12:45:19.161Z', 'level': 'error', 'message': 'Failed to get block(s) from 10.42.58.5:41825'}, {'id': '[1719319519164, 959123]', 'time': '2024-06-25T12:45:19.164Z', 'level': 'error', 'message': 'Failed to get block(s) from 10.42.58.5:41825'}, {'id': '[1719319520398, 34166]', 'time': '2024-06-25T12:45:20.398Z', 'level': 'error', 'message': 'Exception while beginning fetch of 1 outstanding blocks '}, {'id': '[1719319520401, 39744]', 'time': '2024-06-25T12:45:20.401Z', 'level': 'error', 'message': 'Failed to get block(s) from 10.42.58.5:41825'}, {'id': '[1719319523192, 793401]', 'time': '2024-06-25T12:45:23.192Z', 'level': 'error', 'message': 'Exception while beginning fetch of 3 outstanding blocks '}, {'id': '[1719319523201, 749231]', 'time': '2024-06-25T12:45:23.201Z', 'level': 'error', 'message': 'Failed to get block(s) from 10.42.58.5:41825'}, {'id': '[1719319523203, 939277]', 'time': '2024-06-25T12:45:23.203Z', 'level': 'error', 'message': 'Failed to get block(s) from 10.42.58.5:41825'}, {'id': '[1719319523205, 261741]', 'time': '2024-06-25T12:45:23.205Z', 'level': 'error', 'message': 'Failed to get block(s) from 10.42.58.5:41825'}, {'id': '[1719319523788, 272927]', 'time': '2024-06-25T12:45:23.788Z', 'level': 'error', 'message': 'Exception while beginning fetch of 2 outstanding blocks '}, {'id': '[1719319523797, 863052]', 'time': '2024-06-25T12:45:23.797Z', 'level': 'error', 'message': 'Failed to get block(s) from 10.42.58.5:41825'}, {'id': '[1719319523799, 122390]', 'time': '2024-06-25T12:45:23.799Z', 'level': 'error', 'message': 'Failed to get block(s) from 10.42.58.5:41825'}, {'id': '[1719319526319, 467129]', 'time': '2024-06-25T12:45:26.319Z', 'level': 'error', 'message': 'Exception while beginning fetch of 2 outstanding blocks '}, {'id': '[1719319526326, 731698]', 'time': '2024-06-25T12:45:26.326Z', 'level': 'error', 'message': 'Failed to get block(s) from 10.42.58.5:41825'}, {'id': '[1719319526328, 989650]', 'time': '2024-06-25T12:45:26.328Z', 'level': 'error', 'message': 'Failed to get block(s) from 10.42.58.5:41825'}, {'id': '[1719319526730, 425256]', 'time': '2024-06-25T12:45:26.730Z', 'level': 'error', 'message': 'Exception while beginning fetch of 2 outstanding blocks '}, {'id': '[1719319526740, 683859]', 'time': '2024-06-25T12:45:26.740Z', 'level': 'error', 'message': 'Failed to get block(s) from 10.42.58.5:41825'}, {'id': '[1719319526742, 200670]', 'time': '2024-06-25T12:45:26.742Z', 'level': 'error', 'message': 'Failed to get block(s) from 10.42.58.5:41825'}, {'id': '[1719319527889, 847785]', 'time': '2024-06-25T12:45:27.889Z', 'level': 'error', 'message': 'Exception while beginning fetch of 4 outstanding blocks '}, {'id': '[1719319527897, 212082]', 'time': '2024-06-25T12:45:27.897Z', 'level': 'error', 'message': 'Failed to get block(s) from 10.42.58.5:41825'}, {'id': '[1719319527901, 512418]', 'time': '2024-06-25T12:45:27.901Z', 'level': 'error', 'message': 'Failed to get block(s) from 10.42.58.5:41825'}, {'id': '[1719319527909, 301958]', 'time': '2024-06-25T12:45:27.909Z', 'level': 'error', 'message': 'Failed to get block(s) from 10.42.58.5:41825'}, {'id': '[1719319527911, 224919]', 'time': '2024-06-25T12:45:27.911Z', 'level': 'error', 'message': 'Failed to get block(s) from 10.42.58.5:41825'}, {'id': '[1719319530276, 829469]', 'time': '2024-06-25T12:45:30.276Z', 'level': 'error', 'message': 'Exception while beginning fetch of 1 outstanding blocks '}, {'id': '[1719319530285, 30855]', 'time': '2024-06-25T12:45:30.285Z', 'level': 'error', 'message': 'Failed to get block(s) from 10.42.58.5:41825'}, {'id': '[1719319530323, 99500]', 'time': '2024-06-25T12:45:30.323Z', 'level': 'error', 'message': 'Python worker exited unexpectedly (crashed)'}, {'id': '[1719319530341, 838379]', 'time': '2024-06-25T12:45:30.341Z', 'level': 'error', 'message': 'This may have been caused by a prior exception:'}, {'id': '[1719319530823, 531031]', 'time': '2024-06-25T12:45:30.823Z', 'level': 'error', 'message': 'Exception while beginning fetch of 1 outstanding blocks '}, {'id': '[1719319530826, 650973]', 'time': '2024-06-25T12:45:30.826Z', 'level': 'error', 'message': 'Failed to get block(s) from 10.42.58.5:41825'}, {'id': '[1719319536296, 728544]', 'time': '2024-06-25T12:45:36.296Z', 'level': 'error', 'message': 'Exception while beginning fetch of 2 outstanding blocks '}, {'id': '[1719319536312, 653776]', 'time': '2024-06-25T12:45:36.312Z', 'level': 'error', 'message': 'Failed to get block(s) from 10.42.58.5:41825'}, {'id': '[1719319536316, 859118]', 'time': '2024-06-25T12:45:36.316Z', 'level': 'error', 'message': 'Failed to get block(s) from 10.42.58.5:41825'}, {'id': '[1719319542721, 795638]', 'time': '2024-06-25T12:45:42.721Z', 'level': 'error', 'message': 'Exception while beginning fetch of 1 outstanding blocks '}, {'id': '[1719319542724, 76787]', 'time': '2024-06-25T12:45:42.724Z', 'level': 'error', 'message': 'Failed to get block(s) from 10.42.58.5:41825'}, {'id': '[1719319548745, 186813]', 'time': '2024-06-25T12:45:48.745Z', 'level': 'error', 'message': 'Exception while beginning fetch of 2 outstanding blocks '}, {'id': '[1719319548751, 197285]', 'time': '2024-06-25T12:45:48.751Z', 'level': 'error', 'message': 'Failed to get block(s) from 10.42.58.5:41825'}, {'id': '[1719319548754, 25245]', 'time': '2024-06-25T12:45:48.754Z', 'level': 'error', 'message': 'Failed to get block(s) from 10.42.58.5:41825'}, {'id': '[1719319551984, 895024]', 'time': '2024-06-25T12:45:51.984Z', 'level': 'error', 'message': 'Exception while beginning fetch of 1 outstanding blocks '}, {'id': '[1719319552001, 190705]', 'time': '2024-06-25T12:45:52.001Z', 'level': 'error', 'message': 'Failed to get block(s) from 10.42.58.5:41825'}, {'id': '[1719319564748, 382355]', 'time': '2024-06-25T12:46:04.748Z', 'level': 'error', 'message': 'Exception while beginning fetch of 3 outstanding blocks '}, {'id': '[1719319564755, 958173]', 'time': '2024-06-25T12:46:04.755Z', 'level': 'error', 'message': 'Failed to get block(s) from 10.42.58.5:41825'}, {'id': '[1719319564758, 338085]', 'time': '2024-06-25T12:46:04.758Z', 'level': 'error', 'message': 'Failed to get block(s) from 10.42.58.5:41825'}, {'id': '[1719319564759, 469959]', 'time': '2024-06-25T12:46:04.759Z', 'level': 'error', 'message': 'Failed to get block(s) from 10.42.58.5:41825'}, {'id': '[1719319568547, 752633]', 'time': '2024-06-25T12:46:08.547Z', 'level': 'error', 'message': 'Python worker exited unexpectedly (crashed)'}, {'id': '[1719319568549, 730793]', 'time': '2024-06-25T12:46:08.549Z', 'level': 'error', 'message': 'This may have been caused by a prior exception:'}, {'id': '[1719319582280, 991311]', 'time': '2024-06-25T12:46:22.280Z', 'level': 'error', 'message': 'Python worker exited unexpectedly (crashed)'}, {'id': '[1719319582282, 3010]', 'time': '2024-06-25T12:46:22.282Z', 'level': 'error', 'message': 'This may have been caused by a prior exception:'}, {'id': '[1719319587436, 669045]', 'time': '2024-06-25T12:46:27.436Z', 'level': 'error', 'message': 'Python worker exited unexpectedly (crashed)'}, {'id': '[1719319587437, 409154]', 'time': '2024-06-25T12:46:27.437Z', 'level': 'error', 'message': 'This may have been caused by a prior exception:'}, {'id': '[1719319592264, 720662]', 'time': '2024-06-25T12:46:32.264Z', 'level': 'error', 'message': 'Lost executor 19 on 10.42.45.151: \\nThe executor with id 19 exited with exit code 137(SIGKILL, possible container OOM).\\n\\n\\n\\nThe API gave the following container statuses:\\n\\n\\n\\t container name: spark-kubernetes-executor\\n\\t container image: registry.prod.warsaw.openeo.dataspace.copernicus.eu/prod/openeo-geotrellis-kube:20240619-1745\\n\\t container state: terminated\\n\\t container started at: 2024-06-25T12:35:12Z\\n\\t container finished at: 2024-06-25T12:46:31Z\\n\\t exit code: 137\\n\\t termination reason: OOMKilled\\n      '}, {'id': '[1719319596166, 392883]', 'time': '2024-06-25T12:46:36.166Z', 'level': 'error', 'message': 'Missing an output location for shuffle 24 partition 47'}, {'id': '[1719319596177, 854387]', 'time': '2024-06-25T12:46:36.177Z', 'level': 'error', 'message': 'Missing an output location for shuffle 24 partition 14'}, {'id': '[1719319612702, 614759]', 'time': '2024-06-25T12:46:52.702Z', 'level': 'error', 'message': 'Python worker exited unexpectedly (crashed)'}, {'id': '[1719319612703, 290735]', 'time': '2024-06-25T12:46:52.703Z', 'level': 'error', 'message': 'This may have been caused by a prior exception:'}, {'id': '[1719319736288, 463117]', 'time': '2024-06-25T12:48:56.288Z', 'level': 'error', 'message': 'Python worker exited unexpectedly (crashed)'}, {'id': '[1719319736290, 665272]', 'time': '2024-06-25T12:48:56.290Z', 'level': 'error', 'message': 'This may have been caused by a prior exception:'}, {'id': '[1719319742305, 548483]', 'time': '2024-06-25T12:49:02.305Z', 'level': 'error', 'message': 'Python worker exited unexpectedly (crashed)'}, {'id': '[1719319742306, 849935]', 'time': '2024-06-25T12:49:02.306Z', 'level': 'error', 'message': 'This may have been caused by a prior exception:'}, {'id': '[1719319791162, 703812]', 'time': '2024-06-25T12:49:51.162Z', 'level': 'error', 'message': 'Python worker exited unexpectedly (crashed)'}, {'id': '[1719319791164, 227231]', 'time': '2024-06-25T12:49:51.164Z', 'level': 'error', 'message': 'This may have been caused by a prior exception:'}, {'id': '[1719319799859, 575467]', 'time': '2024-06-25T12:49:59.859Z', 'level': 'error', 'message': 'Python worker exited unexpectedly (crashed)'}, {'id': '[1719319799860, 822137]', 'time': '2024-06-25T12:49:59.860Z', 'level': 'error', 'message': 'This may have been caused by a prior exception:'}, {'id': '[1719319831925, 506240]', 'time': '2024-06-25T12:50:31.925Z', 'level': 'error', 'message': 'Python worker exited unexpectedly (crashed)'}, {'id': '[1719319831928, 407452]', 'time': '2024-06-25T12:50:31.928Z', 'level': 'error', 'message': 'This may have been caused by a prior exception:'}, {'id': '[1719319858410, 104715]', 'time': '2024-06-25T12:50:58.410Z', 'level': 'error', 'message': 'Python worker exited unexpectedly (crashed)'}, {'id': '[1719319858413, 587312]', 'time': '2024-06-25T12:50:58.413Z', 'level': 'error', 'message': 'This may have been caused by a prior exception:'}, {'id': '[1719319862461, 190084]', 'time': '2024-06-25T12:51:02.461Z', 'level': 'error', 'message': 'Python worker exited unexpectedly (crashed)'}, {'id': '[1719319862463, 97284]', 'time': '2024-06-25T12:51:02.463Z', 'level': 'error', 'message': 'This may have been caused by a prior exception:'}, {'id': '[1719319862467, 36051]', 'time': '2024-06-25T12:51:02.467Z', 'level': 'error', 'message': 'Task 1 in stage 82.2 failed 4 times; aborting job'}, {'id': '[1719319865706, 986394]', 'time': '2024-06-25T12:51:05.706Z', 'level': 'error', 'message': 'OpenEO batch job failed: Exception during Spark execution: java.io.EOFException'}]\n",
      "Full logs can be inspected in an openEO (web) editor or with `connection.job('j-240625994d9e48be8a7f63bd426e1497').logs()`.\n"
     ]
    },
    {
     "ename": "JobFailedException",
     "evalue": "Batch job 'j-240625994d9e48be8a7f63bd426e1497' didn't finish successfully. Status: error (after 0:23:55).",
     "output_type": "error",
     "traceback": [
      "\u001b[0;31m---------------------------------------------------------------------------\u001b[0m",
      "\u001b[0;31mJobFailedException\u001b[0m                        Traceback (most recent call last)",
      "Cell \u001b[0;32mIn[4], line 28\u001b[0m\n\u001b[1;32m     21\u001b[0m \u001b[38;5;66;03m# We call the function to generate the map on the CDSE backend using OpenEO.\u001b[39;00m\n\u001b[1;32m     22\u001b[0m \u001b[38;5;66;03m# Note that if we do not specify a \"product_type\" in the arguments of the \u001b[39;00m\n\u001b[1;32m     23\u001b[0m \u001b[38;5;66;03m# generate_map function, the temporary crops product will be generated based on \u001b[39;00m\n\u001b[1;32m     24\u001b[0m \u001b[38;5;66;03m# the default model as provided by the WorldCereal consortium.\u001b[39;00m\n\u001b[1;32m     25\u001b[0m \u001b[38;5;66;03m# When output path is specified, the results will be automatically downloaded to the\u001b[39;00m\n\u001b[1;32m     26\u001b[0m \u001b[38;5;66;03m# specified location.\u001b[39;00m\n\u001b[1;32m     27\u001b[0m Path(output_path)\u001b[38;5;241m.\u001b[39mparent\u001b[38;5;241m.\u001b[39mmkdir(parents\u001b[38;5;241m=\u001b[39m\u001b[38;5;28;01mTrue\u001b[39;00m, exist_ok\u001b[38;5;241m=\u001b[39m\u001b[38;5;28;01mTrue\u001b[39;00m)\n\u001b[0;32m---> 28\u001b[0m results \u001b[38;5;241m=\u001b[39m \u001b[43mgenerate_map\u001b[49m\u001b[43m(\u001b[49m\u001b[43mspatial_extent\u001b[49m\u001b[43m,\u001b[49m\u001b[43m \u001b[49m\u001b[43mtemporal_extent\u001b[49m\u001b[43m,\u001b[49m\n\u001b[1;32m     29\u001b[0m \u001b[43m             \u001b[49m\u001b[43mbackend_context\u001b[49m\u001b[43m,\u001b[49m\u001b[43m \u001b[49m\u001b[43moutput_path\u001b[49m\u001b[38;5;241;43m=\u001b[39;49m\u001b[43moutput_path\u001b[49m\u001b[43m)\u001b[49m\n\u001b[1;32m     31\u001b[0m \u001b[38;5;66;03m# check content of \"results\"\u001b[39;00m\n\u001b[1;32m     32\u001b[0m \u001b[38;5;28mprint\u001b[39m(\u001b[38;5;124m'\u001b[39m\u001b[38;5;124m----------------------------------\u001b[39m\u001b[38;5;124m'\u001b[39m)\n",
      "File \u001b[0;32m~/git/worldcereal/worldcereal-classification/src/worldcereal/job.py:163\u001b[0m, in \u001b[0;36mgenerate_map\u001b[0;34m(spatial_extent, temporal_extent, backend_context, output_path, product_type, out_format)\u001b[0m\n\u001b[1;32m    160\u001b[0m \u001b[38;5;28;01melse\u001b[39;00m:\n\u001b[1;32m    161\u001b[0m     classes \u001b[38;5;241m=\u001b[39m compress_uint16(classes)\n\u001b[0;32m--> 163\u001b[0m job \u001b[38;5;241m=\u001b[39m \u001b[43mclasses\u001b[49m\u001b[38;5;241;43m.\u001b[39;49m\u001b[43mexecute_batch\u001b[49m\u001b[43m(\u001b[49m\n\u001b[1;32m    164\u001b[0m \u001b[43m    \u001b[49m\u001b[43moutputfile\u001b[49m\u001b[38;5;241;43m=\u001b[39;49m\u001b[43moutput_path\u001b[49m\u001b[43m,\u001b[49m\n\u001b[1;32m    165\u001b[0m \u001b[43m    \u001b[49m\u001b[43mout_format\u001b[49m\u001b[38;5;241;43m=\u001b[39;49m\u001b[43mout_format\u001b[49m\u001b[43m,\u001b[49m\n\u001b[1;32m    166\u001b[0m \u001b[43m    \u001b[49m\u001b[43mjob_options\u001b[49m\u001b[38;5;241;43m=\u001b[39;49m\u001b[43m{\u001b[49m\n\u001b[1;32m    167\u001b[0m \u001b[43m        \u001b[49m\u001b[38;5;124;43m\"\u001b[39;49m\u001b[38;5;124;43mdriver-memory\u001b[39;49m\u001b[38;5;124;43m\"\u001b[39;49m\u001b[43m:\u001b[49m\u001b[43m \u001b[49m\u001b[38;5;124;43m\"\u001b[39;49m\u001b[38;5;124;43m4g\u001b[39;49m\u001b[38;5;124;43m\"\u001b[39;49m\u001b[43m,\u001b[49m\n\u001b[1;32m    168\u001b[0m \u001b[43m        \u001b[49m\u001b[38;5;124;43m\"\u001b[39;49m\u001b[38;5;124;43mexecutor-memoryOverhead\u001b[39;49m\u001b[38;5;124;43m\"\u001b[39;49m\u001b[43m:\u001b[49m\u001b[43m \u001b[49m\u001b[38;5;124;43m\"\u001b[39;49m\u001b[38;5;124;43m6g\u001b[39;49m\u001b[38;5;124;43m\"\u001b[39;49m\u001b[43m,\u001b[49m\n\u001b[1;32m    169\u001b[0m \u001b[43m        \u001b[49m\u001b[38;5;124;43m\"\u001b[39;49m\u001b[38;5;124;43mudf-dependency-archives\u001b[39;49m\u001b[38;5;124;43m\"\u001b[39;49m\u001b[43m:\u001b[49m\u001b[43m \u001b[49m\u001b[43m[\u001b[49m\u001b[38;5;124;43mf\u001b[39;49m\u001b[38;5;124;43m\"\u001b[39;49m\u001b[38;5;132;43;01m{\u001b[39;49;00m\u001b[43mONNX_DEPS_URL\u001b[49m\u001b[38;5;132;43;01m}\u001b[39;49;00m\u001b[38;5;124;43m#onnx_deps\u001b[39;49m\u001b[38;5;124;43m\"\u001b[39;49m\u001b[43m]\u001b[49m\u001b[43m,\u001b[49m\n\u001b[1;32m    170\u001b[0m \u001b[43m    \u001b[49m\u001b[43m}\u001b[49m\u001b[43m,\u001b[49m\n\u001b[1;32m    171\u001b[0m \u001b[43m\u001b[49m\u001b[43m)\u001b[49m\n\u001b[1;32m    173\u001b[0m asset \u001b[38;5;241m=\u001b[39m job\u001b[38;5;241m.\u001b[39mget_results()\u001b[38;5;241m.\u001b[39mget_assets()[\u001b[38;5;241m0\u001b[39m]\n\u001b[1;32m    175\u001b[0m \u001b[38;5;28;01mreturn\u001b[39;00m InferenceResults(\n\u001b[1;32m    176\u001b[0m     job_id\u001b[38;5;241m=\u001b[39mclasses\u001b[38;5;241m.\u001b[39mjob_id,\n\u001b[1;32m    177\u001b[0m     product_url\u001b[38;5;241m=\u001b[39masset\u001b[38;5;241m.\u001b[39mhref,\n\u001b[1;32m    178\u001b[0m     output_path\u001b[38;5;241m=\u001b[39moutput_path,\n\u001b[1;32m    179\u001b[0m     product\u001b[38;5;241m=\u001b[39mproduct_type,\n\u001b[1;32m    180\u001b[0m )\n",
      "File \u001b[0;32m~/miniconda3/envs/exp/lib/python3.11/site-packages/openeo/rest/datacube.py:2242\u001b[0m, in \u001b[0;36mDataCube.execute_batch\u001b[0;34m(self, outputfile, out_format, print, max_poll_interval, connection_retry_interval, job_options, validate, **format_options)\u001b[0m\n\u001b[1;32m   2239\u001b[0m     out_format \u001b[38;5;241m=\u001b[39m guess_format(outputfile)\n\u001b[1;32m   2241\u001b[0m job \u001b[38;5;241m=\u001b[39m \u001b[38;5;28mself\u001b[39m\u001b[38;5;241m.\u001b[39mcreate_job(out_format\u001b[38;5;241m=\u001b[39mout_format, job_options\u001b[38;5;241m=\u001b[39mjob_options, validate\u001b[38;5;241m=\u001b[39mvalidate, \u001b[38;5;241m*\u001b[39m\u001b[38;5;241m*\u001b[39mformat_options)\n\u001b[0;32m-> 2242\u001b[0m \u001b[38;5;28;01mreturn\u001b[39;00m \u001b[43mjob\u001b[49m\u001b[38;5;241;43m.\u001b[39;49m\u001b[43mrun_synchronous\u001b[49m\u001b[43m(\u001b[49m\n\u001b[1;32m   2243\u001b[0m \u001b[43m    \u001b[49m\u001b[43moutputfile\u001b[49m\u001b[38;5;241;43m=\u001b[39;49m\u001b[43moutputfile\u001b[49m\u001b[43m,\u001b[49m\n\u001b[1;32m   2244\u001b[0m \u001b[43m    \u001b[49m\u001b[38;5;28;43mprint\u001b[39;49m\u001b[38;5;241;43m=\u001b[39;49m\u001b[38;5;28;43mprint\u001b[39;49m\u001b[43m,\u001b[49m\u001b[43m \u001b[49m\u001b[43mmax_poll_interval\u001b[49m\u001b[38;5;241;43m=\u001b[39;49m\u001b[43mmax_poll_interval\u001b[49m\u001b[43m,\u001b[49m\u001b[43m \u001b[49m\u001b[43mconnection_retry_interval\u001b[49m\u001b[38;5;241;43m=\u001b[39;49m\u001b[43mconnection_retry_interval\u001b[49m\n\u001b[1;32m   2245\u001b[0m \u001b[43m\u001b[49m\u001b[43m)\u001b[49m\n",
      "File \u001b[0;32m~/miniconda3/envs/exp/lib/python3.11/site-packages/openeo/rest/job.py:239\u001b[0m, in \u001b[0;36mBatchJob.run_synchronous\u001b[0;34m(self, outputfile, print, max_poll_interval, connection_retry_interval)\u001b[0m\n\u001b[1;32m    234\u001b[0m \u001b[38;5;28;01mdef\u001b[39;00m \u001b[38;5;21mrun_synchronous\u001b[39m(\n\u001b[1;32m    235\u001b[0m         \u001b[38;5;28mself\u001b[39m, outputfile: Union[\u001b[38;5;28mstr\u001b[39m, Path, \u001b[38;5;28;01mNone\u001b[39;00m] \u001b[38;5;241m=\u001b[39m \u001b[38;5;28;01mNone\u001b[39;00m,\n\u001b[1;32m    236\u001b[0m         \u001b[38;5;28mprint\u001b[39m\u001b[38;5;241m=\u001b[39m\u001b[38;5;28mprint\u001b[39m, max_poll_interval\u001b[38;5;241m=\u001b[39m\u001b[38;5;241m60\u001b[39m, connection_retry_interval\u001b[38;5;241m=\u001b[39m\u001b[38;5;241m30\u001b[39m\n\u001b[1;32m    237\u001b[0m ) \u001b[38;5;241m-\u001b[39m\u001b[38;5;241m>\u001b[39m BatchJob:\n\u001b[1;32m    238\u001b[0m \u001b[38;5;250m    \u001b[39m\u001b[38;5;124;03m\"\"\"Start the job, wait for it to finish and download result\"\"\"\u001b[39;00m\n\u001b[0;32m--> 239\u001b[0m     \u001b[38;5;28;43mself\u001b[39;49m\u001b[38;5;241;43m.\u001b[39;49m\u001b[43mstart_and_wait\u001b[49m\u001b[43m(\u001b[49m\n\u001b[1;32m    240\u001b[0m \u001b[43m        \u001b[49m\u001b[38;5;28;43mprint\u001b[39;49m\u001b[38;5;241;43m=\u001b[39;49m\u001b[38;5;28;43mprint\u001b[39;49m\u001b[43m,\u001b[49m\u001b[43m \u001b[49m\u001b[43mmax_poll_interval\u001b[49m\u001b[38;5;241;43m=\u001b[39;49m\u001b[43mmax_poll_interval\u001b[49m\u001b[43m,\u001b[49m\u001b[43m \u001b[49m\u001b[43mconnection_retry_interval\u001b[49m\u001b[38;5;241;43m=\u001b[39;49m\u001b[43mconnection_retry_interval\u001b[49m\n\u001b[1;32m    241\u001b[0m \u001b[43m    \u001b[49m\u001b[43m)\u001b[49m\n\u001b[1;32m    242\u001b[0m     \u001b[38;5;66;03m# TODO #135 support multi file result sets too?\u001b[39;00m\n\u001b[1;32m    243\u001b[0m     \u001b[38;5;28;01mif\u001b[39;00m outputfile \u001b[38;5;129;01mis\u001b[39;00m \u001b[38;5;129;01mnot\u001b[39;00m \u001b[38;5;28;01mNone\u001b[39;00m:\n",
      "File \u001b[0;32m~/miniconda3/envs/exp/lib/python3.11/site-packages/openeo/rest/job.py:321\u001b[0m, in \u001b[0;36mBatchJob.start_and_wait\u001b[0;34m(self, print, max_poll_interval, connection_retry_interval, soft_error_max)\u001b[0m\n\u001b[1;32m    317\u001b[0m     \u001b[38;5;28mprint\u001b[39m(\u001b[38;5;28mself\u001b[39m\u001b[38;5;241m.\u001b[39mlogs(level\u001b[38;5;241m=\u001b[39mlogging\u001b[38;5;241m.\u001b[39mERROR))\n\u001b[1;32m    318\u001b[0m     \u001b[38;5;28mprint\u001b[39m(\n\u001b[1;32m    319\u001b[0m         \u001b[38;5;124mf\u001b[39m\u001b[38;5;124m\"\u001b[39m\u001b[38;5;124mFull logs can be inspected in an openEO (web) editor or with `connection.job(\u001b[39m\u001b[38;5;132;01m{\u001b[39;00m\u001b[38;5;28mself\u001b[39m\u001b[38;5;241m.\u001b[39mjob_id\u001b[38;5;132;01m!r}\u001b[39;00m\u001b[38;5;124m).logs()`.\u001b[39m\u001b[38;5;124m\"\u001b[39m\n\u001b[1;32m    320\u001b[0m     )\n\u001b[0;32m--> 321\u001b[0m     \u001b[38;5;28;01mraise\u001b[39;00m JobFailedException(\n\u001b[1;32m    322\u001b[0m         \u001b[38;5;124mf\u001b[39m\u001b[38;5;124m\"\u001b[39m\u001b[38;5;124mBatch job \u001b[39m\u001b[38;5;132;01m{\u001b[39;00m\u001b[38;5;28mself\u001b[39m\u001b[38;5;241m.\u001b[39mjob_id\u001b[38;5;132;01m!r}\u001b[39;00m\u001b[38;5;124m didn\u001b[39m\u001b[38;5;124m'\u001b[39m\u001b[38;5;124mt finish successfully. Status: \u001b[39m\u001b[38;5;132;01m{\u001b[39;00mstatus\u001b[38;5;132;01m}\u001b[39;00m\u001b[38;5;124m (after \u001b[39m\u001b[38;5;132;01m{\u001b[39;00melapsed()\u001b[38;5;132;01m}\u001b[39;00m\u001b[38;5;124m).\u001b[39m\u001b[38;5;124m\"\u001b[39m,\n\u001b[1;32m    323\u001b[0m         job\u001b[38;5;241m=\u001b[39m\u001b[38;5;28mself\u001b[39m,\n\u001b[1;32m    324\u001b[0m     )\n\u001b[1;32m    326\u001b[0m \u001b[38;5;28;01mreturn\u001b[39;00m \u001b[38;5;28mself\u001b[39m\n",
      "\u001b[0;31mJobFailedException\u001b[0m: Batch job 'j-240625994d9e48be8a7f63bd426e1497' didn't finish successfully. Status: error (after 0:23:55)."
     ]
    }
   ],
   "source": [
    "# ---------------------------------------------\n",
    "\n",
    "# DEFINE INPUTS FOR GENERATING THE MAP\n",
    "year = 2021\n",
    "season = \"tc-annual\"\n",
    "output_path = \"/vitodata/worldcereal/test/temporal_crops.tif\"\n",
    "# output_path = '/home/joyvan/test/temporal_crops.nc'\n",
    "\n",
    "# ---------------------------------------------\n",
    "\n",
    "# Get the processing period for the temporary crops product based on the WorldCereal crop calendars:\n",
    "start_date, end_date = get_processing_dates_for_extent(spatial_extent, year, season)\n",
    "print(f\"Using the following period for processing: {start_date} - {end_date}\")\n",
    "\n",
    "# Defining period of interest for temporary crops product\n",
    "temporal_extent = TemporalContext(start_date, end_date)\n",
    "\n",
    "# We specify the cloud backend where computations need to be done\n",
    "backend_context = BackendContext(Backend.FED)\n",
    "\n",
    "# check whether we have a valid spatial extent\n",
    "if spatial_extent is None:\n",
    "    raise ValueError(\"Please first select a processing area using the cells above.\")\n",
    "\n",
    "# We call the function to generate the map on the CDSE backend using OpenEO.\n",
    "# Note that if we do not specify a \"product_type\" in the arguments of the\n",
    "# generate_map function, the temporary crops product will be generated based on\n",
    "# the default model as provided by the WorldCereal consortium.\n",
    "# When output path is specified, the results will be automatically downloaded to the\n",
    "# specified location.\n",
    "Path(output_path).parent.mkdir(parents=True, exist_ok=True)\n",
    "results = generate_map(\n",
    "    spatial_extent, temporal_extent, backend_context, output_path=output_path\n",
    ")\n",
    "\n",
    "# check content of \"results\"\n",
    "print(\"----------------------------------\")\n",
    "print(f\"OpenEO job ID: {results.job_id}\")\n",
    "print(f\"URL to download the map product: {results.product_url}\")\n",
    "print(f\"WorldCereal product type: {results.product}\")"
   ]
  },
  {
   "cell_type": "markdown",
   "metadata": {},
   "source": [
    "The resulting map will be written to disk (specified by output_path), but you can also visualize the map directly through the OpenEO web editor on the Copernicus Data Space Ecosystem, by logging in [HERE](https://openeo.dataspace.copernicus.eu/) with your CDSE account details."
   ]
  },
  {
   "cell_type": "markdown",
   "metadata": {},
   "source": [
    "### IMPORTANT INFORMATION TO ENSURE DISPLAY OF RESULTS WORKS PROPERLY\n",
    "\n",
    "if working on binder, set localtileserver client prefix\n",
    "import os\n",
    "os.environ['LOCALTILESERVER_CLIENT_PREFIX'] = \"proxy/{{port}}\"\n",
    "\n",
    "if working on terrascope virtual machine, ensure that you forward the port of the localtileserver\n",
    "1) in the add_raster function, add the following argument: port=LOCALTILESERVER_PORT\n",
    "2) ensure that whichever number you defined as the LOCALTILESERVER_PORT, this port is forwarded to your local machine\n",
    "e.g. Port 7777, Forwarded address: localhost:7778\n"
   ]
  },
  {
   "cell_type": "code",
   "execution_count": 2,
   "metadata": {},
   "outputs": [
    {
     "data": {
      "application/vnd.jupyter.widget-view+json": {
       "model_id": "8a647a7ed77745a1af53698e1e3cd570",
       "version_major": 2,
       "version_minor": 0
      },
      "text/plain": [
       "Map(center=[20, 0], controls=(ZoomControl(options=['position', 'zoom_in_text', 'zoom_in_title', 'zoom_out_text…"
      ]
     },
     "execution_count": 2,
     "metadata": {},
     "output_type": "execute_result"
    }
   ],
   "source": [
    "infile = \"/vitodata/worldcereal/test/openEO_2020-01-01Z.tif\"\n",
    "\n",
    "outfiles = postprocess_product(infile, product=\"temporary-crops\")\n",
    "\n",
    "m = visualize_products(outfiles, port=LOCALTILESERVER_PORT)\n",
    "m"
   ]
  },
  {
   "cell_type": "markdown",
   "metadata": {},
   "source": [
    "# 3. Explore available reference data\n",
    "\n",
    "In-situ reference data used for training and validating WorldCereal classification models is hosted in the WorldCereal Reference Data Module (RDM). This module can be accessed through a dedicated user interface (https://ewoc-rdm-ui.iiasa.ac.at/map), but also through an API, which will be demonstrated here.\n",
    "\n",
    "In this section we will explore the available reference datasets for our region of interest. In case you would like to test multiple regions of interest, execute the first two cells in [this section](#1.-Define-a-region-of-interest) of the notebook."
   ]
  },
  {
   "cell_type": "code",
   "execution_count": null,
   "metadata": {},
   "outputs": [],
   "source": [
    "# Check full list of available collections\n",
    "headers = {}\n",
    "collectionResponse = requests.get(f\"{RDM_API}/collections\", headers=headers)\n",
    "collections = collectionResponse.json()\n",
    "col_ids = [x[\"collectionId\"] for x in collections[\"items\"]]\n",
    "print(f\"Available collections: {col_ids}\")\n",
    "\n",
    "# Now we check which collections intersect with our AOI\n",
    "bbox_str = f\"Bbox={bbox[0]}&Bbox={bbox[1]}&Bbox={bbox[2]}&Bbox={bbox[3]}\"\n",
    "colSearchUrl = f\"{RDM_API}/collections/search?{bbox_str}\"\n",
    "colSearchResponse = requests.get(colSearchUrl, headers=headers)\n",
    "test = colSearchResponse.json()\n",
    "print(\"The following collections intersect with your AOI:\")\n",
    "for i, col in enumerate(test):\n",
    "    print()\n",
    "    print(f'Collection {i+1}: {col[\"collectionId\"]}')"
   ]
  }
 ],
 "metadata": {
  "kernelspec": {
   "display_name": "exp",
   "language": "python",
   "name": "python3"
  },
  "language_info": {
   "codemirror_mode": {
    "name": "ipython",
    "version": 3
   },
   "file_extension": ".py",
   "mimetype": "text/x-python",
   "name": "python",
   "nbconvert_exporter": "python",
   "pygments_lexer": "ipython3",
   "version": "3.1.undefined"
  }
 },
 "nbformat": 4,
 "nbformat_minor": 2
}
