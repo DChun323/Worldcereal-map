{
 "cells": [
  {
   "cell_type": "markdown",
   "metadata": {},
   "source": [
    "![](./resources/System_v1_inference_header.png)"
   ]
  },
  {
   "cell_type": "markdown",
   "metadata": {},
   "source": [
    "This notebook contains a short demo on how to use the WorldCereal system to generate a cropland extent and crop type map,\n",
    "using default models trained by the WorldCereal consortium.\n",
    "\n",
    "# Content\n",
    "\n",
    "- [Before you start](#before-you-start)\n",
    "- [1. Define region of interest](#1.-Define-a-region-of-interest)\n",
    "- [2. Generate default Worldcereal products](#2.-Generate-default-WorldCereal-products)\n",
    "- [3. Explore available reference data](#3.-Explore-available-reference-data)"
   ]
  },
  {
   "cell_type": "markdown",
   "metadata": {},
   "source": [
    "# Before you start\n",
    "\n",
    "In order to run this notebook, you need to create an account on the Copernicus Data Space Ecosystem,\n",
    "by completing the form [HERE](https://identity.dataspace.copernicus.eu/auth/realms/CDSE/login-actions/registration?client_id=cdse-public&tab_id=eRKGqDvoYI0).\n"
   ]
  },
  {
   "cell_type": "code",
   "execution_count": 1,
   "metadata": {},
   "outputs": [],
   "source": [
    "# First we import the necessary modules to run this notebook\n",
    "\n",
    "import pandas as pd\n",
    "import requests\n",
    "from pathlib import Path\n",
    "from shapely.geometry import shape, Polygon\n",
    "\n",
    "import leafmap\n",
    "\n",
    "from openeo_gfmap import TemporalContext, BoundingBoxExtent\n",
    "from openeo_gfmap.backend import Backend, BackendContext\n",
    "\n",
    "import sys\n",
    "sys.path.append('/home/jovyan/worldcereal-classification/src')\n",
    "\n",
    "from worldcereal.utils.map import (get_ui_map, _latlon_to_utm, \n",
    "                                   visualize_product)\n",
    "from worldcereal.job import generate_map\n",
    "from worldcereal.seasons import get_processing_dates_for_extent\n",
    "\n",
    "RDM_API = 'https://ewoc-rdm-api.iiasa.ac.at'\n",
    "LOCALTILESERVER_PORT = 3334"
   ]
  },
  {
   "cell_type": "markdown",
   "metadata": {},
   "source": [
    "# 1. Define a region of interest\n",
    "\n",
    "When running the code snippet below, an interactive map will be visualized.\n",
    "Click the Rectangle button on the left hand side of the map to start drawing your region of interest.\n",
    "When finished, execute the second cell to store the coordinates of your region of interest. "
   ]
  },
  {
   "cell_type": "code",
   "execution_count": null,
   "metadata": {},
   "outputs": [],
   "source": [
    "m, dc = get_ui_map()\n",
    "m"
   ]
  },
  {
   "cell_type": "code",
   "execution_count": null,
   "metadata": {},
   "outputs": [],
   "source": [
    "# retrieve bounding box from drawn rectangle\n",
    "obj = dc.last_draw\n",
    "if obj.get('geometry') is not None:\n",
    "    poly = Polygon(shape(obj.get('geometry')))\n",
    "    bbox = poly.bounds\n",
    "else:\n",
    "    raise ValueError('Please first draw a rectangle '\n",
    "                     'on the map before proceeding.')\n",
    "print(f'Your area of interest: {bbox}')\n",
    "\n",
    "# We convert our bounding box to local UTM projection for further processing\n",
    "bbox_utm, epsg = _latlon_to_utm(bbox)\n",
    "spatial_extent = BoundingBoxExtent(*bbox_utm, epsg)"
   ]
  },
  {
   "cell_type": "markdown",
   "metadata": {},
   "source": [
    "# 2. Generate default WorldCereal products\n",
    "\n",
    "In this section we will generate two WorldCereal mapping products for our region of interest using a series of pre-trained models made available by the consortium:\n",
    "1) A temporary crops extent product, defined as a binary mask indicating the presence of temporary crops.\n",
    "2) A binary seasonal crop type product, indicating for a specific growing season which pixels previously identified as temporary crops contain our crop of interest (in this case maize).\n",
    "\n",
    "We start with the temporary crops product. This product is generated for a full year. The exact timing of the processing period is defined by the WorldCereal crop calendars."
   ]
  },
  {
   "cell_type": "code",
   "execution_count": null,
   "metadata": {},
   "outputs": [],
   "source": [
    "#---------------------------------------------\n",
    "\n",
    "# DEFINE INPUTS FOR GENERATING THE MAP\n",
    "year = 2021\n",
    "season = 'tc-annual'\n",
    "output_path = '/vitodata/worldcereal/test/temporal_crops_v2.tif'\n",
    "# output_path = '/home/joyvan/test/temporal_crops.nc'\n",
    "\n",
    "#---------------------------------------------\n",
    "\n",
    "# Get the processing period for the temporary crops product based on the WorldCereal crop calendars:\n",
    "start_date, end_date = get_processing_dates_for_extent(spatial_extent, year, season)\n",
    "\n",
    "# Defining period of interest for temporary crops product\n",
    "temporal_extent = TemporalContext(start_date, end_date)\n",
    "\n",
    "# We specify the cloud backend where computations need to be done\n",
    "backend_context = BackendContext(Backend.FED)\n",
    "\n",
    "# We call the function to generate the map on the CDSE backend using OpenEO\n",
    "Path(output_path).parent.mkdir(parents=True, exist_ok=True)\n",
    "generate_map(spatial_extent, temporal_extent,\n",
    "             backend_context, output_path)"
   ]
  },
  {
   "cell_type": "markdown",
   "metadata": {},
   "source": [
    "The resulting map will be written to disk (specified by output_path), but you can also visualize the map directly through the OpenEO web editor on the Copernicus Data Space Ecosystem, by logging in [HERE](https://openeo.dataspace.copernicus.eu/) with your CDSE account details."
   ]
  },
  {
   "cell_type": "markdown",
   "metadata": {},
   "source": [
    "### IMPORTANT INFORMATION TO ENSURE DISPLAY OF RESULTS WORKS PROPERLY\n",
    "\n",
    "if working on binder, set localtileserver client prefix\n",
    "import os\n",
    "os.environ['LOCALTILESERVER_CLIENT_PREFIX'] = \"proxy/{{port}}\"\n",
    "\n",
    "if working on terrascope virtual machine, ensure that you forward the port of the localtileserver\n",
    "1) in the add_raster function, add the following argument: port=LOCALTILESERVER_PORT\n",
    "2) ensure that whichever number you defined as the LOCALTILESERVER_PORT, this port is forwarded to your local machine\n",
    "e.g. Port 7777, Forwarded address: localhost:7778\n"
   ]
  },
  {
   "cell_type": "code",
   "execution_count": 2,
   "metadata": {},
   "outputs": [
    {
     "data": {
      "application/vnd.jupyter.widget-view+json": {
       "model_id": "8a647a7ed77745a1af53698e1e3cd570",
       "version_major": 2,
       "version_minor": 0
      },
      "text/plain": [
       "Map(center=[20, 0], controls=(ZoomControl(options=['position', 'zoom_in_text', 'zoom_in_title', 'zoom_out_text…"
      ]
     },
     "execution_count": 2,
     "metadata": {},
     "output_type": "execute_result"
    }
   ],
   "source": [
    "infile = '/vitodata/worldcereal/test/openEO_2020-01-01Z.tif'\n",
    "m = visualize_product(infile, product='temporary-crops', port=LOCALTILESERVER_PORT)\n",
    "m"
   ]
  },
  {
   "cell_type": "markdown",
   "metadata": {},
   "source": [
    "# 3. Explore available reference data\n",
    "\n",
    "In-situ reference data used for training and validating WorldCereal classification models is hosted in the WorldCereal Reference Data Module (RDM). This module can be accessed through a dedicated user interface (https://ewoc-rdm-ui.iiasa.ac.at/map), but also through an API, which will be demonstrated here.\n",
    "\n",
    "In this section we will explore the available reference datasets for our region of interest. In case you would like to test multiple regions of interest, execute the first two cells in [this section](#1.-Define-a-region-of-interest) of the notebook."
   ]
  },
  {
   "cell_type": "code",
   "execution_count": null,
   "metadata": {},
   "outputs": [],
   "source": [
    "# Check full list of available collections\n",
    "headers = {}\n",
    "collectionResponse = requests.get(f'{RDM_API}/collections', headers=headers)\n",
    "collections = collectionResponse.json()\n",
    "col_ids = [x['collectionId'] for x in collections['items']]\n",
    "print(f'Available collections: {col_ids}')\n",
    "\n",
    "# Now we check which collections intersect with our AOI\n",
    "bbox_str = f'Bbox={bbox[0]}&Bbox={bbox[1]}&Bbox={bbox[2]}&Bbox={bbox[3]}'\n",
    "colSearchUrl = f'{RDM_API}/collections/search?{bbox_str}'\n",
    "colSearchResponse = requests.get(colSearchUrl, headers=headers)\n",
    "test = colSearchResponse.json()\n",
    "print('The following collections intersect with your AOI:')\n",
    "for i, col in enumerate(test):\n",
    "    print()\n",
    "    print(f'Collection {i+1}: {col[\"collectionId\"]}')\n"
   ]
  }
 ],
 "metadata": {
  "kernelspec": {
   "display_name": "exp",
   "language": "python",
   "name": "python3"
  },
  "language_info": {
   "codemirror_mode": {
    "name": "ipython",
    "version": 3
   },
   "file_extension": ".py",
   "mimetype": "text/x-python",
   "name": "python",
   "nbconvert_exporter": "python",
   "pygments_lexer": "ipython3",
   "version": "3.11.9"
  }
 },
 "nbformat": 4,
 "nbformat_minor": 2
}
