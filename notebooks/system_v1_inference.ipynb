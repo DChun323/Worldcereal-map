{
 "cells": [
  {
   "cell_type": "markdown",
   "metadata": {},
   "source": [
    "![](./resources/System_v1_inference_header.png)"
   ]
  },
  {
   "cell_type": "markdown",
   "metadata": {},
   "source": [
    "This notebook contains a short demo on how to use the WorldCereal system to generate a temporary crop extent and crop type map, using default models trained by the WorldCereal consortium.\n",
    "\n",
    "# Content\n",
    "\n",
    "- [Before you start](#before-you-start)\n",
    "- [1. Define region of interest](#1.-Define-a-region-of-interest)\n",
    "- [2. Generate default temporary crop extent product](#2.-Generate-default-temporary-crop-extent-product)\n",
    "- [3. Generate default crop type product](#3.-Generate-default-crop-type-product)\n",
    "- [4. Explore available reference data](#4.-Explore-available-reference-data)"
   ]
  },
  {
   "cell_type": "code",
   "execution_count": 1,
   "metadata": {},
   "outputs": [],
   "source": [
    "%load_ext autoreload\n",
    "%autoreload 2"
   ]
  },
  {
   "cell_type": "markdown",
   "metadata": {},
   "source": [
    "# Before you start\n",
    "\n",
    "In order to run this notebook, you need to create an account on the Copernicus Data Space Ecosystem,\n",
    "by completing the form [HERE](https://identity.dataspace.copernicus.eu/auth/realms/CDSE/login-actions/registration?client_id=cdse-public&tab_id=eRKGqDvoYI0).\n"
   ]
  },
  {
   "cell_type": "code",
   "execution_count": 2,
   "metadata": {},
   "outputs": [],
   "source": [
    "# First we import the necessary modules to run this notebook\n",
    "\n",
    "from pathlib import Path\n",
    "\n",
    "from worldcereal.utils.map import (get_ui_map, get_bbox_from_draw,\n",
    "                                   visualize_products, postprocess_product,\n",
    "                                   show_color_legend)\n",
    "from worldcereal.job import generate_map, WorldCerealProduct\n",
    "from worldcereal.seasons import get_processing_dates_for_extent\n",
    "\n",
    "OUTDIR = Path('/vitodata/worldcereal/test/demo-inference')"
   ]
  },
  {
   "cell_type": "markdown",
   "metadata": {},
   "source": [
    "# 1. Define a region of interest\n",
    "\n",
    "When running the code snippet below, an interactive map will be visualized.\n",
    "Click the Rectangle button on the left hand side of the map to start drawing your region of interest.\n",
    "When finished, execute the second cell to store the coordinates of your region of interest. "
   ]
  },
  {
   "cell_type": "code",
   "execution_count": 3,
   "metadata": {},
   "outputs": [
    {
     "data": {
      "application/vnd.jupyter.widget-view+json": {
       "model_id": "3a705470eb1b454f899e5674d96da348",
       "version_major": 2,
       "version_minor": 0
      },
      "text/plain": [
       "Map(center=[51.1872, 5.1154], controls=(ZoomControl(options=['position', 'zoom_in_text', 'zoom_in_title', 'zoo…"
      ]
     },
     "execution_count": 3,
     "metadata": {},
     "output_type": "execute_result"
    }
   ],
   "source": [
    "m, dc = get_ui_map()\n",
    "m"
   ]
  },
  {
   "cell_type": "code",
   "execution_count": 4,
   "metadata": {},
   "outputs": [
    {
     "name": "stdout",
     "output_type": "stream",
     "text": [
      "Your area of interest: (4.527225, 51.159861, 4.585762, 51.184508)\n",
      "Area of processing extent: 11.73 km²\n"
     ]
    }
   ],
   "source": [
    "# retrieve bounding box from drawn rectangle\n",
    "spatial_extent, bbox, poly = get_bbox_from_draw(dc)"
   ]
  },
  {
   "cell_type": "markdown",
   "metadata": {},
   "source": [
    "# 2. Generate default temporary crop extent product\n",
    "\n",
    "The temporary crops extent product is defined as a binary mask indicating the presence of temporary crops. This product is generated for a full year. The exact timing of the processing period is defined by the WorldCereal crop calendars.\n",
    "\n",
    "In the cell below we specify some input parameters (year, season, output path and product type) and then launch an OpenEO processing job which will generate our map:"
   ]
  },
  {
   "cell_type": "code",
   "execution_count": null,
   "metadata": {},
   "outputs": [],
   "source": [
    "# ---------------------------------------------\n",
    "# DEFINE INPUTS FOR GENERATING THE MAP\n",
    "\n",
    "# Our year of interest:\n",
    "year = 2021\n",
    "# The temporary crop extent product is generated once per year. \n",
    "# The processing period of this product is defined by the tc-annual season:\n",
    "season = \"tc-annual\"\n",
    "# Output path where the generated map will be stored:\n",
    "output_path = str(OUTDIR / 'Belgium_temporal_crop.tif')\n",
    "# Type of product to be generated. For now, we only have the choice between\n",
    "# two pre-trained models, i.e. a CROPLAND model and a CROPTYPE model.\n",
    "product_type = WorldCerealProduct.CROPLAND\n",
    "\n",
    "# ---------------------------------------------\n",
    "\n",
    "# Get the processing period for the temporary crops product\n",
    "# based on the WorldCereal crop calendars:\n",
    "temporal_extent = get_processing_dates_for_extent(spatial_extent, year, season)\n",
    "\n",
    "# check whether we have a valid spatial extent\n",
    "if spatial_extent is None:\n",
    "    raise ValueError(\"Please first select a processing area using the cells above.\")\n",
    "\n",
    "# We call the function to generate the map on the CDSE backend using OpenEO.\n",
    "# Note that if we do not specify a \"product_type\" in the arguments of the\n",
    "# generate_map function, the temporary crops product will be generated based on\n",
    "# the default model as provided by the WorldCereal consortium.\n",
    "# When output path is specified, the results will be automatically downloaded to the\n",
    "# specified location.\n",
    "Path(output_path).parent.mkdir(parents=True, exist_ok=True)\n",
    "results = generate_map(\n",
    "    spatial_extent, temporal_extent, output_path=output_path,\n",
    "    product_type=product_type)\n",
    "\n",
    "# check content of \"results\"\n",
    "print(\"----------------------------------\")\n",
    "print(f\"OpenEO job ID: {results.job_id}\")\n",
    "print(f\"URL to download the map product: {results.product_url}\")"
   ]
  },
  {
   "cell_type": "markdown",
   "metadata": {},
   "source": [
    "After the OpenEO processing job ends, we get to see the OpenEO job ID of the processing job in which our map has been generated and also a direct download link to get access to our generated map. You can login to the [OpenEO web editor](https://openeo.dataspace.copernicus.eu/) on the Copernicus Data Space Ecosystem, and, using the job ID, retrieve more information about this processing job (logs, metadata and direct access to the generated product).\n",
    "\n",
    "The resulting map will be written to disk (specified by output_path).\n",
    "There are three options to visualize the product:\n",
    "- using the code cell below, we visualize the output directly in this notebook.\n",
    "- visualize the map directly through the [OpenEO web editor](https://openeo.dataspace.copernicus.eu/). After logging in, look for the processing job that was used to generate the map (use the job ID) and click the \"View results\" button for direct visualization.\n",
    "- visualize the downloaded product in QGIS locally."
   ]
  },
  {
   "cell_type": "code",
   "execution_count": 14,
   "metadata": {},
   "outputs": [
    {
     "ename": "ValueError",
     "evalue": "RGBA sequence should have length 3 or 4",
     "output_type": "error",
     "traceback": [
      "\u001b[0;31m---------------------------------------------------------------------------\u001b[0m",
      "\u001b[0;31mValueError\u001b[0m                                Traceback (most recent call last)",
      "Cell \u001b[0;32mIn[14], line 7\u001b[0m\n\u001b[1;32m      5\u001b[0m product \u001b[38;5;241m=\u001b[39m \u001b[38;5;124m\"\u001b[39m\u001b[38;5;124mtemporary-crops\u001b[39m\u001b[38;5;124m\"\u001b[39m\n\u001b[1;32m      6\u001b[0m outfiles \u001b[38;5;241m=\u001b[39m postprocess_product(output_path, product\u001b[38;5;241m=\u001b[39mproduct)\n\u001b[0;32m----> 7\u001b[0m \u001b[43mshow_color_legend\u001b[49m\u001b[43m(\u001b[49m\u001b[43mproduct\u001b[49m\u001b[43m)\u001b[49m\n\u001b[1;32m      8\u001b[0m m \u001b[38;5;241m=\u001b[39m visualize_products(outfiles)\n\u001b[1;32m      9\u001b[0m m\n",
      "File \u001b[0;32m~/git/worldcereal/worldcereal-classification/src/worldcereal/utils/map.py:405\u001b[0m, in \u001b[0;36mshow_color_legend\u001b[0;34m(product)\u001b[0m\n\u001b[1;32m    393\u001b[0m text_pos_x \u001b[38;5;241m=\u001b[39m cell_width \u001b[38;5;241m*\u001b[39m col \u001b[38;5;241m+\u001b[39m swatch_width \u001b[38;5;241m+\u001b[39m \u001b[38;5;241m7\u001b[39m\n\u001b[1;32m    395\u001b[0m ax\u001b[38;5;241m.\u001b[39mtext(\n\u001b[1;32m    396\u001b[0m     text_pos_x,\n\u001b[1;32m    397\u001b[0m     y,\n\u001b[0;32m   (...)\u001b[0m\n\u001b[1;32m    401\u001b[0m     verticalalignment\u001b[38;5;241m=\u001b[39m\u001b[38;5;124m\"\u001b[39m\u001b[38;5;124mcenter\u001b[39m\u001b[38;5;124m\"\u001b[39m,\n\u001b[1;32m    402\u001b[0m )\n\u001b[1;32m    404\u001b[0m ax\u001b[38;5;241m.\u001b[39madd_patch(\n\u001b[0;32m--> 405\u001b[0m     \u001b[43mRectangle\u001b[49m\u001b[43m(\u001b[49m\n\u001b[1;32m    406\u001b[0m \u001b[43m        \u001b[49m\u001b[43mxy\u001b[49m\u001b[38;5;241;43m=\u001b[39;49m\u001b[43m(\u001b[49m\u001b[43mswatch_start_x\u001b[49m\u001b[43m,\u001b[49m\u001b[43m \u001b[49m\u001b[43my\u001b[49m\u001b[43m \u001b[49m\u001b[38;5;241;43m-\u001b[39;49m\u001b[43m \u001b[49m\u001b[38;5;241;43m9\u001b[39;49m\u001b[43m)\u001b[49m\u001b[43m,\u001b[49m\n\u001b[1;32m    407\u001b[0m \u001b[43m        \u001b[49m\u001b[43mwidth\u001b[49m\u001b[38;5;241;43m=\u001b[39;49m\u001b[43mswatch_width\u001b[49m\u001b[43m,\u001b[49m\n\u001b[1;32m    408\u001b[0m \u001b[43m        \u001b[49m\u001b[43mheight\u001b[49m\u001b[38;5;241;43m=\u001b[39;49m\u001b[38;5;241;43m18\u001b[39;49m\u001b[43m,\u001b[49m\n\u001b[1;32m    409\u001b[0m \u001b[43m        \u001b[49m\u001b[43mfacecolor\u001b[49m\u001b[38;5;241;43m=\u001b[39;49m\u001b[43mcolors\u001b[49m\u001b[43m[\u001b[49m\u001b[43mname\u001b[49m\u001b[43m]\u001b[49m\u001b[43m,\u001b[49m\n\u001b[1;32m    410\u001b[0m \u001b[43m        \u001b[49m\u001b[43medgecolor\u001b[49m\u001b[38;5;241;43m=\u001b[39;49m\u001b[38;5;124;43m\"\u001b[39;49m\u001b[38;5;124;43m0.7\u001b[39;49m\u001b[38;5;124;43m\"\u001b[39;49m\u001b[43m,\u001b[49m\n\u001b[1;32m    411\u001b[0m \u001b[43m    \u001b[49m\u001b[43m)\u001b[49m\n\u001b[1;32m    412\u001b[0m )\n",
      "File \u001b[0;32m~/miniconda3/envs/exp/lib/python3.11/site-packages/matplotlib/patches.py:762\u001b[0m, in \u001b[0;36mRectangle.__init__\u001b[0;34m(self, xy, width, height, angle, rotation_point, **kwargs)\u001b[0m\n\u001b[1;32m    738\u001b[0m \u001b[38;5;129m@_docstring\u001b[39m\u001b[38;5;241m.\u001b[39mdedent_interpd\n\u001b[1;32m    739\u001b[0m \u001b[38;5;28;01mdef\u001b[39;00m \u001b[38;5;21m__init__\u001b[39m(\u001b[38;5;28mself\u001b[39m, xy, width, height, \u001b[38;5;241m*\u001b[39m,\n\u001b[1;32m    740\u001b[0m              angle\u001b[38;5;241m=\u001b[39m\u001b[38;5;241m0.0\u001b[39m, rotation_point\u001b[38;5;241m=\u001b[39m\u001b[38;5;124m'\u001b[39m\u001b[38;5;124mxy\u001b[39m\u001b[38;5;124m'\u001b[39m, \u001b[38;5;241m*\u001b[39m\u001b[38;5;241m*\u001b[39mkwargs):\n\u001b[1;32m    741\u001b[0m \u001b[38;5;250m    \u001b[39m\u001b[38;5;124;03m\"\"\"\u001b[39;00m\n\u001b[1;32m    742\u001b[0m \u001b[38;5;124;03m    Parameters\u001b[39;00m\n\u001b[1;32m    743\u001b[0m \u001b[38;5;124;03m    ----------\u001b[39;00m\n\u001b[0;32m   (...)\u001b[0m\n\u001b[1;32m    760\u001b[0m \u001b[38;5;124;03m        %(Patch:kwdoc)s\u001b[39;00m\n\u001b[1;32m    761\u001b[0m \u001b[38;5;124;03m    \"\"\"\u001b[39;00m\n\u001b[0;32m--> 762\u001b[0m     \u001b[38;5;28;43msuper\u001b[39;49m\u001b[43m(\u001b[49m\u001b[43m)\u001b[49m\u001b[38;5;241;43m.\u001b[39;49m\u001b[38;5;21;43m__init__\u001b[39;49m\u001b[43m(\u001b[49m\u001b[38;5;241;43m*\u001b[39;49m\u001b[38;5;241;43m*\u001b[39;49m\u001b[43mkwargs\u001b[49m\u001b[43m)\u001b[49m\n\u001b[1;32m    763\u001b[0m     \u001b[38;5;28mself\u001b[39m\u001b[38;5;241m.\u001b[39m_x0 \u001b[38;5;241m=\u001b[39m xy[\u001b[38;5;241m0\u001b[39m]\n\u001b[1;32m    764\u001b[0m     \u001b[38;5;28mself\u001b[39m\u001b[38;5;241m.\u001b[39m_y0 \u001b[38;5;241m=\u001b[39m xy[\u001b[38;5;241m1\u001b[39m]\n",
      "File \u001b[0;32m~/miniconda3/envs/exp/lib/python3.11/site-packages/matplotlib/patches.py:84\u001b[0m, in \u001b[0;36mPatch.__init__\u001b[0;34m(self, edgecolor, facecolor, color, linewidth, linestyle, antialiased, hatch, fill, capstyle, joinstyle, **kwargs)\u001b[0m\n\u001b[1;32m     82\u001b[0m \u001b[38;5;28;01melse\u001b[39;00m:\n\u001b[1;32m     83\u001b[0m     \u001b[38;5;28mself\u001b[39m\u001b[38;5;241m.\u001b[39mset_edgecolor(edgecolor)\n\u001b[0;32m---> 84\u001b[0m     \u001b[38;5;28;43mself\u001b[39;49m\u001b[38;5;241;43m.\u001b[39;49m\u001b[43mset_facecolor\u001b[49m\u001b[43m(\u001b[49m\u001b[43mfacecolor\u001b[49m\u001b[43m)\u001b[49m\n\u001b[1;32m     86\u001b[0m \u001b[38;5;28mself\u001b[39m\u001b[38;5;241m.\u001b[39m_linewidth \u001b[38;5;241m=\u001b[39m \u001b[38;5;241m0\u001b[39m\n\u001b[1;32m     87\u001b[0m \u001b[38;5;28mself\u001b[39m\u001b[38;5;241m.\u001b[39m_unscaled_dash_pattern \u001b[38;5;241m=\u001b[39m (\u001b[38;5;241m0\u001b[39m, \u001b[38;5;28;01mNone\u001b[39;00m)  \u001b[38;5;66;03m# offset, dash\u001b[39;00m\n",
      "File \u001b[0;32m~/miniconda3/envs/exp/lib/python3.11/site-packages/matplotlib/patches.py:403\u001b[0m, in \u001b[0;36mPatch.set_facecolor\u001b[0;34m(self, color)\u001b[0m\n\u001b[1;32m    395\u001b[0m \u001b[38;5;250m\u001b[39m\u001b[38;5;124;03m\"\"\"\u001b[39;00m\n\u001b[1;32m    396\u001b[0m \u001b[38;5;124;03mSet the patch face color.\u001b[39;00m\n\u001b[1;32m    397\u001b[0m \n\u001b[0;32m   (...)\u001b[0m\n\u001b[1;32m    400\u001b[0m \u001b[38;5;124;03mcolor : :mpltype:`color` or None\u001b[39;00m\n\u001b[1;32m    401\u001b[0m \u001b[38;5;124;03m\"\"\"\u001b[39;00m\n\u001b[1;32m    402\u001b[0m \u001b[38;5;28mself\u001b[39m\u001b[38;5;241m.\u001b[39m_original_facecolor \u001b[38;5;241m=\u001b[39m color\n\u001b[0;32m--> 403\u001b[0m \u001b[38;5;28;43mself\u001b[39;49m\u001b[38;5;241;43m.\u001b[39;49m\u001b[43m_set_facecolor\u001b[49m\u001b[43m(\u001b[49m\u001b[43mcolor\u001b[49m\u001b[43m)\u001b[49m\n",
      "File \u001b[0;32m~/miniconda3/envs/exp/lib/python3.11/site-packages/matplotlib/patches.py:391\u001b[0m, in \u001b[0;36mPatch._set_facecolor\u001b[0;34m(self, color)\u001b[0m\n\u001b[1;32m    389\u001b[0m     color \u001b[38;5;241m=\u001b[39m mpl\u001b[38;5;241m.\u001b[39mrcParams[\u001b[38;5;124m'\u001b[39m\u001b[38;5;124mpatch.facecolor\u001b[39m\u001b[38;5;124m'\u001b[39m]\n\u001b[1;32m    390\u001b[0m alpha \u001b[38;5;241m=\u001b[39m \u001b[38;5;28mself\u001b[39m\u001b[38;5;241m.\u001b[39m_alpha \u001b[38;5;28;01mif\u001b[39;00m \u001b[38;5;28mself\u001b[39m\u001b[38;5;241m.\u001b[39m_fill \u001b[38;5;28;01melse\u001b[39;00m \u001b[38;5;241m0\u001b[39m\n\u001b[0;32m--> 391\u001b[0m \u001b[38;5;28mself\u001b[39m\u001b[38;5;241m.\u001b[39m_facecolor \u001b[38;5;241m=\u001b[39m \u001b[43mcolors\u001b[49m\u001b[38;5;241;43m.\u001b[39;49m\u001b[43mto_rgba\u001b[49m\u001b[43m(\u001b[49m\u001b[43mcolor\u001b[49m\u001b[43m,\u001b[49m\u001b[43m \u001b[49m\u001b[43malpha\u001b[49m\u001b[43m)\u001b[49m\n\u001b[1;32m    392\u001b[0m \u001b[38;5;28mself\u001b[39m\u001b[38;5;241m.\u001b[39mstale \u001b[38;5;241m=\u001b[39m \u001b[38;5;28;01mTrue\u001b[39;00m\n",
      "File \u001b[0;32m~/miniconda3/envs/exp/lib/python3.11/site-packages/matplotlib/colors.py:309\u001b[0m, in \u001b[0;36mto_rgba\u001b[0;34m(c, alpha)\u001b[0m\n\u001b[1;32m    307\u001b[0m     rgba \u001b[38;5;241m=\u001b[39m \u001b[38;5;28;01mNone\u001b[39;00m\n\u001b[1;32m    308\u001b[0m \u001b[38;5;28;01mif\u001b[39;00m rgba \u001b[38;5;129;01mis\u001b[39;00m \u001b[38;5;28;01mNone\u001b[39;00m:  \u001b[38;5;66;03m# Suppress exception chaining of cache lookup failure.\u001b[39;00m\n\u001b[0;32m--> 309\u001b[0m     rgba \u001b[38;5;241m=\u001b[39m \u001b[43m_to_rgba_no_colorcycle\u001b[49m\u001b[43m(\u001b[49m\u001b[43mc\u001b[49m\u001b[43m,\u001b[49m\u001b[43m \u001b[49m\u001b[43malpha\u001b[49m\u001b[43m)\u001b[49m\n\u001b[1;32m    310\u001b[0m     \u001b[38;5;28;01mtry\u001b[39;00m:\n\u001b[1;32m    311\u001b[0m         _colors_full_map\u001b[38;5;241m.\u001b[39mcache[c, alpha] \u001b[38;5;241m=\u001b[39m rgba\n",
      "File \u001b[0;32m~/miniconda3/envs/exp/lib/python3.11/site-packages/matplotlib/colors.py:400\u001b[0m, in \u001b[0;36m_to_rgba_no_colorcycle\u001b[0;34m(c, alpha)\u001b[0m\n\u001b[1;32m    398\u001b[0m     \u001b[38;5;28;01mraise\u001b[39;00m \u001b[38;5;167;01mValueError\u001b[39;00m(\u001b[38;5;124mf\u001b[39m\u001b[38;5;124m\"\u001b[39m\u001b[38;5;124mInvalid RGBA argument: \u001b[39m\u001b[38;5;132;01m{\u001b[39;00morig_c\u001b[38;5;132;01m!r}\u001b[39;00m\u001b[38;5;124m\"\u001b[39m)\n\u001b[1;32m    399\u001b[0m \u001b[38;5;28;01mif\u001b[39;00m \u001b[38;5;28mlen\u001b[39m(c) \u001b[38;5;129;01mnot\u001b[39;00m \u001b[38;5;129;01min\u001b[39;00m [\u001b[38;5;241m3\u001b[39m, \u001b[38;5;241m4\u001b[39m]:\n\u001b[0;32m--> 400\u001b[0m     \u001b[38;5;28;01mraise\u001b[39;00m \u001b[38;5;167;01mValueError\u001b[39;00m(\u001b[38;5;124m\"\u001b[39m\u001b[38;5;124mRGBA sequence should have length 3 or 4\u001b[39m\u001b[38;5;124m\"\u001b[39m)\n\u001b[1;32m    401\u001b[0m \u001b[38;5;28;01mif\u001b[39;00m \u001b[38;5;129;01mnot\u001b[39;00m \u001b[38;5;28mall\u001b[39m(\u001b[38;5;28misinstance\u001b[39m(x, Real) \u001b[38;5;28;01mfor\u001b[39;00m x \u001b[38;5;129;01min\u001b[39;00m c):\n\u001b[1;32m    402\u001b[0m     \u001b[38;5;66;03m# Checks that don't work: `map(float, ...)`, `np.array(..., float)` and\u001b[39;00m\n\u001b[1;32m    403\u001b[0m     \u001b[38;5;66;03m# `np.array(...).astype(float)` would all convert \"0.5\" to 0.5.\u001b[39;00m\n\u001b[1;32m    404\u001b[0m     \u001b[38;5;28;01mraise\u001b[39;00m \u001b[38;5;167;01mValueError\u001b[39;00m(\u001b[38;5;124mf\u001b[39m\u001b[38;5;124m\"\u001b[39m\u001b[38;5;124mInvalid RGBA argument: \u001b[39m\u001b[38;5;132;01m{\u001b[39;00morig_c\u001b[38;5;132;01m!r}\u001b[39;00m\u001b[38;5;124m\"\u001b[39m)\n",
      "\u001b[0;31mValueError\u001b[0m: RGBA sequence should have length 3 or 4"
     ]
    },
    {
     "data": {
      "image/png": "[encoded data removed]",
      "text/plain": [
       "<Figure size 236x68 with 1 Axes>"
      ]
     },
     "metadata": {},
     "output_type": "display_data"
    }
   ],
   "source": [
    "# In this cell, we prepare the generated map for visualization.\n",
    "# Post-processing includes separating the classification labels and probabilities into separate files and assigning an easily interpretable color code to these products.\n",
    "# During post-processing, we also clean the output map through a spatial majority filter.\n",
    "output_path = str(OUTDIR / 'Belgium_temporal_crop.tif')\n",
    "product = \"temporary-crops\"\n",
    "outfiles = postprocess_product(output_path, product=product)\n",
    "show_color_legend(product)\n",
    "m = visualize_products(outfiles)\n",
    "m\n"
   ]
  },
  {
   "cell_type": "markdown",
   "metadata": {},
   "source": [
    "# 3. Generate default crop type product\n",
    "\n",
    "The WorldCereal consortium has pre-trained a default crop type model, containing the following crops:\n",
    "- Barley\n",
    "- Maize\n",
    "- Millet/Sorghum\n",
    "- Rapeseed\n",
    "- Soybean\n",
    "- Sunflower\n",
    "- Wheat\n",
    "- Other crop\n",
    "\n",
    "This product is generated for a specific growing season. For each region in the world, the WorldCereal system has pre-defined two major growing seasons (tc-s1 and tc-s2) in the WorldCereal crop calendars. Seasons are ordered chronologically, i.e. tc-s1 is the season which ends first in a calendar year.\n",
    "\n",
    "Note that the default WorldCereal crop type map is automatically masked using the binary temporary crop extent product, which is generated before the actual crop type product in the same workflow. This means that if you are interested in the crop type map, you do not need to generate the temporary crop extent product separately.\n",
    "\n",
    "In the cell below we specify some input parameters (year, season, output path and product type) and then launch an OpenEO processing job which will generate our map:"
   ]
  },
  {
   "cell_type": "code",
   "execution_count": 5,
   "metadata": {},
   "outputs": [
    {
     "name": "stderr",
     "output_type": "stream",
     "text": [
      "\u001b[32m2024-07-02 21:36:48.395\u001b[0m | \u001b[1mINFO    \u001b[0m | \u001b[36mworldcereal.seasons\u001b[0m:\u001b[36mdoy_from_tiff\u001b[0m:\u001b[36m128\u001b[0m - \u001b[1mLoading DOY data from: S1_EOS_WGS84.tif\u001b[0m\n"
     ]
    },
    {
     "name": "stdout",
     "output_type": "stream",
     "text": [
      "Derived the following period for processing: 2020-08-06 00:00:00 - 2021-08-05 00:00:00\n",
      "Authenticated using refresh token.\n",
      "Selected orbit direction: ASCENDING from max accumulated area overlap between bounds and products.\n"
     ]
    },
    {
     "name": "stderr",
     "output_type": "stream",
     "text": [
      "WARNING:PrestoFeatureExtractor:No additional dependencies are defined. If you wish to add dependencies to your feature extractor, override the `dependencies` method in your class.\n",
      "WARNING:PrestoFeatureExtractor:No additional dependencies are defined. If you wish to add dependencies to your feature extractor, override the `dependencies` method in your class.\n"
     ]
    },
    {
     "name": "stdout",
     "output_type": "stream",
     "text": [
      "0:00:00 Job 'j-2407026d9ecd4c3490671ac857ec8738': send 'start'\n",
      "0:00:28 Job 'j-2407026d9ecd4c3490671ac857ec8738': created (progress 0%)\n",
      "0:00:34 Job 'j-2407026d9ecd4c3490671ac857ec8738': created (progress 0%)\n",
      "0:00:40 Job 'j-2407026d9ecd4c3490671ac857ec8738': created (progress 0%)\n",
      "0:00:48 Job 'j-2407026d9ecd4c3490671ac857ec8738': created (progress 0%)\n",
      "0:00:58 Job 'j-2407026d9ecd4c3490671ac857ec8738': created (progress 0%)\n",
      "0:01:12 Job 'j-2407026d9ecd4c3490671ac857ec8738': running (progress N/A)\n",
      "0:01:27 Job 'j-2407026d9ecd4c3490671ac857ec8738': running (progress N/A)\n",
      "0:01:47 Job 'j-2407026d9ecd4c3490671ac857ec8738': running (progress N/A)\n",
      "0:02:13 Job 'j-2407026d9ecd4c3490671ac857ec8738': running (progress N/A)\n",
      "0:02:47 Job 'j-2407026d9ecd4c3490671ac857ec8738': running (progress N/A)\n",
      "0:03:25 Job 'j-2407026d9ecd4c3490671ac857ec8738': running (progress N/A)\n",
      "0:04:13 Job 'j-2407026d9ecd4c3490671ac857ec8738': running (progress N/A)\n",
      "0:05:12 Job 'j-2407026d9ecd4c3490671ac857ec8738': running (progress N/A)\n",
      "0:06:13 Job 'j-2407026d9ecd4c3490671ac857ec8738': running (progress N/A)\n",
      "0:07:14 Job 'j-2407026d9ecd4c3490671ac857ec8738': running (progress N/A)\n",
      "0:08:20 Job 'j-2407026d9ecd4c3490671ac857ec8738': running (progress N/A)\n",
      "0:09:20 Job 'j-2407026d9ecd4c3490671ac857ec8738': running (progress N/A)\n",
      "0:10:21 Job 'j-2407026d9ecd4c3490671ac857ec8738': running (progress N/A)\n",
      "0:11:27 Job 'j-2407026d9ecd4c3490671ac857ec8738': running (progress N/A)\n",
      "0:12:28 Job 'j-2407026d9ecd4c3490671ac857ec8738': running (progress N/A)\n",
      "0:13:47 Job 'j-2407026d9ecd4c3490671ac857ec8738': running (progress N/A)\n",
      "0:14:52 Job 'j-2407026d9ecd4c3490671ac857ec8738': running (progress N/A)\n",
      "0:16:01 Job 'j-2407026d9ecd4c3490671ac857ec8738': finished (progress 100%)\n"
     ]
    },
    {
     "name": "stderr",
     "output_type": "stream",
     "text": [
      "INFO:openeo.rest.job:Downloading Job result asset 'openEO_2020-01-01Z.tif' from https://openeo.creo.vito.be/openeo/jobs/j-2407026d9ecd4c3490671ac857ec8738/results/assets/ZGNjYWI2ZDktODQ2Yy00OGE5LTlkOTQtNDk3MTQ2Y2IyMjg1/06e35c93dd3f2ade203f30ff3ae97b55/openEO_2020-01-01Z.tif?expires=1720554798 to /vitodata/worldcereal/test/demo-inference/Belgium_crop_type.tif\n"
     ]
    },
    {
     "name": "stdout",
     "output_type": "stream",
     "text": [
      "----------------------------------\n",
      "OpenEO job ID: j-2407026d9ecd4c3490671ac857ec8738\n",
      "URL to download the map product: https://openeo.creo.vito.be/openeo/jobs/j-2407026d9ecd4c3490671ac857ec8738/results/assets/ZGNjYWI2ZDktODQ2Yy00OGE5LTlkOTQtNDk3MTQ2Y2IyMjg1/8d6adef26c53a3f95f5fab56c6b4aff9/openEO_2020-01-01Z.tif?expires=1720554800\n"
     ]
    }
   ],
   "source": [
    "# ---------------------------------------------\n",
    "# DEFINE INPUTS FOR GENERATING THE MAP\n",
    "\n",
    "# Our year of interest:\n",
    "year = 2021\n",
    "# The crop type product can be generated for each individual growing season.\n",
    "# By default, the WorldCereal system defines two growing seasons per year\n",
    "# for each location on the planet, indicated by \"tc-s1\" and \"tc-s2\".\n",
    "# Here, we choose the first season:\n",
    "season = \"tc-s1\"\n",
    "# Output path where the generated map will be stored:\n",
    "output_path = str(OUTDIR / 'Belgium_crop_type.tif')\n",
    "# Type of product to be generated. For now, we only have the choice between\n",
    "# two pre-trained models, i.e. a CROPLAND model and a CROPTYPE model.\n",
    "product_type = WorldCerealProduct.CROPTYPE\n",
    "\n",
    "# ---------------------------------------------\n",
    "\n",
    "# Get the processing period for the temporary crops product\n",
    "# based on the WorldCereal crop calendars:\n",
    "temporal_extent = get_processing_dates_for_extent(spatial_extent, year, season)\n",
    "\n",
    "# check whether we have a valid spatial extent\n",
    "if spatial_extent is None:\n",
    "    raise ValueError(\"Please first select a processing area using the cells above.\")\n",
    "\n",
    "# We call the function to generate the map on the CDSE backend using OpenEO.\n",
    "# Note that if we do not specify a \"product_type\" in the arguments of the\n",
    "# generate_map function, the temporary crops product will be generated based on\n",
    "# the default model as provided by the WorldCereal consortium.\n",
    "# When output path is specified, the results will be automatically downloaded to the\n",
    "# specified location.\n",
    "Path(output_path).parent.mkdir(parents=True, exist_ok=True)\n",
    "results = generate_map(\n",
    "    spatial_extent, temporal_extent, output_path=output_path,\n",
    "    product_type=product_type)\n",
    "\n",
    "# check content of \"results\"\n",
    "print(\"----------------------------------\")\n",
    "print(f\"OpenEO job ID: {results.job_id}\")\n",
    "print(f\"URL to download the map product: {results.product_url}\")"
   ]
  },
  {
   "cell_type": "code",
   "execution_count": 7,
   "metadata": {},
   "outputs": [
    {
     "data": {
      "application/vnd.jupyter.widget-view+json": {
       "model_id": "f871345d9d5049a18211cb201567c1dc",
       "version_major": 2,
       "version_minor": 0
      },
      "text/plain": [
       "Map(center=[20, 0], controls=(ZoomControl(options=['position', 'zoom_in_text', 'zoom_in_title', 'zoom_out_text…"
      ]
     },
     "execution_count": 7,
     "metadata": {},
     "output_type": "execute_result"
    }
   ],
   "source": [
    "# In this cell, we prepare the generated map for visualization.\n",
    "# Post-processing includes separating the classification labels and probabilities into separate files and assigning an easily interpretable color code to these products.\n",
    "# During post-processing, we also clean the output map through a spatial majority filter.\n",
    "output_path = str(OUTDIR / 'Belgium_crop_type.tif')\n",
    "product = \"croptype\"\n",
    "outfiles = postprocess_product(output_path, product=product)\n",
    "show_color_legend(product)\n",
    "m = visualize_products(outfiles)\n",
    "m"
   ]
  },
  {
   "cell_type": "markdown",
   "metadata": {},
   "source": [
    "# 3. Explore available reference data\n",
    "\n",
    "To gain an understanding of how much local training data was available to the classification model that generated the maps in your area of interest, we use the API of the WorldCereal Reference Data Module (RDM) to check which datasets (collections) intersect with your area of interest.\n",
    "\n",
    "The RDM can also be accessed through a [dedicated user interface](https://ewoc-rdm-ui.iiasa.ac.at/map) in case you wish to explore further.\n",
    "\n",
    "In case you would like to test multiple regions of interest, execute the first two cells in [this section](#1.-Define-a-region-of-interest) of the notebook."
   ]
  },
  {
   "cell_type": "code",
   "execution_count": null,
   "metadata": {},
   "outputs": [],
   "source": [
    "import sys\n",
    "sys.path.append('/home/jeroendegerickx/git/worldcereal/worldcereal-classification/notebooks')\n",
    "\n",
    "from utils import rdm_collection_request\n",
    "\n",
    "# by default, the collection request uses a buffer around the requested bounding box of 250 km\n",
    "# the buffer can be adjusted by specifying the buffer parameter (in meters)\n",
    "col_ids = rdm_collection_request(poly)\n"
   ]
  }
 ],
 "metadata": {
  "kernelspec": {
   "display_name": "exp",
   "language": "python",
   "name": "python3"
  },
  "language_info": {
   "codemirror_mode": {
    "name": "ipython",
    "version": 3
   },
   "file_extension": ".py",
   "mimetype": "text/x-python",
   "name": "python",
   "nbconvert_exporter": "python",
   "pygments_lexer": "ipython3",
   "version": "3.11.9"
  }
 },
 "nbformat": 4,
 "nbformat_minor": 2
}
