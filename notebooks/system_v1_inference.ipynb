{
 "cells": [
  {
   "cell_type": "markdown",
   "metadata": {},
   "source": [
    "![](./resources/System_v1_inference_header.png)"
   ]
  },
  {
   "cell_type": "markdown",
   "metadata": {},
   "source": [
    "This notebook contains a short demo on how to use the WorldCereal system to generate a cropland extent and crop type map,\n",
    "using default models trained by the WorldCereal consortium.\n",
    "\n",
    "# Content\n",
    "\n",
    "- [Before you start](#before-you-start)\n",
    "- [1. Define region of interest](#1.-Define-a-region-of-interest)\n",
    "- [2. Generate default Worldcereal products](#2.-Generate-default-WorldCereal-products)\n",
    "- [3. Explore available reference data](#3.-Explore-available-reference-data)"
   ]
  },
  {
   "cell_type": "markdown",
   "metadata": {},
   "source": [
    "# Before you start\n",
    "\n",
    "In order to run this notebook, you need to create an account on the Copernicus Data Space Ecosystem,\n",
    "by completing the form [HERE](https://identity.dataspace.copernicus.eu/auth/realms/CDSE/login-actions/registration?client_id=cdse-public&tab_id=eRKGqDvoYI0).\n"
   ]
  },
  {
   "cell_type": "code",
   "execution_count": 1,
   "metadata": {},
   "outputs": [],
   "source": [
    "# First we import the necessary modules to run this notebook\n",
    "\n",
    "import pandas as pd\n",
    "import requests\n",
    "from pathlib import Path\n",
    "from shapely.geometry import shape, Polygon\n",
    "\n",
    "from openeo_gfmap import TemporalContext, BoundingBoxExtent\n",
    "from openeo_gfmap.backend import Backend, BackendContext\n",
    "\n",
    "import sys\n",
    "sys.path.append('/home/jovyan/worldcereal-classification/src')\n",
    "\n",
    "from worldcereal.utils.map import (get_ui_map, _latlon_to_utm, \n",
    "                                   visualize_product)\n",
    "from worldcereal.job import generate_map\n",
    "from worldcereal.seasons import get_processing_dates_for_extent\n",
    "\n",
    "RDM_API = 'https://ewoc-rdm-api.iiasa.ac.at'\n",
    "LOCALTILESERVER_PORT = 8889"
   ]
  },
  {
   "cell_type": "markdown",
   "metadata": {},
   "source": [
    "# 1. Define a region of interest\n",
    "\n",
    "When running the code snippet below, an interactive map will be visualized.\n",
    "Click the Rectangle button on the left hand side of the map to start drawing your region of interest.\n",
    "When finished, execute the second cell to store the coordinates of your region of interest. "
   ]
  },
  {
   "cell_type": "code",
   "execution_count": 2,
   "metadata": {},
   "outputs": [
    {
     "data": {
      "application/vnd.jupyter.widget-view+json": {
       "model_id": "b7b60cf6d17f47f4a10241c5658c7e3c",
       "version_major": 2,
       "version_minor": 0
      },
      "text/plain": [
       "Map(center=[51.1872, 5.1154], controls=(ZoomControl(options=['position', 'zoom_in_text', 'zoom_in_title', 'zoo…"
      ]
     },
     "execution_count": 2,
     "metadata": {},
     "output_type": "execute_result"
    }
   ],
   "source": [
    "m, dc = get_ui_map()\n",
    "m"
   ]
  },
  {
   "cell_type": "code",
   "execution_count": 8,
   "metadata": {},
   "outputs": [
    {
     "name": "stdout",
     "output_type": "stream",
     "text": [
      "Your area of interest: (5.036545, 51.181388, 5.061264, 51.190641)\n",
      "Area of processing extent: 1.89 km²\n"
     ]
    }
   ],
   "source": [
    "# retrieve bounding box from drawn rectangle\n",
    "obj = dc.last_draw\n",
    "if obj.get('geometry') is not None:\n",
    "    poly = Polygon(shape(obj.get('geometry')))\n",
    "    bbox = poly.bounds\n",
    "else:\n",
    "    raise ValueError('Please first draw a rectangle '\n",
    "                     'on the map before proceeding.')\n",
    "print(f'Your area of interest: {bbox}')\n",
    "\n",
    "# We convert our bounding box to local UTM projection for further processing\n",
    "bbox_utm, epsg = _latlon_to_utm(bbox)\n",
    "spatial_extent = BoundingBoxExtent(*bbox_utm, epsg)\n",
    "area = (bbox_utm[2] - bbox_utm[0]) * (bbox_utm[3] - bbox_utm[1]) / 1000000\n",
    "print(f'Area of processing extent: {area:.2f} km²')"
   ]
  },
  {
   "cell_type": "markdown",
   "metadata": {},
   "source": [
    "# 2. Generate default WorldCereal products\n",
    "\n",
    "In this section we will generate two WorldCereal mapping products for our region of interest using a series of pre-trained models made available by the consortium:\n",
    "1) A temporary crops extent product, defined as a binary mask indicating the presence of temporary crops.\n",
    "2) A binary seasonal crop type product, indicating for a specific growing season which pixels previously identified as temporary crops contain our crop of interest (in this case maize).\n",
    "\n",
    "We start with the temporary crops product. This product is generated for a full year. The exact timing of the processing period is defined by the WorldCereal crop calendars."
   ]
  },
  {
   "cell_type": "code",
   "execution_count": 9,
   "metadata": {},
   "outputs": [
    {
     "name": "stderr",
     "output_type": "stream",
     "text": [
      "\u001b[32m2024-06-25 12:05:45.843\u001b[0m | \u001b[1mINFO    \u001b[0m | \u001b[36mworldcereal.seasons\u001b[0m:\u001b[36mdoy_from_tiff\u001b[0m:\u001b[36m125\u001b[0m - \u001b[1mLoading DOY data from: ANNUAL_EOS_WGS84.tif\u001b[0m\n"
     ]
    },
    {
     "name": "stdout",
     "output_type": "stream",
     "text": [
      "Authenticated using refresh token.\n",
      "Selected orbit direction: DESCENDING from max accumulated area overlap between bounds and products.\n"
     ]
    },
    {
     "name": "stderr",
     "output_type": "stream",
     "text": [
      "WARNING:PrestoFeatureExtractor:No additional dependencies are defined. If you wish to add dependencies to your feature extractor, override the `dependencies` method in your class.\n"
     ]
    },
    {
     "name": "stdout",
     "output_type": "stream",
     "text": [
      "0:00:00 Job 'j-240625ac0b6540aa92e9c15539d973a7': send 'start'\n",
      "0:00:19 Job 'j-240625ac0b6540aa92e9c15539d973a7': created (progress 0%)\n",
      "0:00:26 Job 'j-240625ac0b6540aa92e9c15539d973a7': created (progress 0%)\n",
      "0:00:32 Job 'j-240625ac0b6540aa92e9c15539d973a7': created (progress 0%)\n",
      "0:00:40 Job 'j-240625ac0b6540aa92e9c15539d973a7': created (progress 0%)\n",
      "0:00:51 Job 'j-240625ac0b6540aa92e9c15539d973a7': created (progress 0%)\n",
      "0:01:04 Job 'j-240625ac0b6540aa92e9c15539d973a7': running (progress N/A)\n",
      "0:01:21 Job 'j-240625ac0b6540aa92e9c15539d973a7': running (progress N/A)\n",
      "0:01:40 Job 'j-240625ac0b6540aa92e9c15539d973a7': running (progress N/A)\n",
      "0:02:05 Job 'j-240625ac0b6540aa92e9c15539d973a7': running (progress N/A)\n",
      "0:02:35 Job 'j-240625ac0b6540aa92e9c15539d973a7': running (progress N/A)\n",
      "0:03:13 Job 'j-240625ac0b6540aa92e9c15539d973a7': running (progress N/A)\n",
      "0:04:00 Job 'j-240625ac0b6540aa92e9c15539d973a7': running (progress N/A)\n",
      "0:04:58 Job 'j-240625ac0b6540aa92e9c15539d973a7': running (progress N/A)\n",
      "0:05:59 Job 'j-240625ac0b6540aa92e9c15539d973a7': running (progress N/A)\n",
      "0:06:59 Job 'j-240625ac0b6540aa92e9c15539d973a7': running (progress N/A)\n",
      "0:07:59 Job 'j-240625ac0b6540aa92e9c15539d973a7': running (progress N/A)\n",
      "0:08:59 Job 'j-240625ac0b6540aa92e9c15539d973a7': running (progress N/A)\n",
      "0:10:00 Job 'j-240625ac0b6540aa92e9c15539d973a7': running (progress N/A)\n",
      "0:11:00 Job 'j-240625ac0b6540aa92e9c15539d973a7': running (progress N/A)\n",
      "0:12:01 Job 'j-240625ac0b6540aa92e9c15539d973a7': running (progress N/A)\n",
      "0:13:01 Job 'j-240625ac0b6540aa92e9c15539d973a7': running (progress N/A)\n",
      "0:14:01 Job 'j-240625ac0b6540aa92e9c15539d973a7': running (progress N/A)\n",
      "0:15:02 Job 'j-240625ac0b6540aa92e9c15539d973a7': running (progress N/A)\n",
      "0:16:14 Job 'j-240625ac0b6540aa92e9c15539d973a7': running (progress N/A)\n",
      "0:17:15 Job 'j-240625ac0b6540aa92e9c15539d973a7': running (progress N/A)\n",
      "0:18:15 Job 'j-240625ac0b6540aa92e9c15539d973a7': running (progress N/A)\n",
      "0:19:15 Job 'j-240625ac0b6540aa92e9c15539d973a7': running (progress N/A)\n",
      "0:20:15 Job 'j-240625ac0b6540aa92e9c15539d973a7': running (progress N/A)\n",
      "0:21:15 Job 'j-240625ac0b6540aa92e9c15539d973a7': running (progress N/A)\n",
      "0:22:16 Job 'j-240625ac0b6540aa92e9c15539d973a7': running (progress N/A)\n",
      "0:23:16 Job 'j-240625ac0b6540aa92e9c15539d973a7': finished (progress 100%)\n"
     ]
    },
    {
     "name": "stderr",
     "output_type": "stream",
     "text": [
      "INFO:openeo.rest.job:Downloading Job result asset 'openEO_2020-01-01Z.tif' from https://openeo.creo.vito.be/openeo/jobs/j-240625ac0b6540aa92e9c15539d973a7/results/assets/ZGNjYWI2ZDktODQ2Yy00OGE5LTlkOTQtNDk3MTQ2Y2IyMjg1/1fd2d83bfaa1dccb8bc04291d7755574/openEO_2020-01-01Z.tif?expires=1719916168 to /vitodata/worldcereal/test/temporal_crops.tif\n"
     ]
    },
    {
     "name": "stdout",
     "output_type": "stream",
     "text": [
      "----------------------------------\n"
     ]
    },
    {
     "ename": "AttributeError",
     "evalue": "'NoneType' object has no attribute 'job_id'",
     "output_type": "error",
     "traceback": [
      "\u001b[0;31m---------------------------------------------------------------------------\u001b[0m",
      "\u001b[0;31mAttributeError\u001b[0m                            Traceback (most recent call last)",
      "Cell \u001b[0;32mIn[9], line 32\u001b[0m\n\u001b[1;32m     30\u001b[0m \u001b[38;5;66;03m# check content of \"results\"\u001b[39;00m\n\u001b[1;32m     31\u001b[0m \u001b[38;5;28mprint\u001b[39m(\u001b[38;5;124m'\u001b[39m\u001b[38;5;124m----------------------------------\u001b[39m\u001b[38;5;124m'\u001b[39m)\n\u001b[0;32m---> 32\u001b[0m \u001b[38;5;28mprint\u001b[39m(\u001b[38;5;124mf\u001b[39m\u001b[38;5;124m'\u001b[39m\u001b[38;5;124mOpenEO job ID: \u001b[39m\u001b[38;5;132;01m{\u001b[39;00m\u001b[43mresults\u001b[49m\u001b[38;5;241;43m.\u001b[39;49m\u001b[43mjob_id\u001b[49m\u001b[38;5;132;01m}\u001b[39;00m\u001b[38;5;124m'\u001b[39m)\n\u001b[1;32m     33\u001b[0m \u001b[38;5;28mprint\u001b[39m(\u001b[38;5;124mf\u001b[39m\u001b[38;5;124m'\u001b[39m\u001b[38;5;124mURL to download the map product: \u001b[39m\u001b[38;5;132;01m{\u001b[39;00mresults\u001b[38;5;241m.\u001b[39mproduct_url\u001b[38;5;132;01m}\u001b[39;00m\u001b[38;5;124m'\u001b[39m)\n\u001b[1;32m     34\u001b[0m \u001b[38;5;28mprint\u001b[39m(\u001b[38;5;124mf\u001b[39m\u001b[38;5;124m'\u001b[39m\u001b[38;5;124mWorldCereal product type: \u001b[39m\u001b[38;5;132;01m{\u001b[39;00mresults\u001b[38;5;241m.\u001b[39mproduct\u001b[38;5;132;01m}\u001b[39;00m\u001b[38;5;124m'\u001b[39m)\n",
      "\u001b[0;31mAttributeError\u001b[0m: 'NoneType' object has no attribute 'job_id'"
     ]
    }
   ],
   "source": [
    "#---------------------------------------------\n",
    "\n",
    "# DEFINE INPUTS FOR GENERATING THE MAP\n",
    "year = 2021\n",
    "season = 'tc-annual'\n",
    "output_path = '/vitodata/worldcereal/test/temporal_crops.tif'\n",
    "# output_path = '/home/joyvan/test/temporal_crops.nc'\n",
    "\n",
    "#---------------------------------------------\n",
    "\n",
    "# Get the processing period for the temporary crops product based on the WorldCereal crop calendars:\n",
    "start_date, end_date = get_processing_dates_for_extent(spatial_extent, year, season)\n",
    "print(f'Using the following period for processing: {start_date} - {end_date}')\n",
    "\n",
    "# Defining period of interest for temporary crops product\n",
    "temporal_extent = TemporalContext(start_date, end_date)\n",
    "\n",
    "# We specify the cloud backend where computations need to be done\n",
    "backend_context = BackendContext(Backend.FED)\n",
    "\n",
    "# We call the function to generate the map on the CDSE backend using OpenEO.\n",
    "# Note that if we do not specify a \"product_type\" in the arguments of the \n",
    "# generate_map function, the temporary crops product will be generated based on \n",
    "# the default model as provided by the WorldCereal consortium.\n",
    "# When output path is specified, the results will be automatically downloaded to the\n",
    "# specified location.\n",
    "Path(output_path).parent.mkdir(parents=True, exist_ok=True)\n",
    "results = generate_map(spatial_extent, temporal_extent,\n",
    "             backend_context, output_path=output_path)\n",
    "\n",
    "# check content of \"results\"\n",
    "print('----------------------------------')\n",
    "print(f'OpenEO job ID: {results.job_id}')\n",
    "print(f'URL to download the map product: {results.product_url}')\n",
    "print(f'WorldCereal product type: {results.product}')"
   ]
  },
  {
   "cell_type": "markdown",
   "metadata": {},
   "source": [
    "The resulting map will be written to disk (specified by output_path), but you can also visualize the map directly through the OpenEO web editor on the Copernicus Data Space Ecosystem, by logging in [HERE](https://openeo.dataspace.copernicus.eu/) with your CDSE account details."
   ]
  },
  {
   "cell_type": "markdown",
   "metadata": {},
   "source": [
    "### IMPORTANT INFORMATION TO ENSURE DISPLAY OF RESULTS WORKS PROPERLY\n",
    "\n",
    "if working on binder, set localtileserver client prefix\n",
    "import os\n",
    "os.environ['LOCALTILESERVER_CLIENT_PREFIX'] = \"proxy/{{port}}\"\n",
    "\n",
    "if working on terrascope virtual machine, ensure that you forward the port of the localtileserver\n",
    "1) in the add_raster function, add the following argument: port=LOCALTILESERVER_PORT\n",
    "2) ensure that whichever number you defined as the LOCALTILESERVER_PORT, this port is forwarded to your local machine\n",
    "e.g. Port 7777, Forwarded address: localhost:7778\n"
   ]
  },
  {
   "cell_type": "code",
   "execution_count": 2,
   "metadata": {},
   "outputs": [
    {
     "data": {
      "application/vnd.jupyter.widget-view+json": {
       "model_id": "8a647a7ed77745a1af53698e1e3cd570",
       "version_major": 2,
       "version_minor": 0
      },
      "text/plain": [
       "Map(center=[20, 0], controls=(ZoomControl(options=['position', 'zoom_in_text', 'zoom_in_title', 'zoom_out_text…"
      ]
     },
     "execution_count": 2,
     "metadata": {},
     "output_type": "execute_result"
    }
   ],
   "source": [
    "infile = '/vitodata/worldcereal/test/openEO_2020-01-01Z.tif'\n",
    "m = visualize_product(infile, product='temporary-crops', port=LOCALTILESERVER_PORT)\n",
    "m"
   ]
  },
  {
   "cell_type": "markdown",
   "metadata": {},
   "source": [
    "# 3. Explore available reference data\n",
    "\n",
    "In-situ reference data used for training and validating WorldCereal classification models is hosted in the WorldCereal Reference Data Module (RDM). This module can be accessed through a dedicated user interface (https://ewoc-rdm-ui.iiasa.ac.at/map), but also through an API, which will be demonstrated here.\n",
    "\n",
    "In this section we will explore the available reference datasets for our region of interest. In case you would like to test multiple regions of interest, execute the first two cells in [this section](#1.-Define-a-region-of-interest) of the notebook."
   ]
  },
  {
   "cell_type": "code",
   "execution_count": null,
   "metadata": {},
   "outputs": [],
   "source": [
    "# Check full list of available collections\n",
    "headers = {}\n",
    "collectionResponse = requests.get(f'{RDM_API}/collections', headers=headers)\n",
    "collections = collectionResponse.json()\n",
    "col_ids = [x['collectionId'] for x in collections['items']]\n",
    "print(f'Available collections: {col_ids}')\n",
    "\n",
    "# Now we check which collections intersect with our AOI\n",
    "bbox_str = f'Bbox={bbox[0]}&Bbox={bbox[1]}&Bbox={bbox[2]}&Bbox={bbox[3]}'\n",
    "colSearchUrl = f'{RDM_API}/collections/search?{bbox_str}'\n",
    "colSearchResponse = requests.get(colSearchUrl, headers=headers)\n",
    "test = colSearchResponse.json()\n",
    "print('The following collections intersect with your AOI:')\n",
    "for i, col in enumerate(test):\n",
    "    print()\n",
    "    print(f'Collection {i+1}: {col[\"collectionId\"]}')\n"
   ]
  }
 ],
 "metadata": {
  "kernelspec": {
   "display_name": "exp",
   "language": "python",
   "name": "python3"
  },
  "language_info": {
   "codemirror_mode": {
    "name": "ipython",
    "version": 3
   },
   "file_extension": ".py",
   "mimetype": "text/x-python",
   "name": "python",
   "nbconvert_exporter": "python",
   "pygments_lexer": "ipython3",
   "version": "3.11.9"
  }
 },
 "nbformat": 4,
 "nbformat_minor": 2
}
