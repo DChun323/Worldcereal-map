{
 "cells": [
  {
   "cell_type": "markdown",
   "metadata": {},
   "source": [
    "![](./resources/System_v1_inference_header.png)"
   ]
  },
  {
   "cell_type": "markdown",
   "metadata": {},
   "source": [
    "This notebook contains a short demo on how to use the WorldCereal system to generate a cropland extent and crop type map,\n",
    "using default models trained by the WorldCereal consortium.\n",
    "\n",
    "# Content\n",
    "\n",
    "- [Before you start](#before-you-start)\n",
    "- [1. Define region of interest](#1.-Define-a-region-of-interest)\n",
    "- [2. Generate default Worldcereal products](#2.-Generate-default-WorldCereal-products)\n",
    "- [3. Explore available reference data](#3.-Explore-available-reference-data)"
   ]
  },
  {
   "cell_type": "markdown",
   "metadata": {},
   "source": [
    "# Before you start\n",
    "\n",
    "In order to run this notebook, you need to create an account on the Copernicus Data Space Ecosystem,\n",
    "by completing the form [HERE](https://identity.dataspace.copernicus.eu/auth/realms/CDSE/login-actions/registration?client_id=cdse-public&tab_id=eRKGqDvoYI0).\n"
   ]
  },
  {
   "cell_type": "code",
   "execution_count": 1,
   "metadata": {},
   "outputs": [],
   "source": [
    "# First we import the necessary modules to run this notebook\n",
    "\n",
    "import pandas as pd\n",
    "import geopandas as gpd\n",
    "import requests\n",
    "from pathlib import Path\n",
    "from shapely.geometry import shape, Polygon\n",
    "import xarray as xr\n",
    "\n",
    "import openeo\n",
    "from openeo_gfmap import BoundingBoxExtent, TemporalContext\n",
    "from openeo_gfmap.backend import Backend, BackendContext\n",
    "\n",
    "import sys\n",
    "sys.path.append('/home/jovyan/worldcereal-classification/src')\n",
    "\n",
    "from worldcereal.utils.map import (get_ui_map, _latlon_to_utm)\n",
    "from worldcereal.utils.refdata import _to_points\n",
    "from worldcereal.utils.wrapper import run_inference\n",
    "\n",
    "RDM_API = 'https://ewoc-rdm-api.iiasa.ac.at'"
   ]
  },
  {
   "cell_type": "markdown",
   "metadata": {},
   "source": [
    "# 1. Define a region of interest\n",
    "\n",
    "When running the code snippet below, an interactive map will be visualized.\n",
    "Click the Rectangle button on the left hand side of the map to start drawing your region of interest.\n",
    "When finished, execute the second cell to store the coordinates of your region of interest. "
   ]
  },
  {
   "cell_type": "code",
   "execution_count": 2,
   "metadata": {},
   "outputs": [
    {
     "data": {
      "application/vnd.jupyter.widget-view+json": {
       "model_id": "49ba32eac4904216b1eec04e793e2165",
       "version_major": 2,
       "version_minor": 0
      },
      "text/plain": [
       "Map(center=[51.1872, 5.1154], controls=(ZoomControl(options=['position', 'zoom_in_text', 'zoom_in_title', 'zoo…"
      ]
     },
     "execution_count": 2,
     "metadata": {},
     "output_type": "execute_result"
    }
   ],
   "source": [
    "m, dc = get_ui_map()\n",
    "m"
   ]
  },
  {
   "cell_type": "code",
   "execution_count": 3,
   "metadata": {},
   "outputs": [
    {
     "name": "stdout",
     "output_type": "stream",
     "text": [
      "Your area of interest: (4.182795, 51.275179, 4.217471, 51.294719)\n"
     ]
    }
   ],
   "source": [
    "# retrieve bounding box from drawn rectangle\n",
    "obj = dc.last_draw\n",
    "if obj.get('geometry') is not None:\n",
    "    poly = Polygon(shape(obj.get('geometry')))\n",
    "    bbox = poly.bounds\n",
    "else:\n",
    "    raise ValueError('Please first draw a rectangle '\n",
    "                     'on the map before proceeding.')\n",
    "print(f'Your area of interest: {bbox}')"
   ]
  },
  {
   "cell_type": "markdown",
   "metadata": {},
   "source": [
    "# 2. Generate default WorldCereal products\n",
    "\n",
    "In this section we will generate a WorldCereal mapping product for our region of interest using a series of pre-trained models made available by the consortium. Aside from our region, we will need to specify the type of product to generate and the time frame (year or agricultural season) of interest.\n",
    "\n",
    "In this example, we will generate a temporary crops product, followed by a crop type product for maize.\n",
    "\n",
    "We start with the temporary crops product, which is by default generated for a full calendar year:"
   ]
  },
  {
   "cell_type": "code",
   "execution_count": 4,
   "metadata": {},
   "outputs": [
    {
     "name": "stdout",
     "output_type": "stream",
     "text": [
      "Authenticated using refresh token.\n"
     ]
    },
    {
     "name": "stderr",
     "output_type": "stream",
     "text": [
      "WARNING:PrestoFeatureExtractor:No additional dependencies are defined. If you wish to add dependencies to your feature extractor, override the `dependencies` method in your class.\n"
     ]
    },
    {
     "name": "stdout",
     "output_type": "stream",
     "text": [
      "Selected orbit direction: ASCENDING from max accumulated area overlap between bounds and products.\n",
      "0:00:00 Job 'j-24061812882742d58706ceaad3c1b55e': send 'start'\n",
      "0:00:23 Job 'j-24061812882742d58706ceaad3c1b55e': created (progress 0%)\n",
      "0:00:29 Job 'j-24061812882742d58706ceaad3c1b55e': created (progress 0%)\n",
      "0:00:35 Job 'j-24061812882742d58706ceaad3c1b55e': created (progress 0%)\n",
      "0:00:44 Job 'j-24061812882742d58706ceaad3c1b55e': running (progress N/A)\n",
      "0:00:54 Job 'j-24061812882742d58706ceaad3c1b55e': running (progress N/A)\n",
      "0:01:06 Job 'j-24061812882742d58706ceaad3c1b55e': running (progress N/A)\n",
      "0:01:23 Job 'j-24061812882742d58706ceaad3c1b55e': running (progress N/A)\n",
      "0:01:42 Job 'j-24061812882742d58706ceaad3c1b55e': running (progress N/A)\n",
      "0:02:07 Job 'j-24061812882742d58706ceaad3c1b55e': running (progress N/A)\n",
      "0:02:37 Job 'j-24061812882742d58706ceaad3c1b55e': running (progress N/A)\n",
      "0:03:15 Job 'j-24061812882742d58706ceaad3c1b55e': running (progress N/A)\n",
      "0:04:02 Job 'j-24061812882742d58706ceaad3c1b55e': running (progress N/A)\n",
      "0:05:00 Job 'j-24061812882742d58706ceaad3c1b55e': running (progress N/A)\n",
      "0:06:00 Job 'j-24061812882742d58706ceaad3c1b55e': running (progress N/A)\n",
      "0:07:01 Job 'j-24061812882742d58706ceaad3c1b55e': running (progress N/A)\n",
      "0:08:01 Job 'j-24061812882742d58706ceaad3c1b55e': running (progress N/A)\n",
      "0:09:02 Job 'j-24061812882742d58706ceaad3c1b55e': running (progress N/A)\n",
      "0:10:02 Job 'j-24061812882742d58706ceaad3c1b55e': running (progress N/A)\n",
      "0:11:03 Job 'j-24061812882742d58706ceaad3c1b55e': running (progress N/A)\n",
      "0:12:06 Job 'j-24061812882742d58706ceaad3c1b55e': running (progress N/A)\n",
      "0:13:06 Job 'j-24061812882742d58706ceaad3c1b55e': running (progress N/A)\n",
      "0:14:17 Job 'j-24061812882742d58706ceaad3c1b55e': running (progress N/A)\n",
      "0:15:17 Job 'j-24061812882742d58706ceaad3c1b55e': running (progress N/A)\n",
      "0:16:18 Job 'j-24061812882742d58706ceaad3c1b55e': running (progress N/A)\n",
      "0:17:18 Job 'j-24061812882742d58706ceaad3c1b55e': running (progress N/A)\n",
      "0:18:19 Job 'j-24061812882742d58706ceaad3c1b55e': finished (progress 100%)\n"
     ]
    },
    {
     "name": "stderr",
     "output_type": "stream",
     "text": [
      "INFO:openeo.rest.job:Downloading Job result asset 'openEO.nc' from https://openeo.creo.vito.be/openeo/jobs/j-24061812882742d58706ceaad3c1b55e/results/assets/ZGNjYWI2ZDktODQ2Yy00OGE5LTlkOTQtNDk3MTQ2Y2IyMjg1/eab4d18548dc8c1c66040d33a57b8d82/openEO.nc?expires=1719319845 to /vitodata/worldcereal/test/temporal_crops.nc\n"
     ]
    }
   ],
   "source": [
    "#TODO: use crop calendars to determine start and end date\n",
    "\n",
    "#TODO: switch to GTiff as output format (for now I manually converted the resulting netcdf to GTiff)\n",
    "\n",
    "\n",
    "# Defining period of interest for temporary crops product\n",
    "start_date = '2021-01-01'\n",
    "end_date = '2021-12-31'\n",
    "temporal_extent = TemporalContext(start_date, end_date)\n",
    "\n",
    "# We convert our bounding box to local UTM projection\n",
    "bbox_utm, epsg = _latlon_to_utm(bbox)\n",
    "spatial_extent = BoundingBoxExtent(bbox_utm[0], bbox_utm[1],\n",
    "                                   bbox_utm[2], bbox_utm[3], epsg)\n",
    "\n",
    "# We specify the cloud backend where computations need to be done\n",
    "backend_context = BackendContext(Backend.FED)\n",
    "\n",
    "# Specify path where to store the results and create this folder\n",
    "# output_path = '/home/joyvan/test/temporal_crops.nc'\n",
    "output_path = '/vitodata/worldcereal/test/temporal_crops.tif'\n",
    "Path(output_path).parent.mkdir(parents=True, exist_ok=True)\n",
    "\n",
    "outfile = run_inference(spatial_extent, temporal_extent, backend_context,\n",
    "                        output_path, product='cropland', format='NetCDF')\n"
   ]
  },
  {
   "cell_type": "markdown",
   "metadata": {},
   "source": [
    "### IMPORTANT INFORMATION TO ENSURE DISPLAY OF RESULTS WORKS PROPERLY\n",
    "\n",
    "if working on binder, set localtileserver client prefix\n",
    "import os\n",
    "os.environ['LOCALTILESERVER_CLIENT_PREFIX'] = \"proxy/{{port}}\"\n",
    "\n",
    "if working on terrascope virtual machine, ensure that you forward the port of the localtileserver\n",
    "1) in the add_raster function, add the following argument: port=LOCALTILESERVER_PORT\n",
    "2) ensure that whichever number you defined as the LOCALTILESERVER_PORT, this port is forwarded to your local machine\n",
    "e.g. Port 7777, Forwarded address: localhost:7778\n"
   ]
  },
  {
   "cell_type": "code",
   "execution_count": 1,
   "metadata": {},
   "outputs": [
    {
     "data": {
      "application/vnd.jupyter.widget-view+json": {
       "model_id": "1762017d605d4c42b0c099930e15c8f4",
       "version_major": 2,
       "version_minor": 0
      },
      "text/plain": [
       "Map(center=[20, 0], controls=(ZoomControl(options=['position', 'zoom_in_text', 'zoom_in_title', 'zoom_out_text…"
      ]
     },
     "execution_count": 1,
     "metadata": {},
     "output_type": "execute_result"
    }
   ],
   "source": [
    "LOCALTILESERVER_PORT = 7778\n",
    "\n",
    "import leafmap\n",
    "\n",
    "m = leafmap.Map()\n",
    "\n",
    "# Visualize the cropland extent product using leafmap\n",
    "outfile = '/vitodata/worldcereal/test/temporal_crops.tif'\n",
    "m.add_raster(outfile, layer_name=\"cropland\", opacity=0.7,\n",
    "             port=LOCALTILESERVER_PORT)\n",
    "m"
   ]
  },
  {
   "cell_type": "markdown",
   "metadata": {},
   "source": [
    "# 3. Explore available reference data\n",
    "\n",
    "In-situ reference data used for training and validating WorldCereal classification models is hosted in the WorldCereal Reference Data Module (RDM). This module can be accessed through a dedicated user interface (https://ewoc-rdm-ui.iiasa.ac.at/map), but also through an API, which will be demonstrated here.\n",
    "\n",
    "In this section we will explore the available reference datasets for our region of interest. In case you would like to test multiple regions of interest, execute the first two cells in [this section](#1.-Define-a-region-of-interest) of the notebook."
   ]
  },
  {
   "cell_type": "code",
   "execution_count": 4,
   "metadata": {},
   "outputs": [
    {
     "name": "stdout",
     "output_type": "stream",
     "text": [
      "Available collections: ['2017afoneacrefundmelpoint110', '2017ascawaprojectpoly111', '2017bellpisflanderspoly110', '2017bfajecamciradpoly111', '2017brajecamciradpoly111', '2017canaafccropinventorypoint110', '2017cmrcgiargardianpoint110', '2017lbnfaowapor1poly111', '2017lbnfaowapor2poly111', '2017mdgjecamciradpoly111']\n",
      "The following collections intersect with your AOI:\n",
      "\n",
      "Collection 1: 2017bellpisflanderspoly110\n",
      "\n",
      "Collection 2: 2018eulucas2018point110\n",
      "\n",
      "Collection 3: 2019beflandersfullpoly110\n",
      "\n",
      "Collection 4: 2020nleurocroppoly110\n"
     ]
    }
   ],
   "source": [
    "# Check full list of available collections\n",
    "headers = {}\n",
    "collectionResponse = requests.get(f'{RDM_API}/collections', headers=headers)\n",
    "collections = collectionResponse.json()\n",
    "col_ids = [x['collectionId'] for x in collections['items']]\n",
    "print(f'Available collections: {col_ids}')\n",
    "\n",
    "# Now we check which collections intersect with our AOI\n",
    "bbox_str = f'Bbox={bbox[0]}&Bbox={bbox[1]}&Bbox={bbox[2]}&Bbox={bbox[3]}'\n",
    "colSearchUrl = f'{RDM_API}/collections/search?{bbox_str}'\n",
    "colSearchResponse = requests.get(colSearchUrl, headers=headers)\n",
    "test = colSearchResponse.json()\n",
    "print('The following collections intersect with your AOI:')\n",
    "for i, col in enumerate(test):\n",
    "    print()\n",
    "    print(f'Collection {i+1}: {col[\"collectionId\"]}')\n"
   ]
  },
  {
   "cell_type": "code",
   "execution_count": null,
   "metadata": {},
   "outputs": [],
   "source": [
    "# Now that our reference data has been added,\n",
    "# we launch a request to extract all reference points and polygons\n",
    "# intersecting our region of interest.\n",
    "# --> this should return the selected points/polygons as a geojson file/object\n",
    "# (one per collection).\n",
    "\n",
    "# To combine the data into one database, we immediately convert\n",
    "# the polygons to points (by taking the centroid).\n",
    "\n",
    "max_items = 2000\n",
    "\n",
    "dfs = []\n",
    "for col in cols_aoi:\n",
    "    itemSearchCollectionId = col['collectionId']\n",
    "    print(\n",
    "        f'Extracting reference data from collection {itemSearchCollectionId}')\n",
    "    itemSearchUrl = f'{RDM_API}/collections/{itemSearchCollectionId}/items?{bbox_str}&MaxResultCount={max_items}'\n",
    "    itemSearchResponse = requests.get(itemSearchUrl, headers=headers)\n",
    "    df = gpd.GeoDataFrame.from_features(\n",
    "        itemSearchResponse.json(), crs='EPSG:4326')\n",
    "    dfs.append(_to_points(df))\n",
    "\n",
    "gdf = pd.concat(dfs, ignore_index=True)\n",
    "print(f'Got a total of {len(gdf)} reference points')"
   ]
  }
 ],
 "metadata": {
  "kernelspec": {
   "display_name": "exp",
   "language": "python",
   "name": "python3"
  },
  "language_info": {
   "codemirror_mode": {
    "name": "ipython",
    "version": 3
   },
   "file_extension": ".py",
   "mimetype": "text/x-python",
   "name": "python",
   "nbconvert_exporter": "python",
   "pygments_lexer": "ipython3",
   "version": "3.1.-1"
  }
 },
 "nbformat": 4,
 "nbformat_minor": 2
}
