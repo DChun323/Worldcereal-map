{
 "cells": [
  {
   "cell_type": "markdown",
   "metadata": {},
   "source": [
    "![](./resources/System_v1_inference_header.png)"
   ]
  },
  {
   "cell_type": "markdown",
   "metadata": {},
   "source": [
    "This notebook contains a short demo on how to use the WorldCereal system to generate a cropland extent and crop type map,\n",
    "using default models trained by the WorldCereal consortium.\n",
    "\n",
    "# Content\n",
    "\n",
    "- [Before you start](#before-you-start)\n",
    "- [1. Define region of interest](#1.-Define-a-region-of-interest)\n",
    "- [2. Generate default Worldcereal products](#2.-Generate-default-WorldCereal-products)\n",
    "- [3. Explore available reference data](#3.-Explore-available-reference-data)"
   ]
  },
  {
   "cell_type": "markdown",
   "metadata": {},
   "source": [
    "# Before you start\n",
    "\n",
    "In order to run this notebook, you need to create an account on the Copernicus Data Space Ecosystem,\n",
    "by completing the form [HERE](https://identity.dataspace.copernicus.eu/auth/realms/CDSE/login-actions/registration?client_id=cdse-public&tab_id=eRKGqDvoYI0).\n"
   ]
  },
  {
   "cell_type": "code",
   "execution_count": 1,
   "metadata": {},
   "outputs": [],
   "source": [
    "# First we import the necessary modules to run this notebook\n",
    "\n",
    "import pandas as pd\n",
    "import requests\n",
    "from pathlib import Path\n",
    "from shapely.geometry import shape, Polygon\n",
    "\n",
    "import leafmap\n",
    "\n",
    "from openeo_gfmap import TemporalContext, BoundingBoxExtent\n",
    "from openeo_gfmap.backend import Backend, BackendContext\n",
    "\n",
    "import sys\n",
    "sys.path.append('/home/jovyan/worldcereal-classification/src')\n",
    "\n",
    "from worldcereal.utils.map import (get_ui_map, _latlon_to_utm)\n",
    "from worldcereal.job import generate_map\n",
    "from worldcereal.seasons import get_processing_dates_for_extent\n",
    "\n",
    "RDM_API = 'https://ewoc-rdm-api.iiasa.ac.at'\n",
    "LOCALTILESERVER_PORT = 7779"
   ]
  },
  {
   "cell_type": "markdown",
   "metadata": {},
   "source": [
    "# 1. Define a region of interest\n",
    "\n",
    "When running the code snippet below, an interactive map will be visualized.\n",
    "Click the Rectangle button on the left hand side of the map to start drawing your region of interest.\n",
    "When finished, execute the second cell to store the coordinates of your region of interest. "
   ]
  },
  {
   "cell_type": "code",
   "execution_count": 9,
   "metadata": {},
   "outputs": [
    {
     "data": {
      "application/vnd.jupyter.widget-view+json": {
       "model_id": "f894d3df4fb94e72a78921957962e829",
       "version_major": 2,
       "version_minor": 0
      },
      "text/plain": [
       "Map(center=[51.1872, 5.1154], controls=(ZoomControl(options=['position', 'zoom_in_text', 'zoom_in_title', 'zoo…"
      ]
     },
     "execution_count": 9,
     "metadata": {},
     "output_type": "execute_result"
    }
   ],
   "source": [
    "m, dc = get_ui_map()\n",
    "m"
   ]
  },
  {
   "cell_type": "code",
   "execution_count": 3,
   "metadata": {},
   "outputs": [
    {
     "name": "stdout",
     "output_type": "stream",
     "text": [
      "Your area of interest: (4.475212, 51.651685, 4.569626, 51.694693)\n"
     ]
    }
   ],
   "source": [
    "# retrieve bounding box from drawn rectangle\n",
    "obj = dc.last_draw\n",
    "if obj.get('geometry') is not None:\n",
    "    poly = Polygon(shape(obj.get('geometry')))\n",
    "    bbox = poly.bounds\n",
    "else:\n",
    "    raise ValueError('Please first draw a rectangle '\n",
    "                     'on the map before proceeding.')\n",
    "print(f'Your area of interest: {bbox}')\n",
    "\n",
    "# We convert our bounding box to local UTM projection for further processing\n",
    "bbox_utm, epsg = _latlon_to_utm(bbox)\n",
    "spatial_extent = BoundingBoxExtent(*bbox_utm, epsg)"
   ]
  },
  {
   "cell_type": "markdown",
   "metadata": {},
   "source": [
    "# 2. Generate default WorldCereal products\n",
    "\n",
    "In this section we will generate two WorldCereal mapping products for our region of interest using a series of pre-trained models made available by the consortium:\n",
    "1) A temporary crops extent product, defined as a binary mask indicating the presence of temporary crops.\n",
    "2) A binary seasonal crop type product, indicating for a specific growing season which pixels previously identified as temporary crops contain our crop of interest (in this case maize).\n",
    "\n",
    "We start with the temporary crops product. This product is generated for a full year. The exact timing of the processing period is defined by the WorldCereal crop calendars."
   ]
  },
  {
   "cell_type": "code",
   "execution_count": 6,
   "metadata": {},
   "outputs": [
    {
     "name": "stderr",
     "output_type": "stream",
     "text": [
      "\u001b[32m2024-06-20 17:59:56.157\u001b[0m | \u001b[1mINFO    \u001b[0m | \u001b[36mworldcereal.seasons\u001b[0m:\u001b[36mdoy_from_tiff\u001b[0m:\u001b[36m125\u001b[0m - \u001b[1mLoading DOY data from: ANNUAL_EOS_WGS84.tif\u001b[0m\n"
     ]
    },
    {
     "name": "stdout",
     "output_type": "stream",
     "text": [
      "Authenticated using refresh token.\n",
      "Selected orbit direction: DESCENDING from max accumulated area overlap between bounds and products.\n"
     ]
    },
    {
     "name": "stderr",
     "output_type": "stream",
     "text": [
      "WARNING:PrestoFeatureExtractor:No additional dependencies are defined. If you wish to add dependencies to your feature extractor, override the `dependencies` method in your class.\n"
     ]
    },
    {
     "name": "stdout",
     "output_type": "stream",
     "text": [
      "0:00:00 Job 'j-24062047ebb3465c81ac587361084b3c': send 'start'\n",
      "0:00:18 Job 'j-24062047ebb3465c81ac587361084b3c': created (progress 0%)\n",
      "0:00:23 Job 'j-24062047ebb3465c81ac587361084b3c': created (progress 0%)\n",
      "0:00:30 Job 'j-24062047ebb3465c81ac587361084b3c': created (progress 0%)\n",
      "0:00:38 Job 'j-24062047ebb3465c81ac587361084b3c': created (progress 0%)\n",
      "0:00:48 Job 'j-24062047ebb3465c81ac587361084b3c': running (progress N/A)\n",
      "0:01:00 Job 'j-24062047ebb3465c81ac587361084b3c': running (progress N/A)\n",
      "0:01:16 Job 'j-24062047ebb3465c81ac587361084b3c': running (progress N/A)\n",
      "0:01:35 Job 'j-24062047ebb3465c81ac587361084b3c': running (progress N/A)\n",
      "0:01:59 Job 'j-24062047ebb3465c81ac587361084b3c': running (progress N/A)\n",
      "0:02:29 Job 'j-24062047ebb3465c81ac587361084b3c': running (progress N/A)\n",
      "0:03:07 Job 'j-24062047ebb3465c81ac587361084b3c': running (progress N/A)\n",
      "0:03:53 Job 'j-24062047ebb3465c81ac587361084b3c': running (progress N/A)\n",
      "0:04:52 Job 'j-24062047ebb3465c81ac587361084b3c': running (progress N/A)\n",
      "0:05:52 Job 'j-24062047ebb3465c81ac587361084b3c': running (progress N/A)\n"
     ]
    },
    {
     "ename": "KeyboardInterrupt",
     "evalue": "",
     "output_type": "error",
     "traceback": [
      "\u001b[0;31m---------------------------------------------------------------------------\u001b[0m",
      "\u001b[0;31mKeyboardInterrupt\u001b[0m                         Traceback (most recent call last)",
      "Cell \u001b[0;32mIn[6], line 18\u001b[0m\n\u001b[1;32m     15\u001b[0m Path(output_path)\u001b[38;5;241m.\u001b[39mparent\u001b[38;5;241m.\u001b[39mmkdir(parents\u001b[38;5;241m=\u001b[39m\u001b[38;5;28;01mTrue\u001b[39;00m, exist_ok\u001b[38;5;241m=\u001b[39m\u001b[38;5;28;01mTrue\u001b[39;00m)\n\u001b[1;32m     17\u001b[0m \u001b[38;5;66;03m# We call the function to generate the map on the CDSE backend using OpenEO\u001b[39;00m\n\u001b[0;32m---> 18\u001b[0m \u001b[43mgenerate_map\u001b[49m\u001b[43m(\u001b[49m\u001b[43mspatial_extent\u001b[49m\u001b[43m,\u001b[49m\u001b[43m \u001b[49m\u001b[43mtemporal_extent\u001b[49m\u001b[43m,\u001b[49m\n\u001b[1;32m     19\u001b[0m \u001b[43m             \u001b[49m\u001b[43mbackend_context\u001b[49m\u001b[43m,\u001b[49m\u001b[43m \u001b[49m\u001b[43moutput_path\u001b[49m\u001b[43m)\u001b[49m\n",
      "File \u001b[0;32m~/git/worldcereal/worldcereal-classification/src/worldcereal/job.py:100\u001b[0m, in \u001b[0;36mgenerate_map\u001b[0;34m(spatial_extent, temporal_extent, backend_context, output_path, product, format)\u001b[0m\n\u001b[1;32m     97\u001b[0m \u001b[38;5;66;03m# Cast to uint8\u001b[39;00m\n\u001b[1;32m     98\u001b[0m classes \u001b[38;5;241m=\u001b[39m compress_uint8(classes)\n\u001b[0;32m--> 100\u001b[0m \u001b[43mclasses\u001b[49m\u001b[38;5;241;43m.\u001b[39;49m\u001b[43mexecute_batch\u001b[49m\u001b[43m(\u001b[49m\n\u001b[1;32m    101\u001b[0m \u001b[43m    \u001b[49m\u001b[43moutputfile\u001b[49m\u001b[38;5;241;43m=\u001b[39;49m\u001b[43moutput_path\u001b[49m\u001b[43m,\u001b[49m\n\u001b[1;32m    102\u001b[0m \u001b[43m    \u001b[49m\u001b[43mout_format\u001b[49m\u001b[38;5;241;43m=\u001b[39;49m\u001b[38;5;28;43mformat\u001b[39;49m\u001b[43m,\u001b[49m\n\u001b[1;32m    103\u001b[0m \u001b[43m    \u001b[49m\u001b[43mjob_options\u001b[49m\u001b[38;5;241;43m=\u001b[39;49m\u001b[43m{\u001b[49m\n\u001b[1;32m    104\u001b[0m \u001b[43m        \u001b[49m\u001b[38;5;124;43m\"\u001b[39;49m\u001b[38;5;124;43mdriver-memory\u001b[39;49m\u001b[38;5;124;43m\"\u001b[39;49m\u001b[43m:\u001b[49m\u001b[43m \u001b[49m\u001b[38;5;124;43m\"\u001b[39;49m\u001b[38;5;124;43m4g\u001b[39;49m\u001b[38;5;124;43m\"\u001b[39;49m\u001b[43m,\u001b[49m\n\u001b[1;32m    105\u001b[0m \u001b[43m        \u001b[49m\u001b[38;5;124;43m\"\u001b[39;49m\u001b[38;5;124;43mexecutor-memoryOverhead\u001b[39;49m\u001b[38;5;124;43m\"\u001b[39;49m\u001b[43m:\u001b[49m\u001b[43m \u001b[49m\u001b[38;5;124;43m\"\u001b[39;49m\u001b[38;5;124;43m12g\u001b[39;49m\u001b[38;5;124;43m\"\u001b[39;49m\u001b[43m,\u001b[49m\n\u001b[1;32m    106\u001b[0m \u001b[43m        \u001b[49m\u001b[38;5;124;43m\"\u001b[39;49m\u001b[38;5;124;43mudf-dependency-archives\u001b[39;49m\u001b[38;5;124;43m\"\u001b[39;49m\u001b[43m:\u001b[49m\u001b[43m \u001b[49m\u001b[43m[\u001b[49m\u001b[38;5;124;43mf\u001b[39;49m\u001b[38;5;124;43m\"\u001b[39;49m\u001b[38;5;132;43;01m{\u001b[39;49;00m\u001b[43mONNX_DEPS_URL\u001b[49m\u001b[38;5;132;43;01m}\u001b[39;49;00m\u001b[38;5;124;43m#onnx_deps\u001b[39;49m\u001b[38;5;124;43m\"\u001b[39;49m\u001b[43m]\u001b[49m\u001b[43m,\u001b[49m\n\u001b[1;32m    107\u001b[0m \u001b[43m    \u001b[49m\u001b[43m}\u001b[49m\u001b[43m,\u001b[49m\n\u001b[1;32m    108\u001b[0m \u001b[43m\u001b[49m\u001b[43m)\u001b[49m\n",
      "File \u001b[0;32m~/miniconda3/envs/exp/lib/python3.11/site-packages/openeo/rest/datacube.py:2242\u001b[0m, in \u001b[0;36mDataCube.execute_batch\u001b[0;34m(self, outputfile, out_format, print, max_poll_interval, connection_retry_interval, job_options, validate, **format_options)\u001b[0m\n\u001b[1;32m   2239\u001b[0m     out_format \u001b[38;5;241m=\u001b[39m guess_format(outputfile)\n\u001b[1;32m   2241\u001b[0m job \u001b[38;5;241m=\u001b[39m \u001b[38;5;28mself\u001b[39m\u001b[38;5;241m.\u001b[39mcreate_job(out_format\u001b[38;5;241m=\u001b[39mout_format, job_options\u001b[38;5;241m=\u001b[39mjob_options, validate\u001b[38;5;241m=\u001b[39mvalidate, \u001b[38;5;241m*\u001b[39m\u001b[38;5;241m*\u001b[39mformat_options)\n\u001b[0;32m-> 2242\u001b[0m \u001b[38;5;28;01mreturn\u001b[39;00m \u001b[43mjob\u001b[49m\u001b[38;5;241;43m.\u001b[39;49m\u001b[43mrun_synchronous\u001b[49m\u001b[43m(\u001b[49m\n\u001b[1;32m   2243\u001b[0m \u001b[43m    \u001b[49m\u001b[43moutputfile\u001b[49m\u001b[38;5;241;43m=\u001b[39;49m\u001b[43moutputfile\u001b[49m\u001b[43m,\u001b[49m\n\u001b[1;32m   2244\u001b[0m \u001b[43m    \u001b[49m\u001b[38;5;28;43mprint\u001b[39;49m\u001b[38;5;241;43m=\u001b[39;49m\u001b[38;5;28;43mprint\u001b[39;49m\u001b[43m,\u001b[49m\u001b[43m \u001b[49m\u001b[43mmax_poll_interval\u001b[49m\u001b[38;5;241;43m=\u001b[39;49m\u001b[43mmax_poll_interval\u001b[49m\u001b[43m,\u001b[49m\u001b[43m \u001b[49m\u001b[43mconnection_retry_interval\u001b[49m\u001b[38;5;241;43m=\u001b[39;49m\u001b[43mconnection_retry_interval\u001b[49m\n\u001b[1;32m   2245\u001b[0m \u001b[43m\u001b[49m\u001b[43m)\u001b[49m\n",
      "File \u001b[0;32m~/miniconda3/envs/exp/lib/python3.11/site-packages/openeo/rest/job.py:239\u001b[0m, in \u001b[0;36mBatchJob.run_synchronous\u001b[0;34m(self, outputfile, print, max_poll_interval, connection_retry_interval)\u001b[0m\n\u001b[1;32m    234\u001b[0m \u001b[38;5;28;01mdef\u001b[39;00m \u001b[38;5;21mrun_synchronous\u001b[39m(\n\u001b[1;32m    235\u001b[0m         \u001b[38;5;28mself\u001b[39m, outputfile: Union[\u001b[38;5;28mstr\u001b[39m, Path, \u001b[38;5;28;01mNone\u001b[39;00m] \u001b[38;5;241m=\u001b[39m \u001b[38;5;28;01mNone\u001b[39;00m,\n\u001b[1;32m    236\u001b[0m         \u001b[38;5;28mprint\u001b[39m\u001b[38;5;241m=\u001b[39m\u001b[38;5;28mprint\u001b[39m, max_poll_interval\u001b[38;5;241m=\u001b[39m\u001b[38;5;241m60\u001b[39m, connection_retry_interval\u001b[38;5;241m=\u001b[39m\u001b[38;5;241m30\u001b[39m\n\u001b[1;32m    237\u001b[0m ) \u001b[38;5;241m-\u001b[39m\u001b[38;5;241m>\u001b[39m BatchJob:\n\u001b[1;32m    238\u001b[0m \u001b[38;5;250m    \u001b[39m\u001b[38;5;124;03m\"\"\"Start the job, wait for it to finish and download result\"\"\"\u001b[39;00m\n\u001b[0;32m--> 239\u001b[0m     \u001b[38;5;28;43mself\u001b[39;49m\u001b[38;5;241;43m.\u001b[39;49m\u001b[43mstart_and_wait\u001b[49m\u001b[43m(\u001b[49m\n\u001b[1;32m    240\u001b[0m \u001b[43m        \u001b[49m\u001b[38;5;28;43mprint\u001b[39;49m\u001b[38;5;241;43m=\u001b[39;49m\u001b[38;5;28;43mprint\u001b[39;49m\u001b[43m,\u001b[49m\u001b[43m \u001b[49m\u001b[43mmax_poll_interval\u001b[49m\u001b[38;5;241;43m=\u001b[39;49m\u001b[43mmax_poll_interval\u001b[49m\u001b[43m,\u001b[49m\u001b[43m \u001b[49m\u001b[43mconnection_retry_interval\u001b[49m\u001b[38;5;241;43m=\u001b[39;49m\u001b[43mconnection_retry_interval\u001b[49m\n\u001b[1;32m    241\u001b[0m \u001b[43m    \u001b[49m\u001b[43m)\u001b[49m\n\u001b[1;32m    242\u001b[0m     \u001b[38;5;66;03m# TODO #135 support multi file result sets too?\u001b[39;00m\n\u001b[1;32m    243\u001b[0m     \u001b[38;5;28;01mif\u001b[39;00m outputfile \u001b[38;5;129;01mis\u001b[39;00m \u001b[38;5;129;01mnot\u001b[39;00m \u001b[38;5;28;01mNone\u001b[39;00m:\n",
      "File \u001b[0;32m~/miniconda3/envs/exp/lib/python3.11/site-packages/openeo/rest/job.py:310\u001b[0m, in \u001b[0;36mBatchJob.start_and_wait\u001b[0;34m(self, print, max_poll_interval, connection_retry_interval, soft_error_max)\u001b[0m\n\u001b[1;32m    307\u001b[0m         \u001b[38;5;28;01mbreak\u001b[39;00m\n\u001b[1;32m    309\u001b[0m     \u001b[38;5;66;03m# Sleep for next poll (and adaptively make polling less frequent)\u001b[39;00m\n\u001b[0;32m--> 310\u001b[0m     time\u001b[38;5;241m.\u001b[39msleep(poll_interval)\n\u001b[1;32m    311\u001b[0m     poll_interval \u001b[38;5;241m=\u001b[39m \u001b[38;5;28mmin\u001b[39m(\u001b[38;5;241m1.25\u001b[39m \u001b[38;5;241m*\u001b[39m poll_interval, max_poll_interval)\n\u001b[1;32m    313\u001b[0m \u001b[38;5;28;01mif\u001b[39;00m status \u001b[38;5;241m!=\u001b[39m \u001b[38;5;124m\"\u001b[39m\u001b[38;5;124mfinished\u001b[39m\u001b[38;5;124m\"\u001b[39m:\n\u001b[1;32m    314\u001b[0m     \u001b[38;5;66;03m# TODO: allow to disable this printing logs (e.g. in non-interactive contexts)?\u001b[39;00m\n\u001b[1;32m    315\u001b[0m     \u001b[38;5;66;03m# TODO: render logs jupyter-aware in a notebook context?\u001b[39;00m\n",
      "\u001b[0;31mKeyboardInterrupt\u001b[0m: "
     ]
    }
   ],
   "source": [
    "#---------------------------------------------\n",
    "\n",
    "# DEFINE INPUTS FOR GENERATING THE MAP\n",
    "year = 2021\n",
    "season = 'tc-annual'\n",
    "output_path = '/vitodata/worldcereal/test/temporal_crops_v2.tif'\n",
    "# output_path = '/home/joyvan/test/temporal_crops.nc'\n",
    "\n",
    "#---------------------------------------------\n",
    "\n",
    "# Get the processing period for the temporary crops product based on the WorldCereal crop calendars:\n",
    "start_date, end_date = get_processing_dates_for_extent(spatial_extent, year, season)\n",
    "\n",
    "# Defining period of interest for temporary crops product\n",
    "temporal_extent = TemporalContext(start_date, end_date)\n",
    "\n",
    "# We specify the cloud backend where computations need to be done\n",
    "backend_context = BackendContext(Backend.FED)\n",
    "\n",
    "# We call the function to generate the map on the CDSE backend using OpenEO\n",
    "Path(output_path).parent.mkdir(parents=True, exist_ok=True)\n",
    "generate_map(spatial_extent, temporal_extent,\n",
    "             backend_context, output_path)"
   ]
  },
  {
   "cell_type": "markdown",
   "metadata": {},
   "source": [
    "The resulting map will be written to disk (specified by output_path), but you can also visualize the map directly through the OpenEO web editor on the Copernicus Data Space Ecosystem, by logging in [HERE](https://openeo.dataspace.copernicus.eu/) with your CDSE account details."
   ]
  },
  {
   "cell_type": "markdown",
   "metadata": {},
   "source": [
    "### IMPORTANT INFORMATION TO ENSURE DISPLAY OF RESULTS WORKS PROPERLY\n",
    "\n",
    "if working on binder, set localtileserver client prefix\n",
    "import os\n",
    "os.environ['LOCALTILESERVER_CLIENT_PREFIX'] = \"proxy/{{port}}\"\n",
    "\n",
    "if working on terrascope virtual machine, ensure that you forward the port of the localtileserver\n",
    "1) in the add_raster function, add the following argument: port=LOCALTILESERVER_PORT\n",
    "2) ensure that whichever number you defined as the LOCALTILESERVER_PORT, this port is forwarded to your local machine\n",
    "e.g. Port 7777, Forwarded address: localhost:7778\n"
   ]
  },
  {
   "cell_type": "code",
   "execution_count": 7,
   "metadata": {},
   "outputs": [
    {
     "data": {
      "application/vnd.jupyter.widget-view+json": {
       "model_id": "286208f252974c298398b159f5ca895f",
       "version_major": 2,
       "version_minor": 0
      },
      "text/plain": [
       "Map(center=[20, 0], controls=(ZoomControl(options=['position', 'zoom_in_text', 'zoom_in_title', 'zoom_out_text…"
      ]
     },
     "execution_count": 7,
     "metadata": {},
     "output_type": "execute_result"
    }
   ],
   "source": [
    "m = leafmap.Map()\n",
    "\n",
    "# Visualize the cropland extent product using leafmap\n",
    "m.add_raster(output_path,\n",
    "            indexes=[1], layer_name='Temporary crops',\n",
    "            opacity=1, colormap='Reds',\n",
    "            port=LOCALTILESERVER_PORT)\n",
    "m"
   ]
  },
  {
   "cell_type": "markdown",
   "metadata": {},
   "source": [
    "# 3. Explore available reference data\n",
    "\n",
    "In-situ reference data used for training and validating WorldCereal classification models is hosted in the WorldCereal Reference Data Module (RDM). This module can be accessed through a dedicated user interface (https://ewoc-rdm-ui.iiasa.ac.at/map), but also through an API, which will be demonstrated here.\n",
    "\n",
    "In this section we will explore the available reference datasets for our region of interest. In case you would like to test multiple regions of interest, execute the first two cells in [this section](#1.-Define-a-region-of-interest) of the notebook."
   ]
  },
  {
   "cell_type": "code",
   "execution_count": 4,
   "metadata": {},
   "outputs": [
    {
     "name": "stdout",
     "output_type": "stream",
     "text": [
      "Available collections: ['2017afoneacrefundmelpoint110', '2017ascawaprojectpoly111', '2017bellpisflanderspoly110', '2017bfajecamciradpoly111', '2017brajecamciradpoly111', '2017canaafccropinventorypoint110', '2017cmrcgiargardianpoint110', '2017lbnfaowapor1poly111', '2017lbnfaowapor2poly111', '2017mdgjecamciradpoly111']\n",
      "The following collections intersect with your AOI:\n",
      "\n",
      "Collection 1: 2017bellpisflanderspoly110\n",
      "\n",
      "Collection 2: 2018eulucas2018point110\n",
      "\n",
      "Collection 3: 2019beflandersfullpoly110\n",
      "\n",
      "Collection 4: 2020nleurocroppoly110\n"
     ]
    }
   ],
   "source": [
    "# Check full list of available collections\n",
    "headers = {}\n",
    "collectionResponse = requests.get(f'{RDM_API}/collections', headers=headers)\n",
    "collections = collectionResponse.json()\n",
    "col_ids = [x['collectionId'] for x in collections['items']]\n",
    "print(f'Available collections: {col_ids}')\n",
    "\n",
    "# Now we check which collections intersect with our AOI\n",
    "bbox_str = f'Bbox={bbox[0]}&Bbox={bbox[1]}&Bbox={bbox[2]}&Bbox={bbox[3]}'\n",
    "colSearchUrl = f'{RDM_API}/collections/search?{bbox_str}'\n",
    "colSearchResponse = requests.get(colSearchUrl, headers=headers)\n",
    "test = colSearchResponse.json()\n",
    "print('The following collections intersect with your AOI:')\n",
    "for i, col in enumerate(test):\n",
    "    print()\n",
    "    print(f'Collection {i+1}: {col[\"collectionId\"]}')\n"
   ]
  }
 ],
 "metadata": {
  "kernelspec": {
   "display_name": "exp",
   "language": "python",
   "name": "python3"
  },
  "language_info": {
   "codemirror_mode": {
    "name": "ipython",
    "version": 3
   },
   "file_extension": ".py",
   "mimetype": "text/x-python",
   "name": "python",
   "nbconvert_exporter": "python",
   "pygments_lexer": "ipython3",
   "version": "3.11.9"
  }
 },
 "nbformat": 4,
 "nbformat_minor": 2
}
